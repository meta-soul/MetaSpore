{
 "cells": [
  {
   "cell_type": "code",
   "execution_count": null,
   "id": "87bd6630-1a7a-4a88-add2-dd41f1672a58",
   "metadata": {},
   "outputs": [],
   "source": [
    "import sys\n",
    "\n",
    "from pyspark.sql import Window, functions as F\n",
    "from pyspark.ml.feature import QuantileDiscretizer\n",
    "import pandas as pd\n",
    "\n",
    "pd.set_option('display.max_rows', None)\n",
    "pd.set_option('display.max_columns', None)"
   ]
  },
  {
   "cell_type": "code",
   "execution_count": null,
   "id": "3139a300-2f3f-4c94-8c1a-0e3f582ed286",
   "metadata": {},
   "outputs": [],
   "source": [
    "import metaspore as ms\n",
    "\n",
    "spark_confs={\n",
    "        \"spark.network.timeout\":\"500\",\n",
    "        \"spark.sql.codegen.wholeStage\": \"false\"\n",
    "    }\n",
    "\n",
    "spark_session = ms.spark.get_session(local=True,\n",
    "                             app_name='soc-pokec Demo',\n",
    "                             batch_size=256,\n",
    "                             worker_count=2,\n",
    "                             server_count=2,\n",
    "                             worker_memory='10G',\n",
    "                             server_memory='10G',\n",
    "                             coordinator_memory='10G',\n",
    "                             spark_confs=spark_confs)"
   ]
  },
  {
   "cell_type": "code",
   "execution_count": null,
   "id": "31728172-fb7e-439c-bac6-0eb0523e7e05",
   "metadata": {},
   "outputs": [],
   "source": [
    "!aws s3 ls s3://dmetasoul-bucket/demo/datasets/soc-pokec/"
   ]
  },
  {
   "cell_type": "code",
   "execution_count": null,
   "id": "4305ff81-6e72-46a1-bc7b-ddda152c409b",
   "metadata": {},
   "outputs": [],
   "source": [
    "from pyspark.sql.types import StructType, StructField, IntegerType, FloatType, LongType, StringType\n",
    "import pyspark.sql.functions as F\n",
    "\n",
    "profile_colunm_names = ['user_id', 'public', 'completion_percentage', 'gender', 'region', 'last_login', 'registration',\n",
    "                'AGE', 'body', 'I_am_working_in_field', 'spoken_languages', 'hobbies', 'I_most_enjoy_good_food',\n",
    "                'pets', 'body_type', 'my_eyesight', 'eye_color', 'hair_color', 'hair_type', 'completed_level_of_education',\n",
    "                'favourite_color', 'relation_to_smoking', 'relation_to_alcohol', 'sign_in_zodiac',\n",
    "                'on_pokec_i_am_looking_for', 'love_is_for_me', 'relation_to_casual_sex', 'my_partner_should_be',\n",
    "                'marital_status', 'children', 'relation_to_children', 'I_like_movies', 'I_like_watching_movie',\n",
    "                'I_like_music', 'I_mostly_like_listening_to_music', 'the_idea_of_good_evening', 'I_like_specialties_from_kitchen',\n",
    "                'fun', 'I_am_going_to_concerts', 'my_active_sports', 'my_passive_sports', 'profession', 'I_like_books',\n",
    "                'life_style', 'music', 'cars', 'politics', 'relationships', 'art_culture', 'hobbies_interests',\n",
    "                'science_technologies', 'computers_internet', 'education', 'sport', 'movies', 'travelling', 'health',\n",
    "                'companies_brands', 'more']\n",
    "relationship_colunm_names = ['user_id', 'friend_id']\n",
    "\n",
    "profile_schema = StructType([StructField(cn, StringType(), True) for cn in profile_colunm_names])\n",
    "relationship_schema = StructType([StructField(cn, LongType(), True) for cn in relationship_colunm_names])\n",
    "\n",
    "profile_dataset = spark_session.read.csv('s3://dmetasoul-bucket/demo/datasets/soc-pokec/soc-pokec-profiles.txt', sep='\\t', schema=profile_schema, header=False, inferSchema=False)\n",
    "relationship_dataset = spark_session.read.csv('s3://dmetasoul-bucket/demo/datasets/soc-pokec/soc-pokec-relationships.txt', sep='\\t', schema=relationship_schema, header=False, inferSchema=False)\n",
    "\n",
    "profile_dataset = profile_dataset.withColumn('user_id', F.col('user_id').cast(LongType()))\n",
    "profile_dataset = profile_dataset.orderBy(F.col('user_id')).limit(16000)\n",
    "max_user_id = profile_dataset.agg({\"user_id\": \"max\"}).collect()[0]['max(user_id)']\n",
    "relationship_dataset = relationship_dataset.filter((F.col('user_id') <= max_user_id) & (F.col('friend_id') <= max_user_id))\n",
    "\n",
    "profile_dataset = profile_dataset.withColumn('user_id', F.col('user_id').cast(StringType()))\n",
    "relationship_dataset = relationship_dataset.withColumn('user_id', F.col('user_id').cast(StringType()))\n",
    "relationship_dataset = relationship_dataset.withColumn('friend_id', F.col('friend_id').cast(StringType()))\n",
    "\n",
    "profile_dataset.cache()\n",
    "relationship_dataset.cache()\n"
   ]
  },
  {
   "cell_type": "code",
   "execution_count": null,
   "id": "27e45c07-90e7-4371-aad9-b6f4fe22a28b",
   "metadata": {},
   "outputs": [],
   "source": [
    "profile_dataset.limit(10).toPandas()"
   ]
  },
  {
   "cell_type": "code",
   "execution_count": null,
   "id": "58d63fc9-7080-4e2a-a573-73c6a3dccb7f",
   "metadata": {},
   "outputs": [],
   "source": [
    "relationship_dataset.limit(10).toPandas()"
   ]
  },
  {
   "cell_type": "code",
   "execution_count": null,
   "id": "2b4d6434-35b6-41a6-b294-518fe4936e59",
   "metadata": {},
   "outputs": [],
   "source": [
    "# relationship_df = relationship_dataset.groupby(F.col('user_id')).agg(F.collect_set(F.col('friend_id')).alias('friends'))\n",
    "# relationship_df.limit(10).toPandas()\n",
    "\n",
    "# profile_df = profile_dataset.join(relationship_df, on=profile_dataset.user_id==relationship_df.user_id, how='leftouter').drop(relationship_df.user_id)\n",
    "# profile_df.limit(10).toPandas()\n"
   ]
  },
  {
   "cell_type": "code",
   "execution_count": null,
   "id": "63b1db83-86a4-409e-907f-4a898c1f5d60",
   "metadata": {},
   "outputs": [],
   "source": [
    "relationship_df = relationship_dataset.alias('t1').join(profile_dataset.alias('t2'), on=F.col('t1.user_id')==F.col('t2.user_id'), how='leftouter') \\\n",
    "                .select(F.col('t1.*'),\n",
    "                        F.col('t2.gender').alias('user_gender'),\n",
    "                        F.col('t2.AGE').alias('user_age'),\n",
    "                        F.col('t2.completion_percentage').alias('user_completion_percentage'))\n",
    "\n",
    "relationship_df = relationship_df.alias('t1').join(profile_dataset.alias('t2'), on=F.col('t1.friend_id')==F.col('t2.user_id'), how='leftouter') \\\n",
    "                .select(F.col('t1.*'),\n",
    "                        F.col('t2.gender').alias('friend_gender'),\n",
    "                        F.col('t2.AGE').alias('friend_age'),\n",
    "                        F.col('t2.completion_percentage').alias('friend_completion_percentage'))\n"
   ]
  },
  {
   "cell_type": "code",
   "execution_count": null,
   "id": "f5b10614-fdc5-4fe9-ad8f-ec345572c8f8",
   "metadata": {},
   "outputs": [],
   "source": [
    "relationship_df.printSchema()\n",
    "relationship_df.show(5)"
   ]
  },
  {
   "cell_type": "code",
   "execution_count": null,
   "id": "8e667980-b4d9-449a-8cfe-2b3db6603949",
   "metadata": {},
   "outputs": [],
   "source": [
    "relationship_df = relationship_df.select(F.lit('1').alias('label'), '*')\n",
    "relationship_df.show(5)"
   ]
  },
  {
   "cell_type": "code",
   "execution_count": null,
   "id": "8d71a1c0-af1a-4fbe-b495-4833fbccffb9",
   "metadata": {},
   "outputs": [],
   "source": [
    "splits = relationship_df.randomSplit([0.9, 0.1], 24)\n",
    "train_dataset, test_dataset = splits[0], splits[1]\n",
    "\n",
    "print('train dataset count: ', train_dataset.count())\n",
    "print('test dataset count: ', test_dataset.count())"
   ]
  },
  {
   "cell_type": "code",
   "execution_count": null,
   "id": "5990d96d-f940-47d2-81f0-2bf857130566",
   "metadata": {},
   "outputs": [],
   "source": [
    "item_dataset = (\n",
    "    relationship_df\n",
    "    .withColumn('rn', F.row_number().over(\n",
    "        Window.partitionBy('friend_id').orderBy(F.col('user_id'))\n",
    "    ))\n",
    "    .filter('rn == 1')\n",
    "    .drop(F.col('rn'))\n",
    ")\n",
    "\n",
    "item_dataset.limit(10).toPandas()"
   ]
  },
  {
   "cell_type": "code",
   "execution_count": null,
   "id": "c78ed6c4-5266-44a2-a731-6d0d94501ecc",
   "metadata": {},
   "outputs": [],
   "source": [
    "train_dataset.write.parquet('s3://dmetasoul-bucket/demo/datasets/soc-pokec/demo_fg/train_dataset.parquet', mode=\"overwrite\")\n",
    "test_dataset.write.parquet('s3://dmetasoul-bucket/demo/datasets/soc-pokec/demo_fg/test_dataset.parquet', mode=\"overwrite\")\n",
    "item_dataset.write.parquet('s3://dmetasoul-bucket/demo/datasets/soc-pokec/demo_fg/item_dataset.parquet', mode=\"overwrite\")\n",
    "profile_dataset.write.parquet('s3://dmetasoul-bucket/demo/datasets/soc-pokec/demo_fg/profile_dataset.parquet', mode=\"overwrite\")\n",
    "relationship_dataset.write.parquet('s3://dmetasoul-bucket/demo/datasets/soc-pokec/demo_fg/relationship_dataset.parquet', mode=\"overwrite\")"
   ]
  },
  {
   "cell_type": "code",
   "execution_count": null,
   "id": "7088ef1f-5181-44b9-ab07-25a72b4f3fb3",
   "metadata": {},
   "outputs": [],
   "source": []
  },
  {
   "cell_type": "markdown",
   "id": "c5ad1b87-1def-49c5-9fbe-d491cf1e73f0",
   "metadata": {},
   "source": [
    "# ItemCF"
   ]
  },
  {
   "cell_type": "code",
   "execution_count": null,
   "id": "a3f67728-f03a-4da6-9565-a1b6f0746b2c",
   "metadata": {},
   "outputs": [],
   "source": [
    "tigger_df = (\n",
    "    test_dataset\n",
    "    .withColumn('rn', F.row_number().over(\n",
    "        Window.partitionBy('user_id').orderBy(F.col('friend_id')))\n",
    "        )\n",
    "    .filter('rn == 1')\n",
    "    .drop(F.col('rn'))\n",
    ")\n",
    "\n",
    "label_df = (\n",
    "    test_dataset\n",
    "    .withColumn('rn', F.row_number().over(\n",
    "        Window.partitionBy('user_id').orderBy(F.col('friend_id')))\n",
    "        )\n",
    "    .filter('rn > 1')\n",
    "    .drop(F.col('rn'))\n",
    "    .groupby('user_id')\n",
    "    .agg(F.collect_list('friend_id').alias('label_friends'))\n",
    ")\n",
    "\n",
    "test_df = (\n",
    "    tigger_df.alias('t1').join(label_df.alias('t2'), on=F.col('t1.user_id')==F.col('t2.user_id'), how='rightouter')\n",
    "    .select(F.col('t1.*'),\n",
    "            F.col('t2.label_friends'))\n",
    ")\n",
    "\n",
    "test_df.limit(10).toPandas()"
   ]
  },
  {
   "cell_type": "code",
   "execution_count": null,
   "id": "43b2d67f-62fc-447f-9ea7-72416dd0e044",
   "metadata": {},
   "outputs": [],
   "source": [
    "sys.path.append('/home/spark/work/MetaSpore/') \n",
    "from python.algos.item_cf_retrieval import ItemCFEstimator\n",
    "\n",
    "estimator = ItemCFEstimator(user_id_column_name='user_id',\n",
    "                            item_id_column_name='friend_id',\n",
    "                            behavior_column_name='label',\n",
    "                            behavior_filter_value='1',\n",
    "                            key_column_name='key',\n",
    "                            value_column_name='value',\n",
    "                            max_recommendation_count=20,\n",
    "                            debug=True)\n",
    "\n",
    "model = estimator.fit(train_dataset)"
   ]
  },
  {
   "cell_type": "code",
   "execution_count": null,
   "id": "f742bdaa-1ef9-4b95-881b-7fdae8cfb179",
   "metadata": {},
   "outputs": [],
   "source": [
    "prediction_df = model.transform(test_df)\n",
    "prediction_df = prediction_df.withColumnRenamed('value', 'rec_info')\n",
    "prediction_df.limit(10).toPandas()"
   ]
  },
  {
   "cell_type": "code",
   "execution_count": null,
   "id": "ce844b49-887d-45aa-9653-4f10095d10d8",
   "metadata": {},
   "outputs": [],
   "source": [
    "from pyspark.mllib.evaluation import RankingMetrics\n",
    "prediction_label_rdd = prediction_df.rdd.map(lambda x:(\\\n",
    "                                [xx._1 for xx in x.rec_info] if x.rec_info is not None else [], \\\n",
    "                                 x.label_friends))\n",
    "recall_metrics = RankingMetrics(prediction_label_rdd)\n",
    "\n",
    "print(\"Debug -- Precision@20: \", recall_metrics.precisionAt(20))\n",
    "print(\"Debug -- Recall@20: \", recall_metrics.recallAt(20))\n",
    "print(\"Debug -- MAP@20: \", recall_metrics.meanAveragePrecisionAt(20))"
   ]
  },
  {
   "cell_type": "markdown",
   "id": "78309ec8-dd54-4573-a36a-83734ac91634",
   "metadata": {},
   "source": [
    "# Swing"
   ]
  },
  {
   "cell_type": "code",
   "execution_count": null,
   "id": "8f19575f-d424-40f0-afb2-dde2395d25c1",
   "metadata": {},
   "outputs": [],
   "source": [
    "swing_estimator = ms.SwingEstimator(user_id_column_name='user_id',\n",
    "                            item_id_column_name='friend_id',\n",
    "                            behavior_column_name='label',\n",
    "                            behavior_filter_value='1',\n",
    "                            key_column_name='key',\n",
    "                            value_column_name='value',\n",
    "                            use_plain_weight=False,\n",
    "                            smoothing_coefficient=1.0,\n",
    "                            max_recommendation_count=20)\n",
    "\n",
    "swing_model = swing_estimator.fit(train_dataset)"
   ]
  },
  {
   "cell_type": "code",
   "execution_count": null,
   "id": "803231d7-6274-4f4a-b5cc-2179a107faa6",
   "metadata": {
    "tags": []
   },
   "outputs": [],
   "source": [
    "swing_prediction_df = swing_model.transform(test_df)\n",
    "swing_prediction_df = swing_prediction_df.withColumnRenamed('value', 'rec_info')\n",
    "swing_prediction_df.limit(10).toPandas()"
   ]
  },
  {
   "cell_type": "code",
   "execution_count": null,
   "id": "e4931546-b6a2-4e9c-be68-36b461e1ae77",
   "metadata": {},
   "outputs": [],
   "source": [
    "from pyspark.mllib.evaluation import RankingMetrics\n",
    "swing_prediction_label_rdd = swing_prediction_df.rdd.map(lambda x:(\\\n",
    "                                [xx._1 for xx in x.rec_info] if x.rec_info is not None else [], \\\n",
    "                                 x.label_friends))\n",
    "swing_recall_metrics = RankingMetrics(swing_prediction_label_rdd)\n",
    "\n",
    "print(\"Debug -- Swing Precision@20: \", swing_recall_metrics.precisionAt(20))\n",
    "print(\"Debug -- Swing Recall@20: \", swing_recall_metrics.recallAt(20))\n",
    "print(\"Debug -- Swing MAP@20: \", swing_recall_metrics.meanAveragePrecisionAt(20))"
   ]
  },
  {
   "cell_type": "markdown",
   "id": "dbdb33a5-4792-4335-90da-32a595137d8c",
   "metadata": {},
   "source": [
    "# TwoTowers"
   ]
  },
  {
   "cell_type": "code",
   "execution_count": null,
   "id": "e8ab96af-0bdc-442e-9254-906f43d504b6",
   "metadata": {},
   "outputs": [],
   "source": [
    "import yaml\n",
    "import subprocess\n",
    "import sys\n",
    "import metaspore as ms\n",
    "\n",
    "model_params = dict()\n",
    "with open('conf/soc_pokec_dssm_inbatch_new.yaml', 'r') as stream:\n",
    "    model_params = yaml.load(stream, Loader=yaml.FullLoader)\n",
    "    print('Debug -- load config: ', model_params)"
   ]
  },
  {
   "cell_type": "code",
   "execution_count": null,
   "id": "7da33314-6579-4379-ac40-07353f5e60f7",
   "metadata": {},
   "outputs": [],
   "source": [
    "subprocess.run(['zip', '-r', '../MetaSpore/solutions/recommend/offline/social_network/python.zip', 'python'], cwd='../../../../../recommend-algos')\n",
    "spark_confs={\n",
    "    \"spark.network.timeout\":\"500\",\n",
    "    \"spark.ui.showConsoleProgress\": \"true\",\n",
    "    \"spark.kubernetes.executor.deleteOnTermination\":\"true\",\n",
    "    \"spark.submit.pyFiles\":\"python.zip\",\n",
    "}\n",
    "spark = ms.spark.get_session(local=model_params['local'],\n",
    "                             app_name=model_params['app_name'],\n",
    "                             batch_size=model_params['batch_size'],\n",
    "                             worker_count=model_params['worker_count'],\n",
    "                             server_count=model_params['server_count'],\n",
    "                             worker_memory=model_params['worker_memory'],\n",
    "                             server_memory=model_params['server_memory'],\n",
    "                             coordinator_memory=model_params['coordinator_memory'],\n",
    "                             spark_confs=spark_confs)\n",
    "sc = spark.sparkContext\n",
    "print('Debug -- spark init')\n",
    "print('Debug -- version:', sc.version)   \n",
    "print('Debug -- applicaitonId:', sc.applicationId)\n",
    "print('Debug -- uiWebUrl:', sc.uiWebUrl)"
   ]
  },
  {
   "cell_type": "code",
   "execution_count": null,
   "id": "4aeb597f-06bc-40ba-bf85-4905fca4d1c2",
   "metadata": {},
   "outputs": [],
   "source": [
    "# sys.path.append('/home/spark/work/recommend-algos')\n",
    "from python.dssm_net import UserModule, ItemModule, SimilarityModule\n",
    "from python.training import TwoTowerBatchNegativeSamplingAgent, TwoTowerBatchNegativeSamplingModule"
   ]
  },
  {
   "cell_type": "code",
   "execution_count": null,
   "id": "6510ce66-d0a2-4995-a69e-80dc49096b53",
   "metadata": {},
   "outputs": [],
   "source": [
    "from pyspark.sql.types import StructType, StructField, IntegerType, FloatType, LongType, StringType\n",
    "import pyspark.sql.functions as F\n",
    "\n",
    "train_dataset = spark.read.parquet(model_params['train_path'])\n",
    "test_dataset = spark.read.parquet(model_params['test_path'])\n",
    "item_dataset = spark.read.parquet(model_params['item_path'])\n"
   ]
  },
  {
   "cell_type": "code",
   "execution_count": null,
   "id": "0cdcecba-813e-443d-a921-63a182d063d0",
   "metadata": {},
   "outputs": [],
   "source": [
    "train_dataset.limit(100).toPandas()"
   ]
  },
  {
   "cell_type": "code",
   "execution_count": null,
   "id": "2dfe6b40-59f6-4f1c-8c98-6d038389ef57",
   "metadata": {},
   "outputs": [],
   "source": [
    "## init user module, item module, similarity module\n",
    "user_module = UserModule(model_params['user_column_name'], \\\n",
    "                         model_params['user_combine_schema'], \\\n",
    "                         emb_size = model_params['vector_embedding_size'], \\\n",
    "                         alpha = model_params['ftrl_learning_rate'], \\\n",
    "                         beta = model_params['ftrl_smothing_rate'], \\\n",
    "                         l1 = model_params['ftrl_l1_regularization'], \\\n",
    "                         l2 = model_params['ftrl_l2_regularization'], \\\n",
    "                         dense_structure = model_params['dense_structure'])\n",
    "item_module = ItemModule(model_params['item_column_name'], \\\n",
    "                         model_params['item_combine_schema'], \\\n",
    "                         emb_size = model_params['vector_embedding_size'], \\\n",
    "                         alpha = model_params['ftrl_learning_rate'], \\\n",
    "                         beta = model_params['ftrl_smothing_rate'], \\\n",
    "                         l1 = model_params['ftrl_l1_regularization'], \\\n",
    "                         l2 = model_params['ftrl_l2_regularization'], \\\n",
    "                         dense_structure = model_params['dense_structure'])\n",
    "similarity_module = SimilarityModule(model_params['tau'])\n",
    "module = TwoTowerBatchNegativeSamplingModule(user_module, item_module, similarity_module)\n",
    "\n",
    "import importlib\n",
    "module_lib = importlib.import_module(model_params['two_tower_module'])\n",
    "## init estimator class\n",
    "estimator_class_ = getattr(module_lib, model_params['two_tower_estimator_class'])\n",
    "estimator = estimator_class_(module = module,\n",
    "                             item_dataset = item_dataset,\n",
    "                             item_ids_column_indices = [2],\n",
    "                             retrieval_item_count = 20,\n",
    "                             metric_update_interval = 500,\n",
    "                             agent_class = TwoTowerBatchNegativeSamplingAgent,\n",
    "                             **model_params)\n",
    "## dnn learning rate\n",
    "estimator.updater = ms.AdamTensorUpdater(model_params['adam_learning_rate'])\n",
    "## model train\n",
    "model = estimator.fit(train_dataset)"
   ]
  },
  {
   "cell_type": "code",
   "execution_count": null,
   "id": "80618255-042b-4286-907e-207982771f83",
   "metadata": {},
   "outputs": [],
   "source": [
    "test_result = model.transform(test_dataset)\n",
    "print('Debug -- test result sample:')\n",
    "test_result.show(20)"
   ]
  },
  {
   "cell_type": "code",
   "execution_count": null,
   "id": "7f13a04f-0702-4579-a8d7-c55abdf03baa",
   "metadata": {},
   "outputs": [],
   "source": [
    "from pyspark.sql import functions as F\n",
    "print('Debug -- test sample:')\n",
    "test_result.select('user_id', (F.posexplode('rec_info').alias('pos', 'rec_info'))).show(60)\n",
    "\n",
    "test_result[test_result['user_id']==100]\\\n",
    "            .select('user_id', (F.posexplode('rec_info').alias('pos', 'rec_info'))).show(60)\n",
    "\n",
    "## evaluation\n",
    "from pyspark.mllib.evaluation import RankingMetrics\n",
    "prediction_label_rdd = test_result.rdd.map(lambda x:(\\\n",
    "                                        [xx.name for xx in x.rec_info] if x.rec_info is not None else [], \\\n",
    "                                        [x.friend_id]))\n",
    "\n",
    "recall_metrics = RankingMetrics(prediction_label_rdd)\n",
    "\n",
    "print(\"Debug -- Precision@20: \", recall_metrics.precisionAt(20))\n",
    "print(\"Debug -- Recall@20: \", recall_metrics.recallAt(20))\n",
    "print(\"Debug -- MAP@20: \", recall_metrics.meanAveragePrecisionAt(20))"
   ]
  },
  {
   "cell_type": "markdown",
   "id": "7c1140f5-5138-4189-85e2-ff087a428ccd",
   "metadata": {},
   "source": [
    "# Negative Sampling for CTR"
   ]
  },
  {
   "cell_type": "code",
   "execution_count": null,
   "id": "4f0b304c-9241-45b3-a8ad-07cda67df42f",
   "metadata": {},
   "outputs": [],
   "source": [
    "import yaml\n",
    "import subprocess\n",
    "import sys\n",
    "import metaspore as ms\n",
    "\n",
    "subprocess.run(['zip', '-r', '../../solutions/recommend/offline/social_network/python.zip', 'common'], cwd='../../../../demo/dataset')\n",
    "spark_confs={\n",
    "    \"spark.network.timeout\":\"500\",\n",
    "    \"spark.ui.showConsoleProgress\": \"true\",\n",
    "    \"spark.kubernetes.executor.deleteOnTermination\":\"true\",\n",
    "    \"spark.submit.pyFiles\":\"python.zip\",\n",
    "}\n",
    "spark = ms.spark.get_session(local=False,\n",
    "                             app_name='soc-pokec ng sampling',\n",
    "                             batch_size=128,\n",
    "                             worker_count=2,\n",
    "                             server_count=2,\n",
    "                             worker_memory='10G',\n",
    "                             server_memory='10G',\n",
    "                             coordinator_memory='10G',\n",
    "                             spark_confs=spark_confs)\n",
    "sc = spark.sparkContext\n",
    "print('Debug -- spark init')\n",
    "print('Debug -- version:', sc.version)   \n",
    "print('Debug -- applicaitonId:', sc.applicationId)\n",
    "print('Debug -- uiWebUrl:', sc.uiWebUrl)"
   ]
  },
  {
   "cell_type": "code",
   "execution_count": null,
   "id": "a2f2a534-6a1f-4ad9-8356-84823ed467e7",
   "metadata": {},
   "outputs": [],
   "source": [
    "from pyspark.sql.types import StructType, StructField, IntegerType, FloatType, LongType, StringType\n",
    "import pyspark.sql.functions as F\n",
    "\n",
    "train_dataset = spark.read.parquet('s3://dmetasoul-bucket/demo/datasets/soc-pokec/demo_fg/train_dataset.parquet')\n",
    "test_dataset = spark.read.parquet('s3://dmetasoul-bucket/demo/datasets/soc-pokec/demo_fg/test_dataset.parquet')\n",
    "item_dataset = spark.read.parquet('s3://dmetasoul-bucket/demo/datasets/soc-pokec/demo_fg/item_dataset.parquet')\n",
    "\n",
    "\n",
    "all_dataset = train_dataset.union(test_dataset)\n"
   ]
  },
  {
   "cell_type": "code",
   "execution_count": null,
   "id": "f4eb619f-890e-4a25-8a7d-97c51f5c2c55",
   "metadata": {},
   "outputs": [],
   "source": [
    "from common.neg_sampler import negative_sampling\n",
    "\n",
    "neg_sample_df = negative_sampling(spark, dataset=all_dataset, user_column='user_id', item_column='friend_id', time_column=None, \n",
    "                                      negative_item_column='trigger_item_id', negative_sample=3)\n",
    "neg_sample_df.cache()\n",
    "\n",
    "print('count of neg_sample_df: ', neg_sample_df.count())\n",
    "neg_sample_df.limit(10).toPandas()\n"
   ]
  },
  {
   "cell_type": "code",
   "execution_count": null,
   "id": "378ed737-3b83-44cd-910f-d1b8ff1f6b4a",
   "metadata": {},
   "outputs": [],
   "source": [
    "neg_sample_df = neg_sample_df.withColumn('label', F.lit('0'))\n",
    "\n",
    "neg_sample_df = neg_sample_df.alias('t1')\\\n",
    "                            .join(all_dataset.alias('t2'), \\\n",
    "                                (F.col('t1.user_id')==F.col('t2.user_id')) & (F.col('t1.trigger_item_id')==F.col('t2.friend_id')),\n",
    "                                how='leftouter')\\\n",
    "                            .select('t1.label', \\\n",
    "                                't1.user_id', 't1.friend_id', 't2.user_gender', 't2.user_age', 't2.user_completion_percentage')\n",
    "\n",
    "neg_sample_df = neg_sample_df.alias('t1')\\\n",
    "                            .join(item_dataset.alias('t2'), \\\n",
    "                                F.col('t1.friend_id')==F.col('t2.friend_id'),\n",
    "                                how='leftouter')\\\n",
    "                            .select('t1.*', 't2.friend_gender', 't2.friend_age', 't2.friend_completion_percentage')\n",
    "\n",
    "neg_sample_df.limit(10).toPandas()"
   ]
  },
  {
   "cell_type": "code",
   "execution_count": null,
   "id": "31ab41ff-645b-424a-8422-907f8bb38a0d",
   "metadata": {},
   "outputs": [],
   "source": [
    "all_dataset = all_dataset.union(neg_sample_df)\n",
    "\n",
    "splits = all_dataset.randomSplit([0.9, 0.1], 24)\n",
    "train_dataset_rank, test_dataset_rank = splits[0], splits[1]"
   ]
  },
  {
   "cell_type": "code",
   "execution_count": null,
   "id": "1806fb59-f3ad-4f5d-bb29-6fc4b18eee13",
   "metadata": {},
   "outputs": [],
   "source": [
    "train_dataset_rank.cache()\n",
    "test_dataset_rank.cache()\n",
    "\n",
    "print('Percentage of positive sample in train_dataset: ', train_dataset_rank.filter(F.col('label') == '1').count() / train_dataset_rank.count())\n",
    "print('Percentage of positive sample in test_dataset: ', test_dataset_rank.filter(F.col('label') == '1').count() / test_dataset_rank.count())\n",
    "\n",
    "train_dataset_rank.write.parquet('s3://dmetasoul-bucket/demo/datasets/soc-pokec/demo_fg/train_dataset_rank.parquet', mode=\"overwrite\")\n",
    "test_dataset_rank.write.parquet('s3://dmetasoul-bucket/demo/datasets/soc-pokec/demo_fg/test_dataset_rank.parquet', mode=\"overwrite\")\n"
   ]
  },
  {
   "cell_type": "markdown",
   "id": "d4237540-b791-4c29-bb2e-931281d975e8",
   "metadata": {},
   "source": [
    "# DeepFM"
   ]
  },
  {
   "cell_type": "code",
   "execution_count": 1,
   "id": "e4e6e892-17e6-4fe8-b6fe-2138a3b7e6ba",
   "metadata": {},
   "outputs": [
    {
     "name": "stderr",
     "output_type": "stream",
     "text": [
      "/home/spark/.local/lib/python3.8/site-packages/tqdm/auto.py:22: TqdmWarning: IProgress not found. Please update jupyter and ipywidgets. See https://ipywidgets.readthedocs.io/en/stable/user_install.html\n",
      "  from .autonotebook import tqdm as notebook_tqdm\n"
     ]
    },
    {
     "name": "stdout",
     "output_type": "stream",
     "text": [
      "Debug -- load config:  {'app_name': 'CTR Demo DeepFM - soc_pokec', 'local': False, 'worker_count': 2, 'server_count': 2, 'batch_size': 50, 'worker_memory': '5G', 'server_memory': '5G', 'coordinator_memory': '5G', 'train_path': 's3://dmetasoul-bucket/demo/datasets/soc-pokec/demo_fg/train_dataset_rank.parquet', 'test_path': 's3://dmetasoul-bucket/demo/datasets/soc-pokec/demo_fg/test_dataset_rank.parquet', 'wide_column_name_path': 's3://dmetasoul-bucket/demo/datasets/soc-pokec/demo_schema/column_name.txt', 'wide_combine_schema_path': 's3://dmetasoul-bucket/demo/datasets/soc-pokec/demo_schema/wide_combine_schema.txt', 'deep_column_name_path': 's3://dmetasoul-bucket/demo/datasets/soc-pokec/demo_schema/column_name.txt', 'deep_combine_schema_path': 's3://dmetasoul-bucket/demo/datasets/soc-pokec/demo_schema/deep_combine_schema.txt', 'model_in_path': None, 'model_out_path': 's3://dmetasoul-bucket/demo/soc-pokec/deepfm/model_out/', 'model_version': '0.1', 'experiment_name': 'soc_pokec_dfm', 'input_label_column_index': 0, 'metric_update_interval': 100, 'use_wide': True, 'use_dnn': True, 'use_fm': True, 'wide_embedding_dim': 10, 'deep_embedding_dim': 10, 'adam_learning_rate': 0.0001, 'ftrl_l1': 1.0, 'ftrl_l2': 120.0, 'ftrl_alpha': 0.5, 'ftrl_beta': 1.0, 'dnn_hidden_units': [1024, 1024, 1024], 'sparse_init_var': 0.01, 'dnn_hidden_activations': 'ReLU', 'use_bias': True, 'batch_norm': True, 'net_dropout': 0, 'net_regularizer': None, 'training_epoches': 1, 'shuffle_training_dataset': True}\n"
     ]
    }
   ],
   "source": [
    "import yaml\n",
    "import subprocess\n",
    "import sys\n",
    "import metaspore as ms\n",
    "\n",
    "model_params = dict()\n",
    "with open('conf/soc_pokec_deepfm.yaml', 'r') as stream:\n",
    "    model_params = yaml.load(stream, Loader=yaml.FullLoader)\n",
    "    print('Debug -- load config: ', model_params)\n",
    "    \n",
    "locals().update(model_params)"
   ]
  },
  {
   "cell_type": "code",
   "execution_count": 2,
   "id": "b2525f8e-9b83-4f3b-8306-b41e0f91798c",
   "metadata": {},
   "outputs": [
    {
     "name": "stdout",
     "output_type": "stream",
     "text": [
      "updating: python/ (stored 0%)\n",
      "updating: python/algos/ (stored 0%)\n",
      "updating: python/algos/xdeepfm_net.py (deflated 71%)\n",
      "updating: python/algos/widedeep_net.py (deflated 68%)\n",
      "updating: python/algos/tuner/ (stored 0%)\n",
      "updating: python/algos/tuner/base_tuner.py (deflated 70%)\n",
      "updating: python/algos/multitask/ (stored 0%)\n",
      "updating: python/algos/multitask/mmoe/ (stored 0%)\n",
      "updating: python/algos/multitask/mmoe/mmoe_net.py (deflated 75%)\n",
      "updating: python/algos/multitask/mmoe/mmoe_agent.py (deflated 70%)\n",
      "updating: python/algos/multitask/mmoe/__pycache__/ (stored 0%)\n",
      "updating: python/algos/multitask/mmoe/__pycache__/mmoe_net.cpython-38.pyc (deflated 43%)\n",
      "updating: python/algos/multitask/mmoe/__pycache__/mmoe_agent.cpython-38.pyc (deflated 52%)\n",
      "updating: python/algos/multitask/mmoe/.ipynb_checkpoints/ (stored 0%)\n",
      "updating: python/algos/multitask/mmoe/.ipynb_checkpoints/mmoe_net-checkpoint.py (deflated 75%)\n",
      "updating: python/algos/multitask/mmoe/.ipynb_checkpoints/mmoe_agent-checkpoint.py (deflated 70%)\n",
      "updating: python/algos/multitask/esmm/ (stored 0%)\n",
      "updating: python/algos/multitask/esmm/esmm_net.py (deflated 69%)\n",
      "updating: python/algos/multitask/esmm/esmm_agent.py (deflated 74%)\n",
      "updating: python/algos/multitask/esmm/__pycache__/ (stored 0%)\n",
      "updating: python/algos/multitask/esmm/__pycache__/esmm_agent.cpython-38.pyc (deflated 54%)\n",
      "updating: python/algos/multitask/esmm/__pycache__/esmm_net.cpython-38.pyc (deflated 41%)\n",
      "updating: python/algos/multitask/esmm/.ipynb_checkpoints/ (stored 0%)\n",
      "updating: python/algos/multitask/esmm/.ipynb_checkpoints/esmm_agent-checkpoint.py (deflated 74%)\n",
      "updating: python/algos/multitask/esmm/.ipynb_checkpoints/esmm_net-checkpoint.py (deflated 69%)\n",
      "updating: python/algos/multitask/__init__.py (deflated 43%)\n",
      "updating: python/algos/multitask/__pycache__/ (stored 0%)\n",
      "updating: python/algos/multitask/__pycache__/__init__.cpython-38.pyc (deflated 32%)\n",
      "updating: python/algos/multitask/.ipynb_checkpoints/ (stored 0%)\n",
      "updating: python/algos/multitask/.ipynb_checkpoints/__init__-checkpoint.py (deflated 43%)\n",
      "updating: python/algos/item_cf_retrieval.py (deflated 77%)\n",
      "updating: python/algos/pnn_net.py (deflated 70%)\n",
      "updating: python/algos/feature/ (stored 0%)\n",
      "updating: python/algos/feature/woe_encoder.py (deflated 64%)\n",
      "updating: python/algos/feature/__init__.py (deflated 37%)\n",
      "updating: python/algos/feature/__pycache__/ (stored 0%)\n",
      "updating: python/algos/feature/__pycache__/__init__.cpython-38.pyc (deflated 18%)\n",
      "updating: python/algos/feature/__pycache__/woe_encoder.cpython-38.pyc (deflated 43%)\n",
      "updating: python/algos/feature/__pycache__/quantile_bucketizer.cpython-38.pyc (deflated 37%)\n",
      "updating: python/algos/feature/.ipynb_checkpoints/ (stored 0%)\n",
      "updating: python/algos/feature/.ipynb_checkpoints/woe_encoder-checkpoint.py (deflated 64%)\n",
      "updating: python/algos/feature/.ipynb_checkpoints/__init__-checkpoint.py (deflated 37%)\n",
      "updating: python/algos/__init__.py (deflated 38%)\n",
      "updating: python/algos/dcn_v2_net.py (deflated 75%)\n",
      "updating: python/algos/__pycache__/ (stored 0%)\n",
      "updating: python/algos/__pycache__/__init__.cpython-38.pyc (deflated 22%)\n",
      "updating: python/algos/__pycache__/layers.cpython-38.pyc (deflated 59%)\n",
      "updating: python/algos/__pycache__/item_cf_retrieval.cpython-38.pyc (deflated 54%)\n",
      "updating: python/algos/.ipynb_checkpoints/ (stored 0%)\n",
      "updating: python/algos/.ipynb_checkpoints/autoint_net-checkpoint.py (deflated 70%)\n",
      "updating: python/algos/.ipynb_checkpoints/item_cf_retrieval-checkpoint.py (deflated 77%)\n",
      "updating: python/algos/.ipynb_checkpoints/pnn_net-checkpoint.py (deflated 70%)\n",
      "updating: python/algos/.ipynb_checkpoints/layers-checkpoint.py (deflated 77%)\n",
      "updating: python/algos/.ipynb_checkpoints/dcn_net-checkpoint.py (deflated 69%)\n",
      "updating: python/algos/.ipynb_checkpoints/xdeepfm_net-checkpoint.py (deflated 71%)\n",
      "updating: python/algos/.ipynb_checkpoints/deepfm_net-checkpoint.py (deflated 69%)\n",
      "updating: python/algos/.ipynb_checkpoints/dcn_v2_net-checkpoint.py (deflated 75%)\n",
      "updating: python/algos/dcn_net.py (deflated 69%)\n",
      "updating: python/algos/dssm_net.py (deflated 78%)\n",
      "updating: python/algos/autoint_net.py (deflated 70%)\n",
      "updating: python/algos/two_tower_retrieval_milvus.py (deflated 81%)\n",
      "updating: python/algos/simplex/ (stored 0%)\n",
      "updating: python/algos/simplex/simplex_net.py (deflated 71%)\n",
      "updating: python/algos/simplex/simplex_agent.py (deflated 64%)\n",
      "updating: python/algos/simplex/.ipynb_checkpoints/ (stored 0%)\n",
      "updating: python/algos/simplex/.ipynb_checkpoints/simplex_net-checkpoint.py (deflated 71%)\n",
      "updating: python/algos/simplex/simplex_metric.py (deflated 68%)\n",
      "updating: python/algos/deepfm_net.py (deflated 69%)\n",
      "updating: python/algos/layers.py (deflated 77%)\n",
      "updating: python/tests/ (stored 0%)\n",
      "updating: python/tests/sparse_wdl_export_test.py (deflated 66%)\n",
      "updating: python/tests/sparse_wdl_grpc_test.py (deflated 52%)\n",
      "updating: python/tests/mnist_mlp_eval.py (deflated 57%)\n",
      "updating: python/tests/verify_java_tensor_serde.py (deflated 42%)\n",
      "updating: python/tests/mnist_mlp.py (deflated 59%)\n",
      "updating: python/tests/sparse_two_tower_export_demo.py (deflated 73%)\n",
      "updating: python/tests/dense_xgboost_grpc_test.py (deflated 44%)\n",
      "updating: python/tests/dense_xgboost.py (deflated 46%)\n",
      "updating: python/tests/requirements.txt (deflated 24%)\n",
      "updating: python/tests/two_tower_retrieval_milvus.py (deflated 81%)\n",
      "updating: python/tests/sparse_mlp_export_demo.py (deflated 64%)\n",
      "updating: python/tests/embedding_bag_export.py (deflated 61%)\n",
      "updating: python/tests/sparse_wdl_export_demo.py (deflated 64%)\n",
      "updating: python/setup.py (deflated 60%)\n",
      "updating: python/metaspore/ (stored 0%)\n",
      "updating: python/metaspore/two_tower_retrieval.py (deflated 81%)\n",
      "updating: python/metaspore/distributed_tensor.py (deflated 80%)\n",
      "updating: python/metaspore/output.py (deflated 56%)\n",
      "updating: python/metaspore/distributed_trainer.py (deflated 76%)\n",
      "updating: python/metaspore/model.py (deflated 81%)\n",
      "updating: python/metaspore/shell_utils.py (deflated 65%)\n",
      "updating: python/metaspore/embedding.py (deflated 83%)\n",
      "updating: python/metaspore/demo.py (deflated 54%)\n",
      "updating: python/metaspore/experiment.py (deflated 76%)\n",
      "updating: python/metaspore/agent.py (deflated 77%)\n",
      "updating: python/metaspore/updater.py (deflated 81%)\n",
      "updating: python/metaspore/spark.py (deflated 69%)\n",
      "updating: python/metaspore/input.py (deflated 55%)\n",
      "updating: python/metaspore/initializer.py (deflated 76%)\n",
      "updating: python/metaspore/url_utils.py (deflated 40%)\n",
      "updating: python/metaspore/compat/ (stored 0%)\n",
      "updating: python/metaspore/compat/__init__.py (deflated 52%)\n",
      "updating: python/metaspore/compat/ps/ (stored 0%)\n",
      "updating: python/metaspore/compat/ps/__init__.py (deflated 66%)\n",
      "updating: python/metaspore/__init__.py (deflated 69%)\n",
      "updating: python/metaspore/metric.py (deflated 75%)\n",
      "updating: python/metaspore/network_utils.py (deflated 52%)\n",
      "updating: python/metaspore/loss_utils.py (deflated 40%)\n",
      "updating: python/metaspore/s3_utils.py (deflated 68%)\n",
      "updating: python/metaspore/file_utils.py (deflated 69%)\n",
      "updating: python/metaspore/patching_pickle.py (deflated 72%)\n",
      "updating: python/metaspore/job_utils.py (deflated 47%)\n",
      "updating: python/metaspore/estimator.py (deflated 82%)\n",
      "updating: python/metaspore/name_utils.py (deflated 37%)\n",
      "updating: python/metaspore/swing_retrieval.py (deflated 79%)\n",
      "updating: python/metaspore/two_tower_ranking.py (deflated 80%)\n",
      "updating: python/metaspore/stack_trace_utils.py (deflated 43%)\n",
      "updating: python/metaspore/ps_launcher.py (deflated 68%)\n",
      "updating: python/metaspore/nn/ (stored 0%)\n",
      "updating: python/metaspore/nn/__init__.py (deflated 41%)\n",
      "updating: python/metaspore/nn/wide_and_deep.py (deflated 75%)\n",
      "updating: python/metaspore/nn/normalization.py (deflated 61%)\n",
      "updating: python/metaspore/nn/deep_fm.py (deflated 70%)\n",
      "updating: python/metaspore/nn/fm.py (deflated 47%)\n",
      "updating: python/metaspore/cast.py (deflated 68%)\n",
      "updating: python/ps/ (stored 0%)\n",
      "updating: python/ps/job.py (deflated 81%)\n",
      "updating: python/ps/__init__.py (deflated 42%)\n",
      "updating: python/scripts/ (stored 0%)\n",
      "updating: python/scripts/preprocessing/ (stored 0%)\n",
      "updating: python/scripts/preprocessing/preprocessor_service.py (deflated 69%)\n",
      "updating: python/scripts/preprocessing/example_preprocessor.py (deflated 54%)\n",
      "updating: python/scripts/preprocessing/example_requirements.txt (stored 0%)\n",
      "updating: python/scripts/preprocessing/test_example_preprocessor.py (deflated 51%)\n",
      "updating: python/scripts/consul/ (stored 0%)\n",
      "updating: python/scripts/consul/consul_watch_load.py (deflated 72%)\n",
      "updating: python/scripts/consul/build.sh (deflated 30%)\n",
      "updating: python/scripts/consul/Dockerfile (deflated 44%)\n",
      "updating: python/scripts/consul/create_consul_watch.sh (deflated 17%)\n"
     ]
    },
    {
     "name": "stderr",
     "output_type": "stream",
     "text": [
      "WARNING: An illegal reflective access operation has occurred\n",
      "WARNING: Illegal reflective access by org.apache.spark.unsafe.Platform (file:/opt/spark/jars/spark-unsafe_2.12-3.1.2.jar) to constructor java.nio.DirectByteBuffer(long,int)\n",
      "WARNING: Please consider reporting this to the maintainers of org.apache.spark.unsafe.Platform\n",
      "WARNING: Use --illegal-access=warn to enable warnings of further illegal reflective access operations\n",
      "WARNING: All illegal access operations will be denied in a future release\n",
      "22/06/21 07:33:50 WARN NativeCodeLoader: Unable to load native-hadoop library for your platform... using builtin-java classes where applicable\n",
      "Using Spark's default log4j profile: org/apache/spark/log4j-defaults.properties\n",
      "Setting default log level to \"WARN\".\n",
      "To adjust logging level use sc.setLogLevel(newLevel). For SparkR, use setLogLevel(newLevel).\n",
      "22/06/21 07:33:51 WARN Utils: Service 'SparkUI' could not bind on port 4040. Attempting port 4041.\n"
     ]
    },
    {
     "name": "stdout",
     "output_type": "stream",
     "text": [
      "Debug -- spark init\n",
      "Debug -- version: 3.1.2\n",
      "Debug -- applicaitonId: spark-application-1655796832122\n",
      "Debug -- uiWebUrl: http://jupyter.my.nginx.test/hub/user-redirect/proxy/4041/jobs/\n"
     ]
    }
   ],
   "source": [
    "subprocess.run(['zip', '-r', 'solutions/recommend/offline/social_network/python.zip', 'python'], cwd='../../../../')\n",
    "spark_confs={\n",
    "    \"spark.network.timeout\":\"500\",\n",
    "    \"spark.ui.showConsoleProgress\": \"true\",\n",
    "    \"spark.kubernetes.executor.deleteOnTermination\":\"true\",\n",
    "    \"spark.submit.pyFiles\":\"python.zip\",\n",
    "}\n",
    "spark = ms.spark.get_session(local=model_params['local'],\n",
    "                             app_name=model_params['app_name'],\n",
    "                             batch_size=model_params['batch_size'],\n",
    "                             worker_count=model_params['worker_count'],\n",
    "                             server_count=model_params['server_count'],\n",
    "                             worker_memory=model_params['worker_memory'],\n",
    "                             server_memory=model_params['server_memory'],\n",
    "                             coordinator_memory=model_params['coordinator_memory'],\n",
    "                             spark_confs=spark_confs)\n",
    "sc = spark.sparkContext\n",
    "print('Debug -- spark init')\n",
    "print('Debug -- version:', sc.version)   \n",
    "print('Debug -- applicaitonId:', sc.applicationId)\n",
    "print('Debug -- uiWebUrl:', sc.uiWebUrl)"
   ]
  },
  {
   "cell_type": "code",
   "execution_count": 3,
   "id": "494a9c0d-efc8-452d-8fa0-1ca56a92319e",
   "metadata": {},
   "outputs": [
    {
     "name": "stderr",
     "output_type": "stream",
     "text": [
      "                                                                                \r"
     ]
    }
   ],
   "source": [
    "from pyspark.sql.types import StructType, StructField, IntegerType, FloatType, LongType, StringType\n",
    "import pyspark.sql.functions as F\n",
    "\n",
    "train_dataset = spark.read.parquet(model_params['train_path'])\n",
    "test_dataset = spark.read.parquet(model_params['test_path'])"
   ]
  },
  {
   "cell_type": "code",
   "execution_count": 4,
   "id": "ee6ab383-53b9-4af0-90fe-9d6d61e808ab",
   "metadata": {
    "scrolled": true,
    "tags": []
   },
   "outputs": [
    {
     "name": "stdout",
     "output_type": "stream",
     "text": [
      "Get aws endpoint from env: ks3-cn-beijing-internal.ksyuncs.com\n",
      "\u001b[32mloaded combine schema from\u001b[m \u001b[32mcolumn name file \u001b[m's3://dmetasoul-bucket/demo/datasets/soc-pokec/demo_schema/column_name.txt' \u001b[32mand combine schema file \u001b[m's3://dmetasoul-bucket/demo/datasets/soc-pokec/demo_schema/wide_combine_schema.txt'[WARN] 2022-06-21 07:34:13.392 STSAssumeRoleWithWebIdentityCredentialsProvider [139894355953472] Token file must be specified to use STS AssumeRole web identity creds provider.\n",
      "[2022-06-21 07:34:13.393] [info] ../cpp/metaspore/s3_sdk_filesys.cpp:411 -- Try to open S3 stream: s3://dmetasoul-bucket/demo/datasets/soc-pokec/demo_schema/column_name.txt, read_only: true\n",
      "\n",
      "[2022-06-21 07:34:13.432] [info] ../cpp/metaspore/s3_sdk_filesys.cpp:437 -- Opened read-only stream for object: s3://dmetasoul-bucket/demo/datasets/soc-pokec/demo_schema/column_name.txt with total length: 125\n",
      "\n",
      "[2022-06-21 07:34:13.436] [info] ../cpp/metaspore/s3_sdk_filesys.cpp:479 -- Read S3 object s3://dmetasoul-bucket/demo/datasets/soc-pokec/demo_schema/column_name.txt with size 125 at position 0 larger than total size: 125, change size to 125\n",
      "\n",
      "[2022-06-21 07:34:13.500] [info] ../cpp/metaspore/s3_sdk_filesys.cpp:472 -- Read S3 object s3://dmetasoul-bucket/demo/datasets/soc-pokec/demo_schema/column_name.txt reached end 125\n",
      "\n",
      "\n",
      "[2022-06-21 07:34:13.501] [info] ../cpp/metaspore/s3_sdk_filesys.cpp:472 -- Read S3 object s3://dmetasoul-bucket/demo/datasets/soc-pokec/demo_schema/column_name.txt reached end 125\n",
      "\n",
      "[WARN] 2022-06-21 07:34:13.501 STSAssumeRoleWithWebIdentityCredentialsProvider [139894355953472] Token file must be specified to use STS AssumeRole web identity creds provider.\n",
      "[2022-06-21 07:34:13.501] [info] ../cpp/metaspore/s3_sdk_filesys.cpp:411 -- Try to open S3 stream: s3://dmetasoul-bucket/demo/datasets/soc-pokec/demo_schema/wide_combine_schema.txt, read_only: true\n",
      "\n",
      "[2022-06-21 07:34:13.551] [info] ../cpp/metaspore/s3_sdk_filesys.cpp:437 -- Opened read-only stream for object: s3://dmetasoul-bucket/demo/datasets/soc-pokec/demo_schema/wide_combine_schema.txt with total length: 119\n",
      "\n",
      "[2022-06-21 07:34:13.556] [info] ../cpp/metaspore/s3_sdk_filesys.cpp:479 -- Read S3 object s3://dmetasoul-bucket/demo/datasets/soc-pokec/demo_schema/wide_combine_schema.txt with size 119 at position 0 larger than total size: 119, change size to 119\n",
      "\n",
      "[2022-06-21 07:34:13.600] [info] ../cpp/metaspore/s3_sdk_filesys.cpp:472 -- Read S3 object s3://dmetasoul-bucket/demo/datasets/soc-pokec/demo_schema/wide_combine_schema.txt reached end 119\n",
      "\n",
      "[2022-06-21 07:34:13.601] [info] ../cpp/metaspore/s3_sdk_filesys.cpp:472 -- Read S3 object s3://dmetasoul-bucket/demo/datasets/soc-pokec/demo_schema/wide_combine_schema.txt reached end 119\n",
      "\n",
      "[WARN] 2022-06-21 07:34:13.673 STSAssumeRoleWithWebIdentityCredentialsProvider [139894355953472] Token file must be specified to use STS AssumeRole web identity creds provider.\n",
      "[2022-06-21 07:34:13.673] [info] ../cpp/metaspore/s3_sdk_filesys.cpp:411 -- Try to open S3 stream: s3://dmetasoul-bucket/demo/datasets/soc-pokec/demo_schema/column_name.txt, read_only: true\n",
      "\n",
      "[2022-06-21 07:34:13.700] [info] ../cpp/metaspore/s3_sdk_filesys.cpp:437 -- Opened read-only stream for object: s3://dmetasoul-bucket/demo/datasets/soc-pokec/demo_schema/column_name.txt with total length: 125\n",
      "\n",
      "[2022-06-21 07:34:13.701] [info] ../cpp/metaspore/s3_sdk_filesys.cpp:479 -- Read S3 object s3://dmetasoul-bucket/demo/datasets/soc-pokec/demo_schema/column_name.txt with size 125 at position 0 larger than total size: 125, change size to 125\n",
      "\n",
      "[2022-06-21 07:34:13.750] [info] ../cpp/metaspore/s3_sdk_filesys.cpp:472 -- Read S3 object s3://dmetasoul-bucket/demo/datasets/soc-pokec/demo_schema/column_name.txt reached end 125\n",
      "\n",
      "[2022-06-21 07:34:13.750] [info] ../cpp/metaspore/s3_sdk_filesys.cpp:472 -- Read S3 object s3://dmetasoul-bucket/demo/datasets/soc-pokec/demo_schema/column_name.txt reached end 125\n",
      "\n",
      "[WARN] 2022-06-21 07:34:13.750 STSAssumeRoleWithWebIdentityCredentialsProvider [139894355953472] Token file must be specified to use STS AssumeRole web identity creds provider.\n",
      "[2022-06-21 07:34:13.750] [info] ../cpp/metaspore/s3_sdk_filesys.cpp:411 -- Try to open S3 stream: s3://dmetasoul-bucket/demo/datasets/soc-pokec/demo_schema/deep_combine_schema.txt, read_only: true\n",
      "\n",
      "[2022-06-21 07:34:13.786] [info] ../cpp/metaspore/s3_sdk_filesys.cpp:437 -- Opened read-only stream for object: s3://dmetasoul-bucket/demo/datasets/soc-pokec/demo_schema/deep_combine_schema.txt with total length: 119\n",
      "\n",
      "[2022-06-21 07:34:13.786] [info] ../cpp/metaspore/s3_sdk_filesys.cpp:479 -- Read S3 object s3://dmetasoul-bucket/demo/datasets/soc-pokec/demo_schema/deep_combine_schema.txt with size 119 at position 0 larger than total size: 119, change size to 119\n",
      "\n",
      "[2022-06-21 07:34:13.809] [info] ../cpp/metaspore/s3_sdk_filesys.cpp:472 -- Read S3 object s3://dmetasoul-bucket/demo/datasets/soc-pokec/demo_schema/deep_combine_schema.txt reached end 119\n",
      "\n",
      "[2022-06-21 07:34:13.809] [info] ../cpp/metaspore/s3_sdk_filesys.cpp:472 -- Read S3 object s3://dmetasoul-bucket/demo/datasets/soc-pokec/demo_schema/d\u001b[32mloaded combine schema from\u001b[m \u001b[32mcolumn name file \u001b[m's3://dmetasoul-bucket/demo/datasets/soc-pokec/demo_schema/column_name.txt' \u001b[32mand combine schema file \u001b[m's3://dmetasoul-bucket/demo/datasets/soc-pokec/demo_schema/deep_combine_schema.txt'eep_combine_schema.txt reached end 119\n",
      "\n",
      "\n",
      "[2022-06-21 07:34:15.372] [info] PS job with coordinator address 10.0.1.219:37261 started.\n",
      "[2022-06-21 07:34:15.372] [info] PSRunner::RunPS: pid: 1658, tid: 1811, thread: 0x7f3b4cdcd700\n",
      "[2022-06-21 07:34:15.372] [info] PSRunner::RunPSCoordinator: pid: 1658, tid: 1811, thread: 0x7f3b4cdcd700\n",
      "[2022-06-21 07:34:15.373] [info] ActorProcess::Receiving: Coordinator pid: 1658, tid: 1815, thread: 0x7f3b2effd700\n"
     ]
    },
    {
     "name": "stderr",
     "output_type": "stream",
     "text": [
      "[Stage 2:>                  (0 + 2) / 2][Stage 3:>                  (0 + 2) / 2]\r"
     ]
    },
    {
     "name": "stdout",
     "output_type": "stream",
     "text": [
      "[2022-06-21 07:34:16.585] [info] C[0]:9: The coordinator has connected to 2 servers and 2 workers.\n",
      "PS Coordinator node \u001b[32mC[0]:9\u001b[m is ready.\n"
     ]
    },
    {
     "name": "stderr",
     "output_type": "stream",
     "text": [
      "                                                                                \r"
     ]
    },
    {
     "name": "stdout",
     "output_type": "stream",
     "text": [
      "shuffle df to partitions 4\n"
     ]
    },
    {
     "name": "stderr",
     "output_type": "stream",
     "text": [
      "[Stage 2:>                  (0 + 2) / 2][Stage 8:>                  (0 + 2) / 4]\r"
     ]
    },
    {
     "name": "stdout",
     "output_type": "stream",
     "text": [
      "2022-06-21 07:34:29.392 -- auc: 0.5080945506599379, Δauc: 0.5080945506599379, pcoc: 1.0211280284636062, Δpcoc: 1.0211280284636062, #instance: 5000\n",
      "2022-06-21 07:34:29.782 -- auc: 0.505055990736009, Δauc: 0.5023478434132538, pcoc: 1.0398334454373273, Δpcoc: 1.0591693820843198, #instance: 10000\n",
      "2022-06-21 07:34:36.210 -- auc: 0.514924039535408, Δauc: 0.5446873653583264, pcoc: 1.035013532005094, Δpcoc: 1.0252815314973018, #instance: 15000\n",
      "2022-06-21 07:34:36.706 -- auc: 0.5179560721313156, Δauc: 0.528445078356796, pcoc: 1.0280001004348158, Δpcoc: 1.007026231279501, #instance: 20000\n",
      "2022-06-21 07:34:43.007 -- auc: 0.5290973220947028, Δauc: 0.5826278413201091, pcoc: 1.025671064148137, Δpcoc: 1.0163916256410856, #instance: 25000\n",
      "2022-06-21 07:34:43.521 -- auc: 0.5349348529730871, Δauc: 0.5681581573825804, pcoc: 1.020272798226817, Δpcoc: 0.9938250585270888, #instance: 30000\n",
      "2022-06-21 07:34:49.884 -- auc: 0.5432887146082466, Δauc: 0.5970318106817718, pcoc: 1.0187785744137139, Δpcoc: 1.0095565253370584, #instance: 35000\n",
      "2022-06-21 07:34:50.452 -- auc: 0.5513405125570154, Δauc: 0.6096859383438489, pcoc: 1.0125267066795145, Δpcoc: 0.9699986287028307, #instance: 40000\n",
      "2022-06-21 07:34:56.730 -- auc: 0.5584260441494677, Δauc: 0.6164653848191112, pcoc: 1.0135456800929092, Δpcoc: 1.02203796180011, #instance: 45000\n",
      "2022-06-21 07:34:57.359 -- auc: 0.565432412956571, Δauc: 0.6287933510743777, pcoc: 1.0120913456039826, Δpcoc: 0.9985497167713812, #instance: 50000\n",
      "2022-06-21 07:35:03.588 -- auc: 0.5718212985954645, Δauc: 0.6337142533736788, pcoc: 1.0105598244168776, Δpcoc: 0.9956242305008041, #instance: 55000\n",
      "2022-06-21 07:35:04.300 -- auc: 0.5756952549777066, Δauc: 0.6177820067730719, pcoc: 1.0094493312500838, Δpcoc: 0.99751840582573, #instance: 60000\n",
      "2022-06-21 07:35:10.407 -- auc: 0.5796146518805549, Δauc: 0.6275096508643001, pcoc: 1.0096081453935064, Δpcoc: 1.0115688345701934, #instance: 65000\n",
      "2022-06-21 07:35:11.176 -- auc: 0.5835829628092835, Δauc: 0.6345987782410305, pcoc: 1.0082520979234217, Δpcoc: 0.9907800707401296, #instance: 70000\n",
      "2022-06-21 07:35:17.277 -- auc: 0.5873921314289557, Δauc: 0.6406921800491343, pcoc: 1.009200369846078, Δpcoc: 1.0231559953522822, #instance: 75000\n",
      "2022-06-21 07:35:18.057 -- auc: 0.5902604297298257, Δauc: 0.6333207641150516, pcoc: 1.0070247863110815, Δpcoc: 0.9744065855115629, #instance: 80000\n"
     ]
    },
    {
     "name": "stderr",
     "output_type": "stream",
     "text": [
      "[Stage 2:>                  (0 + 2) / 2][Stage 8:>                  (0 + 2) / 4]\r"
     ]
    },
    {
     "name": "stdout",
     "output_type": "stream",
     "text": [
      "2022-06-21 07:35:24.105 -- auc: 0.5941350772696721, Δauc: 0.6542538669035285, pcoc: 1.0063156210205508, Δpcoc: 0.9948280561574505, #instance: 85000\n",
      "2022-06-21 07:35:24.899 -- auc: 0.5959386932296898, Δauc: 0.6266058896119076, pcoc: 1.0067606703230665, Δpcoc: 1.0145913402730056, #instance: 90000\n",
      "2022-06-21 07:35:30.782 -- auc: 0.5988791951592294, Δauc: 0.6497864178163879, pcoc: 1.0068311261010747, Δpcoc: 1.0080904673926439, #instance: 95000\n",
      "2022-06-21 07:35:31.673 -- auc: 0.6017488317612341, Δauc: 0.6528520017243229, pcoc: 1.004948986975672, Δpcoc: 0.9709063841593455, #instance: 100000\n",
      "2022-06-21 07:35:37.508 -- auc: 0.6042821034531655, Δauc: 0.6556666794957087, pcoc: 1.006732807397137, Δpcoc: 1.044313947925009, #instance: 105000\n",
      "2022-06-21 07:35:38.470 -- auc: 0.6055982046381736, Δauc: 0.6324345453605639, pcoc: 1.0047180481393048, Δpcoc: 0.9639419803048498, #instance: 110000\n",
      "2022-06-21 07:35:44.326 -- auc: 0.6074515117471537, Δauc: 0.6476282185697158, pcoc: 1.0046452908753036, Δpcoc: 1.0030149390340335, #instance: 115000\n",
      "2022-06-21 07:35:45.374 -- auc: 0.6088796856113581, Δauc: 0.6414125946396444, pcoc: 1.0050550494064951, Δpcoc: 1.0147885821741334, #instance: 120000\n",
      "2022-06-21 07:35:51.347 -- auc: 0.6105152767653007, Δauc: 0.6484673120816401, pcoc: 1.0038351867557638, Δpcoc: 0.9752807328195283, #instance: 125000\n",
      "2022-06-21 07:35:52.179 -- auc: 0.6114768223408873, Δauc: 0.636593154136224, pcoc: 1.0042566489283522, Δpcoc: 1.0149249738498045, #instance: 130000\n",
      "2022-06-21 07:35:58.129 -- auc: 0.6129050871050756, Δauc: 0.6484812839532534, pcoc: 1.0041537935644531, Δpcoc: 1.0015582456102328, #instance: 135000\n",
      "2022-06-21 07:35:59.031 -- auc: 0.613887996114221, Δauc: 0.6403241934445558, pcoc: 1.0042645224799394, Δpcoc: 1.0072384348398522, #instance: 140000\n",
      "2022-06-21 07:36:04.992 -- auc: 0.6146139109973422, Δauc: 0.6345143270237712, pcoc: 1.0035831462661926, Δpcoc: 0.9848535449871507, #instance: 145000\n",
      "2022-06-21 07:36:06.043 -- auc: 0.6159615618577627, Δauc: 0.6530301251550915, pcoc: 1.0037169490467182, Δpcoc: 1.0075109388444807, #instance: 150000\n",
      "2022-06-21 07:36:11.862 -- auc: 0.6170921932269473, Δauc: 0.6501841849897451, pcoc: 1.0038217994746366, Δpcoc: 1.007024102762233, #instance: 155000\n",
      "2022-06-21 07:36:12.922 -- auc: 0.618694805743402, Δauc: 0.667142899021888, pcoc: 1.0035100256976868, Δpcoc: 0.9938403297873104, #instance: 160000\n",
      "2022-06-21 07:36:18.712 -- auc: 0.6199207193562669, Δauc: 0.655794219367589, pcoc: 1.0030526382934475, Δpcoc: 0.9890971248800104, #instance: 165000\n",
      "2022-06-21 07:36:19.797 -- auc: 0.6207296901986032, Δauc: 0.647060031722718, pcoc: 1.003122243008114, Δpcoc: 1.0053770779820617, #instance: 170000\n"
     ]
    },
    {
     "name": "stderr",
     "output_type": "stream",
     "text": [
      "[Stage 2:>                  (0 + 2) / 2][Stage 8:>                  (0 + 2) / 4]\r"
     ]
    },
    {
     "name": "stdout",
     "output_type": "stream",
     "text": [
      "2022-06-21 07:36:25.506 -- auc: 0.6220613231026784, Δauc: 0.6658605757534801, pcoc: 1.0030595327239546, Δpcoc: 1.0008644680101044, #instance: 175000\n",
      "2022-06-21 07:36:26.669 -- auc: 0.6228562589622478, Δauc: 0.6498833906908688, pcoc: 1.0031064667131067, Δpcoc: 1.0047990069073531, #instance: 180000\n",
      "2022-06-21 07:36:32.282 -- auc: 0.6238166947169332, Δauc: 0.6577204640538135, pcoc: 1.0021643177245472, Δpcoc: 0.9691366400722377, #instance: 185000\n",
      "2022-06-21 07:36:33.508 -- auc: 0.6245825352392149, Δauc: 0.65259850378898, pcoc: 1.0023163515512452, Δpcoc: 1.0078797871875613, #instance: 190000\n",
      "2022-06-21 07:36:39.297 -- auc: 0.625096077277081, Δauc: 0.6447041870485213, pcoc: 1.0031831630297314, Δpcoc: 1.0359754765768188, #instance: 195000\n",
      "2022-06-21 07:36:40.363 -- auc: 0.6260315909888543, Δauc: 0.6600093573979806, pcoc: 1.002364241576281, Δpcoc: 0.9721630572914988, #instance: 200000\n",
      "2022-06-21 07:36:46.175 -- auc: 0.6269802912518158, Δauc: 0.6632023173266391, pcoc: 1.0021800580468856, Δpcoc: 0.9948687538410883, #instance: 205000\n",
      "2022-06-21 07:36:47.274 -- auc: 0.6276678583833415, Δauc: 0.6552418056948472, pcoc: 1.0023567244457239, Δpcoc: 1.009591800502584, #instance: 210000\n",
      "2022-06-21 07:36:52.981 -- auc: 0.6283826794612533, Δauc: 0.658404148078243, pcoc: 1.0017571214878107, Δpcoc: 0.9761149075723463, #instance: 215000\n",
      "2022-06-21 07:36:54.123 -- auc: 0.6291559540217357, Δauc: 0.6621735758050226, pcoc: 1.0020876561841197, Δpcoc: 1.016998535181618, #instance: 220000\n",
      "2022-06-21 07:36:59.691 -- auc: 0.6300051171803884, Δauc: 0.666333471520679, pcoc: 1.0013566644369483, Δpcoc: 0.9697267313643291, #instance: 225000\n",
      "2022-06-21 07:37:01.500 -- auc: 0.6306571953681454, Δauc: 0.658700898027132, pcoc: 1.0019512319210107, Δpcoc: 1.029340909673022, #instance: 230000\n",
      "2022-06-21 07:37:06.581 -- auc: 0.631437645693032, Δauc: 0.6656217985129885, pcoc: 1.001534370615777, Δpcoc: 0.9824711847756563, #instance: 235000\n",
      "2022-06-21 07:37:08.411 -- auc: 0.6322712884723994, Δauc: 0.669864141523975, pcoc: 1.001589206574593, Δpcoc: 1.0042481672158998, #instance: 240000\n",
      "2022-06-21 07:37:13.447 -- auc: 0.6326644708114681, Δauc: 0.6513471322116906, pcoc: 1.0015835436693075, Δpcoc: 1.0013138823621854, #instance: 245000\n",
      "2022-06-21 07:37:15.267 -- auc: 0.6331796912907846, Δauc: 0.6571217010972455, pcoc: 1.0016092037018254, Δpcoc: 1.002831737936279, #instance: 250000\n",
      "2022-06-21 07:37:20.268 -- auc: 0.6337866590939103, Δauc: 0.6631972627833497, pcoc: 1.0016184930381429, Δpcoc: 1.0020821655164704, #instance: 255000\n",
      "2022-06-21 07:37:22.022 -- auc: 0.6343759705450214, Δauc: 0.6638340865024767, pcoc: 1.0016829422631026, Δpcoc: 1.0049878923516524, #instance: 260000\n"
     ]
    },
    {
     "name": "stderr",
     "output_type": "stream",
     "text": [
      "[Stage 2:>                  (0 + 2) / 2][Stage 8:>                  (0 + 2) / 4]\r"
     ]
    },
    {
     "name": "stdout",
     "output_type": "stream",
     "text": [
      "2022-06-21 07:37:27.091 -- auc: 0.6352805956674368, Δauc: 0.6791368504564979, pcoc: 1.0011703534377785, Δpcoc: 0.9753403681961048, #instance: 265000\n",
      "2022-06-21 07:37:28.804 -- auc: 0.6359740531985532, Δauc: 0.6712656747094644, pcoc: 1.0011366103757793, Δpcoc: 0.9993186723215747, #instance: 270000\n",
      "2022-06-21 07:37:33.879 -- auc: 0.6367081188818448, Δauc: 0.6754126773888363, pcoc: 1.0012699503988896, Δpcoc: 1.0086826760428294, #instance: 275000\n",
      "2022-06-21 07:37:35.586 -- auc: 0.6373562645647424, Δauc: 0.6715662623899945, pcoc: 1.0012207680198393, Δpcoc: 0.9984974312706115, #instance: 280000\n",
      "2022-06-21 07:37:40.679 -- auc: 0.6376445628522305, Δauc: 0.6535092698407894, pcoc: 1.0009446499612762, Δpcoc: 0.9856959329524511, #instance: 285000\n",
      "2022-06-21 07:37:42.763 -- auc: 0.6380052941333005, Δauc: 0.6577713373655913, pcoc: 1.0009299357023633, Δpcoc: 1.0001039139926433, #instance: 290000\n",
      "2022-06-21 07:37:47.492 -- auc: 0.6388102389682586, Δauc: 0.683283625958854, pcoc: 1.0011739632215966, Δpcoc: 1.0152935808217978, #instance: 295000\n",
      "2022-06-21 07:37:49.604 -- auc: 0.6393124065739602, Δauc: 0.6682285208391752, pcoc: 1.0012055785648413, Δpcoc: 1.0030562328035488, #instance: 300000\n",
      "2022-06-21 07:37:54.350 -- auc: 0.6398555806881241, Δauc: 0.6717387733333333, pcoc: 1.000991987667029, Δpcoc: 0.9880618782043457, #instance: 305000\n",
      "2022-06-21 07:37:56.476 -- auc: 0.6404811660128151, Δauc: 0.6770909436022148, pcoc: 1.0008743047486517, Δpcoc: 0.9936842429817812, #instance: 310000\n",
      "2022-06-21 07:38:01.124 -- auc: 0.6409215731054845, Δauc: 0.6671982858711025, pcoc: 1.0009504354923846, Δpcoc: 1.0056369721420169, #instance: 315000\n",
      "2022-06-21 07:38:03.390 -- auc: 0.6415703831407749, Δauc: 0.6798492807055213, pcoc: 1.000728754733934, Δpcoc: 0.9870225008359679, #instance: 320000\n",
      "2022-06-21 07:38:08.060 -- auc: 0.6420133494641571, Δauc: 0.6703939900214886, pcoc: 1.0009145621578717, Δpcoc: 1.0131205526961846, #instance: 325000\n",
      "2022-06-21 07:38:10.311 -- auc: 0.6425725782841729, Δauc: 0.677532715079005, pcoc: 1.001043217380936, Δpcoc: 1.0098601878686095, #instance: 330000\n",
      "2022-06-21 07:38:15.028 -- auc: 0.6431088242206517, Δauc: 0.6755959650704998, pcoc: 1.0006748890377248, Δpcoc: 0.9772393993503188, #instance: 335000\n",
      "2022-06-21 07:38:17.285 -- auc: 0.6437724039988151, Δauc: 0.6862542975670184, pcoc: 1.000510782549248, Δpcoc: 0.9895703068095676, #instance: 340000\n",
      "2022-06-21 07:38:22.049 -- auc: 0.6445261282637462, Δauc: 0.6932305088550756, pcoc: 1.0006937331413206, Δpcoc: 1.0132117587285145, #instance: 345000\n"
     ]
    },
    {
     "name": "stderr",
     "output_type": "stream",
     "text": [
      "[Stage 2:>                  (0 + 2) / 2][Stage 8:>                  (0 + 2) / 4]\r"
     ]
    },
    {
     "name": "stdout",
     "output_type": "stream",
     "text": [
      "2022-06-21 07:38:24.238 -- auc: 0.6450958870792909, Δauc: 0.6820420212670022, pcoc: 1.0006927911767962, Δpcoc: 1.000626604853616, #instance: 350000\n",
      "2022-06-21 07:38:28.927 -- auc: 0.6458465050860619, Δauc: 0.6949093069823544, pcoc: 1.0006900308031517, Δpcoc: 1.0004973615272135, #instance: 355000\n",
      "2022-06-21 07:38:31.483 -- auc: 0.6464755440785181, Δauc: 0.6868510246099644, pcoc: 1.000330877994977, Δpcoc: 0.975871041122274, #instance: 360000\n",
      "2022-06-21 07:38:35.871 -- auc: 0.64707889569172, Δauc: 0.6882848752484367, pcoc: 1.0004043365664943, Δpcoc: 1.0057066089587674, #instance: 365000\n",
      "2022-06-21 07:38:38.420 -- auc: 0.647565358245718, Δauc: 0.6819824553877831, pcoc: 1.000537453199355, Δpcoc: 1.0104203970201553, #instance: 370000\n",
      "2022-06-21 07:38:42.750 -- auc: 0.648086439635045, Δauc: 0.6849619219903766, pcoc: 0.9999878326600549, Δpcoc: 0.9597996305148804, #instance: 375000\n",
      "2022-06-21 07:38:45.398 -- auc: 0.6486861690211987, Δauc: 0.691343796563705, pcoc: 0.99995187158282, Δpcoc: 0.9972353453834217, #instance: 380000\n",
      "2022-06-21 07:38:49.616 -- auc: 0.6495102578401055, Δauc: 0.7064462028190097, pcoc: 0.9997537072270485, Δpcoc: 0.9851573259440135, #instance: 385000\n"
     ]
    },
    {
     "name": "stderr",
     "output_type": "stream",
     "text": [
      "[Stage 2:>                  (0 + 2) / 2][Stage 8:====>              (1 + 2) / 4]\r"
     ]
    },
    {
     "name": "stdout",
     "output_type": "stream",
     "text": [
      "2022-06-21 07:38:52.309 -- auc: 0.6501671458126673, Δauc: 0.6979351022826732, pcoc: 1.0002096868785202, Δpcoc: 1.0366617885636695, #instance: 390000\n"
     ]
    },
    {
     "name": "stderr",
     "output_type": "stream",
     "text": [
      "[Stage 2:>                  (0 + 2) / 2][Stage 8:=========>         (2 + 2) / 4]\r"
     ]
    },
    {
     "name": "stdout",
     "output_type": "stream",
     "text": [
      "2022-06-21 07:38:56.640 -- auc: 0.6506638550321686, Δauc: 0.6881765929687225, pcoc: 1.0001905374362177, Δpcoc: 0.9986631636298583, #instance: 394982\n",
      "2022-06-21 07:38:59.285 -- auc: 0.6511791240589212, Δauc: 0.68931799568322, pcoc: 1.0001020572123707, Δpcoc: 0.9930815920886765, #instance: 399973\n",
      "2022-06-21 07:39:03.596 -- auc: 0.6517567439741726, Δauc: 0.695723207130936, pcoc: 1.0000636346387644, Δpcoc: 0.9969240370986914, #instance: 404973\n",
      "2022-06-21 07:39:06.338 -- auc: 0.6523757746092502, Δauc: 0.698328426586746, pcoc: 0.999992758835982, Δpcoc: 0.9943322889122045, #instance: 409973\n",
      "2022-06-21 07:39:10.440 -- auc: 0.6531597457939206, Δauc: 0.7111034429875009, pcoc: 1.0000566538699622, Δpcoc: 1.0052397247386315, #instance: 414973\n",
      "2022-06-21 07:39:13.248 -- auc: 0.6538158707996894, Δauc: 0.70452799177834, pcoc: 0.9999244904173499, Δpcoc: 0.9890969193532492, #instance: 419973\n",
      "2022-06-21 07:39:17.467 -- auc: 0.6543585919746102, Δauc: 0.6976314069563277, pcoc: 1.0001864138131638, Δpcoc: 1.022810100536751, #instance: 424973\n",
      "2022-06-21 07:39:20.091 -- auc: 0.6551396548005528, Δauc: 0.7154186747088547, pcoc: 0.9998436248718604, Δpcoc: 0.9714223888267305, #instance: 429973\n",
      "2022-06-21 07:39:24.324 -- auc: 0.6558191391072634, Δauc: 0.705845763571791, pcoc: 0.9995248370338388, Δpcoc: 0.9739240483884458, #instance: 434973\n",
      "2022-06-21 07:39:27.081 -- auc: 0.6563207898182153, Δauc: 0.6965106951871658, pcoc: 0.9999444442589154, Δpcoc: 1.0364982279520185, #instance: 439973\n",
      "2022-06-21 07:39:31.160 -- auc: 0.6569671306293132, Δauc: 0.7091762670710039, pcoc: 0.9996741616145747, Δpcoc: 0.9765020687147458, #instance: 444973\n",
      "2022-06-21 07:39:34.139 -- auc: 0.6573458985382439, Δauc: 0.6890417879030715, pcoc: 0.9997589382170963, Δpcoc: 1.007233053773314, #instance: 449973\n",
      "2022-06-21 07:39:37.968 -- auc: 0.6579941569762118, Δauc: 0.7122810943633542, pcoc: 0.9995587316003319, Δpcoc: 0.9816233449929896, #instance: 454973\n",
      "2022-06-21 07:39:40.993 -- auc: 0.658475089524857, Δauc: 0.6992396716443625, pcoc: 0.9996193270663101, Δpcoc: 1.0052458879537127, #instance: 459973\n",
      "2022-06-21 07:39:44.789 -- auc: 0.6589281588080302, Δauc: 0.6983678928844709, pcoc: 0.9996573850048355, Δpcoc: 1.0032379770201647, #instance: 464973\n",
      "2022-06-21 07:39:47.798 -- auc: 0.6596622925389282, Δauc: 0.7199003520133204, pcoc: 0.9994199725113273, Δpcoc: 0.9783488055761571, #instance: 469973\n",
      "2022-06-21 07:39:51.541 -- auc: 0.6601873524818066, Δauc: 0.704015127771161, pcoc: 0.9995070237154929, Δpcoc: 1.0075139799783397, #instance: 474973\n"
     ]
    },
    {
     "name": "stderr",
     "output_type": "stream",
     "text": [
      "[Stage 2:>                  (0 + 2) / 2][Stage 8:=========>         (2 + 2) / 4]\r"
     ]
    },
    {
     "name": "stdout",
     "output_type": "stream",
     "text": [
      "2022-06-21 07:39:54.665 -- auc: 0.6607917466221926, Δauc: 0.713047594468216, pcoc: 0.9996193390539677, Δpcoc: 1.01016871333589, #instance: 479973\n",
      "2022-06-21 07:39:58.375 -- auc: 0.6613872190278356, Δauc: 0.7125778282524848, pcoc: 0.9994016924379375, Δpcoc: 0.9789018164147864, #instance: 484973\n",
      "2022-06-21 07:40:01.562 -- auc: 0.662007420578911, Δauc: 0.7169491327081527, pcoc: 0.999392426937821, Δpcoc: 0.9984879664690846, #instance: 489973\n",
      "2022-06-21 07:40:05.274 -- auc: 0.6625682262309504, Δauc: 0.7136065888799832, pcoc: 0.9995288092856932, Δpcoc: 1.012893091565734, #instance: 494973\n",
      "2022-06-21 07:40:08.570 -- auc: 0.6631312060038707, Δauc: 0.7130584210547393, pcoc: 0.999471334480709, Δpcoc: 0.9938265230369119, #instance: 499973\n",
      "2022-06-21 07:40:12.100 -- auc: 0.6637428860353773, Δauc: 0.7187313961346128, pcoc: 0.9994716626236759, Δpcoc: 0.9995054945653798, #instance: 504973\n",
      "2022-06-21 07:40:15.612 -- auc: 0.6643854076443244, Δauc: 0.7225655932220765, pcoc: 0.9994967834411249, Δpcoc: 1.002063696201031, #instance: 509973\n",
      "2022-06-21 07:40:18.957 -- auc: 0.6650328672514356, Δauc: 0.7246972496381103, pcoc: 0.9993386283732102, Δpcoc: 0.9833653386433919, #instance: 514973\n",
      "2022-06-21 07:40:22.625 -- auc: 0.6655456709481551, Δauc: 0.7135182709447416, pcoc: 0.9993578815518543, Δpcoc: 1.0013450387924436, #instance: 519973\n",
      "2022-06-21 07:40:25.858 -- auc: 0.6660211607114712, Δauc: 0.7109280766337787, pcoc: 0.999398588986805, Δpcoc: 1.0036273636395419, #instance: 524973\n",
      "2022-06-21 07:40:29.587 -- auc: 0.6664534171369951, Δauc: 0.7073001274442717, pcoc: 0.9993826140205972, Δpcoc: 0.9977044704032209, #instance: 529973\n",
      "2022-06-21 07:40:32.758 -- auc: 0.6668943138684857, Δauc: 0.7103401749289648, pcoc: 0.9993538811231436, Δpcoc: 0.9963140314275568, #instance: 534973\n",
      "2022-06-21 07:40:36.450 -- auc: 0.6674343417400802, Δauc: 0.7190591394997794, pcoc: 0.9990892332852334, Δpcoc: 0.9715654506786132, #instance: 539973\n",
      "2022-06-21 07:40:39.591 -- auc: 0.6678089664219351, Δauc: 0.7068607735450816, pcoc: 0.9992778169996582, Δpcoc: 1.0203443631883726, #instance: 544973\n",
      "2022-06-21 07:40:43.318 -- auc: 0.6683489692035511, Δauc: 0.7221615654740849, pcoc: 0.9993540603527914, Δpcoc: 1.007635400346065, #instance: 549973\n",
      "2022-06-21 07:40:46.680 -- auc: 0.6689298923701057, Δauc: 0.7236971241673213, pcoc: 0.9989229801243011, Δpcoc: 0.9552537040237438, #instance: 554973\n",
      "2022-06-21 07:40:50.116 -- auc: 0.669559499841492, Δauc: 0.7313664482310531, pcoc: 0.9991667591376132, Δpcoc: 1.025816384461924, #instance: 559973\n",
      "2022-06-21 07:40:53.457 -- auc: 0.6701513110299887, Δauc: 0.7275745418834493, pcoc: 0.9991229339412308, Δpcoc: 0.9943144265995469, #instance: 564973\n"
     ]
    },
    {
     "name": "stderr",
     "output_type": "stream",
     "text": [
      "[Stage 2:>                  (0 + 2) / 2][Stage 8:=========>         (2 + 2) / 4]\r"
     ]
    },
    {
     "name": "stdout",
     "output_type": "stream",
     "text": [
      "2022-06-21 07:40:56.952 -- auc: 0.6705797027930075, Δauc: 0.7163710211625125, pcoc: 0.999277565965042, Δpcoc: 1.0174403433737003, #instance: 569973\n",
      "2022-06-21 07:41:00.261 -- auc: 0.6712055011239652, Δauc: 0.7353058823754934, pcoc: 0.999231785215482, Δpcoc: 0.9939688258616333, #instance: 574973\n",
      "2022-06-21 07:41:03.844 -- auc: 0.67165042238899, Δauc: 0.7187128256325186, pcoc: 0.9990992522798284, Δpcoc: 0.984090078090748, #instance: 579973\n",
      "2022-06-21 07:41:07.143 -- auc: 0.6721355320564888, Δauc: 0.7246141018439025, pcoc: 0.9993604742774279, Δpcoc: 1.0315912668953842, #instance: 584973\n",
      "2022-06-21 07:41:10.738 -- auc: 0.6727326532568018, Δauc: 0.7351937679068491, pcoc: 0.9994023266048627, Δpcoc: 1.0043938331203752, #instance: 589973\n",
      "2022-06-21 07:41:14.003 -- auc: 0.6731581508399249, Δauc: 0.7188176420897234, pcoc: 0.9993009586843818, Δpcoc: 0.9876191094229596, #instance: 594973\n",
      "2022-06-21 07:41:17.557 -- auc: 0.6736211677106072, Δauc: 0.7216538939410153, pcoc: 0.999059119347104, Δpcoc: 0.9712908273438992, #instance: 599973\n",
      "2022-06-21 07:41:20.830 -- auc: 0.6741227001654313, Δauc: 0.7293989142735309, pcoc: 0.9993271861093875, Δpcoc: 1.0330546565075633, #instance: 604973\n",
      "2022-06-21 07:41:24.408 -- auc: 0.6746280783333582, Δauc: 0.7292381910333317, pcoc: 0.9992754430239571, Δpcoc: 0.9930931759402564, #instance: 609973\n",
      "2022-06-21 07:41:27.712 -- auc: 0.6750382979217027, Δauc: 0.7214618667250245, pcoc: 0.9989875001374643, Δpcoc: 0.9647247424917331, #instance: 614973\n",
      "2022-06-21 07:41:31.272 -- auc: 0.6754678414301057, Δauc: 0.7248477040081327, pcoc: 0.9992319527564948, Δpcoc: 1.0304955313725725, #instance: 619973\n",
      "2022-06-21 07:41:35.207 -- auc: 0.6758459159748831, Δauc: 0.7194308117393544, pcoc: 0.999259234354496, Δpcoc: 1.0026393034790135, #instance: 624973\n",
      "2022-06-21 07:41:38.225 -- auc: 0.6763956563323262, Δauc: 0.7366726966318617, pcoc: 0.9992161890133628, Δpcoc: 0.993890576228079, #instance: 629973\n",
      "2022-06-21 07:41:41.934 -- auc: 0.6768653533547546, Δauc: 0.7308546600458365, pcoc: 0.9991879859200566, Δpcoc: 0.9956258009350489, #instance: 634973\n",
      "2022-06-21 07:41:45.011 -- auc: 0.6773097219609401, Δauc: 0.7284746625923096, pcoc: 0.9991624081988589, Δpcoc: 0.995906242491707, #instance: 639973\n",
      "2022-06-21 07:41:48.665 -- auc: 0.6778226608647808, Δauc: 0.7375718635200311, pcoc: 0.9991818930042824, Δpcoc: 1.001720161806855, #instance: 644973\n",
      "2022-06-21 07:41:51.801 -- auc: 0.6782846081581393, Δauc: 0.7321190659725731, pcoc: 0.9994157290666633, Δpcoc: 1.0313462099905086, #instance: 649973\n"
     ]
    },
    {
     "name": "stderr",
     "output_type": "stream",
     "text": [
      "[Stage 2:>                  (0 + 2) / 2][Stage 8:=========>         (2 + 2) / 4]\r"
     ]
    },
    {
     "name": "stdout",
     "output_type": "stream",
     "text": [
      "2022-06-21 07:41:55.470 -- auc: 0.678838233362663, Δauc: 0.7422402254952082, pcoc: 0.9990921257087789, Δpcoc: 0.9589540578160246, #instance: 654973\n",
      "2022-06-21 07:41:58.715 -- auc: 0.6792383900932693, Δauc: 0.7267640348079467, pcoc: 0.9990501799435682, Δpcoc: 0.9936419878726998, #instance: 659973\n",
      "2022-06-21 07:42:02.397 -- auc: 0.6796757190028928, Δauc: 0.7315284025744824, pcoc: 0.998983983111115, Δpcoc: 0.9903962190976866, #instance: 664973\n",
      "2022-06-21 07:42:05.720 -- auc: 0.6800249860911378, Δauc: 0.723897135191415, pcoc: 0.9991409678180118, Δpcoc: 1.0203913335930812, #instance: 669973\n",
      "2022-06-21 07:42:09.352 -- auc: 0.6804802323479358, Δauc: 0.7345718970221923, pcoc: 0.9990190594486482, Δpcoc: 0.98293912698771, #instance: 674973\n",
      "2022-06-21 07:42:12.680 -- auc: 0.6810155293872419, Δauc: 0.7447063017898514, pcoc: 0.9989622824648379, Δpcoc: 0.9913332723462741, #instance: 679973\n",
      "2022-06-21 07:42:16.229 -- auc: 0.6814206560882062, Δauc: 0.7319721742970053, pcoc: 0.9990886404227426, Δpcoc: 1.016425719276404, #instance: 684973\n",
      "2022-06-21 07:42:19.622 -- auc: 0.6818107109699001, Δauc: 0.7306021318594552, pcoc: 0.9991512444863027, Δpcoc: 1.0076474260816388, #instance: 689973\n",
      "2022-06-21 07:42:23.293 -- auc: 0.6822948887788862, Δauc: 0.7423624019697324, pcoc: 0.9990300136194453, Δpcoc: 0.9820158178295683, #instance: 694973\n",
      "2022-06-21 07:42:26.434 -- auc: 0.6827441594166301, Δauc: 0.7399359696831831, pcoc: 0.9990686595912046, Δpcoc: 1.0045754282505481, #instance: 699973\n",
      "2022-06-21 07:42:30.332 -- auc: 0.6832098180549184, Δauc: 0.7432620813366135, pcoc: 0.9991939222931081, Δpcoc: 1.0170091404995416, #instance: 704973\n",
      "2022-06-21 07:42:33.248 -- auc: 0.6837954578237948, Δauc: 0.7568367546629956, pcoc: 0.9991748980511467, Δpcoc: 0.9965123118094679, #instance: 709973\n",
      "2022-06-21 07:42:37.216 -- auc: 0.6841974465500691, Δauc: 0.7362967724957713, pcoc: 0.9992024539146794, Δpcoc: 1.0031050694120627, #instance: 714973\n",
      "2022-06-21 07:42:40.130 -- auc: 0.6846663846734247, Δauc: 0.7432570361726172, pcoc: 0.9992594362979927, Δpcoc: 1.0072726505196354, #instance: 719973\n",
      "2022-06-21 07:42:44.317 -- auc: 0.6850608450160214, Δauc: 0.7355900916507596, pcoc: 0.9991148878388807, Δpcoc: 0.9794398517665749, #instance: 724973\n",
      "2022-06-21 07:42:46.923 -- auc: 0.6854002395673562, Δauc: 0.7326210749828415, pcoc: 0.9990649034046536, Δpcoc: 0.9916807513083181, #instance: 729973\n",
      "2022-06-21 07:42:51.417 -- auc: 0.685800041417334, Δauc: 0.7393001397111187, pcoc: 0.999196081127918, Δpcoc: 1.0191074559718003, #instance: 734973\n"
     ]
    },
    {
     "name": "stderr",
     "output_type": "stream",
     "text": [
      "[Stage 2:>                  (0 + 2) / 2][Stage 8:=========>         (2 + 2) / 4]\r"
     ]
    },
    {
     "name": "stdout",
     "output_type": "stream",
     "text": [
      "2022-06-21 07:42:53.806 -- auc: 0.6861228199812143, Δauc: 0.7296874821510898, pcoc: 0.9992221130486698, Δpcoc: 1.0031478155153153, #instance: 739973\n",
      "2022-06-21 07:42:58.356 -- auc: 0.6865583870570676, Δauc: 0.7425362410403923, pcoc: 0.9990374056412729, Δpcoc: 0.9727693133884006, #instance: 744973\n",
      "2022-06-21 07:43:00.669 -- auc: 0.6869813875980844, Δauc: 0.744829329784731, pcoc: 0.9989649353044321, Δpcoc: 0.9881154859265165, #instance: 749973\n",
      "2022-06-21 07:43:05.210 -- auc: 0.6874195914769856, Δauc: 0.7478401116225516, pcoc: 0.9992063063631884, Δpcoc: 1.0380225837331878, #instance: 754973\n",
      "2022-06-21 07:43:07.631 -- auc: 0.687882979646073, Δauc: 0.7506009844213668, pcoc: 0.9990430433095698, Δpcoc: 0.9744608632007858, #instance: 759973\n",
      "2022-06-21 07:43:12.002 -- auc: 0.6882316193274245, Δauc: 0.736082619281425, pcoc: 0.9989076708767476, Δpcoc: 0.9786614204698119, #instance: 764973\n",
      "2022-06-21 07:43:14.471 -- auc: 0.6886169741341441, Δauc: 0.7422801191450221, pcoc: 0.998997796588263, Δpcoc: 1.0129812531681903, #instance: 769973\n",
      "2022-06-21 07:43:18.785 -- auc: 0.6891092686148768, Δauc: 0.7571573115711252, pcoc: 0.999058997249912, Δpcoc: 1.0085320897922394, #instance: 774973\n"
     ]
    },
    {
     "name": "stderr",
     "output_type": "stream",
     "text": [
      "[Stage 2:>                  (0 + 2) / 2][Stage 8:==============>    (3 + 1) / 4]\r"
     ]
    },
    {
     "name": "stdout",
     "output_type": "stream",
     "text": [
      "2022-06-21 07:43:21.057 -- auc: 0.689528944578734, Δauc: 0.7492324280278319, pcoc: 0.9990060877636344, Δpcoc: 0.9908285630634422, #instance: 779973\n"
     ]
    },
    {
     "name": "stderr",
     "output_type": "stream",
     "text": [
      "                                                                                \r"
     ]
    },
    {
     "name": "stdout",
     "output_type": "stream",
     "text": [
      "2022-06-21 07:43:23.344 -- auc: 0.6896542400209763, Δauc: 0.742559770591487, pcoc: 0.9989833416025428, Δpcoc: 0.9886140933743229, #instance: 781745\n",
      "2022-06-21 07:43:23.355 -- auc: 0.6897089537728468, Δauc: 0.732066785763364, pcoc: 0.9990765990098607, Δpcoc: 1.0798043828261525, #instance: 782739\n"
     ]
    },
    {
     "name": "stderr",
     "output_type": "stream",
     "text": [
      "[Stage 2:>                  (0 + 2) / 2][Stage 10:>                 (0 + 2) / 2]\r"
     ]
    },
    {
     "name": "stdout",
     "output_type": "stream",
     "text": [
      "[2022-06-21 07:43:33.710] [info] C[0]:9 has stopped.\n",
      "[2022-06-21 07:43:33.712] [info] PS job with coordinator address 10.0.1.219:37261 stopped.\n"
     ]
    },
    {
     "name": "stderr",
     "output_type": "stream",
     "text": [
      "                                                                                \r"
     ]
    }
   ],
   "source": [
    "from python.algos.deepfm_net import DeepFM\n",
    "\n",
    "module = DeepFM(use_wide=use_wide,\n",
    "            use_dnn=use_dnn,\n",
    "            use_fm=use_fm,\n",
    "            wide_embedding_dim=wide_embedding_dim,\n",
    "            deep_embedding_dim=deep_embedding_dim,\n",
    "            wide_column_name_path=wide_column_name_path,\n",
    "            wide_combine_schema_path=wide_combine_schema_path,\n",
    "            deep_column_name_path=deep_column_name_path,\n",
    "            deep_combine_schema_path=deep_combine_schema_path,\n",
    "            sparse_init_var=sparse_init_var,\n",
    "            dnn_hidden_units=dnn_hidden_units,\n",
    "            dnn_hidden_activations=dnn_hidden_activations,\n",
    "            use_bias=use_bias,\n",
    "            batch_norm=batch_norm,\n",
    "            net_dropout=net_dropout,\n",
    "            net_regularizer=net_regularizer,\n",
    "            ftrl_l1=ftrl_l1,\n",
    "            ftrl_l2=ftrl_l2,\n",
    "            ftrl_alpha=ftrl_alpha,\n",
    "            ftrl_beta=ftrl_beta)\n",
    "\n",
    "estimator = ms.PyTorchEstimator(module=module, **model_params)\n",
    "\n",
    "estimator.updater = ms.AdamTensorUpdater(adam_learning_rate)\n",
    "model = estimator.fit(train_dataset)\n"
   ]
  },
  {
   "cell_type": "code",
   "execution_count": 5,
   "id": "b1299ca1-719f-48fc-b12d-7f70da0b1442",
   "metadata": {
    "tags": []
   },
   "outputs": [
    {
     "name": "stdout",
     "output_type": "stream",
     "text": [
      "[2022-06-21 07:43:33.889] [info] PS job with coordinator address 10.0.1.219:55951 started.\n",
      "[2022-06-21 07:43:33.889] [info] PSRunner::RunPS: pid: 1658, tid: 1968, thread: 0x7f3b17fff700\n",
      "[2022-06-21 07:43:33.889] [info] PSRunner::RunPSCoordinator: pid: 1658, tid: 1968, thread: 0x7f3b17fff700\n",
      "[2022-06-21 07:43:33.891] [info] ActorProcess::Receiving: Coordinator pid: 1658, tid: 1971, thread: 0x7f3b2f7fe700\n",
      "[2022-06-21 07:43:33.946] [info] C[0]:9: The coordinator has connected to 2 servers and 2 workers.\n",
      "PS Coordinator node \u001b[32mC[0]:9\u001b[m is ready.\n"
     ]
    },
    {
     "name": "stderr",
     "output_type": "stream",
     "text": [
      "[Stage 11:>                 (0 + 2) / 2][Stage 16:>                 (0 + 2) / 4]\r"
     ]
    },
    {
     "name": "stdout",
     "output_type": "stream",
     "text": [
      "2022-06-21 07:43:42.601 -- auc: 0.0, Δauc: 0.0, pcoc: nan, Δpcoc: nan, #instance: 5000\n",
      "2022-06-21 07:43:43.120 -- auc: 0.0, Δauc: 0.0, pcoc: nan, Δpcoc: nan, #instance: 10000\n",
      "2022-06-21 07:43:43.642 -- auc: 0.0, Δauc: 0.0, pcoc: nan, Δpcoc: nan, #instance: 15000\n",
      "2022-06-21 07:43:44.175 -- auc: 0.0, Δauc: 0.0, pcoc: nan, Δpcoc: nan, #instance: 20000\n",
      "2022-06-21 07:43:44.660 -- auc: 0.0, Δauc: 0.0, pcoc: nan, Δpcoc: nan, #instance: 25000\n",
      "2022-06-21 07:43:44.700 -- auc: 0.0, Δauc: 0.0, pcoc: nan, Δpcoc: nan, #instance: 30000\n",
      "2022-06-21 07:43:45.166 -- auc: 0.0, Δauc: 0.0, pcoc: nan, Δpcoc: nan, #instance: 35000\n",
      "2022-06-21 07:43:45.234 -- auc: 0.0, Δauc: 0.0, pcoc: nan, Δpcoc: nan, #instance: 40000\n",
      "2022-06-21 07:43:45.700 -- auc: 0.0, Δauc: 0.0, pcoc: nan, Δpcoc: nan, #instance: 45000\n",
      "2022-06-21 07:43:45.751 -- auc: 0.0, Δauc: 0.0, pcoc: nan, Δpcoc: nan, #instance: 50000\n",
      "2022-06-21 07:43:46.210 -- auc: 0.0, Δauc: 0.0, pcoc: nan, Δpcoc: nan, #instance: 55000\n",
      "2022-06-21 07:43:46.267 -- auc: 0.0, Δauc: 0.0, pcoc: nan, Δpcoc: nan, #instance: 60000\n",
      "2022-06-21 07:43:46.710 -- auc: 0.0, Δauc: 0.0, pcoc: nan, Δpcoc: nan, #instance: 65000\n",
      "2022-06-21 07:43:46.785 -- auc: 0.0, Δauc: 0.0, pcoc: nan, Δpcoc: nan, #instance: 70000\n",
      "2022-06-21 07:43:47.236 -- auc: 0.0, Δauc: 0.0, pcoc: nan, Δpcoc: nan, #instance: 75000\n",
      "2022-06-21 07:43:47.298 -- auc: 0.0, Δauc: 0.0, pcoc: nan, Δpcoc: nan, #instance: 80000\n",
      "2022-06-21 07:43:47.735 -- auc: 0.0, Δauc: 0.0, pcoc: nan, Δpcoc: nan, #instance: 85000\n",
      "2022-06-21 07:43:47.810 -- auc: 0.0, Δauc: 0.0, pcoc: nan, Δpcoc: nan, #instance: 90000\n",
      "2022-06-21 07:43:48.248 -- auc: 0.0, Δauc: 0.0, pcoc: nan, Δpcoc: nan, #instance: 95000\n",
      "2022-06-21 07:43:48.321 -- auc: 0.0, Δauc: 0.0, pcoc: nan, Δpcoc: nan, #instance: 100000\n",
      "2022-06-21 07:43:48.743 -- auc: 0.0, Δauc: 0.0, pcoc: nan, Δpcoc: nan, #instance: 105000\n",
      "2022-06-21 07:43:48.839 -- auc: 0.0, Δauc: 0.0, pcoc: nan, Δpcoc: nan, #instance: 110000\n",
      "2022-06-21 07:43:49.248 -- auc: 0.0, Δauc: 0.0, pcoc: nan, Δpcoc: nan, #instance: 115000\n",
      "2022-06-21 07:43:49.349 -- auc: 0.0, Δauc: 0.0, pcoc: nan, Δpcoc: nan, #instance: 120000\n",
      "2022-06-21 07:43:49.742 -- auc: 0.0, Δauc: 0.0, pcoc: nan, Δpcoc: nan, #instance: 125000\n",
      "2022-06-21 07:43:49.864 -- auc: 0.0, Δauc: 0.0, pcoc: nan, Δpcoc: nan, #instance: 130000\n",
      "2022-06-21 07:43:50.256 -- auc: 0.0, Δauc: 0.0, pcoc: nan, Δpcoc: nan, #instance: 135000\n",
      "2022-06-21 07:43:50.375 -- auc: 0.0, Δauc: 0.0, pcoc: nan, Δpcoc: nan, #instance: 140000\n",
      "2022-06-21 07:43:50.741 -- auc: 0.0, Δauc: 0.0, pcoc: nan, Δpcoc: nan, #instance: 145000\n",
      "2022-06-21 07:43:50.886 -- auc: 0.0, Δauc: 0.0, pcoc: nan, Δpcoc: nan, #instance: 150000\n",
      "2022-06-21 07:43:51.257 -- auc: 0.0, Δauc: 0.0, pcoc: nan, Δpcoc: nan, #instance: 155000\n",
      "2022-06-21 07:43:51.397 -- auc: 0.0, Δauc: 0.0, pcoc: nan, Δpcoc: nan, #instance: 160000\n",
      "2022-06-21 07:43:51.757 -- auc: 0.0, Δauc: 0.0, pcoc: nan, Δpcoc: nan, #instance: 165000\n",
      "2022-06-21 07:43:51.906 -- auc: 0.0, Δauc: 0.0, pcoc: nan, Δpcoc: nan, #instance: 170000\n",
      "2022-06-21 07:43:52.266 -- auc: 0.0, Δauc: 0.0, pcoc: nan, Δpcoc: nan, #instance: 175000\n",
      "2022-06-21 07:43:52.425 -- auc: 0.0, Δauc: 0.0, pcoc: nan, Δpcoc: nan, #instance: 180000\n",
      "2022-06-21 07:43:52.759 -- auc: 0.0, Δauc: 0.0, pcoc: nan, Δpcoc: nan, #instance: 185000\n",
      "2022-06-21 07:43:52.945 -- auc: 0.0, Δauc: 0.0, pcoc: nan, Δpcoc: nan, #instance: 190000\n",
      "2022-06-21 07:43:53.264 -- auc: 0.0, Δauc: 0.0, pcoc: nan, Δpcoc: nan, #instance: 195000\n",
      "2022-06-21 07:43:53.462 -- auc: 0.0, Δauc: 0.0, pcoc: nan, Δpcoc: nan, #instance: 200000\n",
      "2022-06-21 07:43:53.752 -- auc: 0.0, Δauc: 0.0, pcoc: nan, Δpcoc: nan, #instance: 205000\n",
      "2022-06-21 07:43:53.987 -- auc: 0.0, Δauc: 0.0, pcoc: nan, Δpcoc: nan, #instance: 210000\n",
      "2022-06-21 07:43:54.254 -- auc: 0.0, Δauc: 0.0, pcoc: nan, Δpcoc: nan, #instance: 215000\n",
      "2022-06-21 07:43:54.502 -- auc: 0.0, Δauc: 0.0, pcoc: nan, Δpcoc: nan, #instance: 220000\n",
      "2022-06-21 07:43:54.755 -- auc: 0.0, Δauc: 0.0, pcoc: nan, Δpcoc: nan, #instance: 225000\n",
      "2022-06-21 07:43:55.022 -- auc: 0.0, Δauc: 0.0, pcoc: nan, Δpcoc: nan, #instance: 230000\n",
      "2022-06-21 07:43:55.242 -- auc: 0.0, Δauc: 0.0, pcoc: nan, Δpcoc: nan, #instance: 235000\n",
      "2022-06-21 07:43:55.538 -- auc: 0.0, Δauc: 0.0, pcoc: nan, Δpcoc: nan, #instance: 240000\n",
      "2022-06-21 07:43:55.731 -- auc: 0.0, Δauc: 0.0, pcoc: nan, Δpcoc: nan, #instance: 245000\n",
      "2022-06-21 07:43:56.055 -- auc: 0.0, Δauc: 0.0, pcoc: nan, Δpcoc: nan, #instance: 250000\n",
      "2022-06-21 07:43:56.220 -- auc: 0.0, Δauc: 0.0, pcoc: nan, Δpcoc: nan, #instance: 255000\n",
      "2022-06-21 07:43:56.561 -- auc: 0.0, Δauc: 0.0, pcoc: nan, Δpcoc: nan, #instance: 260000\n",
      "2022-06-21 07:43:56.713 -- auc: 0.0, Δauc: 0.0, pcoc: nan, Δpcoc: nan, #instance: 265000\n",
      "2022-06-21 07:43:57.067 -- auc: 0.0, Δauc: 0.0, pcoc: nan, Δpcoc: nan, #instance: 270000\n",
      "2022-06-21 07:43:57.205 -- auc: 0.0, Δauc: 0.0, pcoc: nan, Δpcoc: nan, #instance: 275000\n",
      "2022-06-21 07:43:57.571 -- auc: 0.0, Δauc: 0.0, pcoc: nan, Δpcoc: nan, #instance: 280000\n",
      "2022-06-21 07:43:57.706 -- auc: 0.0, Δauc: 0.0, pcoc: nan, Δpcoc: nan, #instance: 285000\n",
      "2022-06-21 07:43:58.075 -- auc: 0.0, Δauc: 0.0, pcoc: nan, Δpcoc: nan, #instance: 290000\n",
      "2022-06-21 07:43:58.198 -- auc: 0.0, Δauc: 0.0, pcoc: nan, Δpcoc: nan, #instance: 295000\n",
      "2022-06-21 07:43:58.583 -- auc: 0.0, Δauc: 0.0, pcoc: nan, Δpcoc: nan, #instance: 300000\n",
      "2022-06-21 07:43:58.690 -- auc: 0.0, Δauc: 0.0, pcoc: nan, Δpcoc: nan, #instance: 305000\n",
      "2022-06-21 07:43:59.095 -- auc: 0.0, Δauc: 0.0, pcoc: nan, Δpcoc: nan, #instance: 310000\n",
      "2022-06-21 07:43:59.176 -- auc: 0.0, Δauc: 0.0, pcoc: nan, Δpcoc: nan, #instance: 315000\n",
      "2022-06-21 07:43:59.605 -- auc: 0.0, Δauc: 0.0, pcoc: nan, Δpcoc: nan, #instance: 320000\n",
      "2022-06-21 07:43:59.666 -- auc: 0.0, Δauc: 0.0, pcoc: nan, Δpcoc: nan, #instance: 325000\n",
      "2022-06-21 07:44:00.115 -- auc: 0.0, Δauc: 0.0, pcoc: nan, Δpcoc: nan, #instance: 330000\n",
      "2022-06-21 07:44:00.163 -- auc: 0.0, Δauc: 0.0, pcoc: nan, Δpcoc: nan, #instance: 335000\n",
      "2022-06-21 07:44:00.625 -- auc: 0.0, Δauc: 0.0, pcoc: nan, Δpcoc: nan, #instance: 340000\n",
      "2022-06-21 07:44:00.657 -- auc: 0.0, Δauc: 0.0, pcoc: nan, Δpcoc: nan, #instance: 345000\n",
      "2022-06-21 07:44:01.146 -- auc: 0.0, Δauc: 0.0, pcoc: nan, Δpcoc: nan, #instance: 350000\n",
      "2022-06-21 07:44:01.155 -- auc: 0.0, Δauc: 0.0, pcoc: nan, Δpcoc: nan, #instance: 355000\n",
      "2022-06-21 07:44:01.647 -- auc: 0.0, Δauc: 0.0, pcoc: nan, Δpcoc: nan, #instance: 360000\n",
      "2022-06-21 07:44:01.667 -- auc: 0.0, Δauc: 0.0, pcoc: nan, Δpcoc: nan, #instance: 365000\n",
      "2022-06-21 07:44:02.142 -- auc: 0.0, Δauc: 0.0, pcoc: nan, Δpcoc: nan, #instance: 370000\n",
      "2022-06-21 07:44:02.184 -- auc: 0.0, Δauc: 0.0, pcoc: nan, Δpcoc: nan, #instance: 375000\n",
      "2022-06-21 07:44:02.635 -- auc: 0.0, Δauc: 0.0, pcoc: nan, Δpcoc: nan, #instance: 380000\n",
      "2022-06-21 07:44:02.711 -- auc: 0.0, Δauc: 0.0, pcoc: nan, Δpcoc: nan, #instance: 385000\n",
      "2022-06-21 07:44:03.128 -- auc: 0.0, Δauc: 0.0, pcoc: nan, Δpcoc: nan, #instance: 390000\n",
      "2022-06-21 07:44:03.228 -- auc: 0.0, Δauc: 0.0, pcoc: nan, Δpcoc: nan, #instance: 395000\n",
      "2022-06-21 07:44:03.623 -- auc: 0.0, Δauc: 0.0, pcoc: nan, Δpcoc: nan, #instance: 400000\n",
      "2022-06-21 07:44:03.751 -- auc: 0.0, Δauc: 0.0, pcoc: nan, Δpcoc: nan, #instance: 405000\n",
      "2022-06-21 07:44:04.117 -- auc: 0.0, Δauc: 0.0, pcoc: nan, Δpcoc: nan, #instance: 410000\n",
      "2022-06-21 07:44:04.268 -- auc: 0.0, Δauc: 0.0, pcoc: nan, Δpcoc: nan, #instance: 415000\n",
      "2022-06-21 07:44:04.607 -- auc: 0.0, Δauc: 0.0, pcoc: nan, Δpcoc: nan, #instance: 420000\n",
      "2022-06-21 07:44:04.786 -- auc: 0.0, Δauc: 0.0, pcoc: nan, Δpcoc: nan, #instance: 425000\n",
      "2022-06-21 07:44:05.106 -- auc: 0.0, Δauc: 0.0, pcoc: nan, Δpcoc: nan, #instance: 430000\n",
      "2022-06-21 07:44:05.308 -- auc: 0.0, Δauc: 0.0, pcoc: nan, Δpcoc: nan, #instance: 435000\n",
      "2022-06-21 07:44:05.600 -- auc: 0.0, Δauc: 0.0, pcoc: nan, Δpcoc: nan, #instance: 440000\n",
      "2022-06-21 07:44:05.827 -- auc: 0.0, Δauc: 0.0, pcoc: nan, Δpcoc: nan, #instance: 445000\n",
      "2022-06-21 07:44:06.093 -- auc: 0.0, Δauc: 0.0, pcoc: nan, Δpcoc: nan, #instance: 450000\n",
      "2022-06-21 07:44:06.338 -- auc: 0.0, Δauc: 0.0, pcoc: nan, Δpcoc: nan, #instance: 455000\n",
      "2022-06-21 07:44:06.585 -- auc: 0.0, Δauc: 0.0, pcoc: nan, Δpcoc: nan, #instance: 460000\n",
      "2022-06-21 07:44:06.856 -- auc: 0.0, Δauc: 0.0, pcoc: nan, Δpcoc: nan, #instance: 465000\n",
      "2022-06-21 07:44:07.074 -- auc: 0.0, Δauc: 0.0, pcoc: nan, Δpcoc: nan, #instance: 470000\n",
      "2022-06-21 07:44:07.367 -- auc: 0.0, Δauc: 0.0, pcoc: nan, Δpcoc: nan, #instance: 475000\n",
      "2022-06-21 07:44:07.562 -- auc: 0.0, Δauc: 0.0, pcoc: nan, Δpcoc: nan, #instance: 480000\n",
      "2022-06-21 07:44:07.880 -- auc: 0.0, Δauc: 0.0, pcoc: nan, Δpcoc: nan, #instance: 485000\n",
      "2022-06-21 07:44:08.059 -- auc: 0.0, Δauc: 0.0, pcoc: nan, Δpcoc: nan, #instance: 490000\n",
      "2022-06-21 07:44:08.391 -- auc: 0.0, Δauc: 0.0, pcoc: nan, Δpcoc: nan, #instance: 495000\n",
      "2022-06-21 07:44:08.554 -- auc: 0.0, Δauc: 0.0, pcoc: nan, Δpcoc: nan, #instance: 500000\n",
      "2022-06-21 07:44:08.913 -- auc: 0.0, Δauc: 0.0, pcoc: nan, Δpcoc: nan, #instance: 505000\n",
      "2022-06-21 07:44:09.052 -- auc: 0.0, Δauc: 0.0, pcoc: nan, Δpcoc: nan, #instance: 510000\n",
      "2022-06-21 07:44:09.422 -- auc: 0.0, Δauc: 0.0, pcoc: nan, Δpcoc: nan, #instance: 515000\n",
      "2022-06-21 07:44:09.546 -- auc: 0.0, Δauc: 0.0, pcoc: nan, Δpcoc: nan, #instance: 520000\n",
      "2022-06-21 07:44:09.933 -- auc: 0.0, Δauc: 0.0, pcoc: nan, Δpcoc: nan, #instance: 525000\n",
      "2022-06-21 07:44:10.040 -- auc: 0.0, Δauc: 0.0, pcoc: nan, Δpcoc: nan, #instance: 530000\n",
      "2022-06-21 07:44:10.442 -- auc: 0.0, Δauc: 0.0, pcoc: nan, Δpcoc: nan, #instance: 535000\n",
      "2022-06-21 07:44:10.530 -- auc: 0.0, Δauc: 0.0, pcoc: nan, Δpcoc: nan, #instance: 540000\n",
      "2022-06-21 07:44:10.956 -- auc: 0.0, Δauc: 0.0, pcoc: nan, Δpcoc: nan, #instance: 545000\n",
      "2022-06-21 07:44:11.018 -- auc: 0.0, Δauc: 0.0, pcoc: nan, Δpcoc: nan, #instance: 550000\n",
      "2022-06-21 07:44:11.465 -- auc: 0.0, Δauc: 0.0, pcoc: nan, Δpcoc: nan, #instance: 555000\n",
      "2022-06-21 07:44:11.505 -- auc: 0.0, Δauc: 0.0, pcoc: nan, Δpcoc: nan, #instance: 560000\n",
      "2022-06-21 07:44:11.984 -- auc: 0.0, Δauc: 0.0, pcoc: nan, Δpcoc: nan, #instance: 565000\n",
      "2022-06-21 07:44:12.000 -- auc: 0.0, Δauc: 0.0, pcoc: nan, Δpcoc: nan, #instance: 570000\n"
     ]
    },
    {
     "name": "stderr",
     "output_type": "stream",
     "text": [
      "[Stage 11:>                 (0 + 2) / 2][Stage 16:====>             (1 + 2) / 4]\r"
     ]
    },
    {
     "name": "stdout",
     "output_type": "stream",
     "text": [
      "2022-06-21 07:44:12.495 -- auc: 0.0, Δauc: 0.0, pcoc: nan, Δpcoc: nan, #instance: 575000\n",
      "2022-06-21 07:44:12.992 -- auc: 0.0, Δauc: 0.0, pcoc: nan, Δpcoc: nan, #instance: 580000\n",
      "2022-06-21 07:44:13.286 -- auc: 0.7897888812218206, Δauc: 0.7866160309132161, pcoc: 36.6443653345108, Δpcoc: 0.4815572526305914, #instance: 584963\n"
     ]
    },
    {
     "name": "stderr",
     "output_type": "stream",
     "text": [
      "[Stage 11:>                 (0 + 2) / 2][Stage 16:=========>        (2 + 2) / 4]\r"
     ]
    },
    {
     "name": "stdout",
     "output_type": "stream",
     "text": [
      "2022-06-21 07:44:13.814 -- auc: 0.8083030375960238, Δauc: 1.0, pcoc: 14.544621480150921, Δpcoc: 0.4007854133605957, #instance: 589963\n",
      "2022-06-21 07:44:14.337 -- auc: 0.7989510443282146, Δauc: 1.0, pcoc: 9.175348828778123, Δpcoc: 0.3697416805267334, #instance: 594963\n",
      "2022-06-21 07:44:14.345 -- auc: 0.798331591847015, Δauc: 0.7949611801242236, pcoc: 8.269908396070068, Δpcoc: 0.8000248262286186, #instance: 599944\n",
      "2022-06-21 07:44:14.830 -- auc: 0.7972782119366422, Δauc: 1.0, pcoc: 6.277054507395234, Δpcoc: 0.37820699691772464, #instance: 604944\n",
      "2022-06-21 07:44:14.849 -- auc: 0.7938277537445428, Δauc: 1.0, pcoc: 5.0844831059248214, Δpcoc: 0.36190035610198973, #instance: 609944\n",
      "2022-06-21 07:44:15.331 -- auc: 0.7919632248843789, Δauc: 1.0, pcoc: 4.292259539997818, Δpcoc: 0.36283065299987793, #instance: 614944\n",
      "2022-06-21 07:44:15.365 -- auc: 0.7919632431867444, Δauc: 1.0, pcoc: 3.728755970371181, Δpcoc: 0.3702746953964233, #instance: 619944\n",
      "2022-06-21 07:44:15.815 -- auc: 0.7911386829437921, Δauc: 1.0, pcoc: 3.306522690722691, Δpcoc: 0.36777906436920166, #instance: 624944\n",
      "2022-06-21 07:44:15.875 -- auc: 0.7910622940105647, Δauc: 1.0, pcoc: 2.978904180941837, Δpcoc: 0.37106084308624265, #instance: 629944\n"
     ]
    },
    {
     "name": "stderr",
     "output_type": "stream",
     "text": [
      "[Stage 11:>                 (0 + 2) / 2][Stage 16:=============>    (3 + 1) / 4]\r"
     ]
    },
    {
     "name": "stdout",
     "output_type": "stream",
     "text": [
      "2022-06-21 07:44:16.385 -- auc: 0.7924866185755285, Δauc: 1.0, pcoc: 2.719532797240828, Δpcoc: 0.3955651992797852, #instance: 634944\n",
      "2022-06-21 07:44:16.906 -- auc: 0.7949024164187272, Δauc: 1.0, pcoc: 2.508809381444959, Δpcoc: 0.41000416011810303, #instance: 639944\n",
      "2022-06-21 07:44:17.424 -- auc: 0.7946917322715337, Δauc: 1.0, pcoc: 2.330441983431877, Δpcoc: 0.3755353012084961, #instance: 644944\n",
      "2022-06-21 07:44:17.944 -- auc: 0.793909774430538, Δauc: 1.0, pcoc: 2.1788930944233766, Δpcoc: 0.3663683818817139, #instance: 649944\n",
      "2022-06-21 07:44:18.461 -- auc: 0.795488495874177, Δauc: 1.0, pcoc: 2.0515188887536016, Δpcoc: 0.40074918327331543, #instance: 654944\n",
      "2022-06-21 07:44:18.984 -- auc: 0.7951206830088025, Δauc: 1.0, pcoc: 1.9391479756679126, Δpcoc: 0.3704500289916992, #instance: 659944\n",
      "2022-06-21 07:44:19.494 -- auc: 0.7939914858093582, Δauc: 1.0, pcoc: 1.8400431846496754, Δpcoc: 0.35743551101684573, #instance: 664944\n",
      "2022-06-21 07:44:20.009 -- auc: 0.7927941748764664, Δauc: 1.0, pcoc: 1.7525052800099805, Δpcoc: 0.35540032196044924, #instance: 669944\n",
      "2022-06-21 07:44:20.523 -- auc: 0.7918121154830728, Δauc: 1.0, pcoc: 1.6744622633080175, Δpcoc: 0.3508527000427246, #instance: 674944\n",
      "2022-06-21 07:44:21.041 -- auc: 0.7913430091026388, Δauc: 1.0, pcoc: 1.6052473593814462, Δpcoc: 0.36214768486022947, #instance: 679944\n",
      "2022-06-21 07:44:21.555 -- auc: 0.7898654122036918, Δauc: 1.0, pcoc: 1.542146539377545, Δpcoc: 0.3457549921035767, #instance: 684944\n",
      "2022-06-21 07:44:22.075 -- auc: 0.7900319656830999, Δauc: 1.0, pcoc: 1.4862532901991414, Δpcoc: 0.3706240365982056, #instance: 689944\n",
      "2022-06-21 07:44:22.595 -- auc: 0.7900935101893372, Δauc: 1.0, pcoc: 1.4354642279986258, Δpcoc: 0.3709254842758179, #instance: 694944\n",
      "2022-06-21 07:44:23.113 -- auc: 0.7903769863302001, Δauc: 1.0, pcoc: 1.3894477070873208, Δpcoc: 0.37892490787506106, #instance: 699944\n",
      "2022-06-21 07:44:23.638 -- auc: 0.7899859223471656, Δauc: 1.0, pcoc: 1.3466572119636409, Δpcoc: 0.3641874439239502, #instance: 704944\n",
      "2022-06-21 07:44:24.149 -- auc: 0.790071525080929, Δauc: 1.0, pcoc: 1.3078659410469042, Δpcoc: 0.378427089881897, #instance: 709944\n",
      "2022-06-21 07:44:24.666 -- auc: 0.7898418842120529, Δauc: 1.0, pcoc: 1.2715705188690973, Δpcoc: 0.36563678131103516, #instance: 714944\n",
      "2022-06-21 07:44:25.178 -- auc: 0.7897132297364242, Δauc: 1.0, pcoc: 1.237980762026784, Δpcoc: 0.36599067440032956, #instance: 719944\n",
      "2022-06-21 07:44:25.690 -- auc: 0.7897158420019013, Δauc: 1.0, pcoc: 1.2069130048117414, Δpcoc: 0.36932627029418946, #instance: 724944\n",
      "2022-06-21 07:44:26.203 -- auc: 0.7898037468729424, Δauc: 1.0, pcoc: 1.177907417120196, Δpcoc: 0.3669111852645874, #instance: 729944\n",
      "2022-06-21 07:44:26.731 -- auc: 0.7893417695311251, Δauc: 1.0, pcoc: 1.1506503176561822, Δpcoc: 0.3612847171783447, #instance: 734944\n",
      "2022-06-21 07:44:27.242 -- auc: 0.7890924371525977, Δauc: 1.0, pcoc: 1.125454895296146, Δpcoc: 0.37060004138946534, #instance: 739944\n",
      "2022-06-21 07:44:27.760 -- auc: 0.7890118616566546, Δauc: 1.0, pcoc: 1.1017270283317089, Δpcoc: 0.3671122671127319, #instance: 744944\n",
      "2022-06-21 07:44:28.276 -- auc: 0.7887522162051572, Δauc: 1.0, pcoc: 1.0791915486304506, Δpcoc: 0.35895761737823484, #instance: 749944\n",
      "2022-06-21 07:44:28.789 -- auc: 0.7885306529531828, Δauc: 1.0, pcoc: 1.0582498493042936, Δpcoc: 0.36801143951416015, #instance: 754944\n",
      "2022-06-21 07:44:29.301 -- auc: 0.7881781942345565, Δauc: 1.0, pcoc: 1.038177138310548, Δpcoc: 0.35650787296295167, #instance: 759944\n",
      "2022-06-21 07:44:29.816 -- auc: 0.7876617290355019, Δauc: 1.0, pcoc: 1.0190048137549166, Δpcoc: 0.34874034729003905, #instance: 764944\n",
      "2022-06-21 07:44:30.325 -- auc: 0.7871986903347741, Δauc: 1.0, pcoc: 1.0009285005578747, Δpcoc: 0.35090427799224855, #instance: 769944\n",
      "2022-06-21 07:44:30.839 -- auc: 0.7870697661488695, Δauc: 1.0, pcoc: 0.9841037178768122, Δpcoc: 0.3622597499847412, #instance: 774944\n"
     ]
    },
    {
     "name": "stderr",
     "output_type": "stream",
     "text": [
      "                                                                                \r"
     ]
    },
    {
     "name": "stdout",
     "output_type": "stream",
     "text": [
      "2022-06-21 07:44:31.422 -- auc: 0.7869627225760845, Δauc: 1.0, pcoc: 0.9737547807492275, Δpcoc: 0.3606997661376267, #instance: 778148\n",
      "2022-06-21 07:44:31.431 -- auc: 0.7872370798946611, Δauc: 1.0, pcoc: 0.9600677069443893, Δpcoc: 0.38466801349437985, #instance: 782739\n",
      "[2022-06-21 07:44:31.444] [info] C[0]:9 has stopped.\n",
      "[2022-06-21 07:44:31.446] [info] PS job with coordinator address 10.0.1.219:55951 stopped.\n",
      "[2022-06-21 07:44:31.548] [info] PS job with coordinator address 10.0.1.219:33515 started.\n",
      "[2022-06-21 07:44:31.548] [info] PSRunner::RunPS: pid: 1658, tid: 2083, thread: 0x7f3b1e7ed700\n",
      "[2022-06-21 07:44:31.548] [info] PSRunner::RunPSCoordinator: pid: 1658, tid: 2083, thread: 0x7f3b1e7ed700\n",
      "[2022-06-21 07:44:31.549] [info] ActorProcess::Receiving: Coordinator pid: 1658, tid: 2086, thread: 0x7f3b2effd700\n",
      "[2022-06-21 07:44:31.632] [info] C[0]:9: The coordinator has connected to 2 servers and 2 workers.\n",
      "PS Coordinator node \u001b[32mC[0]:9\u001b[m is ready.\n"
     ]
    },
    {
     "name": "stderr",
     "output_type": "stream",
     "text": [
      "[Stage 19:>                 (0 + 2) / 2][Stage 23:>                 (0 + 2) / 4]\r"
     ]
    },
    {
     "name": "stdout",
     "output_type": "stream",
     "text": [
      "2022-06-21 07:44:40.790 -- auc: 0.0, Δauc: 0.0, pcoc: nan, Δpcoc: nan, #instance: 5000\n",
      "2022-06-21 07:44:41.042 -- auc: 0.0, Δauc: 0.0, pcoc: nan, Δpcoc: nan, #instance: 10000\n",
      "2022-06-21 07:44:41.300 -- auc: 0.0, Δauc: 0.0, pcoc: nan, Δpcoc: nan, #instance: 15000\n",
      "2022-06-21 07:44:41.554 -- auc: 0.0, Δauc: 0.0, pcoc: nan, Δpcoc: nan, #instance: 20000\n",
      "2022-06-21 07:44:41.795 -- auc: 0.0, Δauc: 0.0, pcoc: nan, Δpcoc: nan, #instance: 25000\n",
      "2022-06-21 07:44:42.063 -- auc: 0.0, Δauc: 0.0, pcoc: nan, Δpcoc: nan, #instance: 30000\n",
      "2022-06-21 07:44:42.291 -- auc: 0.0, Δauc: 0.0, pcoc: nan, Δpcoc: nan, #instance: 35000\n",
      "2022-06-21 07:44:42.575 -- auc: 0.0, Δauc: 0.0, pcoc: nan, Δpcoc: nan, #instance: 40000\n",
      "2022-06-21 07:44:42.787 -- auc: 0.0, Δauc: 0.0, pcoc: nan, Δpcoc: nan, #instance: 45000\n",
      "2022-06-21 07:44:43.082 -- auc: 0.0, Δauc: 0.0, pcoc: nan, Δpcoc: nan, #instance: 50000\n",
      "2022-06-21 07:44:43.288 -- auc: 0.0, Δauc: 0.0, pcoc: nan, Δpcoc: nan, #instance: 55000\n"
     ]
    },
    {
     "name": "stderr",
     "output_type": "stream",
     "text": [
      "[Stage 19:>                 (0 + 2) / 2][Stage 23:====>             (1 + 2) / 4]\r"
     ]
    },
    {
     "name": "stdout",
     "output_type": "stream",
     "text": [
      "2022-06-21 07:44:43.593 -- auc: 0.0, Δauc: 0.0, pcoc: nan, Δpcoc: nan, #instance: 60000\n"
     ]
    },
    {
     "name": "stderr",
     "output_type": "stream",
     "text": [
      "[Stage 19:>                 (0 + 2) / 2][Stage 23:=========>        (2 + 2) / 4]\r"
     ]
    },
    {
     "name": "stdout",
     "output_type": "stream",
     "text": [
      "2022-06-21 07:44:44.363 -- auc: 0.7464837129833521, Δauc: 0.7433597092928304, pcoc: 5.263976347079644, Δpcoc: 0.5343721123842092, #instance: 64955\n",
      "2022-06-21 07:44:44.864 -- auc: 0.752603569755517, Δauc: 1.0, pcoc: 2.035690521629233, Δpcoc: 0.35698189239501954, #instance: 69955\n"
     ]
    },
    {
     "name": "stderr",
     "output_type": "stream",
     "text": [
      "[Stage 19:>                 (0 + 2) / 2][Stage 23:=============>    (3 + 1) / 4]\r"
     ]
    },
    {
     "name": "stdout",
     "output_type": "stream",
     "text": [
      "2022-06-21 07:44:45.381 -- auc: 0.7480089591980379, Δauc: 1.0, pcoc: 1.3640060982250033, Δpcoc: 0.34304577465057373, #instance: 74955\n",
      "2022-06-21 07:44:45.879 -- auc: 0.7473633370328252, Δauc: 1.0, pcoc: 1.0745590698448095, Δpcoc: 0.3451525583267212, #instance: 79955\n"
     ]
    },
    {
     "name": "stderr",
     "output_type": "stream",
     "text": [
      "                                                                                \r"
     ]
    },
    {
     "name": "stdout",
     "output_type": "stream",
     "text": [
      "2022-06-21 07:44:46.164 -- auc: 0.74694123336181, Δauc: 1.0, pcoc: 0.9955391984404798, Δpcoc: 0.3416841271117533, #instance: 82082\n",
      "2022-06-21 07:44:46.174 -- auc: 0.7457749595692871, Δauc: 0.7271896049614788, pcoc: 0.9573654869155315, Δpcoc: 0.6048126745313295, #instance: 86848\n",
      "[2022-06-21 07:44:46.185] [info] C[0]:9 has stopped.\n",
      "[2022-06-21 07:44:46.185] [info] PS job with coordinator address 10.0.1.219:33515 stopped.\n"
     ]
    },
    {
     "name": "stderr",
     "output_type": "stream",
     "text": [
      "                                                                                \r"
     ]
    },
    {
     "name": "stdout",
     "output_type": "stream",
     "text": [
      "Debug -- Train AUC:  0.7872362221175573\n",
      "Debug -- Test AUC:  0.7457743722105097\n"
     ]
    }
   ],
   "source": [
    "from pyspark.ml.evaluation import BinaryClassificationEvaluator\n",
    "\n",
    "train_result = model.transform(train_dataset)\n",
    "test_result = model.transform(test_dataset)\n",
    "\n",
    "train_evaluator = BinaryClassificationEvaluator()\n",
    "train_auc = train_evaluator.evaluate(train_result)\n",
    "\n",
    "test_evaluator = BinaryClassificationEvaluator()\n",
    "test_auc = test_evaluator.evaluate(test_result)\n",
    "\n",
    "print('Debug -- Train AUC: ', train_auc)\n",
    "print('Debug -- Test AUC: ', test_auc)"
   ]
  },
  {
   "cell_type": "code",
   "execution_count": null,
   "id": "2df5903f-5115-444b-8aa6-0e65c0d2387e",
   "metadata": {},
   "outputs": [],
   "source": []
  },
  {
   "cell_type": "code",
   "execution_count": null,
   "id": "1ff34981-fe13-44de-a451-d642bc0ba630",
   "metadata": {},
   "outputs": [],
   "source": []
  }
 ],
 "metadata": {
  "kernelspec": {
   "display_name": "Python 3 (ipykernel)",
   "language": "python",
   "name": "python3"
  },
  "language_info": {
   "codemirror_mode": {
    "name": "ipython",
    "version": 3
   },
   "file_extension": ".py",
   "mimetype": "text/x-python",
   "name": "python",
   "nbconvert_exporter": "python",
   "pygments_lexer": "ipython3",
   "version": "3.8.10"
  }
 },
 "nbformat": 4,
 "nbformat_minor": 5
}
