{
 "cells": [
  {
   "cell_type": "code",
   "execution_count": 1,
   "id": "1398d20d-598d-4d6a-adf7-bc3ec56ab5f6",
   "metadata": {},
   "outputs": [],
   "source": [
    "import yaml\n",
    "import json\n",
    "import jsonschema\n",
    "import os"
   ]
  },
  {
   "cell_type": "code",
   "execution_count": 2,
   "id": "87ece658-c84c-4a1d-89c1-82d59708bcb3",
   "metadata": {},
   "outputs": [],
   "source": [
    "def validate(schema_path, instance_path):\n",
    "    schema = {}\n",
    "    with open(schema_path, 'r') as file:\n",
    "        schema = json.loads(file.read())\n",
    "    instance = {}\n",
    "    with open(instance_path, 'r') as file:\n",
    "        instance = yaml.safe_load(file)\n",
    "    \n",
    "    try:\n",
    "        resolver = jsonschema.RefResolver('file://' + os.getcwd() + '/', schema)\n",
    "        validator = jsonschema.Draft4Validator(schema, resolver=resolver)\n",
    "        error = jsonschema.exceptions.best_match(validator.iter_errors(instance))\n",
    "        if error is not None:\n",
    "            raise error\n",
    "        #jsonschema.validate(instance=instance, schema=schema)\n",
    "    except jsonschema.ValidationError as validationError:\n",
    "        print(validationError)"
   ]
  },
  {
   "cell_type": "code",
   "execution_count": 3,
   "id": "0dfcfbe2-ed73-4ac4-9634-6f155069b946",
   "metadata": {},
   "outputs": [],
   "source": [
    "# validate i2i\n",
    "validate('training_job.schema.json','../../test/conf/i2i_test.yaml')"
   ]
  },
  {
   "cell_type": "code",
   "execution_count": 4,
   "id": "7cb8dcee-633f-4f9a-bd3a-bd6f31448650",
   "metadata": {},
   "outputs": [
    {
     "name": "stdout",
     "output_type": "stream",
     "text": [
      "None is not of type 'string'\n",
      "\n",
      "Failed validating 'type' in schema[6]['properties']['model_in_path']:\n",
      "    {'type': 'string'}\n",
      "\n",
      "On instance['model_in_path']:\n",
      "    None\n"
     ]
    }
   ],
   "source": [
    "# validate two towers\n",
    "validate('training_job.schema.json','../../test/conf/two_towers_test.yaml')"
   ]
  },
  {
   "cell_type": "code",
   "execution_count": 5,
   "id": "a9f57110-74e5-4ed8-9584-24b59ee10638",
   "metadata": {},
   "outputs": [
    {
     "name": "stdout",
     "output_type": "stream",
     "text": [
      "None is not of type 'string'\n",
      "\n",
      "Failed validating 'type' in schema[6]['properties']['model_in_path']:\n",
      "    {'type': 'string'}\n",
      "\n",
      "On instance['model_in_path']:\n",
      "    None\n"
     ]
    }
   ],
   "source": [
    "# validate deep ctr\n",
    "validate('training_job.schema.json','../../test/conf/deepfm_test.yaml')"
   ]
  },
  {
   "cell_type": "code",
   "execution_count": null,
   "id": "d3a9d72f-182f-429d-936b-7f17faffa0d2",
   "metadata": {},
   "outputs": [],
   "source": []
  }
 ],
 "metadata": {
  "kernelspec": {
   "display_name": "Python 3 (ipykernel)",
   "language": "python",
   "name": "python3"
  },
  "language_info": {
   "codemirror_mode": {
    "name": "ipython",
    "version": 3
   },
   "file_extension": ".py",
   "mimetype": "text/x-python",
   "name": "python",
   "nbconvert_exporter": "python",
   "pygments_lexer": "ipython3",
   "version": "3.8.10"
  }
 },
 "nbformat": 4,
 "nbformat_minor": 5
}
