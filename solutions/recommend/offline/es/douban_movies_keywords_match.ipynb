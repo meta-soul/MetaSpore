{
 "cells": [
  {
   "cell_type": "code",
   "execution_count": 1,
   "id": "9ff3e3fe-07f5-4d53-8bb1-32becbaef3ee",
   "metadata": {},
   "outputs": [],
   "source": [
    "import sys\n",
    "import yaml\n",
    "import time\n",
    "import argparse\n",
    "import subprocess\n",
    "import pandas as pd\n",
    "\n",
    "from pyspark.sql import SparkSession\n",
    "from pyspark.sql import functions as F\n",
    "from pyspark.sql.types import StructType, StructField, IntegerType, FloatType, LongType, StringType, ArrayType\n",
    "\n",
    "import warnings\n",
    "\n",
    "warnings.filterwarnings('ignore')\n",
    "pd.set_option('display.max_rows', None)\n",
    "pd.set_option('display.max_columns', None)\n",
    "\n",
    "%reload_ext autoreload\n",
    "%autoreload 2"
   ]
  },
  {
   "cell_type": "code",
   "execution_count": 2,
   "id": "4c94dcd8-26eb-41f8-b028-0e5010f6760c",
   "metadata": {},
   "outputs": [],
   "source": [
    "def load_config(path):\n",
    "    params = dict()\n",
    "    with open(path, 'r') as stream:\n",
    "        params = yaml.load(stream, Loader=yaml.FullLoader)\n",
    "    return params"
   ]
  },
  {
   "cell_type": "code",
   "execution_count": 3,
   "id": "81176885-5ad3-4e28-b43b-6334bac64b0c",
   "metadata": {},
   "outputs": [
    {
     "data": {
      "text/plain": [
       "{'movies_path': 's3://dmetasoul-bucket/demo/movielens/ml-1m/movies.dat',\n",
       " 'ratings_path': 's3://dmetasoul-bucket/demo/movielens/ml-1m/ratings.dat',\n",
       " 'users_path': 's3://dmetasoul-bucket/demo/movielens/ml-1m/users.dat',\n",
       " 'imdb_path': 's3://dmetasoul-bucket/demo/movielens/ml-25m/movie_ml_imdb.csv',\n",
       " 'douban_movies_path': 's3://dmetasoul-bucket/demo/datasets/moviedata-10m/movies.csv',\n",
       " 'es_host': 'elastic-demo-es-http.default.svc.cluster.local',\n",
       " 'es_port': 9200,\n",
       " 'create_movies_index': 'movies',\n",
       " 'create_movies_mapping_id': 'movie_id',\n",
       " 'create_movies': {'mappings': {'properties': {'movie_id': {'type': 'integer'},\n",
       "    'title': {'type': 'text'},\n",
       "    'genres': {'type': 'keyword'}}}},\n",
       " 'create_users_index': 'users',\n",
       " 'create_users': {'mappings': {'properties': {'user_id': {'type': 'integer'}}}},\n",
       " 'create_ratings_index': 'ratings',\n",
       " 'create_ratings': {'mappings': {'properties': {'timestamp': {'type': 'date'},\n",
       "    'user_id': {'type': 'integer'},\n",
       "    'movie_id': {'type': 'integer'},\n",
       "    'rating': {'type': 'double'}}}},\n",
       " 'create_douban_movies_index': 'douban_movies',\n",
       " 'create_douban_movies_mapping_id': 'MOVIE_ID',\n",
       " 'create_douban_movies': {'mappings': {'properties': {'MOVIE_ID': {'type': 'long'},\n",
       "    'NAME': {'type': 'text', 'analyzer': 'smartcn'},\n",
       "    'STORYLINE': {'type': 'text', 'analyzer': 'smartcn'}}}}}"
      ]
     },
     "execution_count": 3,
     "metadata": {},
     "output_type": "execute_result"
    }
   ],
   "source": [
    "params = load_config(\"es_dev.yaml\")\n",
    "params"
   ]
  },
  {
   "cell_type": "code",
   "execution_count": 4,
   "id": "676de3a6-a3bb-4460-9629-3b6a8c721fad",
   "metadata": {},
   "outputs": [],
   "source": [
    "USER = \"${USER\"\n",
    "PASS = \"${PASSWORD}\""
   ]
  },
  {
   "cell_type": "code",
   "execution_count": 5,
   "id": "baf8f3a7-6de5-4ea4-8e1e-008f8d0ded77",
   "metadata": {},
   "outputs": [],
   "source": [
    "def init_spark():\n",
    "    spark = (SparkSession.builder\n",
    "        .appName('Elastic Search')\n",
    "        .master('local')\n",
    "        .config(\"spark.executor.memory\",\"4G\")\n",
    "        .config(\"spark.executor.instances\",\"2\")\n",
    "        .config(\"spark.network.timeout\",\"500\")\n",
    "        .config(\"spark.executor.memoryOverhead\", \"2G\")\n",
    "        .config(\"spark.jars.packages\", \"org.elasticsearch:elasticsearch-spark-30_2.12:8.2.3\")\n",
    "        .config(\"spark.jars.repositories\", \"https://maven.aliyun.com/repository/central\")\n",
    "        .config(\"spark.es.net.http.auth.user\", USER)\n",
    "        .config(\"spark.es.net.http.auth.pass\", PASS)\n",
    "        .config(\"spark.es.port\", params['es_port'])\n",
    "        .config(\"spark.es.nodes\", params['es_host'])\n",
    "        .config(\"spark.es.nodes.wan.only\",\"true\")\\\n",
    "        .config(\"spark.es.index.auto.create\",\"true\") \\\n",
    "        .config(\"spark.es.net.ssl\", \"false\") \\\n",
    "        .getOrCreate())\n",
    "    \n",
    "    sc = spark.sparkContext\n",
    "    print('Debug -- spark init')\n",
    "    print('Debug -- version:', sc.version)   \n",
    "    print('Debug -- applicaitonId:', sc.applicationId)\n",
    "    print('Debug -- uiWebUrl:', sc.uiWebUrl)\n",
    "    return spark\n",
    "\n",
    "def stop_spark(spark):\n",
    "    print('Debug -- spark stop')\n",
    "    spark.sparkContext.stop()\n",
    "\n",
    "def read_dataset(douban_movies_path, **kwargs):\n",
    "    movies = spark.read.csv(douban_movies_path, sep=',',inferSchema=True, header=True)\n",
    "    return movies"
   ]
  },
  {
   "cell_type": "code",
   "execution_count": 6,
   "id": "4f4e509c-c37f-4f68-8c90-fe82e27b4e41",
   "metadata": {},
   "outputs": [
    {
     "name": "stderr",
     "output_type": "stream",
     "text": [
      "WARNING: An illegal reflective access operation has occurred\n",
      "WARNING: Illegal reflective access by org.apache.spark.unsafe.Platform (file:/opt/spark/jars/spark-unsafe_2.12-3.1.2.jar) to constructor java.nio.DirectByteBuffer(long,int)\n",
      "WARNING: Please consider reporting this to the maintainers of org.apache.spark.unsafe.Platform\n",
      "WARNING: Use --illegal-access=warn to enable warnings of further illegal reflective access operations\n",
      "WARNING: All illegal access operations will be denied in a future release\n",
      "https://maven.aliyun.com/repository/central added as a remote repository with the name: repo-1\n",
      "Ivy Default Cache set to: /home/spark/.ivy2/cache\n",
      "The jars for the packages stored in: /home/spark/.ivy2/jars\n",
      "org.elasticsearch#elasticsearch-spark-30_2.12 added as a dependency\n",
      ":: resolving dependencies :: org.apache.spark#spark-submit-parent-357ab1c5-5693-4e7c-9ec5-30b6bca0306a;1.0\n",
      "\tconfs: [default]\n"
     ]
    },
    {
     "name": "stdout",
     "output_type": "stream",
     "text": [
      ":: loading settings :: url = jar:file:/opt/spark/jars/ivy-2.4.0.jar!/org/apache/ivy/core/settings/ivysettings.xml\n"
     ]
    },
    {
     "name": "stderr",
     "output_type": "stream",
     "text": [
      "\tfound org.elasticsearch#elasticsearch-spark-30_2.12;8.2.3 in central\n",
      "\tfound org.scala-lang#scala-reflect;2.12.8 in central\n",
      "\tfound org.slf4j#slf4j-api;1.7.6 in central\n",
      "\tfound commons-logging#commons-logging;1.1.1 in central\n",
      "\tfound javax.xml.bind#jaxb-api;2.3.1 in central\n",
      "\tfound com.google.protobuf#protobuf-java;2.5.0 in central\n",
      "\tfound org.apache.spark#spark-yarn_2.12;3.2.1 in central\n",
      ":: resolution report :: resolve 230ms :: artifacts dl 2ms\n",
      "\t:: modules in use:\n",
      "\tcom.google.protobuf#protobuf-java;2.5.0 from central in [default]\n",
      "\tcommons-logging#commons-logging;1.1.1 from central in [default]\n",
      "\tjavax.xml.bind#jaxb-api;2.3.1 from central in [default]\n",
      "\torg.apache.spark#spark-yarn_2.12;3.2.1 from central in [default]\n",
      "\torg.elasticsearch#elasticsearch-spark-30_2.12;8.2.3 from central in [default]\n",
      "\torg.scala-lang#scala-reflect;2.12.8 from central in [default]\n",
      "\torg.slf4j#slf4j-api;1.7.6 from central in [default]\n",
      "\t---------------------------------------------------------------------\n",
      "\t|                  |            modules            ||   artifacts   |\n",
      "\t|       conf       | number| search|dwnlded|evicted|| number|dwnlded|\n",
      "\t---------------------------------------------------------------------\n",
      "\t|      default     |   7   |   0   |   0   |   0   ||   1   |   0   |\n",
      "\t---------------------------------------------------------------------\n",
      ":: retrieving :: org.apache.spark#spark-submit-parent-357ab1c5-5693-4e7c-9ec5-30b6bca0306a\n",
      "\tconfs: [default]\n",
      "\t0 artifacts copied, 1 already retrieved (0kB/5ms)\n",
      "22/06/20 13:48:03 WARN NativeCodeLoader: Unable to load native-hadoop library for your platform... using builtin-java classes where applicable\n",
      "Using Spark's default log4j profile: org/apache/spark/log4j-defaults.properties\n",
      "Setting default log level to \"WARN\".\n",
      "To adjust logging level use sc.setLogLevel(newLevel). For SparkR, use setLogLevel(newLevel).\n"
     ]
    },
    {
     "name": "stdout",
     "output_type": "stream",
     "text": [
      "Debug -- spark init\n",
      "Debug -- version: 3.1.2\n",
      "Debug -- applicaitonId: local-1655732884425\n",
      "Debug -- uiWebUrl: http://jupyter.my.nginx.test/hub/user-redirect/proxy/4040/jobs/\n"
     ]
    }
   ],
   "source": [
    "spark = init_spark()"
   ]
  },
  {
   "cell_type": "code",
   "execution_count": 7,
   "id": "eccb9712-3380-4ecf-b537-7f039d4bcffe",
   "metadata": {},
   "outputs": [
    {
     "name": "stderr",
     "output_type": "stream",
     "text": [
      "                                                                                \r"
     ]
    }
   ],
   "source": [
    "movies = read_dataset(**params)"
   ]
  },
  {
   "cell_type": "code",
   "execution_count": 8,
   "id": "6be6d177-7f54-4210-a978-997d5ac6c71f",
   "metadata": {},
   "outputs": [
    {
     "data": {
      "text/html": [
       "<div>\n",
       "<style scoped>\n",
       "    .dataframe tbody tr th:only-of-type {\n",
       "        vertical-align: middle;\n",
       "    }\n",
       "\n",
       "    .dataframe tbody tr th {\n",
       "        vertical-align: top;\n",
       "    }\n",
       "\n",
       "    .dataframe thead th {\n",
       "        text-align: right;\n",
       "    }\n",
       "</style>\n",
       "<table border=\"1\" class=\"dataframe\">\n",
       "  <thead>\n",
       "    <tr style=\"text-align: right;\">\n",
       "      <th></th>\n",
       "      <th>MOVIE_ID</th>\n",
       "      <th>NAME</th>\n",
       "      <th>ALIAS</th>\n",
       "      <th>ACTORS</th>\n",
       "      <th>COVER</th>\n",
       "      <th>DIRECTORS</th>\n",
       "      <th>DOUBAN_SCORE</th>\n",
       "      <th>DOUBAN_VOTES</th>\n",
       "      <th>GENRES</th>\n",
       "      <th>IMDB_ID</th>\n",
       "      <th>LANGUAGES</th>\n",
       "      <th>MINS</th>\n",
       "      <th>OFFICIAL_SITE</th>\n",
       "      <th>REGIONS</th>\n",
       "      <th>RELEASE_DATE</th>\n",
       "      <th>SLUG</th>\n",
       "      <th>STORYLINE</th>\n",
       "      <th>TAGS</th>\n",
       "      <th>YEAR</th>\n",
       "      <th>ACTOR_IDS</th>\n",
       "      <th>DIRECTOR_IDS</th>\n",
       "    </tr>\n",
       "  </thead>\n",
       "  <tbody>\n",
       "    <tr>\n",
       "      <th>0</th>\n",
       "      <td>26670818</td>\n",
       "      <td>情定河州</td>\n",
       "      <td>情定临夏天使然</td>\n",
       "      <td>王博/吴佳尼/王姬/高丽雯/郭力行/尹哲/沈丹萍/罗中旭/臧金生/罗刚/居文沛/阎青妤</td>\n",
       "      <td>None</td>\n",
       "      <td>尹哲</td>\n",
       "      <td>0.0</td>\n",
       "      <td>0.0</td>\n",
       "      <td>剧情/爱情</td>\n",
       "      <td>None</td>\n",
       "      <td>汉语普通话</td>\n",
       "      <td>0.0</td>\n",
       "      <td>None</td>\n",
       "      <td>中国大陆</td>\n",
       "      <td>None</td>\n",
       "      <td>RmNQQeyzb</td>\n",
       "      <td>电影《情定临夏天使然》讲述临夏新一代青年人发奋图强、借助国家一带一路战略励志创业的故事。</td>\n",
       "      <td>甘肃/临夏/伊斯兰/中国/2016/中国大陆/烂片/宣传伊斯兰教的电影</td>\n",
       "      <td>2049</td>\n",
       "      <td>王博:|吴佳尼:1313262|王姬:1275275|高丽雯:1325661|郭力行:135...</td>\n",
       "      <td>尹哲:1326188</td>\n",
       "    </tr>\n",
       "    <tr>\n",
       "      <th>1</th>\n",
       "      <td>25815002</td>\n",
       "      <td>我不是李小龙</td>\n",
       "      <td>None</td>\n",
       "      <td>谷尚蔚/吴孟达/曾志伟/杜海涛</td>\n",
       "      <td>None</td>\n",
       "      <td>洪金宝</td>\n",
       "      <td>0.0</td>\n",
       "      <td>0.0</td>\n",
       "      <td>动作/爱情</td>\n",
       "      <td>None</td>\n",
       "      <td>汉语普通话</td>\n",
       "      <td>0.0</td>\n",
       "      <td>None</td>\n",
       "      <td>中国大陆</td>\n",
       "      <td>None</td>\n",
       "      <td>EZnVfiNYf</td>\n",
       "      <td>桀骜不驯的如龙武功高强，在一场比赛中，被打成重伤，被诊今生不能再用功夫。女友荆兰为激发他重新...</td>\n",
       "      <td>穿越/华语</td>\n",
       "      <td>2049</td>\n",
       "      <td>谷尚蔚:1330813|吴孟达:1016771|曾志伟:1002862|杜海涛:1313024</td>\n",
       "      <td>洪金宝:1055887</td>\n",
       "    </tr>\n",
       "    <tr>\n",
       "      <th>2</th>\n",
       "      <td>26392287</td>\n",
       "      <td>曼哈顿中国女孩</td>\n",
       "      <td>None</td>\n",
       "      <td>None</td>\n",
       "      <td>None</td>\n",
       "      <td>None</td>\n",
       "      <td>0.0</td>\n",
       "      <td>0.0</td>\n",
       "      <td>剧情</td>\n",
       "      <td>None</td>\n",
       "      <td>英语 / 汉语普通话</td>\n",
       "      <td>0.0</td>\n",
       "      <td>None</td>\n",
       "      <td>中国大陆 / 美国</td>\n",
       "      <td>None</td>\n",
       "      <td>NuUvEJnzb</td>\n",
       "      <td>平民女孩李莉只身初入曼哈顿求学，在历经迷失与困惑之后，凭借努力与善良收获了事业上的成功，同时...</td>\n",
       "      <td>None</td>\n",
       "      <td>2049</td>\n",
       "      <td>None</td>\n",
       "      <td>None</td>\n",
       "    </tr>\n",
       "    <tr>\n",
       "      <th>3</th>\n",
       "      <td>26695995</td>\n",
       "      <td>绿毛水怪</td>\n",
       "      <td>None</td>\n",
       "      <td>None</td>\n",
       "      <td>None</td>\n",
       "      <td>梁栋/吴国墉</td>\n",
       "      <td>0.0</td>\n",
       "      <td>0.0</td>\n",
       "      <td>爱情</td>\n",
       "      <td>None</td>\n",
       "      <td>汉语普通话</td>\n",
       "      <td>0.0</td>\n",
       "      <td>None</td>\n",
       "      <td>中国大陆</td>\n",
       "      <td>None</td>\n",
       "      <td>rqaqyb6ea</td>\n",
       "      <td>王小波经典中篇小说《绿毛水怪》将改编电影。《绿毛水怪》是王小波早期手稿作品，以天马行空的想象...</td>\n",
       "      <td>小波/王小波/爱情/小说改编/文学改编/剧情/中国/2017</td>\n",
       "      <td>2049</td>\n",
       "      <td>None</td>\n",
       "      <td>梁栋:|吴国墉:</td>\n",
       "    </tr>\n",
       "    <tr>\n",
       "      <th>4</th>\n",
       "      <td>26392292</td>\n",
       "      <td>为了祖国</td>\n",
       "      <td>None</td>\n",
       "      <td>None</td>\n",
       "      <td>None</td>\n",
       "      <td>None</td>\n",
       "      <td>0.0</td>\n",
       "      <td>0.0</td>\n",
       "      <td>剧情/历史</td>\n",
       "      <td>None</td>\n",
       "      <td>汉语普通话 / 韩语 / 日语</td>\n",
       "      <td>0.0</td>\n",
       "      <td>None</td>\n",
       "      <td>中国大陆 / 韩国</td>\n",
       "      <td>None</td>\n",
       "      <td>Inrqy7uib</td>\n",
       "      <td>1932年上海虹口爆炸案后，韩国国父金九在褚辅成、朱爱宝这些普通群众的帮助下逃到嘉兴避难。金...</td>\n",
       "      <td>None</td>\n",
       "      <td>2049</td>\n",
       "      <td>None</td>\n",
       "      <td>None</td>\n",
       "    </tr>\n",
       "    <tr>\n",
       "      <th>5</th>\n",
       "      <td>6389523</td>\n",
       "      <td>天地无用</td>\n",
       "      <td>None</td>\n",
       "      <td>禅婵/梁宸/张凡夕 François Chang</td>\n",
       "      <td>None</td>\n",
       "      <td>张凡夕</td>\n",
       "      <td>0.0</td>\n",
       "      <td>0.0</td>\n",
       "      <td>剧情/爱情</td>\n",
       "      <td>None</td>\n",
       "      <td>汉语普通话 / 法语</td>\n",
       "      <td>0.0</td>\n",
       "      <td>None</td>\n",
       "      <td>中国大陆 / 法国</td>\n",
       "      <td>None</td>\n",
       "      <td>7IRuUJZRe</td>\n",
       "      <td>张凡夕筹划中电影长片。</td>\n",
       "      <td>张凡夕/独立电影/人性/独立/上映</td>\n",
       "      <td>2046</td>\n",
       "      <td>禅婵:|梁宸:1314565|张凡夕 François Chang:</td>\n",
       "      <td>张凡夕:1275255</td>\n",
       "    </tr>\n",
       "    <tr>\n",
       "      <th>6</th>\n",
       "      <td>26266621</td>\n",
       "      <td>看不见的脸</td>\n",
       "      <td>見えない貌</td>\n",
       "      <td>None</td>\n",
       "      <td>None</td>\n",
       "      <td>None</td>\n",
       "      <td>0.0</td>\n",
       "      <td>0.0</td>\n",
       "      <td>悬疑</td>\n",
       "      <td>None</td>\n",
       "      <td>汉语普通话</td>\n",
       "      <td>0.0</td>\n",
       "      <td>None</td>\n",
       "      <td>中国大陆</td>\n",
       "      <td>None</td>\n",
       "      <td>AIvUfUfib</td>\n",
       "      <td>日本推理作家东野圭吾的小说在其本国不断被搬上大银幕，如今，中国电影公司也在推理小说领域跃跃欲...</td>\n",
       "      <td>悬疑/漫画小说真人版/日本/推理/日本电影/小说改编</td>\n",
       "      <td>2045</td>\n",
       "      <td>None</td>\n",
       "      <td>None</td>\n",
       "    </tr>\n",
       "    <tr>\n",
       "      <th>7</th>\n",
       "      <td>26647079</td>\n",
       "      <td>你无法抵达的时间</td>\n",
       "      <td>None</td>\n",
       "      <td>None</td>\n",
       "      <td>None</td>\n",
       "      <td>None</td>\n",
       "      <td>0.0</td>\n",
       "      <td>0.0</td>\n",
       "      <td>科幻</td>\n",
       "      <td>None</td>\n",
       "      <td>汉语普通话</td>\n",
       "      <td>0.0</td>\n",
       "      <td>None</td>\n",
       "      <td>中国大陆</td>\n",
       "      <td>None</td>\n",
       "      <td>e62r6IBea</td>\n",
       "      <td>科幻作家潘海天创办的上海竺灿文化有限公司先后开始了三个项目，潘海天本人的《王二大爷的战争》，...</td>\n",
       "      <td>科幻/夏笳/中国</td>\n",
       "      <td>2035</td>\n",
       "      <td>None</td>\n",
       "      <td>None</td>\n",
       "    </tr>\n",
       "    <tr>\n",
       "      <th>8</th>\n",
       "      <td>26277337</td>\n",
       "      <td>黑夜之神</td>\n",
       "      <td>包公：黑夜之神</td>\n",
       "      <td>None</td>\n",
       "      <td>None</td>\n",
       "      <td>None</td>\n",
       "      <td>0.0</td>\n",
       "      <td>0.0</td>\n",
       "      <td>动作/悬疑/古装</td>\n",
       "      <td>None</td>\n",
       "      <td>汉语普通话</td>\n",
       "      <td>0.0</td>\n",
       "      <td>None</td>\n",
       "      <td>中国大陆 / 中国香港</td>\n",
       "      <td>None</td>\n",
       "      <td>RAYJBmrqa</td>\n",
       "      <td>曾出品《西游记之大闹天宫》的星皓影业有限公司推出了《包公：黑夜之神》讲述了包拯率一众江湖英雄...</td>\n",
       "      <td>None</td>\n",
       "      <td>2035</td>\n",
       "      <td>None</td>\n",
       "      <td>None</td>\n",
       "    </tr>\n",
       "    <tr>\n",
       "      <th>9</th>\n",
       "      <td>26378809</td>\n",
       "      <td>传送点</td>\n",
       "      <td>None</td>\n",
       "      <td>None</td>\n",
       "      <td>None</td>\n",
       "      <td>辛成江</td>\n",
       "      <td>0.0</td>\n",
       "      <td>0.0</td>\n",
       "      <td>科幻</td>\n",
       "      <td>None</td>\n",
       "      <td>汉语普通话</td>\n",
       "      <td>0.0</td>\n",
       "      <td>None</td>\n",
       "      <td>中国大陆</td>\n",
       "      <td>None</td>\n",
       "      <td>Be6IRuMmb</td>\n",
       "      <td>在艺恩汇第二期电影创投沙龙上，还展示了四个电影项目，导演辛成江的《传送点》，讲述了寻宝游戏中...</td>\n",
       "      <td>None</td>\n",
       "      <td>2035</td>\n",
       "      <td>None</td>\n",
       "      <td>辛成江:1349576</td>\n",
       "    </tr>\n",
       "  </tbody>\n",
       "</table>\n",
       "</div>"
      ],
      "text/plain": [
       "   MOVIE_ID      NAME    ALIAS                                       ACTORS  \\\n",
       "0  26670818      情定河州  情定临夏天使然  王博/吴佳尼/王姬/高丽雯/郭力行/尹哲/沈丹萍/罗中旭/臧金生/罗刚/居文沛/阎青妤   \n",
       "1  25815002    我不是李小龙     None                              谷尚蔚/吴孟达/曾志伟/杜海涛   \n",
       "2  26392287   曼哈顿中国女孩     None                                         None   \n",
       "3  26695995      绿毛水怪     None                                         None   \n",
       "4  26392292      为了祖国     None                                         None   \n",
       "5   6389523      天地无用     None                     禅婵/梁宸/张凡夕 François Chang   \n",
       "6  26266621     看不见的脸    見えない貌                                         None   \n",
       "7  26647079  你无法抵达的时间     None                                         None   \n",
       "8  26277337      黑夜之神  包公：黑夜之神                                         None   \n",
       "9  26378809       传送点     None                                         None   \n",
       "\n",
       "  COVER DIRECTORS  DOUBAN_SCORE  DOUBAN_VOTES    GENRES IMDB_ID  \\\n",
       "0  None        尹哲           0.0           0.0     剧情/爱情    None   \n",
       "1  None       洪金宝           0.0           0.0     动作/爱情    None   \n",
       "2  None      None           0.0           0.0        剧情    None   \n",
       "3  None    梁栋/吴国墉           0.0           0.0        爱情    None   \n",
       "4  None      None           0.0           0.0     剧情/历史    None   \n",
       "5  None       张凡夕           0.0           0.0     剧情/爱情    None   \n",
       "6  None      None           0.0           0.0        悬疑    None   \n",
       "7  None      None           0.0           0.0        科幻    None   \n",
       "8  None      None           0.0           0.0  动作/悬疑/古装    None   \n",
       "9  None       辛成江           0.0           0.0        科幻    None   \n",
       "\n",
       "         LANGUAGES MINS OFFICIAL_SITE      REGIONS RELEASE_DATE       SLUG  \\\n",
       "0            汉语普通话  0.0          None         中国大陆         None  RmNQQeyzb   \n",
       "1            汉语普通话  0.0          None         中国大陆         None  EZnVfiNYf   \n",
       "2       英语 / 汉语普通话  0.0          None    中国大陆 / 美国         None  NuUvEJnzb   \n",
       "3            汉语普通话  0.0          None         中国大陆         None  rqaqyb6ea   \n",
       "4  汉语普通话 / 韩语 / 日语  0.0          None    中国大陆 / 韩国         None  Inrqy7uib   \n",
       "5       汉语普通话 / 法语  0.0          None    中国大陆 / 法国         None  7IRuUJZRe   \n",
       "6            汉语普通话  0.0          None         中国大陆         None  AIvUfUfib   \n",
       "7            汉语普通话  0.0          None         中国大陆         None  e62r6IBea   \n",
       "8            汉语普通话  0.0          None  中国大陆 / 中国香港         None  RAYJBmrqa   \n",
       "9            汉语普通话  0.0          None         中国大陆         None  Be6IRuMmb   \n",
       "\n",
       "                                           STORYLINE  \\\n",
       "0       电影《情定临夏天使然》讲述临夏新一代青年人发奋图强、借助国家一带一路战略励志创业的故事。   \n",
       "1  桀骜不驯的如龙武功高强，在一场比赛中，被打成重伤，被诊今生不能再用功夫。女友荆兰为激发他重新...   \n",
       "2  平民女孩李莉只身初入曼哈顿求学，在历经迷失与困惑之后，凭借努力与善良收获了事业上的成功，同时...   \n",
       "3  王小波经典中篇小说《绿毛水怪》将改编电影。《绿毛水怪》是王小波早期手稿作品，以天马行空的想象...   \n",
       "4  1932年上海虹口爆炸案后，韩国国父金九在褚辅成、朱爱宝这些普通群众的帮助下逃到嘉兴避难。金...   \n",
       "5                                        张凡夕筹划中电影长片。   \n",
       "6  日本推理作家东野圭吾的小说在其本国不断被搬上大银幕，如今，中国电影公司也在推理小说领域跃跃欲...   \n",
       "7  科幻作家潘海天创办的上海竺灿文化有限公司先后开始了三个项目，潘海天本人的《王二大爷的战争》，...   \n",
       "8  曾出品《西游记之大闹天宫》的星皓影业有限公司推出了《包公：黑夜之神》讲述了包拯率一众江湖英雄...   \n",
       "9  在艺恩汇第二期电影创投沙龙上，还展示了四个电影项目，导演辛成江的《传送点》，讲述了寻宝游戏中...   \n",
       "\n",
       "                                  TAGS  YEAR  \\\n",
       "0  甘肃/临夏/伊斯兰/中国/2016/中国大陆/烂片/宣传伊斯兰教的电影  2049   \n",
       "1                                穿越/华语  2049   \n",
       "2                                 None  2049   \n",
       "3       小波/王小波/爱情/小说改编/文学改编/剧情/中国/2017  2049   \n",
       "4                                 None  2049   \n",
       "5                    张凡夕/独立电影/人性/独立/上映  2046   \n",
       "6           悬疑/漫画小说真人版/日本/推理/日本电影/小说改编  2045   \n",
       "7                             科幻/夏笳/中国  2035   \n",
       "8                                 None  2035   \n",
       "9                                 None  2035   \n",
       "\n",
       "                                           ACTOR_IDS DIRECTOR_IDS  \n",
       "0  王博:|吴佳尼:1313262|王姬:1275275|高丽雯:1325661|郭力行:135...   尹哲:1326188  \n",
       "1    谷尚蔚:1330813|吴孟达:1016771|曾志伟:1002862|杜海涛:1313024  洪金宝:1055887  \n",
       "2                                               None         None  \n",
       "3                                               None     梁栋:|吴国墉:  \n",
       "4                                               None         None  \n",
       "5                 禅婵:|梁宸:1314565|张凡夕 François Chang:  张凡夕:1275255  \n",
       "6                                               None         None  \n",
       "7                                               None         None  \n",
       "8                                               None         None  \n",
       "9                                               None  辛成江:1349576  "
      ]
     },
     "execution_count": 8,
     "metadata": {},
     "output_type": "execute_result"
    }
   ],
   "source": [
    "movies.limit(10).toPandas()"
   ]
  },
  {
   "cell_type": "code",
   "execution_count": 9,
   "id": "3baf89ea-33d7-4063-a02a-6bff43ca38cc",
   "metadata": {},
   "outputs": [
    {
     "data": {
      "text/plain": [
       "'http://elastic-demo-es-http.default.svc.cluster.local:9200'"
      ]
     },
     "execution_count": 9,
     "metadata": {},
     "output_type": "execute_result"
    }
   ],
   "source": [
    "es_uri = \"http://%s:%s\"%(params['es_host'], params['es_port'])\n",
    "es_uri"
   ]
  },
  {
   "cell_type": "code",
   "execution_count": 10,
   "id": "043a4827-b3d8-44ad-a375-039db6e31402",
   "metadata": {},
   "outputs": [
    {
     "name": "stdout",
     "output_type": "stream",
     "text": [
      "{\"tokens\":[{\"token\":\"李\",\"start_offset\":0,\"end_offset\":1,\"type\":\"word\",\"position\":0},{\"token\":\"小\",\"start_offset\":1,\"end_offset\":2,\"type\":\"word\",\"position\":1},{\"token\":\"龙\",\"start_offset\":2,\"end_offset\":3,\"type\":\"word\",\"position\":2}]}"
     ]
    }
   ],
   "source": [
    "!curl --user elastic:59Jazz5tf0l8e935xHEt1K8D \\\n",
    "     http://elastic-demo-es-http.default.svc.cluster.local:9200/_analyze -H \"Content-Type:application/json\" -d '\\\n",
    "      {\\\n",
    "          \"text\":\"李小龙\",\\\n",
    "          \"analyzer\":\"smartcn\"\\\n",
    "      }'"
   ]
  },
  {
   "cell_type": "code",
   "execution_count": 11,
   "id": "9ede65bf-2e35-4659-be7f-edfabd7d6a00",
   "metadata": {},
   "outputs": [
    {
     "data": {
      "text/plain": [
       "<Elasticsearch(['http://elastic-demo-es-http.default.svc.cluster.local:9200'])>"
      ]
     },
     "execution_count": 11,
     "metadata": {},
     "output_type": "execute_result"
    }
   ],
   "source": [
    "from elasticsearch_utils import *\n",
    "es = create_es_using_http_auth(es_uri, USER, PASS, **params)\n",
    "es"
   ]
  },
  {
   "cell_type": "code",
   "execution_count": 12,
   "id": "7d687693-6f36-4d4f-b3ef-ffdd3a6cc575",
   "metadata": {},
   "outputs": [],
   "source": [
    "index_name = params['create_douban_movies_index']\n",
    "index_schema = params['create_douban_movies']\n",
    "mapping_id = params['create_douban_movies_mapping_id']"
   ]
  },
  {
   "cell_type": "code",
   "execution_count": 13,
   "id": "a498bb12-ec15-41ef-babf-b9d32f8d99ef",
   "metadata": {},
   "outputs": [
    {
     "data": {
      "text/plain": [
       "<Elasticsearch(['http://elastic-demo-es-http.default.svc.cluster.local:9200'])>"
      ]
     },
     "execution_count": 13,
     "metadata": {},
     "output_type": "execute_result"
    }
   ],
   "source": [
    "delete_index(es, index_name)"
   ]
  },
  {
   "cell_type": "code",
   "execution_count": 14,
   "id": "ae6f46da-d2fb-45c9-a845-0b0f7e6465e1",
   "metadata": {},
   "outputs": [
    {
     "data": {
      "text/plain": [
       "<Elasticsearch(['http://elastic-demo-es-http.default.svc.cluster.local:9200'])>"
      ]
     },
     "execution_count": 14,
     "metadata": {},
     "output_type": "execute_result"
    }
   ],
   "source": [
    "create_index(es, index_name, index_schema)"
   ]
  },
  {
   "cell_type": "code",
   "execution_count": 15,
   "id": "a46ab939-aeeb-4769-a272-6d041cdf86a0",
   "metadata": {},
   "outputs": [
    {
     "name": "stderr",
     "output_type": "stream",
     "text": [
      "                                                                                \r"
     ]
    },
    {
     "data": {
      "text/plain": [
       "<Elasticsearch(['http://elastic-demo-es-http.default.svc.cluster.local:9200'])>"
      ]
     },
     "execution_count": 15,
     "metadata": {},
     "output_type": "execute_result"
    }
   ],
   "source": [
    "movies = movies.select('MOVIE_ID', 'NAME', 'STORYLINE')\n",
    "save_df_to_es_index(es, movies, index_name, mapping_id)"
   ]
  },
  {
   "cell_type": "code",
   "execution_count": 16,
   "id": "039f5d58-a8b8-4c5d-a9a0-b0b97b308485",
   "metadata": {},
   "outputs": [
    {
     "name": "stdout",
     "output_type": "stream",
     "text": [
      "{\"took\":1,\"timed_out\":false,\"_shards\":{\"total\":1,\"successful\":1,\"skipped\":0,\"failed\":0},\"hits\":{\"total\":{\"value\":1,\"relation\":\"eq\"},\"max_score\":1.0,\"hits\":[{\"_index\":\"douban_movies\",\"_id\":\"26392287\",\"_score\":1.0,\"_source\":{\"MOVIE_ID\":26392287,\"NAME\":\"曼哈顿中国女孩\",\"STORYLINE\":\"平民女孩李莉只身初入曼哈顿求学，在历经迷失与困惑之后，凭借努力与善良收获了事业上的成功，同时帮助在美华侨保卫中国城、获得爱情，完成了生命中一次华丽的蜕变。\"}}]}}"
     ]
    }
   ],
   "source": [
    "!curl --user elastic:59Jazz5tf0l8e935xHEt1K8D \\\n",
    "     http://elastic-demo-es-http.default.svc.cluster.local:9200/douban_movies/_search -H \"Content-Type:application/json\" -d '\\\n",
    "      {\\\n",
    "        \"query\": {\\\n",
    "            \"ids\": {\\\n",
    "                \"values\": [\"26392287\"]\\\n",
    "            }\\\n",
    "        }\\\n",
    "      }'"
   ]
  },
  {
   "cell_type": "code",
   "execution_count": 17,
   "id": "130199d6-3089-4e60-83a5-e535c9942399",
   "metadata": {},
   "outputs": [
    {
     "name": "stdout",
     "output_type": "stream",
     "text": [
      "[{'match_phrase': {'NAME': '李小龙'}}, {'match_phrase': {'STORYLINE': '功夫'}}]\n",
      "[{'MOVIE_ID': {'order': 'desc'}}]\n"
     ]
    }
   ],
   "source": [
    "matchers = [(\"NAME\", \"李小龙\"), (\"STORYLINE\", \"功夫\")]\n",
    "sorters =[(\"MOVIE_ID\", \"desc\")]\n",
    "\n",
    "match_rules = generate_keyword_match_rules(matchers)\n",
    "sorter_rules = generate_attribute_sorter_rules(sorters)\n",
    "\n",
    "print(match_rules)\n",
    "print(sorter_rules)"
   ]
  },
  {
   "cell_type": "code",
   "execution_count": 18,
   "id": "6f06b59c-3763-4644-89c7-f915bfea84f1",
   "metadata": {},
   "outputs": [],
   "source": [
    "result = search_es_using_query_combination(es, \n",
    "                                           index_name, \n",
    "                                           must_rules=match_rules, \n",
    "                                           sorter_rules=sorter_rules,\n",
    "                                           from_no=0,\n",
    "                                           size=20)"
   ]
  },
  {
   "cell_type": "code",
   "execution_count": 19,
   "id": "2d85452e-9cf1-4d06-98e7-087e4efa3d72",
   "metadata": {},
   "outputs": [
    {
     "data": {
      "text/plain": [
       "[{'MOVIE_ID': 25815002,\n",
       "  'NAME': '我不是李小龙',\n",
       "  'STORYLINE': '桀骜不驯的如龙武功高强，在一场比赛中，被打成重伤，被诊今生不能再用功夫。女友荆兰为激发他重新振作，按照他的原型制造了一个机器人，如龙能否恢复武功，他和机器人到底哪个功夫高强，又能否在机器人中迷失自己？'},\n",
       " {'MOVIE_ID': 4930409,\n",
       "  'NAME': '李小龙外传 - 电影',\n",
       "  'STORYLINE': '一位李小龙崇拜者也名叫李小龙的青年，在同样是李小龙崇拜者的父亲的影响下，努力学习李小龙功夫，怀揣功夫梦、影视明星梦，在奔赴一个剧组面试主角的过程中，经历了剧组设置的个个惊险障碍，以精湛的李小龙功夫战胜光头帮，战胜面试对手，成为准男一号演员....'},\n",
       " {'MOVIE_ID': 1304134,\n",
       "  'NAME': '李小龙与我',\n",
       "  'STORYLINE': '丁佩以自己的角度，把功夫影帝李小龙生前一切的第一手事实，毫无保留地公诸于世，包括她如何认识李小龙，及重逢後如何发展成可以倾诉肺腑之言的红颜知己。究竟李小龙与丁佩在私生活中，是缠绵的爱情、抑或纯洁的友谊，在银幕上自有说明。而全片最珍贵的部分，当然是对李小龙死因的交代。'}]"
      ]
     },
     "execution_count": 19,
     "metadata": {},
     "output_type": "execute_result"
    }
   ],
   "source": [
    "parse_es_search_result(result)"
   ]
  },
  {
   "cell_type": "code",
   "execution_count": 20,
   "id": "81062e7d-601b-42a1-b49c-c4ac56023a43",
   "metadata": {},
   "outputs": [
    {
     "data": {
      "text/plain": [
       "{'ids': {'values': ['26670818', '6389523', '26392287']}}"
      ]
     },
     "execution_count": 20,
     "metadata": {},
     "output_type": "execute_result"
    }
   ],
   "source": [
    "ids=[26670818, 6389523, 26392287]\n",
    "id_rules = generte_id_rules(ids)\n",
    "id_rules"
   ]
  },
  {
   "cell_type": "code",
   "execution_count": 21,
   "id": "99c23ac3-9050-4b85-827f-160cdd7f127c",
   "metadata": {},
   "outputs": [],
   "source": [
    "result = search_es_using_id_filtering(es, \n",
    "                                      index_name, \n",
    "                                      id_rules=id_rules, \n",
    "                                      sorter_rules=sorter_rules,\n",
    "                                      from_no=0,\n",
    "                                      size=20)"
   ]
  },
  {
   "cell_type": "code",
   "execution_count": 22,
   "id": "6373a9b2-927e-4d48-9eaf-b7a5eba28622",
   "metadata": {},
   "outputs": [
    {
     "data": {
      "text/plain": [
       "[{'MOVIE_ID': 26670818,\n",
       "  'NAME': '情定河州',\n",
       "  'STORYLINE': '电影《情定临夏天使然》讲述临夏新一代青年人发奋图强、借助国家一带一路战略励志创业的故事。'},\n",
       " {'MOVIE_ID': 26392287,\n",
       "  'NAME': '曼哈顿中国女孩',\n",
       "  'STORYLINE': '平民女孩李莉只身初入曼哈顿求学，在历经迷失与困惑之后，凭借努力与善良收获了事业上的成功，同时帮助在美华侨保卫中国城、获得爱情，完成了生命中一次华丽的蜕变。'},\n",
       " {'MOVIE_ID': 6389523, 'NAME': '天地无用', 'STORYLINE': '张凡夕筹划中电影长片。'}]"
      ]
     },
     "execution_count": 22,
     "metadata": {},
     "output_type": "execute_result"
    }
   ],
   "source": [
    "parse_es_search_result(result)"
   ]
  },
  {
   "cell_type": "code",
   "execution_count": 23,
   "id": "4c68aef5-4211-48e6-9057-e99bb52c2176",
   "metadata": {},
   "outputs": [],
   "source": [
    "spark.stop()"
   ]
  },
  {
   "cell_type": "code",
   "execution_count": null,
   "id": "bb241c3d-4336-4060-b926-31925daff793",
   "metadata": {},
   "outputs": [],
   "source": []
  },
  {
   "cell_type": "code",
   "execution_count": null,
   "id": "6dade1fb-2c87-4f0c-9c94-dfd35a7c1d66",
   "metadata": {},
   "outputs": [],
   "source": []
  }
 ],
 "metadata": {
  "kernelspec": {
   "display_name": "Python 3 (ipykernel)",
   "language": "python",
   "name": "python3"
  },
  "language_info": {
   "codemirror_mode": {
    "name": "ipython",
    "version": 3
   },
   "file_extension": ".py",
   "mimetype": "text/x-python",
   "name": "python",
   "nbconvert_exporter": "python",
   "pygments_lexer": "ipython3",
   "version": "3.8.10"
  }
 },
 "nbformat": 4,
 "nbformat_minor": 5
}
