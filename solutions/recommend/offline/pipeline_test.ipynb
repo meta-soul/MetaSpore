{
 "cells": [
  {
   "cell_type": "code",
   "execution_count": null,
   "id": "e6d08917-0fbe-4054-8f3a-85e5db0cbe82",
   "metadata": {},
   "outputs": [],
   "source": [
    "from pipelines import Pipeline\n",
    "from pipelines.nodes import InitSparkNode\n",
    "from pipelines.nodes import DataLoaderNode\n",
    "from pipelines.nodes import TwoTowersEstimatorNode\n",
    "from pipelines.nodes import RetrievalEvaluatorNode\n",
    "\n",
    "p = Pipeline('./test.yaml')\n",
    "p.add_node(InitSparkNode())\n",
    "p.add_node(DataLoaderNode())\n",
    "p.add_node(TwoTowersEstimatorNode())\n",
    "p.add_node(RetrievalEvaluatorNode())\n",
    "\n",
    "p.run()"
   ]
  },
  {
   "cell_type": "code",
   "execution_count": null,
   "id": "4ea68f64-7876-482b-8d8c-3893a92925ff",
   "metadata": {},
   "outputs": [],
   "source": []
  }
 ],
 "metadata": {
  "kernelspec": {
   "display_name": "Python 3 (ipykernel)",
   "language": "python",
   "name": "python3"
  },
  "language_info": {
   "codemirror_mode": {
    "name": "ipython",
    "version": 3
   },
   "file_extension": ".py",
   "mimetype": "text/x-python",
   "name": "python",
   "nbconvert_exporter": "python",
   "pygments_lexer": "ipython3",
   "version": "3.8.10"
  }
 },
 "nbformat": 4,
 "nbformat_minor": 5
}
