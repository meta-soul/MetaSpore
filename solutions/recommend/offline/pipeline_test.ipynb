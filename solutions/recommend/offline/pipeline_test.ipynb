{
 "cells": [
  {
   "cell_type": "code",
   "execution_count": 1,
   "id": "e6d08917-0fbe-4054-8f3a-85e5db0cbe82",
   "metadata": {},
   "outputs": [
    {
     "name": "stderr",
     "output_type": "stream",
     "text": [
      "/home/spark/.local/lib/python3.8/site-packages/tqdm/auto.py:22: TqdmWarning: IProgress not found. Please update jupyter and ipywidgets. See https://ipywidgets.readthedocs.io/en/stable/user_install.html\n",
      "  from .autonotebook import tqdm as notebook_tqdm\n"
     ]
    }
   ],
   "source": [
    "from pipelines import Pipeline\n",
    "from pipelines.nodes import InitSparkNode\n",
    "from pipelines.nodes import StopSparkNode\n",
    "from pipelines.nodes import DataLoaderNode\n",
    "from pipelines.nodes import TwoTowersEstimatorNode\n",
    "from pipelines.nodes import RetrievalEvaluatorNode\n",
    "from pipelines.nodes import I2IEstimatorNode"
   ]
  },
  {
   "cell_type": "markdown",
   "id": "f78e5ec4-5249-4a59-8a49-7179d366c086",
   "metadata": {},
   "source": [
    "### Logging Configuration"
   ]
  },
  {
   "cell_type": "code",
   "execution_count": 2,
   "id": "88293f63-0426-40d7-990d-f87a3339d2cf",
   "metadata": {},
   "outputs": [],
   "source": [
    "import logging\n",
    "logger = logging.getLogger()\n",
    "logger.setLevel(logging.INFO)"
   ]
  },
  {
   "cell_type": "markdown",
   "id": "551bd4f2-3fc3-4ec2-8e3b-85171bb886d9",
   "metadata": {},
   "source": [
    "### Test Spark Session Start and Stop"
   ]
  },
  {
   "cell_type": "code",
   "execution_count": null,
   "id": "33e92778-7d91-40f2-b438-63bb6cee8380",
   "metadata": {},
   "outputs": [],
   "source": [
    "p = Pipeline('./pipeline_test.yaml')\n",
    "p.add_node(InitSparkNode())\n",
    "p.add_node(StopSparkNode())\n",
    "p.run()"
   ]
  },
  {
   "cell_type": "code",
   "execution_count": null,
   "id": "4c2a558e-7782-46d5-8eab-39548114a02d",
   "metadata": {},
   "outputs": [],
   "source": [
    "p = Pipeline('./pipeline_test.yaml', infer=True)\n",
    "p.run()"
   ]
  },
  {
   "cell_type": "markdown",
   "id": "c5ab908f-e300-4730-bf10-eddd995d1250",
   "metadata": {},
   "source": [
    "### Test Two Twoers Pipeline"
   ]
  },
  {
   "cell_type": "code",
   "execution_count": null,
   "id": "4ea68f64-7876-482b-8d8c-3893a92925ff",
   "metadata": {},
   "outputs": [],
   "source": [
    "p = Pipeline('./two_towers_test.yaml', infer=True)\n",
    "#p.add_node(InitSparkNode())\n",
    "#p.add_node(DataLoaderNode())\n",
    "#p.add_node(TwoTowersEstimatorNode())\n",
    "#p.add_node(RetrievalEvaluatorNode())\n",
    "p.run()"
   ]
  },
  {
   "cell_type": "markdown",
   "id": "a30a6d1b-9688-4fbb-92a5-51359c05d6d3",
   "metadata": {},
   "source": [
    "### Test ItemCF Pipeline"
   ]
  },
  {
   "cell_type": "code",
   "execution_count": null,
   "id": "42ccaccc-053c-49f0-9bfd-593c7774d424",
   "metadata": {},
   "outputs": [
    {
     "name": "stdout",
     "output_type": "stream",
     "text": [
      "Debug -- load config:  {'logging': {'loglevel': 'debug'}, 'spark': {'node_class': 'InitSparkNode', 'node_priority': 10, 'session_confs': {'app_name': 'Pipeline Demo', 'local': False, 'worker_count': 2, 'worker_cpu': 4, 'server_count': 2, 'server_cpu': 4, 'batch_size': 128, 'worker_memory': '10G', 'server_memory': '10G', 'coordinator_memory': '10G'}, 'extended_confs': {'spark.network.timeout': '500', 'spark.ui.showConsoleProgress': 'true', 'spark.kubernetes.executor.deleteOnTermination': 'true'}, 'pyzip': {'cwd_path': '/home/spark/work/MetaSpore/', 'zip_file_path': '/home/spark/work/MetaSpore/solutions/recommend/offline/python.zip'}}, 'dataset': {'node_class': 'DataLoaderNode', 'node_priority': 20, 'train_path': 's3://dmetasoul-bucket/demo/datasets/soc-pokec/demo_fg/train_dataset.parquet', 'test_path': 's3://dmetasoul-bucket/demo/datasets/soc-pokec/demo_fg/test_dataset.parquet', 'item_path': 's3://dmetasoul-bucket/demo/datasets/soc-pokec/demo_fg/item_dataset.parquet', 'user_id_column': 'user_id', 'item_id_column': 'friend_id', 'label_column': 'label', 'label_value': '1', 'last_item_id_column': 'last_friend_id'}, 'training': {'node_class': 'I2IEstimatorNode', 'node_priority': 30, 'i2i_estimator_class': {'module_name': 'python.algos.item_cf_retrieval', 'class_name': 'ItemCFEstimator'}, 'model_out_path': 's3://dmetasoul-bucket/demo/soc-pokec/model/item_cf/model_out/df.parquet', 'max_recommendation_count': 20}, 'evaluation': {'node_class': 'RetrievalEvaluatorNode', 'node_priority': 40}, 'spark_stop': {'node_class': 'StopSparkNode', 'node_priority': 99}}\n",
      "Debug - clazz:  <class 'pipelines.nodes.init_spark.InitSparkNode'>\n",
      "Debug - clazz:  <class 'pipelines.nodes.data_loader.DataLoaderNode'>\n",
      "Debug - clazz:  <class 'pipelines.nodes.i2i_estimator.I2IEstimatorNode'>\n",
      "Debug - clazz:  <class 'pipelines.nodes.retrieval_evaluator.RetrievalEvaluatorNode'>\n",
      "Debug - clazz:  <class 'pipelines.nodes.stop_spark.StopSparkNode'>\n",
      "updating: python/ (stored 0%)\n",
      "  adding: python/algos/ (stored 0%)\n",
      "  adding: python/algos/xdeepfm_net.py (deflated 71%)\n",
      "  adding: python/algos/widedeep_net.py (deflated 68%)\n",
      "  adding: python/algos/tuner/ (stored 0%)\n",
      "  adding: python/algos/tuner/base_tuner.py (deflated 70%)\n",
      "  adding: python/algos/multitask/ (stored 0%)\n",
      "  adding: python/algos/multitask/mmoe/ (stored 0%)\n",
      "  adding: python/algos/multitask/mmoe/mmoe_net.py (deflated 75%)\n",
      "  adding: python/algos/multitask/mmoe/mmoe_agent.py (deflated 70%)\n",
      "  adding: python/algos/multitask/mmoe/__pycache__/ (stored 0%)\n",
      "  adding: python/algos/multitask/mmoe/__pycache__/mmoe_net.cpython-38.pyc (deflated 43%)\n",
      "  adding: python/algos/multitask/mmoe/__pycache__/mmoe_agent.cpython-38.pyc (deflated 52%)\n",
      "  adding: python/algos/multitask/mmoe/.ipynb_checkpoints/ (stored 0%)\n",
      "  adding: python/algos/multitask/mmoe/.ipynb_checkpoints/mmoe_net-checkpoint.py (deflated 75%)\n",
      "  adding: python/algos/multitask/mmoe/.ipynb_checkpoints/mmoe_agent-checkpoint.py (deflated 70%)\n",
      "  adding: python/algos/multitask/esmm/ (stored 0%)\n",
      "  adding: python/algos/multitask/esmm/esmm_net.py (deflated 69%)\n",
      "  adding: python/algos/multitask/esmm/esmm_agent.py (deflated 74%)\n",
      "  adding: python/algos/multitask/esmm/__pycache__/ (stored 0%)\n",
      "  adding: python/algos/multitask/esmm/__pycache__/esmm_agent.cpython-38.pyc (deflated 54%)\n",
      "  adding: python/algos/multitask/esmm/__pycache__/esmm_net.cpython-38.pyc (deflated 41%)\n",
      "  adding: python/algos/multitask/esmm/.ipynb_checkpoints/ (stored 0%)\n",
      "  adding: python/algos/multitask/esmm/.ipynb_checkpoints/esmm_agent-checkpoint.py (deflated 74%)\n",
      "  adding: python/algos/multitask/esmm/.ipynb_checkpoints/esmm_net-checkpoint.py (deflated 69%)\n",
      "  adding: python/algos/multitask/__init__.py (deflated 43%)\n",
      "  adding: python/algos/multitask/__pycache__/ (stored 0%)\n",
      "  adding: python/algos/multitask/__pycache__/__init__.cpython-38.pyc (deflated 32%)\n",
      "  adding: python/algos/multitask/.ipynb_checkpoints/ (stored 0%)\n",
      "  adding: python/algos/multitask/.ipynb_checkpoints/__init__-checkpoint.py (deflated 43%)\n",
      "  adding: python/algos/item_cf_retrieval.py (deflated 77%)\n",
      "  adding: python/algos/pnn_net.py (deflated 70%)\n",
      "  adding: python/algos/feature/ (stored 0%)\n",
      "  adding: python/algos/feature/woe_encoder.py (deflated 64%)\n",
      "  adding: python/algos/feature/__init__.py (deflated 37%)\n",
      "  adding: python/algos/feature/__pycache__/ (stored 0%)\n",
      "  adding: python/algos/feature/__pycache__/__init__.cpython-38.pyc (deflated 18%)\n",
      "  adding: python/algos/feature/__pycache__/woe_encoder.cpython-38.pyc (deflated 43%)\n",
      "  adding: python/algos/feature/__pycache__/quantile_bucketizer.cpython-38.pyc (deflated 37%)\n",
      "  adding: python/algos/feature/.ipynb_checkpoints/ (stored 0%)\n",
      "  adding: python/algos/feature/.ipynb_checkpoints/woe_encoder-checkpoint.py (deflated 64%)\n",
      "  adding: python/algos/feature/.ipynb_checkpoints/__init__-checkpoint.py (deflated 37%)\n",
      "  adding: python/algos/__init__.py (deflated 38%)\n",
      "  adding: python/algos/dcn_v2_net.py (deflated 75%)\n",
      "  adding: python/algos/__pycache__/ (stored 0%)\n",
      "  adding: python/algos/__pycache__/__init__.cpython-38.pyc (deflated 22%)\n",
      "  adding: python/algos/__pycache__/layers.cpython-38.pyc (deflated 59%)\n",
      "  adding: python/algos/__pycache__/item_cf_retrieval.cpython-38.pyc (deflated 54%)\n",
      "  adding: python/algos/.ipynb_checkpoints/ (stored 0%)\n",
      "  adding: python/algos/.ipynb_checkpoints/autoint_net-checkpoint.py (deflated 70%)\n",
      "  adding: python/algos/.ipynb_checkpoints/item_cf_retrieval-checkpoint.py (deflated 77%)\n",
      "  adding: python/algos/.ipynb_checkpoints/pnn_net-checkpoint.py (deflated 70%)\n",
      "  adding: python/algos/.ipynb_checkpoints/layers-checkpoint.py (deflated 77%)\n",
      "  adding: python/algos/.ipynb_checkpoints/dcn_net-checkpoint.py (deflated 69%)\n",
      "  adding: python/algos/.ipynb_checkpoints/xdeepfm_net-checkpoint.py (deflated 71%)\n",
      "  adding: python/algos/.ipynb_checkpoints/deepfm_net-checkpoint.py (deflated 69%)\n",
      "  adding: python/algos/.ipynb_checkpoints/dcn_v2_net-checkpoint.py (deflated 75%)\n",
      "  adding: python/algos/dcn_net.py (deflated 69%)\n",
      "  adding: python/algos/dssm_net.py (deflated 78%)\n",
      "  adding: python/algos/autoint_net.py (deflated 70%)\n",
      "  adding: python/algos/two_tower_retrieval_milvus.py (deflated 81%)\n",
      "  adding: python/algos/simplex/ (stored 0%)\n",
      "  adding: python/algos/simplex/simplex_net.py (deflated 71%)\n",
      "  adding: python/algos/simplex/simplex_agent.py (deflated 64%)\n",
      "  adding: python/algos/simplex/.ipynb_checkpoints/ (stored 0%)\n",
      "  adding: python/algos/simplex/.ipynb_checkpoints/simplex_net-checkpoint.py (deflated 71%)\n",
      "  adding: python/algos/simplex/simplex_metric.py (deflated 68%)\n",
      "  adding: python/algos/deepfm_net.py (deflated 69%)\n",
      "  adding: python/algos/layers.py (deflated 77%)\n",
      "  adding: python/tests/ (stored 0%)\n",
      "  adding: python/tests/sparse_wdl_export_test.py (deflated 66%)\n",
      "  adding: python/tests/sparse_wdl_grpc_test.py (deflated 52%)\n",
      "  adding: python/tests/mnist_mlp_eval.py (deflated 57%)\n",
      "  adding: python/tests/verify_java_tensor_serde.py (deflated 42%)\n",
      "  adding: python/tests/mnist_mlp.py (deflated 59%)\n",
      "  adding: python/tests/sparse_two_tower_export_demo.py (deflated 73%)\n",
      "  adding: python/tests/dense_xgboost_grpc_test.py (deflated 44%)\n",
      "  adding: python/tests/dense_xgboost.py (deflated 46%)\n",
      "  adding: python/tests/requirements.txt (deflated 24%)\n",
      "  adding: python/tests/two_tower_retrieval_milvus.py (deflated 81%)\n",
      "  adding: python/tests/sparse_mlp_export_demo.py (deflated 64%)\n",
      "  adding: python/tests/embedding_bag_export.py (deflated 61%)\n",
      "  adding: python/tests/sparse_wdl_export_demo.py (deflated 64%)\n",
      "  adding: python/setup.py (deflated 60%)\n",
      "  adding: python/metaspore/ (stored 0%)\n",
      "  adding: python/metaspore/two_tower_retrieval.py (deflated 81%)\n",
      "  adding: python/metaspore/distributed_tensor.py (deflated 80%)\n",
      "  adding: python/metaspore/output.py (deflated 56%)\n",
      "  adding: python/metaspore/distributed_trainer.py (deflated 76%)\n",
      "  adding: python/metaspore/model.py (deflated 81%)\n",
      "  adding: python/metaspore/shell_utils.py (deflated 65%)\n",
      "  adding: python/metaspore/embedding.py (deflated 83%)\n",
      "  adding: python/metaspore/demo.py (deflated 54%)\n",
      "  adding: python/metaspore/experiment.py (deflated 76%)\n",
      "  adding: python/metaspore/agent.py (deflated 77%)\n",
      "  adding: python/metaspore/updater.py (deflated 81%)\n",
      "  adding: python/metaspore/spark.py (deflated 69%)\n",
      "  adding: python/metaspore/input.py (deflated 55%)\n",
      "  adding: python/metaspore/initializer.py (deflated 76%)\n",
      "  adding: python/metaspore/url_utils.py (deflated 40%)\n",
      "  adding: python/metaspore/compat/ (stored 0%)\n",
      "  adding: python/metaspore/compat/__init__.py (deflated 52%)\n",
      "  adding: python/metaspore/compat/ps/ (stored 0%)\n",
      "  adding: python/metaspore/compat/ps/__init__.py (deflated 66%)\n",
      "  adding: python/metaspore/__init__.py (deflated 69%)\n",
      "  adding: python/metaspore/metric.py (deflated 75%)\n",
      "  adding: python/metaspore/network_utils.py (deflated 52%)\n",
      "  adding: python/metaspore/loss_utils.py (deflated 40%)\n",
      "  adding: python/metaspore/s3_utils.py (deflated 68%)\n",
      "  adding: python/metaspore/file_utils.py (deflated 69%)\n",
      "  adding: python/metaspore/patching_pickle.py (deflated 72%)\n",
      "  adding: python/metaspore/job_utils.py (deflated 47%)\n",
      "  adding: python/metaspore/estimator.py (deflated 82%)\n",
      "  adding: python/metaspore/name_utils.py (deflated 37%)\n",
      "  adding: python/metaspore/swing_retrieval.py (deflated 79%)\n",
      "  adding: python/metaspore/two_tower_ranking.py (deflated 80%)\n",
      "  adding: python/metaspore/stack_trace_utils.py (deflated 43%)\n",
      "  adding: python/metaspore/ps_launcher.py (deflated 68%)\n",
      "  adding: python/metaspore/nn/ (stored 0%)\n",
      "  adding: python/metaspore/nn/__init__.py (deflated 41%)\n",
      "  adding: python/metaspore/nn/wide_and_deep.py (deflated 75%)\n",
      "  adding: python/metaspore/nn/normalization.py (deflated 61%)\n",
      "  adding: python/metaspore/nn/deep_fm.py (deflated 70%)\n",
      "  adding: python/metaspore/nn/fm.py (deflated 47%)\n",
      "  adding: python/metaspore/cast.py (deflated 68%)\n",
      "  adding: python/ps/ (stored 0%)\n",
      "  adding: python/ps/job.py (deflated 81%)\n",
      "  adding: python/ps/__init__.py (deflated 42%)\n",
      "  adding: python/scripts/ (stored 0%)\n",
      "  adding: python/scripts/preprocessing/ (stored 0%)\n",
      "  adding: python/scripts/preprocessing/preprocessor_service.py (deflated 69%)\n",
      "  adding: python/scripts/preprocessing/example_preprocessor.py (deflated 54%)\n",
      "  adding: python/scripts/preprocessing/example_requirements.txt (stored 0%)\n",
      "  adding: python/scripts/preprocessing/test_example_preprocessor.py (deflated 51%)\n",
      "  adding: python/scripts/consul/ (stored 0%)\n",
      "  adding: python/scripts/consul/consul_watch_load.py (deflated 72%)\n",
      "  adding: python/scripts/consul/build.sh (deflated 30%)\n",
      "  adding: python/scripts/consul/Dockerfile (deflated 44%)\n",
      "  adding: python/scripts/consul/create_consul_watch.sh (deflated 17%)\n"
     ]
    },
    {
     "name": "stderr",
     "output_type": "stream",
     "text": [
      "WARNING: An illegal reflective access operation has occurred\n",
      "WARNING: Illegal reflective access by org.apache.spark.unsafe.Platform (file:/opt/spark/jars/spark-unsafe_2.12-3.1.2.jar) to constructor java.nio.DirectByteBuffer(long,int)\n",
      "WARNING: Please consider reporting this to the maintainers of org.apache.spark.unsafe.Platform\n",
      "WARNING: Use --illegal-access=warn to enable warnings of further illegal reflective access operations\n",
      "WARNING: All illegal access operations will be denied in a future release\n",
      "22/06/28 03:40:36 WARN NativeCodeLoader: Unable to load native-hadoop library for your platform... using builtin-java classes where applicable\n",
      "Using Spark's default log4j profile: org/apache/spark/log4j-defaults.properties\n",
      "Setting default log level to \"WARN\".\n",
      "To adjust logging level use sc.setLogLevel(newLevel). For SparkR, use setLogLevel(newLevel).\n"
     ]
    },
    {
     "name": "stdout",
     "output_type": "stream",
     "text": [
      "[2022-06-28 03:40:43,046] {init_spark.py:56} INFO - Spark init, version: 3.1.2, applicationId: spark-application-1656387637709, uiWebUrl: http://10.0.1.219:4040\n"
     ]
    },
    {
     "name": "stderr",
     "output_type": "stream",
     "text": [
      "                                                                                \r"
     ]
    },
    {
     "name": "stdout",
     "output_type": "stream",
     "text": [
      "[2022-06-28 03:40:46,678] {data_loader.py:29} INFO - Train dataset is loaded: s3://dmetasoul-bucket/demo/datasets/soc-pokec/demo_fg/train_dataset.parquet\n"
     ]
    },
    {
     "name": "stderr",
     "output_type": "stream",
     "text": [
      "[Stage 1:>                                                          (0 + 1) / 1]\r"
     ]
    },
    {
     "name": "stdout",
     "output_type": "stream",
     "text": [
      "[2022-06-28 03:40:48,867] {data_loader.py:32} INFO - Test dataset is loaded: s3://dmetasoul-bucket/demo/datasets/soc-pokec/demo_fg/test_dataset.parquet\n"
     ]
    },
    {
     "name": "stderr",
     "output_type": "stream",
     "text": [
      "                                                                                \r"
     ]
    },
    {
     "name": "stdout",
     "output_type": "stream",
     "text": [
      "[2022-06-28 03:40:49,844] {data_loader.py:35} INFO - Item dataset is loaded: s3://dmetasoul-bucket/demo/datasets/soc-pokec/demo_fg/item_dataset.parquet\n",
      "Debug - clazz:  <class 'python.algos.item_cf_retrieval.ItemCFEstimator'>\n"
     ]
    },
    {
     "name": "stderr",
     "output_type": "stream",
     "text": [
      "                                                                                \r"
     ]
    },
    {
     "name": "stdout",
     "output_type": "stream",
     "text": [
      "Debug -- test sample:\n"
     ]
    },
    {
     "name": "stderr",
     "output_type": "stream",
     "text": [
      "                                                                                \r"
     ]
    },
    {
     "name": "stdout",
     "output_type": "stream",
     "text": [
      "+-------+---+--------------------+\n",
      "|user_id|pos|            rec_info|\n",
      "+-------+---+--------------------+\n",
      "|    567|  0|{1559, 0.23585104...|\n",
      "|    567|  1|{4798, 0.19166113...|\n",
      "|    567|  2|{7543, 0.18965934...|\n",
      "|    567|  3|{2116, 0.18367133...|\n",
      "|    567|  4|{8246, 0.17709501...|\n",
      "|    567|  5|{11359, 0.1507107...|\n",
      "|    567|  6|{13589, 0.1441102...|\n",
      "|    567|  7|{7907, 0.14378327...|\n",
      "|    567|  8|{8350, 0.12991274...|\n",
      "|    567|  9|{8651, 0.12847883...|\n",
      "|    567| 10|{8260, 0.12101706...|\n",
      "|    567| 11|{10174, 0.1193147...|\n",
      "|    567| 12|{8167, 0.11918296...|\n",
      "|    567| 13|{6161, 0.11890358...|\n",
      "|    567| 14|{8339, 0.11788122...|\n",
      "|    567| 15|{1397, 0.11273967...|\n",
      "|    567| 16|{1293, 0.10956984...|\n",
      "|    567| 17|{7909, 0.10740685...|\n",
      "|    567| 18|{10515, 0.1072990...|\n",
      "|    567| 19|{10575, 0.1022534...|\n",
      "|    472|  0|{1559, 0.23585104...|\n",
      "|    472|  1|{4798, 0.19166113...|\n",
      "|    472|  2|{7543, 0.18965934...|\n",
      "|    472|  3|{2116, 0.18367133...|\n",
      "|    472|  4|{8246, 0.17709501...|\n",
      "|    472|  5|{11359, 0.1507107...|\n",
      "|    472|  6|{13589, 0.1441102...|\n",
      "|    472|  7|{7907, 0.14378327...|\n",
      "|    472|  8|{8350, 0.12991274...|\n",
      "|    472|  9|{8651, 0.12847883...|\n",
      "|    472| 10|{8260, 0.12101706...|\n",
      "|    472| 11|{10174, 0.1193147...|\n",
      "|    472| 12|{8167, 0.11918296...|\n",
      "|    472| 13|{6161, 0.11890358...|\n",
      "|    472| 14|{8339, 0.11788122...|\n",
      "|    472| 15|{1397, 0.11273967...|\n",
      "|    472| 16|{1293, 0.10956984...|\n",
      "|    472| 17|{7909, 0.10740685...|\n",
      "|    472| 18|{10515, 0.1072990...|\n",
      "|    472| 19|{10575, 0.1022534...|\n",
      "|  13703|  0|{1559, 0.23585104...|\n",
      "|  13703|  1|{4798, 0.19166113...|\n",
      "|  13703|  2|{7543, 0.18965934...|\n",
      "|  13703|  3|{2116, 0.18367133...|\n",
      "|  13703|  4|{8246, 0.17709501...|\n",
      "|  13703|  5|{11359, 0.1507107...|\n",
      "|  13703|  6|{13589, 0.1441102...|\n",
      "|  13703|  7|{7907, 0.14378327...|\n",
      "|  13703|  8|{8350, 0.12991274...|\n",
      "|  13703|  9|{8651, 0.12847883...|\n",
      "|  13703| 10|{8260, 0.12101706...|\n",
      "|  13703| 11|{10174, 0.1193147...|\n",
      "|  13703| 12|{8167, 0.11918296...|\n",
      "|  13703| 13|{6161, 0.11890358...|\n",
      "|  13703| 14|{8339, 0.11788122...|\n",
      "|  13703| 15|{1397, 0.11273967...|\n",
      "|  13703| 16|{1293, 0.10956984...|\n",
      "|  13703| 17|{7909, 0.10740685...|\n",
      "|  13703| 18|{10515, 0.1072990...|\n",
      "|  13703| 19|{10575, 0.1022534...|\n",
      "+-------+---+--------------------+\n",
      "only showing top 60 rows\n",
      "\n"
     ]
    },
    {
     "name": "stderr",
     "output_type": "stream",
     "text": [
      "[Stage 32:=======================================>              (148 + 1) / 200]\r"
     ]
    }
   ],
   "source": [
    "p = Pipeline('./i2i_test.yaml', infer=True)\n",
    "#p.add_node(InitSparkNode())\n",
    "#p.add_node(DataLoaderNode())\n",
    "#p.add_node(I2IEstimatorNode())\n",
    "#p.add_node(RetrievalEvaluatorNode())\n",
    "p.run()"
   ]
  },
  {
   "cell_type": "code",
   "execution_count": null,
   "id": "cc5aeb31-c520-46b0-82ce-a3882a51a85f",
   "metadata": {},
   "outputs": [],
   "source": []
  }
 ],
 "metadata": {
  "kernelspec": {
   "display_name": "Python 3 (ipykernel)",
   "language": "python",
   "name": "python3"
  },
  "language_info": {
   "codemirror_mode": {
    "name": "ipython",
    "version": 3
   },
   "file_extension": ".py",
   "mimetype": "text/x-python",
   "name": "python",
   "nbconvert_exporter": "python",
   "pygments_lexer": "ipython3",
   "version": "3.8.10"
  }
 },
 "nbformat": 4,
 "nbformat_minor": 5
}
