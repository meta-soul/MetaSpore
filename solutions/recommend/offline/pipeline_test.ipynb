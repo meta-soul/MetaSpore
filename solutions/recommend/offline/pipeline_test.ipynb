{
 "cells": [
  {
   "cell_type": "code",
   "execution_count": 1,
   "id": "e6d08917-0fbe-4054-8f3a-85e5db0cbe82",
   "metadata": {},
   "outputs": [
    {
     "name": "stderr",
     "output_type": "stream",
     "text": [
      "/home/spark/.local/lib/python3.8/site-packages/tqdm/auto.py:22: TqdmWarning: IProgress not found. Please update jupyter and ipywidgets. See https://ipywidgets.readthedocs.io/en/stable/user_install.html\n",
      "  from .autonotebook import tqdm as notebook_tqdm\n"
     ]
    }
   ],
   "source": [
    "from pipelines import Pipeline\n",
    "from pipelines.nodes import InitSparkNode\n",
    "from pipelines.nodes import StopSparkNode\n",
    "from pipelines.nodes import DataLoaderNode\n",
    "from pipelines.nodes import TwoTowersEstimatorNode\n",
    "from pipelines.nodes import RetrievalEvaluatorNode\n",
    "from pipelines.nodes import I2IEstimatorNode"
   ]
  },
  {
   "cell_type": "markdown",
   "id": "f78e5ec4-5249-4a59-8a49-7179d366c086",
   "metadata": {},
   "source": [
    "### Logging Configuration"
   ]
  },
  {
   "cell_type": "code",
   "execution_count": 2,
   "id": "88293f63-0426-40d7-990d-f87a3339d2cf",
   "metadata": {},
   "outputs": [],
   "source": [
    "import logging\n",
    "logger = logging.getLogger()\n",
    "logger.setLevel(logging.INFO)"
   ]
  },
  {
   "cell_type": "markdown",
   "id": "551bd4f2-3fc3-4ec2-8e3b-85171bb886d9",
   "metadata": {},
   "source": [
    "### Test Spark Session Start and Stop"
   ]
  },
  {
   "cell_type": "code",
   "execution_count": null,
   "id": "33e92778-7d91-40f2-b438-63bb6cee8380",
   "metadata": {},
   "outputs": [],
   "source": [
    "p = Pipeline('./pipeline_test.yaml')\n",
    "p.add_node(InitSparkNode())\n",
    "p.add_node(StopSparkNode())\n",
    "p.run()"
   ]
  },
  {
   "cell_type": "code",
   "execution_count": null,
   "id": "4c2a558e-7782-46d5-8eab-39548114a02d",
   "metadata": {},
   "outputs": [],
   "source": [
    "p = Pipeline('./pipeline_test.yaml', infer=True)\n",
    "p.run()"
   ]
  },
  {
   "cell_type": "markdown",
   "id": "c5ab908f-e300-4730-bf10-eddd995d1250",
   "metadata": {},
   "source": [
    "### Test Two Twoers Pipeline"
   ]
  },
  {
   "cell_type": "code",
   "execution_count": null,
   "id": "4ea68f64-7876-482b-8d8c-3893a92925ff",
   "metadata": {},
   "outputs": [],
   "source": [
    "p = Pipeline('./two_towers_test.yaml', infer=True)\n",
    "p.run()"
   ]
  },
  {
   "cell_type": "markdown",
   "id": "a30a6d1b-9688-4fbb-92a5-51359c05d6d3",
   "metadata": {},
   "source": [
    "### Test ItemCF Pipeline"
   ]
  },
  {
   "cell_type": "code",
   "execution_count": null,
   "id": "42ccaccc-053c-49f0-9bfd-593c7774d424",
   "metadata": {},
   "outputs": [],
   "source": [
    "p = Pipeline('./i2i_test.yaml', infer=True)\n",
    "p.run()"
   ]
  },
  {
   "cell_type": "markdown",
   "id": "dd3842d8-2b2a-4b88-87a1-548dde322aa2",
   "metadata": {},
   "source": [
    "### Test DeepFM Pipeline"
   ]
  },
  {
   "cell_type": "code",
   "execution_count": 3,
   "id": "b022c39e-3e2b-4ce5-92e4-6b9bc6672bef",
   "metadata": {},
   "outputs": [
    {
     "name": "stdout",
     "output_type": "stream",
     "text": [
      "Debug -- load config:  {'logging': {'loglevel': 'debug'}, 'spark': {'node_class': 'InitSparkNode', 'node_priority': 10, 'session_confs': {'app_name': 'Deep CTR Pipeline Demo', 'local': False, 'worker_count': 2, 'worker_cpu': 4, 'server_count': 2, 'server_cpu': 4, 'batch_size': 128, 'worker_memory': '10G', 'server_memory': '10G', 'coordinator_memory': '10G'}, 'extended_confs': {'spark.network.timeout': '500', 'spark.ui.showConsoleProgress': 'true', 'spark.kubernetes.executor.deleteOnTermination': 'true'}, 'pyzip': {'cwd_path': '/home/spark/work/MetaSpore/', 'zip_file_path': '/home/spark/work/MetaSpore/solutions/recommend/offline/python.zip'}}, 'dataset': {'node_class': 'DataLoaderNode', 'node_priority': 20, 'train_path': 's3://dmetasoul-bucket/demo/datasets/soc-pokec/demo_fg/train_dataset_rank.parquet', 'test_path': 's3://dmetasoul-bucket/demo/datasets/soc-pokec/demo_fg/test_dataset_rank.parquet', 'user_id_column': 'user_id', 'item_id_column': 'friend_id', 'label_column': 'label', 'label_value': '1', 'last_item_id_column': 'last_friend_id'}, 'training': {'node_class': 'DeepCTREstimatorNode', 'node_priority': 30, 'deep_ctr_model_class': {'module_name': 'python.algos.deepfm_net', 'class_name': 'DeepFM'}, 'wide_column_name_path': 's3://dmetasoul-bucket/demo/datasets/soc-pokec/demo_schema/column_name.txt', 'wide_combine_schema_path': 's3://dmetasoul-bucket/demo/datasets/soc-pokec/demo_schema/wide_combine_schema.txt', 'deep_column_name_path': 's3://dmetasoul-bucket/demo/datasets/soc-pokec/demo_schema/column_name.txt', 'deep_combine_schema_path': 's3://dmetasoul-bucket/demo/datasets/soc-pokec/demo_schema/deep_combine_schema.txt', 'model_in_path': None, 'model_out_path': 's3://dmetasoul-bucket/demo/soc-pokec/deepfm/model_out/', 'model_version': '0.1', 'experiment_name': 'soc_pokec_dfm', 'input_label_column_index': 0, 'metric_update_interval': 100, 'use_wide': True, 'use_dnn': True, 'use_fm': True, 'wide_embedding_dim': 10, 'deep_embedding_dim': 10, 'adam_learning_rate': 0.0001, 'ftrl_l1': 1.0, 'ftrl_l2': 120.0, 'ftrl_alpha': 0.5, 'ftrl_beta': 1.0, 'dnn_hidden_units': [1024, 1024, 1024], 'sparse_init_var': 0.01, 'dnn_hidden_activations': 'ReLU', 'use_bias': True, 'batch_norm': True, 'net_dropout': 0, 'net_regularizer': None, 'training_epoches': 1, 'shuffle_training_dataset': True}, 'evaluation': {'node_class': 'RankEvaluatorNode', 'node_priority': 40}, 'spark_stop': {'node_class': 'StopSparkNode', 'node_priority': 99}}\n",
      "Debug - clazz:  <class 'pipelines.nodes.init_spark.InitSparkNode'>\n",
      "Debug - clazz:  <class 'pipelines.nodes.data_loader.DataLoaderNode'>\n",
      "Debug - clazz:  <class 'pipelines.nodes.deep_ctr_estimator.DeepCTREstimatorNode'>\n",
      "Debug - clazz:  <class 'pipelines.nodes.rank_evaluator.RankEvaluatorNode'>\n",
      "Debug - clazz:  <class 'pipelines.nodes.stop_spark.StopSparkNode'>\n",
      "updating: python/ (stored 0%)\n",
      "updating: python/algos/ (stored 0%)\n",
      "updating: python/algos/xdeepfm_net.py (deflated 71%)\n",
      "updating: python/algos/widedeep_net.py (deflated 68%)\n",
      "updating: python/algos/tuner/ (stored 0%)\n",
      "updating: python/algos/tuner/base_tuner.py (deflated 70%)\n",
      "updating: python/algos/multitask/ (stored 0%)\n",
      "updating: python/algos/multitask/mmoe/ (stored 0%)\n",
      "updating: python/algos/multitask/mmoe/mmoe_net.py (deflated 75%)\n",
      "updating: python/algos/multitask/mmoe/mmoe_agent.py (deflated 70%)\n",
      "updating: python/algos/multitask/mmoe/__pycache__/ (stored 0%)\n",
      "updating: python/algos/multitask/mmoe/__pycache__/mmoe_net.cpython-38.pyc (deflated 43%)\n",
      "updating: python/algos/multitask/mmoe/__pycache__/mmoe_agent.cpython-38.pyc (deflated 52%)\n",
      "updating: python/algos/multitask/mmoe/.ipynb_checkpoints/ (stored 0%)\n",
      "updating: python/algos/multitask/mmoe/.ipynb_checkpoints/mmoe_net-checkpoint.py (deflated 75%)\n",
      "updating: python/algos/multitask/mmoe/.ipynb_checkpoints/mmoe_agent-checkpoint.py (deflated 70%)\n",
      "updating: python/algos/multitask/esmm/ (stored 0%)\n",
      "updating: python/algos/multitask/esmm/esmm_net.py (deflated 69%)\n",
      "updating: python/algos/multitask/esmm/esmm_agent.py (deflated 74%)\n",
      "updating: python/algos/multitask/esmm/__pycache__/ (stored 0%)\n",
      "updating: python/algos/multitask/esmm/__pycache__/esmm_agent.cpython-38.pyc (deflated 54%)\n",
      "updating: python/algos/multitask/esmm/__pycache__/esmm_net.cpython-38.pyc (deflated 41%)\n",
      "updating: python/algos/multitask/esmm/.ipynb_checkpoints/ (stored 0%)\n",
      "updating: python/algos/multitask/esmm/.ipynb_checkpoints/esmm_agent-checkpoint.py (deflated 74%)\n",
      "updating: python/algos/multitask/esmm/.ipynb_checkpoints/esmm_net-checkpoint.py (deflated 69%)\n",
      "updating: python/algos/multitask/__init__.py (deflated 43%)\n",
      "updating: python/algos/multitask/__pycache__/ (stored 0%)\n",
      "updating: python/algos/multitask/__pycache__/__init__.cpython-38.pyc (deflated 32%)\n",
      "updating: python/algos/multitask/.ipynb_checkpoints/ (stored 0%)\n",
      "updating: python/algos/multitask/.ipynb_checkpoints/__init__-checkpoint.py (deflated 43%)\n",
      "updating: python/algos/item_cf_retrieval.py (deflated 77%)\n",
      "updating: python/algos/pnn_net.py (deflated 70%)\n",
      "updating: python/algos/feature/ (stored 0%)\n",
      "updating: python/algos/feature/woe_encoder.py (deflated 64%)\n",
      "updating: python/algos/feature/__init__.py (deflated 37%)\n",
      "updating: python/algos/feature/__pycache__/ (stored 0%)\n",
      "updating: python/algos/feature/__pycache__/__init__.cpython-38.pyc (deflated 18%)\n",
      "updating: python/algos/feature/__pycache__/woe_encoder.cpython-38.pyc (deflated 43%)\n",
      "updating: python/algos/feature/__pycache__/quantile_bucketizer.cpython-38.pyc (deflated 37%)\n",
      "updating: python/algos/feature/.ipynb_checkpoints/ (stored 0%)\n",
      "updating: python/algos/feature/.ipynb_checkpoints/woe_encoder-checkpoint.py (deflated 64%)\n",
      "updating: python/algos/feature/.ipynb_checkpoints/__init__-checkpoint.py (deflated 37%)\n",
      "updating: python/algos/__init__.py (deflated 38%)\n",
      "updating: python/algos/dcn_v2_net.py (deflated 75%)\n",
      "updating: python/algos/__pycache__/ (stored 0%)\n",
      "updating: python/algos/__pycache__/__init__.cpython-38.pyc (deflated 22%)\n",
      "updating: python/algos/__pycache__/layers.cpython-38.pyc (deflated 59%)\n",
      "updating: python/algos/__pycache__/item_cf_retrieval.cpython-38.pyc (deflated 54%)\n",
      "updating: python/algos/.ipynb_checkpoints/ (stored 0%)\n",
      "updating: python/algos/.ipynb_checkpoints/autoint_net-checkpoint.py (deflated 70%)\n",
      "updating: python/algos/.ipynb_checkpoints/item_cf_retrieval-checkpoint.py (deflated 77%)\n",
      "updating: python/algos/.ipynb_checkpoints/pnn_net-checkpoint.py (deflated 70%)\n",
      "updating: python/algos/.ipynb_checkpoints/layers-checkpoint.py (deflated 77%)\n",
      "updating: python/algos/.ipynb_checkpoints/dcn_net-checkpoint.py (deflated 69%)\n",
      "updating: python/algos/.ipynb_checkpoints/xdeepfm_net-checkpoint.py (deflated 71%)\n",
      "updating: python/algos/.ipynb_checkpoints/deepfm_net-checkpoint.py (deflated 69%)\n",
      "updating: python/algos/.ipynb_checkpoints/dcn_v2_net-checkpoint.py (deflated 75%)\n",
      "updating: python/algos/dcn_net.py (deflated 69%)\n",
      "updating: python/algos/dssm_net.py (deflated 78%)\n",
      "updating: python/algos/autoint_net.py (deflated 70%)\n",
      "updating: python/algos/two_tower_retrieval_milvus.py (deflated 81%)\n",
      "updating: python/algos/simplex/ (stored 0%)\n",
      "updating: python/algos/simplex/simplex_net.py (deflated 71%)\n",
      "updating: python/algos/simplex/simplex_agent.py (deflated 64%)\n",
      "updating: python/algos/simplex/.ipynb_checkpoints/ (stored 0%)\n",
      "updating: python/algos/simplex/.ipynb_checkpoints/simplex_net-checkpoint.py (deflated 71%)\n",
      "updating: python/algos/simplex/simplex_metric.py (deflated 68%)\n",
      "updating: python/algos/deepfm_net.py (deflated 69%)\n",
      "updating: python/algos/layers.py (deflated 77%)\n",
      "updating: python/tests/ (stored 0%)\n",
      "updating: python/tests/sparse_wdl_export_test.py (deflated 66%)\n",
      "updating: python/tests/sparse_wdl_grpc_test.py (deflated 52%)\n",
      "updating: python/tests/mnist_mlp_eval.py (deflated 57%)\n",
      "updating: python/tests/verify_java_tensor_serde.py (deflated 42%)\n",
      "updating: python/tests/mnist_mlp.py (deflated 59%)\n",
      "updating: python/tests/sparse_two_tower_export_demo.py (deflated 73%)\n",
      "updating: python/tests/dense_xgboost_grpc_test.py (deflated 44%)\n",
      "updating: python/tests/dense_xgboost.py (deflated 46%)\n",
      "updating: python/tests/requirements.txt (deflated 24%)\n",
      "updating: python/tests/two_tower_retrieval_milvus.py (deflated 81%)\n",
      "updating: python/tests/sparse_mlp_export_demo.py (deflated 64%)\n",
      "updating: python/tests/embedding_bag_export.py (deflated 61%)\n",
      "updating: python/tests/sparse_wdl_export_demo.py (deflated 64%)\n",
      "updating: python/setup.py (deflated 60%)\n",
      "updating: python/metaspore/ (stored 0%)\n",
      "updating: python/metaspore/two_tower_retrieval.py (deflated 81%)\n",
      "updating: python/metaspore/distributed_tensor.py (deflated 80%)\n",
      "updating: python/metaspore/output.py (deflated 56%)\n",
      "updating: python/metaspore/distributed_trainer.py (deflated 76%)\n",
      "updating: python/metaspore/model.py (deflated 81%)\n",
      "updating: python/metaspore/shell_utils.py (deflated 65%)\n",
      "updating: python/metaspore/embedding.py (deflated 83%)\n",
      "updating: python/metaspore/demo.py (deflated 54%)\n",
      "updating: python/metaspore/experiment.py (deflated 76%)\n",
      "updating: python/metaspore/agent.py (deflated 77%)\n",
      "updating: python/metaspore/updater.py (deflated 81%)\n",
      "updating: python/metaspore/spark.py (deflated 69%)\n",
      "updating: python/metaspore/input.py (deflated 55%)\n",
      "updating: python/metaspore/initializer.py (deflated 76%)\n",
      "updating: python/metaspore/url_utils.py (deflated 40%)\n",
      "updating: python/metaspore/compat/ (stored 0%)\n",
      "updating: python/metaspore/compat/__init__.py (deflated 52%)\n",
      "updating: python/metaspore/compat/ps/ (stored 0%)\n",
      "updating: python/metaspore/compat/ps/__init__.py (deflated 66%)\n",
      "updating: python/metaspore/__init__.py (deflated 69%)\n",
      "updating: python/metaspore/metric.py (deflated 75%)\n",
      "updating: python/metaspore/network_utils.py (deflated 52%)\n",
      "updating: python/metaspore/loss_utils.py (deflated 40%)\n",
      "updating: python/metaspore/s3_utils.py (deflated 68%)\n",
      "updating: python/metaspore/file_utils.py (deflated 69%)\n",
      "updating: python/metaspore/patching_pickle.py (deflated 72%)\n",
      "updating: python/metaspore/job_utils.py (deflated 47%)\n",
      "updating: python/metaspore/estimator.py (deflated 82%)\n",
      "updating: python/metaspore/name_utils.py (deflated 37%)\n",
      "updating: python/metaspore/swing_retrieval.py (deflated 79%)\n",
      "updating: python/metaspore/two_tower_ranking.py (deflated 80%)\n",
      "updating: python/metaspore/stack_trace_utils.py (deflated 43%)\n",
      "updating: python/metaspore/ps_launcher.py (deflated 68%)\n",
      "updating: python/metaspore/nn/ (stored 0%)\n",
      "updating: python/metaspore/nn/__init__.py (deflated 41%)\n",
      "updating: python/metaspore/nn/wide_and_deep.py (deflated 75%)\n",
      "updating: python/metaspore/nn/normalization.py (deflated 61%)\n",
      "updating: python/metaspore/nn/deep_fm.py (deflated 70%)\n",
      "updating: python/metaspore/nn/fm.py (deflated 47%)\n",
      "updating: python/metaspore/cast.py (deflated 68%)\n",
      "updating: python/ps/ (stored 0%)\n",
      "updating: python/ps/job.py (deflated 81%)\n",
      "updating: python/ps/__init__.py (deflated 42%)\n",
      "updating: python/scripts/ (stored 0%)\n",
      "updating: python/scripts/preprocessing/ (stored 0%)\n",
      "updating: python/scripts/preprocessing/preprocessor_service.py (deflated 69%)\n",
      "updating: python/scripts/preprocessing/example_preprocessor.py (deflated 54%)\n",
      "updating: python/scripts/preprocessing/example_requirements.txt (stored 0%)\n",
      "updating: python/scripts/preprocessing/test_example_preprocessor.py (deflated 51%)\n",
      "updating: python/scripts/consul/ (stored 0%)\n",
      "updating: python/scripts/consul/consul_watch_load.py (deflated 72%)\n",
      "updating: python/scripts/consul/build.sh (deflated 30%)\n",
      "updating: python/scripts/consul/Dockerfile (deflated 44%)\n",
      "updating: python/scripts/consul/create_consul_watch.sh (deflated 17%)\n"
     ]
    },
    {
     "name": "stderr",
     "output_type": "stream",
     "text": [
      "WARNING: An illegal reflective access operation has occurred\n",
      "WARNING: Illegal reflective access by org.apache.spark.unsafe.Platform (file:/opt/spark/jars/spark-unsafe_2.12-3.1.2.jar) to constructor java.nio.DirectByteBuffer(long,int)\n",
      "WARNING: Please consider reporting this to the maintainers of org.apache.spark.unsafe.Platform\n",
      "WARNING: Use --illegal-access=warn to enable warnings of further illegal reflective access operations\n",
      "WARNING: All illegal access operations will be denied in a future release\n",
      "22/06/28 08:47:15 WARN NativeCodeLoader: Unable to load native-hadoop library for your platform... using builtin-java classes where applicable\n",
      "Using Spark's default log4j profile: org/apache/spark/log4j-defaults.properties\n",
      "Setting default log level to \"WARN\".\n",
      "To adjust logging level use sc.setLogLevel(newLevel). For SparkR, use setLogLevel(newLevel).\n"
     ]
    },
    {
     "name": "stdout",
     "output_type": "stream",
     "text": [
      "[2022-06-28 08:47:21,067] {init_spark.py:56} INFO - Spark init, version: 3.1.2, applicationId: spark-application-1656406036983, uiWebUrl: http://10.0.1.219:4040\n"
     ]
    },
    {
     "name": "stderr",
     "output_type": "stream",
     "text": [
      "                                                                                \r"
     ]
    },
    {
     "name": "stdout",
     "output_type": "stream",
     "text": [
      "[2022-06-28 08:47:24,452] {data_loader.py:29} INFO - Train dataset is loaded: s3://dmetasoul-bucket/demo/datasets/soc-pokec/demo_fg/train_dataset_rank.parquet\n",
      "[2022-06-28 08:47:25,178] {data_loader.py:32} INFO - Test dataset is loaded: s3://dmetasoul-bucket/demo/datasets/soc-pokec/demo_fg/test_dataset_rank.parquet\n",
      "Debug - clazz:  <class 'python.algos.deepfm_net.DeepFM'>\n",
      "[2022-06-28 08:47:25,232] {credentials.py:1111} INFO - Found credentials in environment variables.\n",
      "Get aws endpoint from env: ks3-cn-beijing-internal.ksyuncs.com\n",
      "\u001b[32mloaded combine schema from\u001b[m \u001b[32mcolumn name file \u001b[m's3://dmetasoul-bucket/demo/datasets/soc-pokec/demo_schema/column_name.txt' \u001b[32mand combine schema file \u001b[m's3://dmetasoul-bucket/demo/datasets/soc-pokec/demo_schema/wide_combine_schema.txt'[WARN] 2022-06-28 08:47:25.348 STSAssumeRoleWithWebIdentityCredentialsProvider [139773458003776] Token file must be specified to use STS AssumeRole web identity creds provider.\n",
      "[2022-06-28 08:47:25.348] [info] ../cpp/metaspore/s3_sdk_filesys.cpp:411 -- Try to open S3 stream: s3://dmetasoul-bucket/demo/datasets/soc-pokec/demo_schema/column_name.txt, read_only: true\n",
      "\n",
      "[2022-06-28 08:47:25.386] [info] ../cpp/metaspore/s3_sdk_filesys.cpp:437 -- Opened read-only stream for object: s3://dmetasoul-bucket/demo/datasets/soc-pokec/demo_schema/column_name.txt with total length: 125\n",
      "\n",
      "[2022-06-28 08:47:25.390] [info] ../cpp/metaspore/s3_sdk_filesys.cpp:479 -- Read S3 object s3://dmetasoul-bucket/demo/datasets/soc-pokec/demo_schema/column_name.txt with size 125 at position 0 larger than total size: 125, change size to 125\n",
      "\n",
      "[2022-06-28 08:47:25.422] [info] ../cpp/metaspore/s3_sdk_filesys.cpp:472 -- Read S3 object s3://dmetasoul-bucket/demo/datasets/soc-pokec/demo_schema/column_name.txt reached end 125\n",
      "\n",
      "\n",
      "[2022-06-28 08:47:25.422] [info] ../cpp/metaspore/s3_sdk_filesys.cpp:472 -- Read S3 object s3://dmetasoul-bucket/demo/datasets/soc-pokec/demo_schema/column_name.txt reached end 125\n",
      "\n",
      "[WARN] 2022-06-28 08:47:25.423 STSAssumeRoleWithWebIdentityCredentialsProvider [139773458003776] Token file must be specified to use STS AssumeRole web identity creds provider.\n",
      "[2022-06-28 08:47:25.423] [info] ../cpp/metaspore/s3_sdk_filesys.cpp:411 -- Try to open S3 stream: s3://dmetasoul-bucket/demo/datasets/soc-pokec/demo_schema/wide_combine_schema.txt, read_only: true\n",
      "\n",
      "[2022-06-28 08:47:25.460] [info] ../cpp/metaspore/s3_sdk_filesys.cpp:437 -- Opened read-only stream for object: s3://dmetasoul-bucket/demo/datasets/soc-pokec/demo_schema/wide_combine_schema.txt with total length: 119\n",
      "\n",
      "[2022-06-28 08:47:25.464] [info] ../cpp/metaspore/s3_sdk_filesys.cpp:479 -- Read S3 object s3://dmetasoul-bucket/demo/datasets/soc-pokec/demo_schema/wide_combine_schema.txt with size 119 at position 0 larger than total size: 119, change size to 119\n",
      "\n",
      "[2022-06-28 08:47:25.536] [info] ../cpp/metaspore/s3_sdk_filesys.cpp:472 -- Read S3 object s3://dmetasoul-bucket/demo/datasets/soc-pokec/demo_schema/wide_combine_schema.txt reached end 119\n",
      "\n",
      "[2022-06-28 08:47:25.536] [info] ../cpp/metaspore/s3_sdk_filesys.cpp:472 -- Read S3 object s3://dmetasoul-bucket/demo/datasets/soc-pokec/demo_schema/wide_combine_schema.txt reached end 119\n",
      "\n",
      "[WARN] 2022-06-28 08:47:25.660 STSAssumeRoleWithWebIdentityCredentialsProvider [139773458003776] Token file must be specified to use STS AssumeRole web identity creds provider.\n",
      "[2022-06-28 08:47:25.660] [info] ../cpp/metaspore/s3_sdk_filesys.cpp:411 -- Try to open S3 stream: s3://dmetasoul-bucket/demo/datasets/soc-pokec/demo_schema/column_name.txt, read_only: true\n",
      "\n",
      "\u001b[32mloaded combine schema from\u001b[m \u001b[32mcolumn name file \u001b[m's3://dmetasoul-bucket/demo/datasets/soc-pokec/demo_schema/column_name.txt' \u001b[32mand combine schema file \u001b[m's3://dmetasoul-bucket/demo/datasets/soc-pokec/demo_schema/deep_combine_schema.txt'[2022-06-28 08:47:25.812] [info] ../cpp/metaspore/s3_sdk_filesys.cpp:437 -- Opened read-only stream for object: s3://dmetasoul-bucket/demo/datasets/soc-pokec/demo_schema/column_name.txt with total length: 125\n",
      "\n",
      "[2022-06-28 08:47:25.813] [info] ../cpp/metaspore/s3_sdk_filesys.cpp:479 -- Read S3 object s3://dmetasoul-bucket/demo/datasets/soc-pokec/demo_schema/column_name.txt with size 125 at position 0 larger than total size: 125, change size to 125\n",
      "\n",
      "[2022-06-28 08:47:25.944] [info] ../cpp/metaspore/s3_sdk_filesys.cpp:472 -- Read S3 object s3://dmetasoul-bucket/demo/datasets/soc-pokec/demo_schema/column_name.txt reached end 125\n",
      "\n",
      "[2022-06-28 08:47:25.944] [info] ../cpp/metaspore/s3_sdk_filesys.cpp:472 -- Read S3 object s3://dmetasoul-bucket/demo/datasets/soc-pokec/demo_schema/column_name.txt reached end 125\n",
      "\n",
      "[WARN] 2022-06-28 08:47:25.945 STSAssumeRoleWithWebIdentityCredentialsProvider [139773458003776] Token file must be specified to use STS AssumeRole web identity creds provider.\n",
      "[2022-0\n",
      "6-28 08:47:25.945] [info] ../cpp/metaspore/s3_sdk_filesys.cpp:411 -- Try to open S3 stream: s3://dmetasoul-bucket/demo/datasets/soc-pokec/demo_schema/deep_combine_schema.txt, read_only: true\n",
      "\n",
      "[2022-06-28 08:47:25.970] [info] ../cpp/metaspore/s3_sdk_filesys.cpp:437 -- Opened read-only stream for object: s3://dmetasoul-bucket/demo/datasets/soc-pokec/demo_schema/deep_combine_schema.txt with total length: 119\n",
      "\n",
      "[2022-06-28 08:47:25.970] [info] ../cpp/metaspore/s3_sdk_filesys.cpp:479 -- Read S3 object s3://dmetasoul-bucket/demo/datasets/soc-pokec/demo_schema/deep_combine_schema.txt with size 119 at position 0 larger than total size: 119, change size to 119\n",
      "\n",
      "[2022-06-28 08:47:26.017] [info] ../cpp/metaspore/s3_sdk_filesys.cpp:472 -- Read S3 object s3://dmetasoul-bucket/demo/datasets/soc-pokec/demo_schema/deep_combine_schema.txt reached end 119\n",
      "\n",
      "[2022-06-28 08:47:26.017] [info] ../cpp/metaspore/s3_sdk_filesys.cpp:472 -- Read S3 object s3://dmetasoul-bucket/demo/datasets/soc-pokec/demo_schema/deep_combine_schema.txt reached end 119\n",
      "\n",
      "[2022-06-28 08:47:29.567] [info] PS job with coordinator address 10.0.1.219:37265 started.\n",
      "[2022-06-28 08:47:29.567] [info] PSRunner::RunPS: pid: 26268, tid: 26408, thread: 0x7f1f26c9f700\n",
      "[2022-06-28 08:47:29.567] [info] PSRunner::RunPSCoordinator: pid: 26268, tid: 26408, thread: 0x7f1f26c9f700\n",
      "[2022-06-28 08:47:29.568] [info] ActorProcess::Receiving: Coordinator pid: 26268, tid: 26411, thread: 0x7f1f2549c700\n"
     ]
    },
    {
     "name": "stderr",
     "output_type": "stream",
     "text": [
      "[Stage 2:>                  (0 + 2) / 2][Stage 3:>                  (0 + 2) / 2]\r"
     ]
    },
    {
     "name": "stdout",
     "output_type": "stream",
     "text": [
      "[2022-06-28 08:47:30.793] [info] C[0]:9: The coordinator has connected to 2 servers and 2 workers.\n",
      "PS Coordinator node \u001b[32mC[0]:9\u001b[m is ready.\n"
     ]
    },
    {
     "name": "stderr",
     "output_type": "stream",
     "text": [
      "[Stage 2:>                                                          (0 + 2) / 2]\r"
     ]
    },
    {
     "name": "stdout",
     "output_type": "stream",
     "text": [
      "shuffle df to partitions 4\n"
     ]
    },
    {
     "name": "stderr",
     "output_type": "stream",
     "text": [
      "[Stage 2:>                  (0 + 2) / 2][Stage 8:>                  (0 + 2) / 4]\r"
     ]
    },
    {
     "name": "stdout",
     "output_type": "stream",
     "text": [
      "2022-06-28 08:47:41.714 -- auc: 0.507963536613131, Δauc: 0.507963536613131, pcoc: 1.066528841985719, Δpcoc: 1.066528841985719, #instance: 12800\n",
      "2022-06-28 08:47:41.790 -- auc: 0.5026977259783971, Δauc: 0.4973423331991432, pcoc: 1.0558814052511563, Δpcoc: 1.0454046952234073, #instance: 25600\n",
      "2022-06-28 08:47:46.918 -- auc: 0.5092527321054813, Δauc: 0.5291726906400186, pcoc: 1.0379855655736692, Δpcoc: 1.0017089957926508, #instance: 38400\n",
      "2022-06-28 08:47:47.055 -- auc: 0.5153824780059881, Δauc: 0.5393174968326576, pcoc: 1.0262976861214925, Δpcoc: 0.9912814261350522, #instance: 51200\n",
      "2022-06-28 08:47:52.236 -- auc: 0.527018264229663, Δauc: 0.581247292347939, pcoc: 1.023590055908444, Δpcoc: 1.0127264738232178, #instance: 64000\n",
      "2022-06-28 08:47:52.509 -- auc: 0.5357364341085271, Δauc: 0.5822233664348085, pcoc: 1.015775956103412, Δpcoc: 0.9783332970855265, #instance: 76800\n",
      "2022-06-28 08:47:57.486 -- auc: 0.5482734181080828, Δauc: 0.6235973731389699, pcoc: 1.0121829562310896, Δpcoc: 0.9908302082183613, #instance: 89600\n",
      "2022-06-28 08:47:57.871 -- auc: 0.5568704199209407, Δauc: 0.61715067160269, pcoc: 1.0115317376560422, Δpcoc: 1.0069398951396598, #instance: 102400\n",
      "2022-06-28 08:48:02.775 -- auc: 0.5659962728525858, Δauc: 0.6375813580390497, pcoc: 1.010360286341764, Δpcoc: 1.0010535761773605, #instance: 115200\n",
      "2022-06-28 08:48:03.359 -- auc: 0.5729562262880707, Δauc: 0.6348361455539094, pcoc: 1.0087339285358015, Δpcoc: 0.9941328830618824, #instance: 128000\n",
      "2022-06-28 08:48:08.046 -- auc: 0.579120315940416, Δauc: 0.6394806486136997, pcoc: 1.0084193949500437, Δpcoc: 1.0052298170056784, #instance: 140800\n",
      "2022-06-28 08:48:08.753 -- auc: 0.5843708275953048, Δauc: 0.6390227254648817, pcoc: 1.006477043073375, Δpcoc: 0.9857615421296313, #instance: 153600\n",
      "2022-06-28 08:48:13.259 -- auc: 0.5892175779946331, Δauc: 0.6440129055297161, pcoc: 1.0050232351751278, Δpcoc: 0.9881505424326117, #instance: 166400\n",
      "2022-06-28 08:48:14.273 -- auc: 0.5936161276905552, Δauc: 0.6492855748400331, pcoc: 1.0062613036868506, Δpcoc: 1.0225146640241796, #instance: 179200\n",
      "2022-06-28 08:48:18.423 -- auc: 0.5979777346438797, Δauc: 0.6561532947753024, pcoc: 1.0053437443536204, Δpcoc: 0.9926840487477843, #instance: 192000\n",
      "2022-06-28 08:48:19.592 -- auc: 0.6006873385103695, Δauc: 0.6395105523102336, pcoc: 1.0049928617672241, Δpcoc: 0.9998102599226785, #instance: 204800\n",
      "2022-06-28 08:48:23.578 -- auc: 0.6036723878051473, Δauc: 0.6502636572140179, pcoc: 1.0046814130019426, Δpcoc: 0.9995873232632501, #instance: 217600\n",
      "2022-06-28 08:48:24.928 -- auc: 0.6062540105439731, Δauc: 0.6496363317908531, pcoc: 1.0049053522875029, Δpcoc: 1.008788398917871, #instance: 230400\n",
      "2022-06-28 08:48:28.661 -- auc: 0.6086895876506291, Δauc: 0.6508885972552576, pcoc: 1.0045111294317162, Δpcoc: 0.9974151180275578, #instance: 243200\n",
      "2022-06-28 08:48:30.113 -- auc: 0.6110953071601333, Δauc: 0.655145584603883, pcoc: 1.0036458506110357, Δpcoc: 0.9872913899527135, #instance: 256000\n",
      "2022-06-28 08:48:33.849 -- auc: 0.6133847798743732, Δauc: 0.6573550637786493, pcoc: 1.003170042493409, Δpcoc: 0.9937989365366092, #instance: 268800\n",
      "2022-06-28 08:48:35.358 -- auc: 0.615871834473692, Δauc: 0.6658168310496735, pcoc: 1.0033493824566628, Δpcoc: 1.007145067902133, #instance: 281600\n"
     ]
    },
    {
     "name": "stderr",
     "output_type": "stream",
     "text": [
      "[Stage 2:>                  (0 + 2) / 2][Stage 8:>                  (0 + 2) / 4]\r"
     ]
    },
    {
     "name": "stdout",
     "output_type": "stream",
     "text": [
      "2022-06-28 08:48:38.931 -- auc: 0.6177955499749224, Δauc: 0.6582851968076864, pcoc: 1.0032286237550438, Δpcoc: 1.0005710378105257, #instance: 294400\n",
      "2022-06-28 08:48:41.240 -- auc: 0.6196398888859982, Δauc: 0.6600277609832419, pcoc: 1.0026743834826453, Δpcoc: 0.9900628795553913, #instance: 307200\n",
      "2022-06-28 08:48:44.078 -- auc: 0.621038070419705, Δauc: 0.6541835451123756, pcoc: 1.0032874372082439, Δpcoc: 1.0183372292984922, #instance: 320000\n",
      "2022-06-28 08:48:46.380 -- auc: 0.622750087260576, Δauc: 0.664456486901007, pcoc: 1.003090204934931, Δpcoc: 0.9980685633707631, #instance: 332800\n",
      "2022-06-28 08:48:49.189 -- auc: 0.6242801170035908, Δauc: 0.6632096721014613, pcoc: 1.0031053972975765, Δpcoc: 1.0035057593377292, #instance: 345600\n",
      "2022-06-28 08:48:51.627 -- auc: 0.6255432190553927, Δauc: 0.6585177248469397, pcoc: 1.0028414851604526, Δpcoc: 0.995766712573819, #instance: 358400\n",
      "2022-06-28 08:48:54.373 -- auc: 0.6270656231178446, Δauc: 0.6681413897878211, pcoc: 1.0021796116843418, Δpcoc: 0.9837066760825347, #instance: 371200\n"
     ]
    },
    {
     "name": "stderr",
     "output_type": "stream",
     "text": [
      "[Stage 2:>                  (0 + 2) / 2][Stage 8:====>              (1 + 2) / 4]\r"
     ]
    },
    {
     "name": "stdout",
     "output_type": "stream",
     "text": [
      "2022-06-28 08:48:57.002 -- auc: 0.6283651779816739, Δauc: 0.6649857806927193, pcoc: 1.0022223643832824, Δpcoc: 1.0034729840785925, #instance: 384000\n"
     ]
    },
    {
     "name": "stderr",
     "output_type": "stream",
     "text": [
      "[Stage 2:>                  (0 + 2) / 2][Stage 8:=========>         (2 + 2) / 4]\r"
     ]
    },
    {
     "name": "stdout",
     "output_type": "stream",
     "text": [
      "2022-06-28 08:48:59.628 -- auc: 0.6298753317658964, Δauc: 0.6741338200288196, pcoc: 1.0027496469512833, Δpcoc: 1.0190777463776073, #instance: 396751\n",
      "2022-06-28 08:49:02.443 -- auc: 0.6309310360453186, Δauc: 0.6626207194894513, pcoc: 1.002281470500658, Δpcoc: 0.9878005127847931, #instance: 409530\n",
      "2022-06-28 08:49:04.841 -- auc: 0.632210356973715, Δauc: 0.6712381690338045, pcoc: 1.0023985177917334, Δpcoc: 1.0061696568444227, #instance: 422330\n",
      "2022-06-28 08:49:07.766 -- auc: 0.6336410924057043, Δauc: 0.6785238662164687, pcoc: 1.0018876898078255, Δpcoc: 0.9852348848776595, #instance: 435130\n",
      "2022-06-28 08:49:10.052 -- auc: 0.6348947645876264, Δauc: 0.6749999742664623, pcoc: 1.0020303084139008, Δpcoc: 1.0068428327585013, #instance: 447930\n",
      "2022-06-28 08:49:13.121 -- auc: 0.636173706812784, Δauc: 0.6787015024139988, pcoc: 1.0019734373697038, Δpcoc: 0.9999975089722429, #instance: 460730\n",
      "2022-06-28 08:49:15.339 -- auc: 0.6370089700917705, Δauc: 0.6656361165725921, pcoc: 1.0017201106825868, Δpcoc: 0.9926512800580789, #instance: 473530\n",
      "2022-06-28 08:49:18.460 -- auc: 0.638063030852372, Δauc: 0.674750175359799, pcoc: 1.0014234572815552, Δpcoc: 0.9906427989095793, #instance: 486330\n",
      "2022-06-28 08:49:20.501 -- auc: 0.6391616976107908, Δauc: 0.6797665796388674, pcoc: 1.0019803778977, Δpcoc: 1.023637599746072, #instance: 499130\n",
      "2022-06-28 08:49:23.686 -- auc: 0.6401027891303404, Δauc: 0.6750464482362515, pcoc: 1.0016814722920673, Δpcoc: 0.9899151300677271, #instance: 511930\n",
      "2022-06-28 08:49:25.636 -- auc: 0.6411744424472732, Δauc: 0.6821922194355765, pcoc: 1.0017569204397028, Δpcoc: 1.0048272731957402, #instance: 524730\n",
      "2022-06-28 08:49:28.868 -- auc: 0.6422312018499514, Δauc: 0.682810968209133, pcoc: 1.0012511695186372, Δpcoc: 0.980681585877832, #instance: 537530\n",
      "2022-06-28 08:49:30.779 -- auc: 0.6431523523896063, Δauc: 0.6805542404428603, pcoc: 1.0013008430055248, Δpcoc: 1.0034109484899554, #instance: 550330\n",
      "2022-06-28 08:49:34.242 -- auc: 0.6441049953268714, Δauc: 0.6826018533524587, pcoc: 1.001168218348471, Δpcoc: 0.9954870603117627, #instance: 563130\n",
      "2022-06-28 08:49:35.978 -- auc: 0.645137886526717, Δauc: 0.6870229150219636, pcoc: 1.000988787746664, Δpcoc: 0.9932425590133088, #instance: 575930\n",
      "2022-06-28 08:49:39.530 -- auc: 0.6462119451644608, Δauc: 0.6918008931544557, pcoc: 1.0011906328202078, Δpcoc: 1.0104813789884024, #instance: 588730\n",
      "2022-06-28 08:49:41.254 -- auc: 0.647297388146401, Δauc: 0.6927039780507591, pcoc: 1.0010394698364435, Δpcoc: 0.9940779205445129, #instance: 601530\n",
      "2022-06-28 08:49:44.852 -- auc: 0.6481404888822109, Δauc: 0.6864339555557677, pcoc: 1.0015687174770653, Δpcoc: 1.0273912095380426, #instance: 614330\n",
      "2022-06-28 08:49:46.471 -- auc: 0.6489793041236833, Δauc: 0.6861940502266783, pcoc: 1.0010175119610296, Δpcoc: 0.9752132051808823, #instance: 627130\n",
      "2022-06-28 08:49:50.080 -- auc: 0.6500396633717334, Δauc: 0.6989801071989409, pcoc: 1.001396892908794, Δpcoc: 1.020391248352649, #instance: 639930\n",
      "2022-06-28 08:49:51.915 -- auc: 0.6510079587393067, Δauc: 0.6958992752994022, pcoc: 1.0012014548817834, Δpcoc: 0.9914672791571886, #instance: 652730\n",
      "2022-06-28 08:49:55.472 -- auc: 0.6520591736143782, Δauc: 0.701092960453993, pcoc: 1.001103304768974, Δpcoc: 0.9961212038332786, #instance: 665530\n",
      "2022-06-28 08:49:57.195 -- auc: 0.6529940125540121, Δauc: 0.6980266097866674, pcoc: 1.0011522521127878, Δpcoc: 1.0037638081865259, #instance: 678330\n"
     ]
    },
    {
     "name": "stderr",
     "output_type": "stream",
     "text": [
      "[Stage 2:>                  (0 + 2) / 2][Stage 8:=========>         (2 + 2) / 4]\r"
     ]
    },
    {
     "name": "stdout",
     "output_type": "stream",
     "text": [
      "2022-06-28 08:50:01.119 -- auc: 0.6541473565591842, Δauc: 0.7102647628696879, pcoc: 1.0011778179928585, Δpcoc: 1.0025267412865353, #instance: 691130\n",
      "2022-06-28 08:50:02.325 -- auc: 0.6551765901591435, Δauc: 0.706013758327666, pcoc: 1.0010426840111961, Δpcoc: 0.993833085600117, #instance: 703930\n",
      "2022-06-28 08:50:07.010 -- auc: 0.6560182654262423, Δauc: 0.6981598434518522, pcoc: 1.000825003202018, Δpcoc: 0.9889756043752035, #instance: 716730\n",
      "2022-06-28 08:50:07.559 -- auc: 0.6567967076603717, Δauc: 0.6974087136127796, pcoc: 1.0009163870833842, Δpcoc: 1.0059931166229856, #instance: 729530\n",
      "2022-06-28 08:50:12.404 -- auc: 0.6578911265909961, Δauc: 0.7144158764792659, pcoc: 1.0008233171728806, Δpcoc: 0.9955598522557559, #instance: 742330\n",
      "2022-06-28 08:50:12.966 -- auc: 0.6588442392507875, Δauc: 0.7091503620347188, pcoc: 1.0007866869015904, Δpcoc: 0.9986482707557928, #instance: 755130\n"
     ]
    },
    {
     "name": "stderr",
     "output_type": "stream",
     "text": [
      "[Stage 2:>                  (0 + 2) / 2][Stage 8:==============>    (3 + 1) / 4]\r"
     ]
    },
    {
     "name": "stdout",
     "output_type": "stream",
     "text": [
      "2022-06-28 08:50:17.510 -- auc: 0.6596756307611531, Δauc: 0.705771458260142, pcoc: 1.0008526501438104, Δpcoc: 1.004785362968898, #instance: 767930\n"
     ]
    },
    {
     "name": "stderr",
     "output_type": "stream",
     "text": [
      "                                                                                \r"
     ]
    },
    {
     "name": "stdout",
     "output_type": "stream",
     "text": [
      "2022-06-28 08:50:20.550 -- auc: 0.6602838404147775, Δauc: 0.7207665892342783, pcoc: 1.0007427653984688, Δpcoc: 0.9886528241377277, #instance: 774978\n",
      "2022-06-28 08:50:20.562 -- auc: 0.6608544157029217, Δauc: 0.7135595232775066, pcoc: 1.0007189432496455, Δpcoc: 0.998354567784697, #instance: 782739\n"
     ]
    },
    {
     "name": "stderr",
     "output_type": "stream",
     "text": [
      "                                                                                \r"
     ]
    },
    {
     "name": "stdout",
     "output_type": "stream",
     "text": [
      "[2022-06-28 08:50:31.295] [info] C[0]:9 has stopped.\n",
      "[2022-06-28 08:50:31.297] [info] PS job with coordinator address 10.0.1.219:37265 stopped.\n",
      "[2022-06-28 08:50:31.386] [info] PS job with coordinator address 10.0.1.219:60339 started.\n",
      "[2022-06-28 08:50:31.386] [info] PSRunner::RunPS: pid: 26268, tid: 26591, thread: 0x7f1f26c9f700\n",
      "[2022-06-28 08:50:31.386] [info] PSRunner::RunPSCoordinator: pid: 26268, tid: 26591, thread: 0x7f1f26c9f700\n",
      "[2022-06-28 08:50:31.388] [info] ActorProcess::Receiving: Coordinator pid: 26268, tid: 26594, thread: 0x7f1f25c1d700\n",
      "PS Coordinator node \u001b[32mC[0]:9\u001b[m is ready.\n",
      "[2022-06-28 08:50:31.436] [info] C[0]:9: The coordinator has connected to 2 servers and 2 workers.\n"
     ]
    },
    {
     "name": "stderr",
     "output_type": "stream",
     "text": [
      "[Stage 12:>                 (0 + 2) / 2][Stage 16:>                 (0 + 2) / 4]\r"
     ]
    },
    {
     "name": "stdout",
     "output_type": "stream",
     "text": [
      "2022-06-28 08:50:41.925 -- auc: 0.0, Δauc: 0.0, pcoc: nan, Δpcoc: nan, #instance: 12800\n",
      "2022-06-28 08:50:42.480 -- auc: 0.0, Δauc: 0.0, pcoc: nan, Δpcoc: nan, #instance: 25600\n",
      "2022-06-28 08:50:42.886 -- auc: 0.0, Δauc: 0.0, pcoc: nan, Δpcoc: nan, #instance: 38400\n",
      "2022-06-28 08:50:43.033 -- auc: 0.0, Δauc: 0.0, pcoc: nan, Δpcoc: nan, #instance: 51200\n",
      "2022-06-28 08:50:43.473 -- auc: 0.0, Δauc: 0.0, pcoc: nan, Δpcoc: nan, #instance: 64000\n",
      "2022-06-28 08:50:43.512 -- auc: 0.0, Δauc: 0.0, pcoc: nan, Δpcoc: nan, #instance: 76800\n",
      "2022-06-28 08:50:43.995 -- auc: 0.0, Δauc: 0.0, pcoc: nan, Δpcoc: nan, #instance: 89600\n",
      "2022-06-28 08:50:44.033 -- auc: 0.0, Δauc: 0.0, pcoc: nan, Δpcoc: nan, #instance: 102400\n",
      "2022-06-28 08:50:44.468 -- auc: 0.0, Δauc: 0.0, pcoc: nan, Δpcoc: nan, #instance: 115200\n",
      "2022-06-28 08:50:44.539 -- auc: 0.0, Δauc: 0.0, pcoc: nan, Δpcoc: nan, #instance: 128000\n",
      "2022-06-28 08:50:44.953 -- auc: 0.0, Δauc: 0.0, pcoc: nan, Δpcoc: nan, #instance: 140800\n",
      "2022-06-28 08:50:45.034 -- auc: 0.0, Δauc: 0.0, pcoc: nan, Δpcoc: nan, #instance: 153600\n",
      "2022-06-28 08:50:45.422 -- auc: 0.0, Δauc: 0.0, pcoc: nan, Δpcoc: nan, #instance: 166400\n",
      "2022-06-28 08:50:45.547 -- auc: 0.0, Δauc: 0.0, pcoc: nan, Δpcoc: nan, #instance: 179200\n",
      "2022-06-28 08:50:45.961 -- auc: 0.0, Δauc: 0.0, pcoc: nan, Δpcoc: nan, #instance: 192000\n",
      "2022-06-28 08:50:46.029 -- auc: 0.0, Δauc: 0.0, pcoc: nan, Δpcoc: nan, #instance: 204800\n",
      "2022-06-28 08:50:46.434 -- auc: 0.0, Δauc: 0.0, pcoc: nan, Δpcoc: nan, #instance: 217600\n",
      "2022-06-28 08:50:46.506 -- auc: 0.0, Δauc: 0.0, pcoc: nan, Δpcoc: nan, #instance: 230400\n",
      "2022-06-28 08:50:46.910 -- auc: 0.0, Δauc: 0.0, pcoc: nan, Δpcoc: nan, #instance: 243200\n",
      "2022-06-28 08:50:47.013 -- auc: 0.0, Δauc: 0.0, pcoc: nan, Δpcoc: nan, #instance: 256000\n",
      "2022-06-28 08:50:47.382 -- auc: 0.0, Δauc: 0.0, pcoc: nan, Δpcoc: nan, #instance: 268800\n",
      "2022-06-28 08:50:47.494 -- auc: 0.0, Δauc: 0.0, pcoc: nan, Δpcoc: nan, #instance: 281600\n",
      "2022-06-28 08:50:47.869 -- auc: 0.0, Δauc: 0.0, pcoc: nan, Δpcoc: nan, #instance: 294400\n",
      "2022-06-28 08:50:47.981 -- auc: 0.0, Δauc: 0.0, pcoc: nan, Δpcoc: nan, #instance: 307200\n",
      "2022-06-28 08:50:48.353 -- auc: 0.0, Δauc: 0.0, pcoc: nan, Δpcoc: nan, #instance: 320000\n",
      "2022-06-28 08:50:48.488 -- auc: 0.0, Δauc: 0.0, pcoc: nan, Δpcoc: nan, #instance: 332800\n",
      "2022-06-28 08:50:48.854 -- auc: 0.0, Δauc: 0.0, pcoc: nan, Δpcoc: nan, #instance: 345600\n",
      "2022-06-28 08:50:48.994 -- auc: 0.0, Δauc: 0.0, pcoc: nan, Δpcoc: nan, #instance: 358400\n",
      "2022-06-28 08:50:49.327 -- auc: 0.0, Δauc: 0.0, pcoc: nan, Δpcoc: nan, #instance: 371200\n",
      "2022-06-28 08:50:49.498 -- auc: 0.0, Δauc: 0.0, pcoc: nan, Δpcoc: nan, #instance: 384000\n",
      "2022-06-28 08:50:49.812 -- auc: 0.0, Δauc: 0.0, pcoc: nan, Δpcoc: nan, #instance: 396800\n",
      "2022-06-28 08:50:49.995 -- auc: 0.0, Δauc: 0.0, pcoc: nan, Δpcoc: nan, #instance: 409600\n",
      "2022-06-28 08:50:50.306 -- auc: 0.0, Δauc: 0.0, pcoc: nan, Δpcoc: nan, #instance: 422400\n",
      "2022-06-28 08:50:50.468 -- auc: 0.0, Δauc: 0.0, pcoc: nan, Δpcoc: nan, #instance: 435200\n",
      "2022-06-28 08:50:50.796 -- auc: 0.0, Δauc: 0.0, pcoc: nan, Δpcoc: nan, #instance: 448000\n",
      "2022-06-28 08:50:50.947 -- auc: 0.0, Δauc: 0.0, pcoc: nan, Δpcoc: nan, #instance: 460800\n",
      "2022-06-28 08:50:51.290 -- auc: 0.0, Δauc: 0.0, pcoc: nan, Δpcoc: nan, #instance: 473600\n",
      "2022-06-28 08:50:51.422 -- auc: 0.0, Δauc: 0.0, pcoc: nan, Δpcoc: nan, #instance: 486400\n",
      "2022-06-28 08:50:51.792 -- auc: 0.0, Δauc: 0.0, pcoc: nan, Δpcoc: nan, #instance: 499200\n",
      "2022-06-28 08:50:51.902 -- auc: 0.0, Δauc: 0.0, pcoc: nan, Δpcoc: nan, #instance: 512000\n",
      "2022-06-28 08:50:52.274 -- auc: 0.0, Δauc: 0.0, pcoc: nan, Δpcoc: nan, #instance: 524800\n",
      "2022-06-28 08:50:52.389 -- auc: 0.0, Δauc: 0.0, pcoc: nan, Δpcoc: nan, #instance: 537600\n",
      "2022-06-28 08:50:52.859 -- auc: 0.0, Δauc: 0.0, pcoc: nan, Δpcoc: nan, #instance: 550400\n"
     ]
    },
    {
     "name": "stderr",
     "output_type": "stream",
     "text": [
      "[Stage 12:>                 (0 + 2) / 2][Stage 16:====>             (1 + 2) / 4]\r"
     ]
    },
    {
     "name": "stdout",
     "output_type": "stream",
     "text": [
      "2022-06-28 08:50:53.330 -- auc: 0.0, Δauc: 0.0, pcoc: nan, Δpcoc: nan, #instance: 563200\n",
      "2022-06-28 08:50:53.643 -- auc: 0.762889116700937, Δauc: 0.7606075574169062, pcoc: 149.41316180676222, Δpcoc: 3.4480693840554784, #instance: 575877\n"
     ]
    },
    {
     "name": "stderr",
     "output_type": "stream",
     "text": [
      "[Stage 12:>                 (0 + 2) / 2][Stage 16:=========>        (2 + 2) / 4]\r"
     ]
    },
    {
     "name": "stdout",
     "output_type": "stream",
     "text": [
      "2022-06-28 08:50:54.171 -- auc: 0.745738375091797, Δauc: 1.0, pcoc: 10.119893714437417, Δpcoc: 0.36936494797468183, #instance: 588677\n",
      "2022-06-28 08:50:54.478 -- auc: 0.7438812077550316, Δauc: 0.7289166853721833, pcoc: 8.729776523244663, Δpcoc: 1.2926495503634214, #instance: 601400\n",
      "2022-06-28 08:50:54.658 -- auc: 0.7383977750863397, Δauc: 1.0, pcoc: 5.04146501093709, Δpcoc: 0.3573093903064728, #instance: 614200\n",
      "2022-06-28 08:50:55.000 -- auc: 0.7381428824540357, Δauc: 1.0, pcoc: 3.6104733230323967, Δpcoc: 0.3621221914887428, #instance: 627000\n",
      "2022-06-28 08:50:55.138 -- auc: 0.740526927814358, Δauc: 1.0, pcoc: 2.852718059715119, Δpcoc: 0.37485834866762163, #instance: 639800\n"
     ]
    },
    {
     "name": "stderr",
     "output_type": "stream",
     "text": [
      "[Stage 12:>                 (0 + 2) / 2][Stage 16:=============>    (3 + 1) / 4]\r"
     ]
    },
    {
     "name": "stdout",
     "output_type": "stream",
     "text": [
      "2022-06-28 08:50:55.712 -- auc: 0.7403543051561501, Δauc: 1.0, pcoc: 2.380292801578764, Δpcoc: 0.3630369493365288, #instance: 652600\n",
      "2022-06-28 08:50:56.206 -- auc: 0.7387625014535197, Δauc: 1.0, pcoc: 2.0575684840884505, Δpcoc: 0.35681133091449735, #instance: 665400\n",
      "2022-06-28 08:50:56.688 -- auc: 0.7371057876788158, Δauc: 1.0, pcoc: 1.8229241759363854, Δpcoc: 0.351704363822937, #instance: 678200\n",
      "2022-06-28 08:50:57.177 -- auc: 0.7361201075750144, Δauc: 1.0, pcoc: 1.6454915263776768, Δpcoc: 0.35555616408586505, #instance: 691000\n",
      "2022-06-28 08:50:57.671 -- auc: 0.7367755839261433, Δauc: 1.0, pcoc: 1.5076313100136343, Δpcoc: 0.3675273206830025, #instance: 703800\n",
      "2022-06-28 08:50:58.156 -- auc: 0.736711387482809, Δauc: 1.0, pcoc: 1.3963719027474188, Δpcoc: 0.3649971973896027, #instance: 716600\n",
      "2022-06-28 08:50:58.641 -- auc: 0.7370252508740283, Δauc: 1.0, pcoc: 1.3045365097994495, Δpcoc: 0.3613870242238045, #instance: 729400\n",
      "2022-06-28 08:50:59.143 -- auc: 0.7357160917863292, Δauc: 1.0, pcoc: 1.226723907774993, Δpcoc: 0.34977588295936585, #instance: 742200\n",
      "2022-06-28 08:50:59.636 -- auc: 0.7354984729818173, Δauc: 1.0, pcoc: 1.1611652922702178, Δpcoc: 0.3567610800266266, #instance: 755000\n",
      "2022-06-28 08:51:00.126 -- auc: 0.7338458500987353, Δauc: 1.0, pcoc: 1.1037278012871825, Δpcoc: 0.3415322959423065, #instance: 767800\n"
     ]
    },
    {
     "name": "stderr",
     "output_type": "stream",
     "text": [
      "                                                                                \r"
     ]
    },
    {
     "name": "stdout",
     "output_type": "stream",
     "text": [
      "2022-06-28 08:51:00.654 -- auc: 0.7339906971030847, Δauc: 1.0, pcoc: 1.0636309296913071, Δpcoc: 0.3657810794563166, #instance: 778295\n",
      "2022-06-28 08:51:00.666 -- auc: 0.7338396644091144, Δauc: 1.0, pcoc: 1.047662703198621, Δpcoc: 0.35363054404271604, #instance: 782739\n",
      "[2022-06-28 08:51:00.679] [info] C[0]:9 has stopped.\n",
      "[2022-06-28 08:51:00.679] [info] PS job with coordinator address 10.0.1.219:60339 stopped.\n",
      "[2022-06-28 08:51:00.757] [info] PS job with coordinator address 10.0.1.219:57623 started.\n",
      "[2022-06-28 08:51:00.757] [info] PSRunner::RunPS: pid: 26268, tid: 26668, thread: 0x7f1ef17fa700\n",
      "[2022-06-28 08:51:00.757] [info] PSRunner::RunPSCoordinator: pid: 26268, tid: 26668, thread: 0x7f1ef17fa700\n",
      "[2022-06-28 08:51:00.760] [info] ActorProcess::Receiving: Coordinator pid: 26268, tid: 26671, thread: 0x7f1ef8e97700\n",
      "[2022-06-28 08:51:00.834] [info] C[0]:9: The coordinator has connected to 2 servers and 2 workers.\n",
      "PS Coordinator node \u001b[32mC[0]:9\u001b[m is ready.\n"
     ]
    },
    {
     "name": "stderr",
     "output_type": "stream",
     "text": [
      "[Stage 19:>                 (0 + 2) / 2][Stage 23:>                 (0 + 2) / 4]\r"
     ]
    },
    {
     "name": "stdout",
     "output_type": "stream",
     "text": [
      "2022-06-28 08:51:08.460 -- auc: 0.0, Δauc: 0.0, pcoc: nan, Δpcoc: nan, #instance: 12800\n",
      "2022-06-28 08:51:08.472 -- auc: 0.0, Δauc: 0.0, pcoc: nan, Δpcoc: nan, #instance: 25600\n",
      "2022-06-28 08:51:08.941 -- auc: 0.0, Δauc: 0.0, pcoc: nan, Δpcoc: nan, #instance: 38400\n",
      "2022-06-28 08:51:08.953 -- auc: 0.0, Δauc: 0.0, pcoc: nan, Δpcoc: nan, #instance: 51200\n"
     ]
    },
    {
     "name": "stderr",
     "output_type": "stream",
     "text": [
      "[Stage 19:>                 (0 + 2) / 2][Stage 23:=========>        (2 + 2) / 4]\r"
     ]
    },
    {
     "name": "stdout",
     "output_type": "stream",
     "text": [
      "2022-06-28 08:51:10.007 -- auc: 0.7142010504918237, Δauc: 0.7115465341986724, pcoc: 2.7255505323410034, Δpcoc: 0.6416384266482459, #instance: 63990\n"
     ]
    },
    {
     "name": "stderr",
     "output_type": "stream",
     "text": [
      "[Stage 19:>                 (0 + 2) / 2][Stage 23:=============>    (3 + 1) / 4]\r"
     ]
    },
    {
     "name": "stdout",
     "output_type": "stream",
     "text": [
      "2022-06-28 08:51:10.721 -- auc: 0.7087268327293077, Δauc: 1.0, pcoc: 1.0837236293430985, Δpcoc: 0.3449015229940414, #instance: 76790\n",
      "2022-06-28 08:51:10.875 -- auc: 0.708850188117782, Δauc: 1.0, pcoc: 1.0405894094227282, Δpcoc: 0.3545815930370602, #instance: 77957\n",
      "2022-06-28 08:51:10.887 -- auc: 0.707819158292631, Δauc: 0.6986516438094129, pcoc: 1.0457339333914306, Δpcoc: 1.0932461170668013, #instance: 86848\n",
      "[2022-06-28 08:51:10.898] [info] C[0]:9 has stopped.\n",
      "[2022-06-28 08:51:10.898] [info] PS job with coordinator address 10.0.1.219:57623 stopped.\n"
     ]
    },
    {
     "name": "stderr",
     "output_type": "stream",
     "text": [
      "                                                                                \r"
     ]
    },
    {
     "name": "stdout",
     "output_type": "stream",
     "text": [
      "Debug -- Train AUC:  0.7338386818066416\n",
      "Debug -- Test AUC:  0.7078180089135021\n"
     ]
    },
    {
     "name": "stderr",
     "output_type": "stream",
     "text": [
      "22/06/28 08:51:17 WARN ExecutorPodsWatchSnapshotSource: Kubernetes client has been closed (this is expected if the application is shutting down.)\n"
     ]
    },
    {
     "name": "stdout",
     "output_type": "stream",
     "text": [
      "[2022-06-28 08:51:19,641] {stop_spark.py:30} INFO - Spark session stop\n"
     ]
    }
   ],
   "source": [
    "p = Pipeline('./deepfm_test.yaml', infer=True)\n",
    "p.run()"
   ]
  },
  {
   "cell_type": "code",
   "execution_count": null,
   "id": "52637558-624b-47e6-ab72-5c6610cd5d3d",
   "metadata": {},
   "outputs": [],
   "source": []
  }
 ],
 "metadata": {
  "kernelspec": {
   "display_name": "Python 3 (ipykernel)",
   "language": "python",
   "name": "python3"
  },
  "language_info": {
   "codemirror_mode": {
    "name": "ipython",
    "version": 3
   },
   "file_extension": ".py",
   "mimetype": "text/x-python",
   "name": "python",
   "nbconvert_exporter": "python",
   "pygments_lexer": "ipython3",
   "version": "3.8.10"
  }
 },
 "nbformat": 4,
 "nbformat_minor": 5
}
