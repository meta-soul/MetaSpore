{
 "cells": [
  {
   "cell_type": "code",
   "execution_count": null,
   "id": "e6d08917-0fbe-4054-8f3a-85e5db0cbe82",
   "metadata": {},
   "outputs": [],
   "source": [
    "from pipelines import Pipeline\n",
    "from pipelines.nodes import InitSparkNode\n",
    "from pipelines.nodes import StopSparkNode\n",
    "from pipelines.nodes import DataLoaderNode\n",
    "from pipelines.nodes import TwoTowersEstimatorNode\n",
    "from pipelines.nodes import RetrievalEvaluatorNode\n",
    "from pipelines.nodes import I2IEstimatorNode"
   ]
  },
  {
   "cell_type": "markdown",
   "id": "f78e5ec4-5249-4a59-8a49-7179d366c086",
   "metadata": {},
   "source": [
    "### Logging Configuration"
   ]
  },
  {
   "cell_type": "code",
   "execution_count": null,
   "id": "88293f63-0426-40d7-990d-f87a3339d2cf",
   "metadata": {},
   "outputs": [],
   "source": [
    "import logging\n",
    "logger = logging.getLogger()\n",
    "logger.setLevel(logging.INFO)"
   ]
  },
  {
   "cell_type": "markdown",
   "id": "551bd4f2-3fc3-4ec2-8e3b-85171bb886d9",
   "metadata": {},
   "source": [
    "### Test Spark Session Start and Stop"
   ]
  },
  {
   "cell_type": "code",
   "execution_count": null,
   "id": "33e92778-7d91-40f2-b438-63bb6cee8380",
   "metadata": {},
   "outputs": [],
   "source": [
    "p = Pipeline('./pipeline_test.yaml')\n",
    "p.add_node(InitSparkNode())\n",
    "p.add_node(StopSparkNode())\n",
    "p.run()"
   ]
  },
  {
   "cell_type": "code",
   "execution_count": null,
   "id": "4c2a558e-7782-46d5-8eab-39548114a02d",
   "metadata": {},
   "outputs": [],
   "source": [
    "p = Pipeline('./pipeline_test.yaml', infer=True)\n",
    "p.run()"
   ]
  },
  {
   "cell_type": "markdown",
   "id": "c5ab908f-e300-4730-bf10-eddd995d1250",
   "metadata": {},
   "source": [
    "### Test Two Twoers Pipeline"
   ]
  },
  {
   "cell_type": "code",
   "execution_count": null,
   "id": "4ea68f64-7876-482b-8d8c-3893a92925ff",
   "metadata": {},
   "outputs": [],
   "source": [
    "p = Pipeline('./two_towers_test.yaml')\n",
    "p.add_node(InitSparkNode())\n",
    "p.add_node(DataLoaderNode())\n",
    "p.add_node(TwoTowersEstimatorNode())\n",
    "p.add_node(RetrievalEvaluatorNode())\n",
    "p.run()"
   ]
  },
  {
   "cell_type": "markdown",
   "id": "a30a6d1b-9688-4fbb-92a5-51359c05d6d3",
   "metadata": {},
   "source": [
    "### Test ItemCF Pipeline"
   ]
  },
  {
   "cell_type": "code",
   "execution_count": null,
   "id": "42ccaccc-053c-49f0-9bfd-593c7774d424",
   "metadata": {},
   "outputs": [],
   "source": [
    "p = Pipeline('./i2i_test.yaml')\n",
    "p.add_node(InitSparkNode())\n",
    "p.add_node(DataLoaderNode())\n",
    "p.add_node(I2IEstimatorNode())\n",
    "p.add_node(RetrievalEvaluatorNode())\n",
    "p.run()"
   ]
  },
  {
   "cell_type": "code",
   "execution_count": null,
   "id": "cc5aeb31-c520-46b0-82ce-a3882a51a85f",
   "metadata": {},
   "outputs": [],
   "source": []
  }
 ],
 "metadata": {
  "kernelspec": {
   "display_name": "Python 3 (ipykernel)",
   "language": "python",
   "name": "python3"
  },
  "language_info": {
   "codemirror_mode": {
    "name": "ipython",
    "version": 3
   },
   "file_extension": ".py",
   "mimetype": "text/x-python",
   "name": "python",
   "nbconvert_exporter": "python",
   "pygments_lexer": "ipython3",
   "version": "3.8.10"
  }
 },
 "nbformat": 4,
 "nbformat_minor": 5
}
