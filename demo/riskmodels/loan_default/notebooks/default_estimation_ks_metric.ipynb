{
 "cells": [
  {
   "cell_type": "markdown",
   "id": "76459d86-5b79-4800-b97d-2c48d791bad8",
   "metadata": {},
   "source": [
    "# Kolmogorov–Smirnov Test"
   ]
  },
  {
   "cell_type": "markdown",
   "id": "66d568eb-6d35-49c0-850d-0f9d33f988f9",
   "metadata": {},
   "source": [
    "In statistics, the Kolmogorov–Smirnov test (K–S test or KS test) is a nonparametric test of the equality of continuous (or discontinuous), one-dimensional probability distributions that can be used to compare two samples (two-sample K–S test). In essence, the test answers the question \"What is the probability that these two sets of samples were drawn from the same (but unknown) probability distribution?\"."
   ]
  },
  {
   "cell_type": "code",
   "execution_count": 1,
   "id": "57fec7c0-1b72-4095-b55f-d6d59f081830",
   "metadata": {},
   "outputs": [],
   "source": [
    "import metaspore as ms\n",
    "import numpy as np\n",
    "import sys\n",
    "\n",
    "sys.path.append('../../') "
   ]
  },
  {
   "cell_type": "markdown",
   "id": "9e54e563-7ed5-439c-9305-55ccd7da3ea7",
   "metadata": {},
   "source": [
    "#### 1. Load prediction results:"
   ]
  },
  {
   "cell_type": "code",
   "execution_count": 2,
   "id": "08969ece-d200-4b6c-9814-ead1387a5634",
   "metadata": {},
   "outputs": [
    {
     "name": "stderr",
     "output_type": "stream",
     "text": [
      "WARNING: An illegal reflective access operation has occurred\n",
      "WARNING: Illegal reflective access by org.apache.spark.unsafe.Platform (file:/opt/spark/jars/spark-unsafe_2.12-3.1.2.jar) to constructor java.nio.DirectByteBuffer(long,int)\n",
      "WARNING: Please consider reporting this to the maintainers of org.apache.spark.unsafe.Platform\n",
      "WARNING: Use --illegal-access=warn to enable warnings of further illegal reflective access operations\n",
      "WARNING: All illegal access operations will be denied in a future release\n",
      "22/06/07 08:21:27 WARN NativeCodeLoader: Unable to load native-hadoop library for your platform... using builtin-java classes where applicable\n",
      "Using Spark's default log4j profile: org/apache/spark/log4j-defaults.properties\n",
      "Setting default log level to \"WARN\".\n",
      "To adjust logging level use sc.setLogLevel(newLevel). For SparkR, use setLogLevel(newLevel).\n",
      "22/06/07 08:21:27 WARN Utils: Service 'SparkUI' could not bind on port 4040. Attempting port 4041.\n",
      "/opt/spark/python/pyspark/sql/pandas/conversion.py:87: UserWarning: toPandas attempted Arrow optimization because 'spark.sql.execution.arrow.pyspark.enabled' is set to true; however, failed by the reason below:\n",
      "  Unsupported type in conversion to Arrow: VectorUDT\n",
      "Attempting non-optimization as 'spark.sql.execution.arrow.pyspark.fallback.enabled' is set to true.\n",
      "  warnings.warn(msg)\n",
      "                                                                                \r"
     ]
    },
    {
     "data": {
      "text/html": [
       "<div>\n",
       "<style scoped>\n",
       "    .dataframe tbody tr th:only-of-type {\n",
       "        vertical-align: middle;\n",
       "    }\n",
       "\n",
       "    .dataframe tbody tr th {\n",
       "        vertical-align: top;\n",
       "    }\n",
       "\n",
       "    .dataframe thead th {\n",
       "        text-align: right;\n",
       "    }\n",
       "</style>\n",
       "<table border=\"1\" class=\"dataframe\">\n",
       "  <thead>\n",
       "    <tr style=\"text-align: right;\">\n",
       "      <th></th>\n",
       "      <th>isDefault</th>\n",
       "      <th>features</th>\n",
       "      <th>rawPrediction</th>\n",
       "      <th>probability</th>\n",
       "      <th>prediction</th>\n",
       "    </tr>\n",
       "  </thead>\n",
       "  <tbody>\n",
       "    <tr>\n",
       "      <th>0</th>\n",
       "      <td>0</td>\n",
       "      <td>[1000.0, 3.0, 6.97, 30.87, 1.0, 2.0, 123318.0,...</td>\n",
       "      <td>[2.337995530153171, -2.337995530153171]</td>\n",
       "      <td>[0.911975306477623, 0.088024693522377]</td>\n",
       "      <td>0.0</td>\n",
       "    </tr>\n",
       "    <tr>\n",
       "      <th>1</th>\n",
       "      <td>0</td>\n",
       "      <td>[1000.0, 3.0, 15.99, 35.16, 3.0, 14.0, 215340....</td>\n",
       "      <td>[-0.10965281459904996, 0.10965281459904996]</td>\n",
       "      <td>[0.4726142307997735, 0.5273857692002265]</td>\n",
       "      <td>1.0</td>\n",
       "    </tr>\n",
       "    <tr>\n",
       "      <th>2</th>\n",
       "      <td>0</td>\n",
       "      <td>[1000.0, 3.0, 18.24, 36.28, 4.0, 19.0, 64536.0...</td>\n",
       "      <td>[0.32907556139404964, -0.32907556139404964]</td>\n",
       "      <td>[0.5815344297028524, 0.41846557029714754]</td>\n",
       "      <td>0.0</td>\n",
       "    </tr>\n",
       "    <tr>\n",
       "      <th>3</th>\n",
       "      <td>1</td>\n",
       "      <td>[1500.0, 3.0, 11.49, 49.46, 2.0, 9.0, 212874.0...</td>\n",
       "      <td>[0.8718348674582469, -0.8718348674582469]</td>\n",
       "      <td>[0.7051273522619355, 0.2948726477380646]</td>\n",
       "      <td>0.0</td>\n",
       "    </tr>\n",
       "    <tr>\n",
       "      <th>4</th>\n",
       "      <td>0</td>\n",
       "      <td>[1500.0, 3.0, 13.49, 50.9, 3.0, 11.0, 89676.0,...</td>\n",
       "      <td>[-0.1605600898253861, 0.1605600898253861]</td>\n",
       "      <td>[0.45994598843603185, 0.5400540115639682]</td>\n",
       "      <td>1.0</td>\n",
       "    </tr>\n",
       "    <tr>\n",
       "      <th>5</th>\n",
       "      <td>1</td>\n",
       "      <td>[1500.0, 3.0, 16.99, 53.48, 4.0, 17.0, 6600.0,...</td>\n",
       "      <td>[-0.4225961586637862, 0.4225961586637862]</td>\n",
       "      <td>[0.39589567937414427, 0.6041043206258557]</td>\n",
       "      <td>1.0</td>\n",
       "    </tr>\n",
       "    <tr>\n",
       "      <th>6</th>\n",
       "      <td>0</td>\n",
       "      <td>[1600.0, 3.0, 10.64, 52.11, 2.0, 8.0, 203091.0...</td>\n",
       "      <td>[0.9316509455109415, -0.9316509455109415]</td>\n",
       "      <td>[0.7174101064763352, 0.2825898935236648]</td>\n",
       "      <td>0.0</td>\n",
       "    </tr>\n",
       "    <tr>\n",
       "      <th>7</th>\n",
       "      <td>0</td>\n",
       "      <td>[1600.0, 3.0, 13.53, 54.32, 2.0, 9.0, 65718.0,...</td>\n",
       "      <td>[1.2519325976063975, -1.2519325976063975]</td>\n",
       "      <td>[0.777634223779675, 0.22236577622032502]</td>\n",
       "      <td>0.0</td>\n",
       "    </tr>\n",
       "    <tr>\n",
       "      <th>8</th>\n",
       "      <td>0</td>\n",
       "      <td>[1800.0, 3.0, 12.73, 60.42, 2.0, 9.0, 61357.0,...</td>\n",
       "      <td>[2.783424036088894, -2.783424036088894]</td>\n",
       "      <td>[0.9417734897923757, 0.05822651020762423]</td>\n",
       "      <td>0.0</td>\n",
       "    </tr>\n",
       "    <tr>\n",
       "      <th>9</th>\n",
       "      <td>0</td>\n",
       "      <td>[1800.0, 3.0, 19.99, 66.89, 5.0, 20.0, 234119....</td>\n",
       "      <td>[0.2507570877638907, -0.2507570877638907]</td>\n",
       "      <td>[0.5623628372077925, 0.4376371627922075]</td>\n",
       "      <td>0.0</td>\n",
       "    </tr>\n",
       "  </tbody>\n",
       "</table>\n",
       "</div>"
      ],
      "text/plain": [
       "   isDefault                                           features  \\\n",
       "0          0  [1000.0, 3.0, 6.97, 30.87, 1.0, 2.0, 123318.0,...   \n",
       "1          0  [1000.0, 3.0, 15.99, 35.16, 3.0, 14.0, 215340....   \n",
       "2          0  [1000.0, 3.0, 18.24, 36.28, 4.0, 19.0, 64536.0...   \n",
       "3          1  [1500.0, 3.0, 11.49, 49.46, 2.0, 9.0, 212874.0...   \n",
       "4          0  [1500.0, 3.0, 13.49, 50.9, 3.0, 11.0, 89676.0,...   \n",
       "5          1  [1500.0, 3.0, 16.99, 53.48, 4.0, 17.0, 6600.0,...   \n",
       "6          0  [1600.0, 3.0, 10.64, 52.11, 2.0, 8.0, 203091.0...   \n",
       "7          0  [1600.0, 3.0, 13.53, 54.32, 2.0, 9.0, 65718.0,...   \n",
       "8          0  [1800.0, 3.0, 12.73, 60.42, 2.0, 9.0, 61357.0,...   \n",
       "9          0  [1800.0, 3.0, 19.99, 66.89, 5.0, 20.0, 234119....   \n",
       "\n",
       "                                 rawPrediction  \\\n",
       "0      [2.337995530153171, -2.337995530153171]   \n",
       "1  [-0.10965281459904996, 0.10965281459904996]   \n",
       "2  [0.32907556139404964, -0.32907556139404964]   \n",
       "3    [0.8718348674582469, -0.8718348674582469]   \n",
       "4    [-0.1605600898253861, 0.1605600898253861]   \n",
       "5    [-0.4225961586637862, 0.4225961586637862]   \n",
       "6    [0.9316509455109415, -0.9316509455109415]   \n",
       "7    [1.2519325976063975, -1.2519325976063975]   \n",
       "8      [2.783424036088894, -2.783424036088894]   \n",
       "9    [0.2507570877638907, -0.2507570877638907]   \n",
       "\n",
       "                                 probability  prediction  \n",
       "0     [0.911975306477623, 0.088024693522377]         0.0  \n",
       "1   [0.4726142307997735, 0.5273857692002265]         1.0  \n",
       "2  [0.5815344297028524, 0.41846557029714754]         0.0  \n",
       "3   [0.7051273522619355, 0.2948726477380646]         0.0  \n",
       "4  [0.45994598843603185, 0.5400540115639682]         1.0  \n",
       "5  [0.39589567937414427, 0.6041043206258557]         1.0  \n",
       "6   [0.7174101064763352, 0.2825898935236648]         0.0  \n",
       "7   [0.777634223779675, 0.22236577622032502]         0.0  \n",
       "8  [0.9417734897923757, 0.05822651020762423]         0.0  \n",
       "9   [0.5623628372077925, 0.4376371627922075]         0.0  "
      ]
     },
     "execution_count": 2,
     "metadata": {},
     "output_type": "execute_result"
    }
   ],
   "source": [
    "spark_session = ms.spark.get_session(local=True, app_name='Default estimation KS metric')\n",
    "\n",
    "eval_test_dataset = spark_session.read.parquet('${MY_S3_BUCKET}/risk/tianchi/eval_test_dataset.parquet')\n",
    "eval_test_dataset.limit(10).toPandas()"
   ]
  },
  {
   "cell_type": "markdown",
   "id": "faa45848-634f-4f87-ab1a-094d3ab7b57f",
   "metadata": {},
   "source": [
    "#### 2. Extract label and prediction: \n",
    "We only use the column 'isDefault' as label and the second value of probability as prediction."
   ]
  },
  {
   "cell_type": "code",
   "execution_count": 3,
   "id": "1dbaac0d-8ed8-4667-9596-b87e5d7354c1",
   "metadata": {},
   "outputs": [
    {
     "name": "stderr",
     "output_type": "stream",
     "text": [
      "                                                                                \r"
     ]
    }
   ],
   "source": [
    "label = np.array(eval_test_dataset.select('isDefault').collect()).reshape(-1).astype(np.float32)\n",
    "prediction = np.array(eval_test_dataset.select('probability').collect())[:, :, 1].reshape(-1)"
   ]
  },
  {
   "cell_type": "code",
   "execution_count": 4,
   "id": "5ce9bb7d-2079-49a4-9355-98076d18aec8",
   "metadata": {},
   "outputs": [
    {
     "name": "stdout",
     "output_type": "stream",
     "text": [
      "label:  [0. 0. 0. 1. 0. 1. 0. 0. 0. 0.]\n",
      "prediction:  [0.08802469 0.52738577 0.41846557 0.29487265 0.54005401 0.60410432\n",
      " 0.28258989 0.22236578 0.05822651 0.43763716]\n"
     ]
    }
   ],
   "source": [
    "print('label: ', label[0:10])\n",
    "print('prediction: ', prediction[0:10])"
   ]
  },
  {
   "cell_type": "markdown",
   "id": "c3e14f2d-5bad-4222-9fa7-f91ff8043481",
   "metadata": {},
   "source": [
    "#### 3. Calculate KS statistic:"
   ]
  },
  {
   "cell_type": "code",
   "execution_count": 5,
   "id": "57130b31-fc55-4b9a-8f3c-1c03883ca5cd",
   "metadata": {},
   "outputs": [
    {
     "name": "stdout",
     "output_type": "stream",
     "text": [
      "KS statistic:  0.3408877950211097\n"
     ]
    }
   ],
   "source": [
    "from common.ks_utils import ks_2samp, ks_curve\n",
    "\n",
    "ks = ks_2samp(label, prediction)\n",
    "print(\"KS statistic: \", ks.statistic)"
   ]
  },
  {
   "cell_type": "markdown",
   "id": "3ca1681a-5ada-4060-b30d-edb0d3ebe2d9",
   "metadata": {},
   "source": [
    "#### 4. Plot KS curve:"
   ]
  },
  {
   "cell_type": "code",
   "execution_count": 6,
   "id": "3c3139c0-9b0b-4662-9ab0-fd2c5c8718a3",
   "metadata": {},
   "outputs": [
    {
     "data": {
      "image/png": "[encoded data removed]",
      "text/plain": [
       "<Figure size 432x288 with 1 Axes>"
      ]
     },
     "metadata": {
      "needs_background": "light"
     },
     "output_type": "display_data"
    }
   ],
   "source": [
    "import matplotlib.pyplot as plt\n",
    "\n",
    "ks_curve(label, prediction)\n",
    "plt.show()"
   ]
  },
  {
   "cell_type": "code",
   "execution_count": null,
   "id": "488a3ab9-c163-4650-aef2-ddeca7af48a8",
   "metadata": {},
   "outputs": [],
   "source": []
  }
 ],
 "metadata": {
  "kernelspec": {
   "display_name": "Python 3 (ipykernel)",
   "language": "python",
   "name": "python3"
  },
  "language_info": {
   "codemirror_mode": {
    "name": "ipython",
    "version": 3
   },
   "file_extension": ".py",
   "mimetype": "text/x-python",
   "name": "python",
   "nbconvert_exporter": "python",
   "pygments_lexer": "ipython3",
   "version": "3.8.10"
  }
 },
 "nbformat": 4,
 "nbformat_minor": 5
}
