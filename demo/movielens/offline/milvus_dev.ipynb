{
 "cells": [
  {
   "cell_type": "code",
   "execution_count": 5,
   "id": "14525eb6-af68-4ad6-bbee-f193f8ce08ce",
   "metadata": {},
   "outputs": [],
   "source": [
    "import yaml\n",
    "def load_config(path):\n",
    "    params=dict()\n",
    "    with open(path,'r') as stream:\n",
    "        params=yaml.load(stream,Loader=yaml.FullLoader)\n",
    "    return params\n",
    "\n",
    "params = load_config('./simplex.yaml')"
   ]
  },
  {
   "cell_type": "code",
   "execution_count": 6,
   "id": "303dc60d-a1bc-457a-af0b-ef85128b02f8",
   "metadata": {},
   "outputs": [
    {
     "name": "stdout",
     "output_type": "stream",
     "text": [
      "\n",
      "Connect milvus connection...\n"
     ]
    },
    {
     "data": {
      "text/plain": [
       "<pymilvus.client.stub.Milvus at 0x7f1be12d8df0>"
      ]
     },
     "execution_count": 6,
     "metadata": {},
     "output_type": "execute_result"
    }
   ],
   "source": [
    "milvus_host = params.get('milvus_host')\n",
    "milvus_port = params.get('milvus_port')\n",
    "milvus_description = params.get('milvus_description')\n",
    "milvus_embedding_field = params.get('milvus_embedding_field')\n",
    "milvus_index_type = params.get('milvus_index_type')\n",
    "milvus_metric_type = params.get('milvus_metric_type')\n",
    "milvus_nlist = params.get('milvus_nlist')\n",
    "milvus_nprobe = params.get('milvus_nprobe')\n",
    "\n",
    "from pymilvus import connections, utility, Collection\n",
    "print(f\"\\nConnect milvus connection...\")\n",
    "connections.connect(host=milvus_host, port=milvus_port)"
   ]
  },
  {
   "cell_type": "code",
   "execution_count": 8,
   "id": "b610a3bc-9292-4cd2-9c85-e0bb81c2fae2",
   "metadata": {},
   "outputs": [],
   "source": [
    "milvus_collection = Collection(name=milvus_description)"
   ]
  },
  {
   "cell_type": "code",
   "execution_count": 9,
   "id": "d529f7ff-8345-48dd-8044-3f628c0dca0c",
   "metadata": {},
   "outputs": [
    {
     "data": {
      "text/plain": [
       "{\"name\": \"simplex_demo\", \"schema\": {\"auto_id\": false, \"description\": \"simplex_demo\", \"fields\": [{\"name\": \"item_id\", \"description\": \"\", \"type\": 5, \"is_primary\": true, \"auto_id\": false}, {\"name\": \"embedding_vector\", \"description\": \"\", \"type\": 101, \"params\": {\"dim\": 32}}]}, \"partitions\": [{\"name\": \"_default\", \"collection_name\": \"simplex_demo\", \"description\": \"\"}], \"description\": \"simplex_demo\"}"
      ]
     },
     "execution_count": 9,
     "metadata": {},
     "output_type": "execute_result"
    }
   ],
   "source": [
    "milvus_collection"
   ]
  },
  {
   "cell_type": "code",
   "execution_count": 11,
   "id": "16de28bd-12fc-4801-9d63-a2d6136eb3b9",
   "metadata": {},
   "outputs": [
    {
     "data": {
      "text/plain": [
       "{'metric_type': 'IP', 'params': {'nprobe': 128}}"
      ]
     },
     "execution_count": 11,
     "metadata": {},
     "output_type": "execute_result"
    }
   ],
   "source": [
    "search_params = {\"metric_type\": milvus_metric_type, \"params\": {\"nprobe\": milvus_nprobe}}\n",
    "search_params"
   ]
  },
  {
   "cell_type": "code",
   "execution_count": 16,
   "id": "e565636e-23e1-4f45-9fda-c5ef7ff0ffa3",
   "metadata": {},
   "outputs": [
    {
     "data": {
      "text/plain": [
       "[[0.6022601413477976,\n",
       "  0.19465473177131543,\n",
       "  0.16644751144680092,\n",
       "  0.2731363582638868,\n",
       "  0.5841869636196522,\n",
       "  0.16619732997950676,\n",
       "  0.6808093949487903,\n",
       "  0.21310592463790556,\n",
       "  0.5736400017400569,\n",
       "  0.9419397695212475,\n",
       "  0.0428729766256577,\n",
       "  0.6342108614604246,\n",
       "  0.6114081922631006,\n",
       "  0.700226933017338,\n",
       "  0.8073609956655469,\n",
       "  0.6569606710099508,\n",
       "  0.2581845680748108,\n",
       "  0.6677215201339501,\n",
       "  0.2507203872816135,\n",
       "  0.03470170229564917,\n",
       "  0.7261605184650868,\n",
       "  0.12191130118031046,\n",
       "  0.7984169879601932,\n",
       "  0.2806644520192978,\n",
       "  0.6149452524884875,\n",
       "  0.5968315586485566,\n",
       "  0.5165332650643061,\n",
       "  0.08448844121460908,\n",
       "  0.579034448456211,\n",
       "  0.746635401747884,\n",
       "  0.26071210578686976,\n",
       "  0.6963506425593784]]"
      ]
     },
     "execution_count": 16,
     "metadata": {},
     "output_type": "execute_result"
    }
   ],
   "source": [
    "import random\n",
    "vectors=[[random.random() for _ in range(32)] for _ in range(1)]\n",
    "vectors"
   ]
  },
  {
   "cell_type": "code",
   "execution_count": 19,
   "id": "619f631e-0011-4834-8cb2-e19cf8bf999c",
   "metadata": {},
   "outputs": [],
   "source": [
    "search_results = milvus_collection.search(\n",
    "            data=vectors, \n",
    "            anns_field=milvus_embedding_field, \n",
    "            param=search_params, \n",
    "            limit=20, \n",
    "            expr=None)"
   ]
  },
  {
   "cell_type": "code",
   "execution_count": 21,
   "id": "d80d60f2-cd0c-42e5-825b-0220a3246da2",
   "metadata": {},
   "outputs": [
    {
     "name": "stdout",
     "output_type": "stream",
     "text": [
      "[\"['(distance: 1.6563373804092407, id: 34359738457)', '(distance: 1.5358450412750244, id: 8589934694)', '(distance: 1.3879830837249756, id: 17179869440)', '(distance: 1.2905199527740479, id: 17179869583)', '(distance: 1.2459633350372314, id: 25769804032)', '(distance: 1.234025001525879, id: 25769804009)', '(distance: 1.2323514223098755, id: 17179869628)', '(distance: 1.2314714193344116, id: 42949673079)', '(distance: 1.2171822786331177, id: 8589935060)', '(distance: 1.2151756286621094, id: 17179869548)']\"]\n"
     ]
    }
   ],
   "source": [
    "print(search_results)"
   ]
  },
  {
   "cell_type": "code",
   "execution_count": null,
   "id": "566f2b3d-0ca3-486c-b2cd-f1c313e9e981",
   "metadata": {},
   "outputs": [],
   "source": []
  }
 ],
 "metadata": {
  "kernelspec": {
   "display_name": "Python 3 (ipykernel)",
   "language": "python",
   "name": "python3"
  },
  "language_info": {
   "codemirror_mode": {
    "name": "ipython",
    "version": 3
   },
   "file_extension": ".py",
   "mimetype": "text/x-python",
   "name": "python",
   "nbconvert_exporter": "python",
   "pygments_lexer": "ipython3",
   "version": "3.8.10"
  }
 },
 "nbformat": 4,
 "nbformat_minor": 5
}
