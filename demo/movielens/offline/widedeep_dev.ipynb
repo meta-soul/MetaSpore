{
 "cells": [
  {
   "cell_type": "code",
   "execution_count": 5,
   "id": "370aedf5-7876-413a-be91-2f80f106dce0",
   "metadata": {},
   "outputs": [],
   "source": [
    "import torch\n",
    "import metaspore as ms\n",
    "import numpy as np\n",
    "import yaml\n",
    "import argparse\n",
    "import sys \n",
    "from torch import nn\n",
    "import operator \n",
    "from operator import itemgetter\n",
    "import pyspark\n",
    "\n",
    "sys.path.append('../../') \n",
    "# from python.widedeep import WideDeep\n",
    "from metaspore.nn import WideAndDeepModule as WideDeep"
   ]
  },
  {
   "cell_type": "code",
   "execution_count": 6,
   "id": "3373d3e9-0726-44b0-bc29-091a68fd3e1a",
   "metadata": {},
   "outputs": [
    {
     "name": "stdout",
     "output_type": "stream",
     "text": [
      "upload: schema/widedeep/combine_column_schema to s3://dmetasoul-bucket/demo/movielens/schema/widedeep/combine_column_schema\n",
      "upload: schema/widedeep/.ipynb_checkpoints/column_schema-checkpoint to s3://dmetasoul-bucket/demo/movielens/schema/widedeep/.ipynb_checkpoints/column_schema-checkpoint\n",
      "upload: schema/widedeep/.ipynb_checkpoints/combine_column_schema-checkpoint to s3://dmetasoul-bucket/demo/movielens/schema/widedeep/.ipynb_checkpoints/combine_column_schema-checkpoint\n",
      "upload: schema/widedeep/column_schema to s3://dmetasoul-bucket/demo/movielens/schema/widedeep/column_schema\n"
     ]
    }
   ],
   "source": [
    "!aws s3 cp  --recursive ./schema/widedeep/ s3://dmetasoul-bucket/demo/movielens/schema/widedeep/"
   ]
  },
  {
   "cell_type": "code",
   "execution_count": 7,
   "id": "7c72b73f-2e9a-4054-9732-c2ffd2a227c2",
   "metadata": {},
   "outputs": [
    {
     "name": "stdout",
     "output_type": "stream",
     "text": [
      "                           PRE .ipynb_checkpoints/\n",
      "2022-02-10 08:22:37        117 column_schema\n",
      "2022-02-10 08:22:37         80 combine_column_schema\n"
     ]
    }
   ],
   "source": [
    "!aws s3 ls s3://dmetasoul-bucket/demo/movielens/schema/widedeep/"
   ]
  },
  {
   "cell_type": "code",
   "execution_count": 8,
   "id": "92cc79b7-51b8-4193-8ab3-d4fa99e8a399",
   "metadata": {},
   "outputs": [],
   "source": [
    "cp ../../python.zip ."
   ]
  },
  {
   "cell_type": "code",
   "execution_count": 9,
   "id": "0921c928-7e9e-4329-a23e-32279edacbb0",
   "metadata": {},
   "outputs": [],
   "source": [
    "def load_config(path):\n",
    "    params=dict()\n",
    "    with open(path,'r') as stream:\n",
    "        params=yaml.load(stream,Loader=yaml.FullLoader)\n",
    "        print('Debug--load config:',params)\n",
    "    return params"
   ]
  },
  {
   "cell_type": "code",
   "execution_count": 10,
   "id": "eb8ab8de-04a4-46b6-990e-08e33588b30e",
   "metadata": {},
   "outputs": [],
   "source": [
    "def init_spark():\n",
    "    spark_confs={\n",
    "        \"spark.network.timeout\":\"500\",\n",
    "        \"spark.submit.pyFiles\":\"python.zip\",\n",
    "        # \"spark.ui.showConsoleProgress\": \"false\",\n",
    "        #\"spark.kubernetes.executor.deleteOnTermination\":\"false\",\n",
    "    }\n",
    "    spark_session=ms.spark.get_session(local=local,\n",
    "                                   app_name=app_name,\n",
    "                                   batch_size=batch_size,\n",
    "                                   worker_count=worker_count,\n",
    "                                   server_count=server_count,\n",
    "                                   worker_memory=worker_memory,\n",
    "                                   server_memory=server_memory,\n",
    "                                   coordinator_memory=coordinator_memory,\n",
    "                                   spark_confs=spark_confs)\n",
    "    \n",
    "    sc = spark_session.sparkContext\n",
    "    print('Debug -- spark init')\n",
    "    print('Debug -- version:', sc.version)   \n",
    "    print('Debug -- applicaitonId:', sc.applicationId)\n",
    "    print('Debug -- uiWebUrl:', sc.uiWebUrl)\n",
    "    return spark_session\n",
    "\n",
    "\n",
    "def stop_spark(spark):\n",
    "    print('Debug--spark stop')\n",
    "    spark.sparkContext.stop()\n",
    "\n",
    "\n",
    "def read_dataset(spark):\n",
    "    train_dataset=spark.read.parquet(train_path)\n",
    "    test_dataset=spark.read.parquet(test_path)\n",
    "\n",
    "    print('Debug -- match train dataset sample:')\n",
    "    train_dataset.show(10)\n",
    "    print('Debug--match train test dataset sample:')\n",
    "    test_dataset.show(10)\n",
    "    \n",
    "    print('Debug -- train dataset positive count:', train_dataset[train_dataset['label']=='1'].count())\n",
    "    print('Debug -- train dataset negative count:', train_dataset[train_dataset['label']=='0'].count())\n",
    "    print('Debug -- test dataset count:', test_dataset.count())\n",
    "\n",
    "    return train_dataset,test_dataset\n",
    "    \n",
    "def train(spark, trian_dataset, **model_params):\n",
    "    # module = WideDeep(column_name_path=column_name_path,\n",
    "    #                combine_schema_path=combine_schema_path)\n",
    "    module = WideDeep(wide_column_name_path=column_name_path,\n",
    "                      wide_combine_schema_path=combine_schema_path,\n",
    "                      deep_sparse_column_name_path=column_name_path,\n",
    "                      deep_sparse_combine_schema_path=combine_schema_path,\n",
    "                      deep_dense_hidden_units=[1024,512,256,128,1],\n",
    "                      wide_embedding_size=embedding_size,\n",
    "                      deep_sparse_embedding_size=embedding_size)\n",
    "\n",
    "    estimator=ms.PyTorchEstimator(module=module,\n",
    "                                  worker_count=worker_count,\n",
    "                                  server_count=server_count,\n",
    "                                  model_out_path=model_out_path,\n",
    "                                  input_label_column_index=input_label_column_index,\n",
    "                                  metric_update_interval=100)\n",
    "    model = estimator.fit(trian_dataset)\n",
    "    import subprocess\n",
    "    run_res=subprocess.run(['aws', 's3', 'ls', model_out_path], \n",
    "                            stdout=subprocess.PIPE)\n",
    "    print('Debug -- model output:')\n",
    "    print(\"%s\\n\"%run_res.stdout.decode(\"utf-8\"))\n",
    "    return model\n",
    "\n",
    "def transform(spark,model,test_dataset):\n",
    "    test_result = model.transform(test_dataset)\n",
    "    print('Debug -- test result sample:')\n",
    "    test_result.show(20)\n",
    "    return test_result\n",
    "\n",
    "def evaluate(spark,test_result,test_user=100):\n",
    "    pass"
   ]
  },
  {
   "cell_type": "code",
   "execution_count": 11,
   "id": "b2566230-0253-4556-b040-ad994c714c88",
   "metadata": {},
   "outputs": [
    {
     "name": "stdout",
     "output_type": "stream",
     "text": [
      "Debug -- Movielens Recall Demo\n",
      "Debug--load config: {'app_name': 'WideDeep Demo', 'local': False, 'worker_count': 4, 'server_count': 2, 'batch_size': 60, 'worker_memory': '5G', 'server_memory': '5G', 'coordinator_memory': '5G', 'train_path': 's3://dmetasoul-bucket/demo/movielens/rank/train.parquet', 'test_path': 's3://dmetasoul-bucket/demo/movielens/rank/test.parquet', 'column_name_path': 's3://dmetasoul-bucket/demo/schema/item_column_schema', 'combine_schema_path': 's3://dmetasoul-bucket/demo/schema/item_combine_schema', 'model_in_path': None, 'model_out_path': 's3://dmetasoul-bucket/demo/movielens/model/widedeep/model_out/', 'model_export_path': None, 'model_version': None, 'experiment_name': None, 'input_label_column_index': 0, 'embedding_size': 16, 'net_dropout': 0.0, 'adam_learning_rate': 1e-05, 'ftrl_learning_rate': 0.02, 'ftrl_smothing_rate': 1.0, 'ftrl_l1_regularization': 1.0, 'ftrl_l2_regularization': 1.0, 'training_epoches': 1, 'shuffle_training_dataset': False}\n"
     ]
    },
    {
     "name": "stderr",
     "output_type": "stream",
     "text": [
      "WARNING: An illegal reflective access operation has occurred\n",
      "WARNING: Illegal reflective access by org.apache.spark.unsafe.Platform (file:/opt/spark/jars/spark-unsafe_2.12-3.1.2.jar) to constructor java.nio.DirectByteBuffer(long,int)\n",
      "WARNING: Please consider reporting this to the maintainers of org.apache.spark.unsafe.Platform\n",
      "WARNING: Use --illegal-access=warn to enable warnings of further illegal reflective access operations\n",
      "WARNING: All illegal access operations will be denied in a future release\n",
      "22/02/10 08:22:43 WARN NativeCodeLoader: Unable to load native-hadoop library for your platform... using builtin-java classes where applicable\n",
      "Using Spark's default log4j profile: org/apache/spark/log4j-defaults.properties\n",
      "Setting default log level to \"WARN\".\n",
      "To adjust logging level use sc.setLogLevel(newLevel). For SparkR, use setLogLevel(newLevel).\n"
     ]
    },
    {
     "name": "stdout",
     "output_type": "stream",
     "text": [
      "Debug -- spark init\n",
      "Debug -- version: 3.1.2\n",
      "Debug -- applicaitonId: spark-application-1644481365471\n",
      "Debug -- uiWebUrl: http://jupyter.my.nginx.test/hub/user-redirect/proxy/4040/jobs/\n"
     ]
    },
    {
     "name": "stderr",
     "output_type": "stream",
     "text": [
      "                                                                                \r"
     ]
    },
    {
     "name": "stdout",
     "output_type": "stream",
     "text": [
      "Debug -- match train dataset sample:\n"
     ]
    },
    {
     "name": "stderr",
     "output_type": "stream",
     "text": [
      "                                                                                \r"
     ]
    },
    {
     "name": "stdout",
     "output_type": "stream",
     "text": [
      "+-----+-------+------+---+----------+-----+--------+--------------------+--------------------+----------+--------------------+\n",
      "|label|user_id|gender|age|occupation|  zip|movie_id|    recent_movie_ids|               genre|last_movie|          last_genre|\n",
      "+-----+-------+------+---+----------+-----+--------+--------------------+--------------------+----------+--------------------+\n",
      "|    1|   1261|     M| 18|         4|40205|     588|1459\u0001410\u00011383\u0001212...|Animation\u0001Childre...|      2791|              Comedy|\n",
      "|    0|   5098|     M| 50|         7|19380|    2287|1283\u0001899\u00013035\u0001120...| Sci-Fi\u0001Thriller\u0001War|      1287|Action\u0001Adventure\u0001...|\n",
      "|    1|   4771|     F| 25|         4|04101|     151|49\u00011721\u00012801\u0001215\u0001...|   Drama\u0001Romance\u0001War|       613|       Drama\u0001Romance|\n",
      "|    1|   2599|     M| 25|        12|53154|    3699|1527\u0001671\u00013175\u0001370...|Adventure\u0001Drama\u0001R...|      2011|       Comedy\u0001Sci-Fi|\n",
      "|    1|   2887|     M| 25|         3|66205|    2150|339\u0001248\u00012252\u0001708\u0001...|              Comedy|       252|      Comedy\u0001Romance|\n",
      "|    1|   1514|     M| 18|         4|97215|    1923|1963\u00012968\u00011073\u000128...|              Comedy|       223|              Comedy|\n",
      "|    1|    176|     F| 18|         3|55016|    2407|3039\u00013526\u00012111\u000124...|       Comedy\u0001Sci-Fi|      3591|        Comedy\u0001Drama|\n",
      "|    1|   2378|     M| 25|         3|75150|    3263|3120\u0001368\u0001255\u00012683...|              Comedy|      2694|              Comedy|\n",
      "|    0|   2990|     M| 35|        12|45243|    3638|224\u0001377\u0001361\u00011959\u0001...|Action\u0001Romance\u0001Sc...|      3524|      Comedy\u0001Romance|\n",
      "|    1|    520|     F| 35|        20|55104|    1321|1347\u00011278\u00011219\u000127...|              Horror|      2716|       Comedy\u0001Horror|\n",
      "+-----+-------+------+---+----------+-----+--------+--------------------+--------------------+----------+--------------------+\n",
      "only showing top 10 rows\n",
      "\n",
      "Debug--match train test dataset sample:\n"
     ]
    },
    {
     "name": "stderr",
     "output_type": "stream",
     "text": [
      "                                                                                \r"
     ]
    },
    {
     "name": "stdout",
     "output_type": "stream",
     "text": [
      "+-----+-------+------+---+----------+-----+--------+--------------------+--------------------+----------+--------------------+\n",
      "|label|user_id|gender|age|occupation|  zip|movie_id|    recent_movie_ids|               genre|last_movie|          last_genre|\n",
      "+-----+-------+------+---+----------+-----+--------+--------------------+--------------------+----------+--------------------+\n",
      "|    1|   1191|     F| 35|         0|98117|    1947|916\u00011264\u00012130\u0001206...|     Musical\u0001Romance|      2248|Comedy\u0001Drama\u0001Romance|\n",
      "|    0|   5241|     F| 25|         4|02138|    2628|527\u00012571\u00011372\u0001165...|Action\u0001Adventure\u0001...|       780|   Action\u0001Sci-Fi\u0001War|\n",
      "|    0|   4295|     M| 18|        18|90605|    2124|19\u00013710\u0001410\u00011459\u0001...|              Comedy|      2133|    Adventure\u0001Comedy|\n",
      "|    1|   2123|     F| 35|         0|13064|    2154|207\u00012506\u0001362\u00012724...|       Drama\u0001Romance|      2558|      Comedy\u0001Romance|\n",
      "|    1|   3933|     F| 35|         6|48073|    2804|1225\u0001593\u00012858\u0001260...|        Comedy\u0001Drama|      1265|      Comedy\u0001Romance|\n",
      "|    1|   2253|     F| 50|         0|46815|    2054|1129\u00012161\u0001434\u0001380...|Adventure\u0001Childre...|      1009|Adventure\u0001Childre...|\n",
      "|    1|   2058|     F| 56|         1|06437|     969|2454\u00013753\u00013555\u000134...|Action\u0001Adventure\u0001...|      2399|Adventure\u0001Childre...|\n",
      "|    1|   1826|     M| 45|        11|49265|    1394|1527\u00012527\u00012528\u000137...|              Comedy|      3114|Animation\u0001Childre...|\n",
      "|    0|   3241|     F| 50|         0|20004|    3112|736\u00013869\u0001434\u00012413...|               Drama|      2572|      Comedy\u0001Romance|\n",
      "|    1|   5352|     F| 35|         5|55306|    1265|2779\u00011588\u00012161\u000132...|      Comedy\u0001Romance|      1784|        Comedy\u0001Drama|\n",
      "+-----+-------+------+---+----------+-----+--------+--------------------+--------------------+----------+--------------------+\n",
      "only showing top 10 rows\n",
      "\n"
     ]
    },
    {
     "name": "stderr",
     "output_type": "stream",
     "text": [
      "                                                                                \r"
     ]
    },
    {
     "name": "stdout",
     "output_type": "stream",
     "text": [
      "Debug -- train dataset positive count: 571711\n"
     ]
    },
    {
     "name": "stderr",
     "output_type": "stream",
     "text": [
      "                                                                                \r"
     ]
    },
    {
     "name": "stdout",
     "output_type": "stream",
     "text": [
      "Debug -- train dataset negative count: 162664\n"
     ]
    },
    {
     "name": "stderr",
     "output_type": "stream",
     "text": [
      "                                                                                \r"
     ]
    },
    {
     "name": "stdout",
     "output_type": "stream",
     "text": [
      "Debug -- test dataset count: 4612\n",
      "Get aws endpoint from env: ks3-cn-beijing-internal.ksyuncs.com\n",
      "\u001b[32mloaded combine schema from\u001b[m \u001b[32mcolumn name file \u001b[m's3://dmetasoul-bucket/demo/schema/item_column_schema' \u001b[32mand combine schema file \u001b[m's3://dmetasoul-bucket/demo/schema/item_combine_schema'\n",
      "[WARN] 2022-02-10 08:23:42.210 STSAssumeRoleWithWebIdentityCredentialsProvider [139755535304512] Token file must be specified to use STS AssumeRole web identity creds provider.\n",
      "[2022-02-10 08:23:42.211] [info] ../cpp/metaspore/s3_sdk_filesys.cpp:411 -- Try to open S3 stream: s3://dmetasoul-bucket/demo/schema/item_column_schema, read_only: true\n",
      "\n",
      "[2022-02-10 08:23:42.229] [info] ../cpp/metaspore/s3_sdk_filesys.cpp:437 -- Opened read-only stream for object: s3://dmetasoul-bucket/demo/schema/item_column_schema with total length: 116\n",
      "\n",
      "[2022-02-10 08:23:42.233] [info] ../cpp/metaspore/s3_sdk_filesys.cpp:479 -- Read S3 object s3://dmetasoul-bucket/demo/schema/item_column_schema with size 116 at position 0 larger than total size: 116, change size to 116\n",
      "\n",
      "[2022-02-10 08:23:42.365] [info] ../cpp/metaspore/s3_sdk_filesys.cpp:472 -- Read S3 object s3://dmetasoul-bucket/demo/schema/item_column_schema reached end 116\n",
      "\n",
      "[2022-02-10 08:23:42.366] [info] ../cpp/metaspore/s3_sdk_filesys.cpp:472 -- Read S3 object s3://dmetasoul-bucket/demo/schema/item_column_schema reached end 116\n",
      "\n",
      "[WARN] 2022-02-10 08:23:42.366 STSAssumeRoleWithWebIdentityCredentialsProvider [139755535304512] Token file must be specified to use STS AssumeRole web identity creds provider.\n",
      "[2022-02-10 08:23:42.366] [info] ../cpp/metaspore/s3_sdk_filesys.cpp:411 -- Try to open S3 stream: s3://dmetasoul-bucket/demo/schema/item_combine_schema, read_only: true\n",
      "\n",
      "[2022-02-10 08:23:42.385] [info] ../cpp/metaspore/s3_sdk_filesys.cpp:437 -- Opened read-only stream for object: s3://dmetasoul-bucket/demo/schema/item_combine_schema with total length: 8\n",
      "\n",
      "[2022-02-10 08:23:42.388] [info] ../cpp/metaspore/s3_sdk_filesys.cpp:479 -- Read S3 object s3://dmetasoul-bucket/demo/schema/item_combine_schema with size 8 at position 0 larger than total size: 8, change size to 8\n",
      "\n",
      "[2022-02-10 08:23:42.442] [info] ../cpp/metaspore/s3_sdk_filesys.cpp:472 -- Read S3 object s3://dmetasoul-bucket/demo/schema/item_combine_schema reached end 8\n",
      "\n",
      "[2022-02-10 08:23:42.442] [info] ../cpp/metaspore/s3_sdk_filesys.cpp:472 -- Read S3 object s3://dmetasoul-bucket/demo/schema/item_combine_schema reached end 8\n",
      "\n",
      "[WARN] 2022-02-10 08:23:42.492 STSAssumeRoleWithWebIdentityCredentialsProvider [139755535304512] Token file must be specified to use STS AssumeRole web identity creds provider.\n",
      "[2022-02-10 08:23:42.492] [info] ../cpp/metaspore/s3_sdk_filesys.cpp:411 -- Try to open S3 stream: s3://dmetasoul-bucket/demo/schema/item_column_schema, read_only: true\n",
      "\n",
      "\u001b[32mloaded combine schema from\u001b[m \u001b[32mcolumn name file \u001b[m's3://dmetasoul-bucket/demo/schema/item_column_schema' \u001b[32mand combine schema file \u001b[m's3://dmetasoul-bucket/demo/schema/item_combine_schema'\n",
      "[2022-02-10 08:23:42.509] [info] ../cpp/metaspore/s3_sdk_filesys.cpp:437 -- Opened read-only stream for object: s3://dmetasoul-bucket/demo/schema/item_column_schema with total length: 116\n",
      "\n",
      "[2022-02-10 08:23:42.510] [info] ../cpp/metaspore/s3_sdk_filesys.cpp:479 -- Read S3 object s3://dmetasoul-bucket/demo/schema/item_column_schema with size 116 at position 0 larger than total size: 116, change size to 116\n",
      "\n",
      "[2022-02-10 08:23:42.550] [info] ../cpp/metaspore/s3_sdk_filesys.cpp:472 -- Read S3 object s3://dmetasoul-bucket/demo/schema/item_column_schema reached end 116\n",
      "\n",
      "[2022-02-10 08:23:42.551] [info] ../cpp/metaspore/s3_sdk_filesys.cpp:472 -- Read S3 object s3://dmetasoul-bucket/demo/schema/item_column_schema reached end 116\n",
      "\n",
      "[WARN] 2022-02-10 08:23:42.551 STSAssumeRoleWithWebIdentityCredentialsProvider [139755535304512] Token file must be specified to use STS AssumeRole web identity creds provider.\n",
      "[2022-02-10 08:23:42.551] [info] ../cpp/metaspore/s3_sdk_filesys.cpp:411 -- Try to open S3 stream: s3://dmetasoul-bucket/demo/schema/item_combine_schema, read_only: true\n",
      "\n",
      "[2022-02-10 08:23:42.571] [info] ../cpp/metaspore/s3_sdk_filesys.cpp:437 -- Opened read-only stream for object: s3://dmetasoul-bucket/demo/schema/item_combine_schema with total length: 8\n",
      "\n",
      "[2022-02-10 08:23:42.571] [info] ../cpp/metaspore/s3_sdk_filesys.cpp:479 -- Read S3 object s3://dmetasoul-bucket/demo/schema/item_combine_schema with size 8 at position 0 larger than total size: 8, change size to 8\n",
      "\n",
      "[2022-02-10 08:23:42.587] [info] ../cpp/metaspore/s3_sdk_filesys.cpp:472 -- Read S3 object s3://dmetasoul-bucket/demo/schema/item_combine_schema reached end 8\n",
      "\n",
      "[2022-02-10 08:23:42.587] [info] ../cpp/metaspore/s3_sdk_filesys.cpp:472 -- Read S3 object s3://dmetasoul-bucket/demo/schema/item_combine_schema reached end 8\n",
      "\n",
      "[2022-02-10 08:23:42.712] [info] PS job with coordinator address 10.0.1.114:35933 started.\n",
      "[2022-02-10 08:23:42.712] [info] PSRunner::RunPS: pid: 8734, tid: 9028, thread: 0x7f1afbfff700\n",
      "[2022-02-10 08:23:42.712] [info] PSRunner::RunPSCoordinator: pid: 8734, tid: 9028, thread: 0x7f1afbfff700\n",
      "[2022-02-10 08:23:42.713] [info] ActorProcess::Receiving: Coordinator pid: 8734, tid: 9031, thread: 0x7f1afa7fc700\n"
     ]
    },
    {
     "name": "stderr",
     "output_type": "stream",
     "text": [
      "[Stage 10:>                 (0 + 4) / 4][Stage 11:>                 (0 + 2) / 2]\r"
     ]
    },
    {
     "name": "stdout",
     "output_type": "stream",
     "text": [
      "[2022-02-10 08:23:43.676] [info] C[0]:9: The coordinator has connected to 2 servers and 4 workers.\n",
      "PS Coordinator node \u001b[32mC[0]:9\u001b[m is ready.\n"
     ]
    },
    {
     "name": "stderr",
     "output_type": "stream",
     "text": [
      "[Stage 11:>                 (0 + 2) / 2][Stage 15:>                 (0 + 4) / 7]\r"
     ]
    },
    {
     "name": "stdout",
     "output_type": "stream",
     "text": [
      "2022-02-10 08:23:49.827 -- auc: 0.4741775261062452, Δauc: 0.4741775261062452, pcoc: 0.38089786132193854, Δpcoc: 0.38089786132193854, #instance: 6000\n",
      "2022-02-10 08:23:49.958 -- auc: 0.4831459311879628, Δauc: 0.49176138252229584, pcoc: 0.38011569334387485, Δpcoc: 0.37933671720249135, #instance: 12000\n",
      "2022-02-10 08:23:50.089 -- auc: 0.4866294562194381, Δauc: 0.49337981016998667, pcoc: 0.3791190814794534, Δpcoc: 0.3771422374973684, #instance: 18000\n",
      "2022-02-10 08:23:50.097 -- auc: 0.4867230168052864, Δauc: 0.48707615638995905, pcoc: 0.3795614160079862, Δpcoc: 0.38089423602088357, #instance: 24000\n",
      "2022-02-10 08:23:55.080 -- auc: 0.48663554789742236, Δauc: 0.5092270955537742, pcoc: 0.3805658602263144, Δpcoc: 0.3846107959850459, #instance: 30000\n",
      "2022-02-10 08:23:55.185 -- auc: 0.49162196810536685, Δauc: 0.5008054371204906, pcoc: 0.3800698116867919, Δpcoc: 0.3776227371678993, #instance: 36000\n",
      "2022-02-10 08:23:55.325 -- auc: 0.49501082239392125, Δauc: 0.5140670198055958, pcoc: 0.37978585218460403, Δpcoc: 0.3780989335776642, #instance: 42000\n",
      "2022-02-10 08:23:55.483 -- auc: 0.49638089335557634, Δauc: 0.5181111758737006, pcoc: 0.37997130970499804, Δpcoc: 0.38126927386830406, #instance: 48000\n",
      "2022-02-10 08:24:00.546 -- auc: 0.49856324834478505, Δauc: 0.5487068316997711, pcoc: 0.3806530202350991, Δpcoc: 0.38612106244537925, #instance: 54000\n",
      "2022-02-10 08:24:00.640 -- auc: 0.5015764029631417, Δauc: 0.550638622835027, pcoc: 0.3811225650230665, Δpcoc: 0.3853492736816406, #instance: 60000\n",
      "2022-02-10 08:24:00.782 -- auc: 0.5034493841401982, Δauc: 0.5746943708266841, pcoc: 0.38194426933442066, Δpcoc: 0.390259011289928, #instance: 66000\n",
      "2022-02-10 08:24:00.979 -- auc: 0.5058413466847038, Δauc: 0.549338966891018, pcoc: 0.38238872614688524, Δpcoc: 0.38729335109700835, #instance: 72000\n",
      "2022-02-10 08:24:05.984 -- auc: 0.5106517279491471, Δauc: 0.5940011440444177, pcoc: 0.38277996180966106, Δpcoc: 0.3874334098684405, #instance: 78000\n",
      "2022-02-10 08:24:06.089 -- auc: 0.5154640346191822, Δauc: 0.6020276895134031, pcoc: 0.38307121701217023, Δpcoc: 0.3868195502152358, #instance: 84000\n",
      "2022-02-10 08:24:06.228 -- auc: 0.5196626346944055, Δauc: 0.5952902317833242, pcoc: 0.3833419388161999, Δpcoc: 0.3870991316662585, #instance: 90000\n",
      "2022-02-10 08:24:06.705 -- auc: 0.5240524792857923, Δauc: 0.6009002803823773, pcoc: 0.38345639345846466, Δpcoc: 0.3851488666993735, #instance: 96000\n",
      "2022-02-10 08:24:11.423 -- auc: 0.5277517545375365, Δauc: 0.6324287714846378, pcoc: 0.3840120894497996, Δpcoc: 0.39283534232942524, #instance: 102000\n",
      "2022-02-10 08:24:11.521 -- auc: 0.5308024420674424, Δauc: 0.6437465728219876, pcoc: 0.38462788321132646, Δpcoc: 0.3950878189801405, #instance: 108000\n",
      "2022-02-10 08:24:11.666 -- auc: 0.5345506179569244, Δauc: 0.6346525467020135, pcoc: 0.38500577449948864, Δpcoc: 0.39173636798911143, #instance: 114000\n",
      "2022-02-10 08:24:12.209 -- auc: 0.5373773312783152, Δauc: 0.6351003485045447, pcoc: 0.38557547539905973, Δpcoc: 0.39639979249091106, #instance: 120000\n",
      "2022-02-10 08:24:16.896 -- auc: 0.540081561308213, Δauc: 0.6595691145437226, pcoc: 0.3863531707731664, Δpcoc: 0.40188051308453543, #instance: 126000\n",
      "2022-02-10 08:24:16.998 -- auc: 0.5426231017554141, Δauc: 0.6412440470364338, pcoc: 0.387061219891769, Δpcoc: 0.4019124064879354, #instance: 132000\n",
      "2022-02-10 08:24:17.143 -- auc: 0.5447683285269309, Δauc: 0.661964797601883, pcoc: 0.38786168797536513, Δpcoc: 0.40561868651975275, #instance: 138000\n",
      "2022-02-10 08:24:17.817 -- auc: 0.5467481603705802, Δauc: 0.6561177141896644, pcoc: 0.38866436383054137, Δpcoc: 0.4072890765305784, #instance: 144000\n",
      "2022-02-10 08:24:22.361 -- auc: 0.5490955544937317, Δauc: 0.6696955736684331, pcoc: 0.3895230284906571, Δpcoc: 0.4101585782976561, #instance: 150000\n",
      "2022-02-10 08:24:22.448 -- auc: 0.552202351698238, Δauc: 0.6793976717379906, pcoc: 0.39012684228483085, Δpcoc: 0.40506554336580164, #instance: 156000\n",
      "2022-02-10 08:24:22.601 -- auc: 0.5547690057669337, Δauc: 0.677484984127561, pcoc: 0.3907850947885004, Δpcoc: 0.40786635376875674, #instance: 162000\n",
      "2022-02-10 08:24:23.405 -- auc: 0.5570515908768677, Δauc: 0.6782144994467016, pcoc: 0.3915186276462737, Δpcoc: 0.4113759268462696, #instance: 168000\n",
      "2022-02-10 08:24:27.888 -- auc: 0.5591479850333652, Δauc: 0.6903384014206517, pcoc: 0.3924327566395831, Δpcoc: 0.41810407190459964, #instance: 174000\n",
      "2022-02-10 08:24:27.995 -- auc: 0.5614714232077302, Δauc: 0.6769348927577945, pcoc: 0.39319815573767497, Δpcoc: 0.41531104464258584, #instance: 180000\n",
      "2022-02-10 08:24:28.147 -- auc: 0.5633451346565261, Δauc: 0.6877873406895924, pcoc: 0.3940773344375289, Δpcoc: 0.4206740072413289, #instance: 186000\n",
      "2022-02-10 08:24:29.012 -- auc: 0.565590309143285, Δauc: 0.687779093276222, pcoc: 0.39481779556394286, Δpcoc: 0.4177311294764242, #instance: 192000\n",
      "2022-02-10 08:24:33.351 -- auc: 0.5674495955370686, Δauc: 0.6911296417906749, pcoc: 0.3956910820857651, Δpcoc: 0.42366561595518853, #instance: 198000\n",
      "2022-02-10 08:24:33.506 -- auc: 0.5696270145908378, Δauc: 0.695007966254648, pcoc: 0.3964632861070322, Δpcoc: 0.4218199211966872, #instance: 204000\n",
      "2022-02-10 08:24:33.698 -- auc: 0.5715112491431719, Δauc: 0.7001197540596338, pcoc: 0.3972919172054216, Δpcoc: 0.425528445742756, #instance: 210000\n",
      "2022-02-10 08:24:34.763 -- auc: 0.5732034932173807, Δauc: 0.7036720280496103, pcoc: 0.3981301909763149, Δpcoc: 0.4276665677907214, #instance: 216000\n",
      "2022-02-10 08:24:38.842 -- auc: 0.5750166708760764, Δauc: 0.700978778661328, pcoc: 0.39906500267631706, Δpcoc: 0.43271302381131094, #instance: 222000\n",
      "2022-02-10 08:24:39.065 -- auc: 0.5763664731838688, Δauc: 0.7160232142857144, pcoc: 0.4000644207516488, Δpcoc: 0.43763211167376975, #instance: 228000\n",
      "2022-02-10 08:24:39.314 -- auc: 0.5779629373991347, Δauc: 0.6962449904303862, pcoc: 0.40091890863930674, Δpcoc: 0.4334826385478392, #instance: 234000\n",
      "2022-02-10 08:24:40.344 -- auc: 0.5798059424495434, Δauc: 0.7156437748878746, pcoc: 0.4017657839774902, Δpcoc: 0.4348862821219458, #instance: 240000\n",
      "2022-02-10 08:24:44.317 -- auc: 0.5813469833203515, Δauc: 0.7121670032393626, pcoc: 0.40269820898004444, Δpcoc: 0.4401370867744149, #instance: 246000\n",
      "2022-02-10 08:24:44.546 -- auc: 0.583121712056954, Δauc: 0.7094776663231748, pcoc: 0.4035363462453614, Δpcoc: 0.4377992330301938, #instance: 252000\n",
      "2022-02-10 08:24:44.807 -- auc: 0.5845260870100712, Δauc: 0.708340414519015, pcoc: 0.40441538792169796, Δpcoc: 0.441586590861678, #instance: 258000\n"
     ]
    },
    {
     "name": "stderr",
     "output_type": "stream",
     "text": [
      "[Stage 11:>                 (0 + 2) / 2][Stage 15:>                 (0 + 4) / 7]\r"
     ]
    },
    {
     "name": "stdout",
     "output_type": "stream",
     "text": [
      "2022-02-10 08:24:45.875 -- auc: 0.5860433669043875, Δauc: 0.7098546204561518, pcoc: 0.40527177451137963, Δpcoc: 0.4422377789727799, #instance: 264000\n",
      "2022-02-10 08:24:49.673 -- auc: 0.5877673272113031, Δauc: 0.7191949263502455, pcoc: 0.40612592931119496, Δpcoc: 0.44346448857733545, #instance: 270000\n",
      "2022-02-10 08:24:50.014 -- auc: 0.5886211284192406, Δauc: 0.7130517233139975, pcoc: 0.40717062017103184, Δpcoc: 0.45519075410363974, #instance: 276000\n",
      "2022-02-10 08:24:50.222 -- auc: 0.5902596137860836, Δauc: 0.7132350923903388, pcoc: 0.40795607511722887, Δpcoc: 0.4438715712175256, #instance: 282000\n",
      "2022-02-10 08:24:51.387 -- auc: 0.5916170234057426, Δauc: 0.6981902347656865, pcoc: 0.40877187097354534, Δpcoc: 0.44705356258526124, #instance: 288000\n",
      "2022-02-10 08:24:54.996 -- auc: 0.5929871874044245, Δauc: 0.7231553002476807, pcoc: 0.40968949129481763, Δpcoc: 0.4537706732877709, #instance: 294000\n",
      "2022-02-10 08:24:55.428 -- auc: 0.594308454977234, Δauc: 0.7213813922307726, pcoc: 0.41059112725320995, Δpcoc: 0.4548060790263316, #instance: 300000\n",
      "2022-02-10 08:24:55.653 -- auc: 0.5955932773467856, Δauc: 0.7088013277132057, pcoc: 0.4114368290797527, Δpcoc: 0.45367306728469137, #instance: 306000\n",
      "2022-02-10 08:24:56.861 -- auc: 0.5971956090213435, Δauc: 0.7275939575771453, pcoc: 0.41221700333128364, Δpcoc: 0.4516235816058943, #instance: 312000\n",
      "2022-02-10 08:25:00.371 -- auc: 0.5982696745296886, Δauc: 0.7140878226891294, pcoc: 0.4131409493380847, Δpcoc: 0.4612848809860295, #instance: 318000\n",
      "2022-02-10 08:25:00.848 -- auc: 0.5993569461219548, Δauc: 0.7045133179451946, pcoc: 0.41404530888445384, Δpcoc: 0.4619907013044055, #instance: 324000\n",
      "2022-02-10 08:25:01.059 -- auc: 0.6006753860603407, Δauc: 0.7215603927986907, pcoc: 0.4148934857786622, Δpcoc: 0.46039655198442175, #instance: 330000\n",
      "2022-02-10 08:25:02.378 -- auc: 0.60209407632891, Δauc: 0.7289896059847081, pcoc: 0.41570803416700447, Δpcoc: 0.46007993137849096, #instance: 336000\n",
      "2022-02-10 08:25:05.936 -- auc: 0.6031260318795484, Δauc: 0.7168020179598427, pcoc: 0.4166204015101683, Δpcoc: 0.46766632977653955, #instance: 342000\n",
      "2022-02-10 08:25:06.464 -- auc: 0.6043858024830424, Δauc: 0.7418616091971827, pcoc: 0.41750851510384346, Δpcoc: 0.4680964078564495, #instance: 348000\n",
      "2022-02-10 08:25:06.666 -- auc: 0.6056289425746222, Δauc: 0.736377306745817, pcoc: 0.4183776325393617, Δpcoc: 0.4686021642066513, #instance: 354000\n",
      "2022-02-10 08:25:07.984 -- auc: 0.6066335709649353, Δauc: 0.7196675084175084, pcoc: 0.419244268162558, Δpcoc: 0.47027910672701323, #instance: 360000\n",
      "2022-02-10 08:25:11.414 -- auc: 0.6078487166069726, Δauc: 0.7338302144538258, pcoc: 0.42010152893257013, Δpcoc: 0.47111455103394334, #instance: 366000\n",
      "2022-02-10 08:25:11.957 -- auc: 0.6088136886650227, Δauc: 0.7356160523438928, pcoc: 0.421034910346316, Δpcoc: 0.47822745008843864, #instance: 372000\n",
      "2022-02-10 08:25:12.161 -- auc: 0.609915873018407, Δauc: 0.7275166739077261, pcoc: 0.42190152203863046, Δpcoc: 0.47534085436783013, #instance: 378000\n",
      "2022-02-10 08:25:13.483 -- auc: 0.6108680606077472, Δauc: 0.7317355024059132, pcoc: 0.42277011970405526, Δpcoc: 0.47759739022742725, #instance: 384000\n",
      "2022-02-10 08:25:16.780 -- auc: 0.6116617509774867, Δauc: 0.7289457137266747, pcoc: 0.4237150701710781, Δpcoc: 0.4846334066715874, #instance: 390000\n",
      "2022-02-10 08:25:17.525 -- auc: 0.6125971872090727, Δauc: 0.7314166504791504, pcoc: 0.42460536154111667, Δpcoc: 0.4823671993027385, #instance: 396000\n",
      "2022-02-10 08:25:17.580 -- auc: 0.6135462934864485, Δauc: 0.7351874126663228, pcoc: 0.4254931025510794, Δpcoc: 0.48414012311433147, #instance: 402000\n",
      "2022-02-10 08:25:18.849 -- auc: 0.6144056701402028, Δauc: 0.7279613854725961, pcoc: 0.4263418572177016, Δpcoc: 0.4833231164579584, #instance: 408000\n",
      "2022-02-10 08:25:22.193 -- auc: 0.6152100650587018, Δauc: 0.724574618037202, pcoc: 0.42724454383987387, Δpcoc: 0.48859131208688317, #instance: 414000\n",
      "2022-02-10 08:25:23.007 -- auc: 0.6161511100381976, Δauc: 0.7332982295612624, pcoc: 0.42813281836567474, Δpcoc: 0.48897188448470247, #instance: 420000\n",
      "2022-02-10 08:25:23.015 -- auc: 0.6169268315242322, Δauc: 0.7417040739242129, pcoc: 0.42904380546866844, Δpcoc: 0.49327762787996976, #instance: 426000\n",
      "2022-02-10 08:25:24.282 -- auc: 0.6176689702333008, Δauc: 0.7506684442106716, pcoc: 0.43000340443438295, Δpcoc: 0.4991612556653145, #instance: 432000\n",
      "2022-02-10 08:25:27.555 -- auc: 0.6185160869407065, Δauc: 0.7342634971272319, pcoc: 0.43082853383897896, Δpcoc: 0.489989080612085, #instance: 438000\n"
     ]
    },
    {
     "name": "stderr",
     "output_type": "stream",
     "text": [
      "[Stage 11:>                 (0 + 2) / 2][Stage 15:==>               (1 + 4) / 7]\r"
     ]
    },
    {
     "name": "stdout",
     "output_type": "stream",
     "text": [
      "2022-02-10 08:25:28.381 -- auc: 0.6193508335782499, Δauc: 0.7250350006970547, pcoc: 0.43164689906480863, Δpcoc: 0.49091336761578325, #instance: 444000\n",
      "2022-02-10 08:25:29.030 -- auc: 0.6200685793362631, Δauc: 0.7374501213450283, pcoc: 0.4325239311215822, Δpcoc: 0.49811424026753365, #instance: 449976\n",
      "2022-02-10 08:25:29.647 -- auc: 0.620766162952405, Δauc: 0.7339274389853309, pcoc: 0.43344196048308464, Δpcoc: 0.502449006174767, #instance: 455976\n"
     ]
    },
    {
     "name": "stderr",
     "output_type": "stream",
     "text": [
      "[Stage 11:>                 (0 + 2) / 2][Stage 15:=======>          (3 + 4) / 7]\r"
     ]
    },
    {
     "name": "stdout",
     "output_type": "stream",
     "text": [
      "2022-02-10 08:25:33.161 -- auc: 0.6216147490763637, Δauc: 0.73705430524169, pcoc: 0.43425595477013434, Δpcoc: 0.4962435145665586, #instance: 461922\n",
      "2022-02-10 08:25:33.645 -- auc: 0.6221949287654953, Δauc: 0.7532517696745031, pcoc: 0.4352572965624305, Δpcoc: 0.5137937235858214, #instance: 467922\n",
      "2022-02-10 08:25:34.437 -- auc: 0.6228210605164259, Δauc: 0.7234745956621746, pcoc: 0.4361308982570416, Δpcoc: 0.5043321304893698, #instance: 473922\n",
      "2022-02-10 08:25:35.590 -- auc: 0.6236173677884681, Δauc: 0.749650343003107, pcoc: 0.4369796934635257, Δpcoc: 0.5046589095201834, #instance: 479867\n"
     ]
    },
    {
     "name": "stderr",
     "output_type": "stream",
     "text": [
      "[Stage 11:>                 (0 + 2) / 2][Stage 15:==========>       (4 + 3) / 7]\r"
     ]
    },
    {
     "name": "stdout",
     "output_type": "stream",
     "text": [
      "2022-02-10 08:25:38.173 -- auc: 0.6242374378409306, Δauc: 0.7357091319545331, pcoc: 0.4378751544009094, Δpcoc: 0.5097821501602898, #instance: 485867\n",
      "2022-02-10 08:25:39.263 -- auc: 0.6247472916126515, Δauc: 0.7377162239540398, pcoc: 0.43881532453484456, Δpcoc: 0.5159492567165422, #instance: 491867\n",
      "2022-02-10 08:25:40.295 -- auc: 0.6254342747567676, Δauc: 0.7278678721198284, pcoc: 0.43966518187932296, Δpcoc: 0.508961506889483, #instance: 497867\n",
      "2022-02-10 08:25:42.624 -- auc: 0.6262506363821687, Δauc: 0.7478597721285587, pcoc: 0.4404968982004974, Δpcoc: 0.5089561453487607, #instance: 503867\n",
      "2022-02-10 08:25:43.736 -- auc: 0.6269145446505973, Δauc: 0.7527920563553309, pcoc: 0.44142561908219996, Δpcoc: 0.5197971106755598, #instance: 509867\n",
      "2022-02-10 08:25:44.819 -- auc: 0.627621523979065, Δauc: 0.7424369445291745, pcoc: 0.4422600542996927, Δpcoc: 0.5128262061292254, #instance: 515867\n",
      "2022-02-10 08:25:47.121 -- auc: 0.6281136569820613, Δauc: 0.7297918680931084, pcoc: 0.44314611914438823, Δpcoc: 0.519534345909022, #instance: 521867\n",
      "2022-02-10 08:25:48.226 -- auc: 0.6287496719127852, Δauc: 0.7399738708086178, pcoc: 0.4440079590484423, Δpcoc: 0.5187682449588507, #instance: 527867\n",
      "2022-02-10 08:25:49.314 -- auc: 0.6293969155477102, Δauc: 0.7420131274716912, pcoc: 0.4448667643596424, Δpcoc: 0.520222619882459, #instance: 533867\n",
      "2022-02-10 08:25:51.747 -- auc: 0.6298760063772941, Δauc: 0.736504251189553, pcoc: 0.44572952668367516, Δpcoc: 0.5230383894580795, #instance: 539867\n",
      "2022-02-10 08:25:52.865 -- auc: 0.63051684639255, Δauc: 0.7347041668864279, pcoc: 0.4465954495650094, Δpcoc: 0.5238866552770682, #instance: 545867\n",
      "2022-02-10 08:25:54.136 -- auc: 0.6311196351291088, Δauc: 0.7431470066671806, pcoc: 0.4474620370893754, Δpcoc: 0.5260464504408862, #instance: 551867\n",
      "2022-02-10 08:25:56.318 -- auc: 0.6315436020956409, Δauc: 0.7433211029900497, pcoc: 0.4483734691373718, Δpcoc: 0.533406080317228, #instance: 557867\n",
      "2022-02-10 08:25:57.438 -- auc: 0.6320523035756809, Δauc: 0.7478006680681002, pcoc: 0.44929928551500165, Δpcoc: 0.5361282215130769, #instance: 563867\n",
      "2022-02-10 08:25:58.705 -- auc: 0.6326673133012852, Δauc: 0.7554558286651788, pcoc: 0.45015975643357903, Δpcoc: 0.5310738976810094, #instance: 569867\n",
      "2022-02-10 08:26:00.855 -- auc: 0.6331890023654811, Δauc: 0.7511881319294442, pcoc: 0.4510744447072324, Δpcoc: 0.5383570034682994, #instance: 575867\n",
      "2022-02-10 08:26:02.034 -- auc: 0.6338161106052764, Δauc: 0.7636275581671264, pcoc: 0.4519350196744404, Δpcoc: 0.5348252971317885, #instance: 581867\n",
      "2022-02-10 08:26:03.308 -- auc: 0.634396012029244, Δauc: 0.7556733697257331, pcoc: 0.4527757488627416, Δpcoc: 0.534665629703699, #instance: 587867\n",
      "2022-02-10 08:26:05.479 -- auc: 0.6351070947749248, Δauc: 0.7434639816702467, pcoc: 0.45357134150259976, Δpcoc: 0.5301147504268096, #instance: 593867\n",
      "2022-02-10 08:26:06.678 -- auc: 0.6357708611716677, Δauc: 0.7407993313481194, pcoc: 0.45435328157774735, Δpcoc: 0.5305574808076483, #instance: 599867\n",
      "2022-02-10 08:26:07.978 -- auc: 0.6362522955496259, Δauc: 0.7388261632870006, pcoc: 0.4551848113178849, Δpcoc: 0.5386192509109887, #instance: 605841\n"
     ]
    },
    {
     "name": "stderr",
     "output_type": "stream",
     "text": [
      "[Stage 11:>                 (0 + 2) / 2][Stage 15:============>     (5 + 2) / 7]\r"
     ]
    },
    {
     "name": "stdout",
     "output_type": "stream",
     "text": [
      "2022-02-10 08:26:09.581 -- auc: 0.6368976516778828, Δauc: 0.756227458671667, pcoc: 0.4559938865570009, Δpcoc: 0.5370781861000182, #instance: 611841\n",
      "2022-02-10 08:26:10.624 -- auc: 0.6375735488512995, Δauc: 0.756017847401601, pcoc: 0.45676191104175834, Δpcoc: 0.5342203194385159, #instance: 617841\n",
      "2022-02-10 08:26:13.220 -- auc: 0.6381192127532345, Δauc: 0.7548956877997358, pcoc: 0.45761086880692614, Δpcoc: 0.5450248020003067, #instance: 623841\n",
      "2022-02-10 08:26:14.371 -- auc: 0.6384763603452908, Δauc: 0.736493873034582, pcoc: 0.458481024514764, Δpcoc: 0.5495325728393634, #instance: 629841\n",
      "2022-02-10 08:26:17.014 -- auc: 0.6388345162564777, Δauc: 0.7424875305853567, pcoc: 0.45932604045266406, Δpcoc: 0.5489977782938904, #instance: 635841\n",
      "2022-02-10 08:26:18.192 -- auc: 0.6393678813289139, Δauc: 0.7471023378570834, pcoc: 0.46016215602176114, Δpcoc: 0.548163586401118, #instance: 641841\n",
      "2022-02-10 08:26:20.765 -- auc: 0.6398417796577476, Δauc: 0.7487734861779717, pcoc: 0.4609707942882186, Δpcoc: 0.5474776000486451, #instance: 647841\n",
      "2022-02-10 08:26:22.005 -- auc: 0.6401179578192224, Δauc: 0.7335733107472238, pcoc: 0.46181394162045664, Δpcoc: 0.5538409179423278, #instance: 653841\n",
      "2022-02-10 08:26:24.527 -- auc: 0.6404358581065055, Δauc: 0.7271958875152136, pcoc: 0.46266566416008303, Δpcoc: 0.5556750448988231, #instance: 659841\n",
      "2022-02-10 08:26:25.830 -- auc: 0.6410263886903658, Δauc: 0.763946108387463, pcoc: 0.4634771883716235, Δpcoc: 0.5521850070328143, #instance: 665841\n",
      "2022-02-10 08:26:28.230 -- auc: 0.6414840924233773, Δauc: 0.7474238741057555, pcoc: 0.46431816961434247, Δpcoc: 0.5572253527912701, #instance: 671841\n",
      "2022-02-10 08:26:29.477 -- auc: 0.6419029387990495, Δauc: 0.7492273776631551, pcoc: 0.46517838794858524, Δpcoc: 0.561419777141762, #instance: 677841\n",
      "2022-02-10 08:26:31.877 -- auc: 0.642413091464616, Δauc: 0.7496039611122363, pcoc: 0.46596877204243387, Δpcoc: 0.5545431621619575, #instance: 683841\n",
      "2022-02-10 08:26:33.189 -- auc: 0.642774042967786, Δauc: 0.7457865828715455, pcoc: 0.46680908647687197, Δpcoc: 0.5631285904811232, #instance: 689841\n",
      "2022-02-10 08:26:35.616 -- auc: 0.6433202092257493, Δauc: 0.7547591103994282, pcoc: 0.46755322395886156, Δpcoc: 0.5519926993401496, #instance: 695841\n",
      "2022-02-10 08:26:36.906 -- auc: 0.6438351013236113, Δauc: 0.7476158861916709, pcoc: 0.46831058701463874, Δpcoc: 0.554916659261145, #instance: 701841\n",
      "2022-02-10 08:26:39.337 -- auc: 0.6442224001657437, Δauc: 0.7400063652944561, pcoc: 0.4691101184818689, Δpcoc: 0.5621628091992915, #instance: 707841\n",
      "2022-02-10 08:26:40.609 -- auc: 0.6445706097206321, Δauc: 0.7446820190155745, pcoc: 0.4699435361917624, Δpcoc: 0.568360399581749, #instance: 713841\n",
      "2022-02-10 08:26:43.076 -- auc: 0.6450335049415743, Δauc: 0.7650041637307027, pcoc: 0.4707398516263396, Δpcoc: 0.5657141378509128, #instance: 719841\n",
      "2022-02-10 08:26:44.519 -- auc: 0.6452740548179063, Δauc: 0.7483792889699633, pcoc: 0.47162257436053684, Δpcoc: 0.5791231268957769, #instance: 725841\n"
     ]
    },
    {
     "name": "stderr",
     "output_type": "stream",
     "text": [
      "                                                                                \r"
     ]
    },
    {
     "name": "stdout",
     "output_type": "stream",
     "text": [
      "2022-02-10 08:26:46.110 -- auc: 0.6452740548179063, Δauc: 1.0, pcoc: 0.47162257436053684, Δpcoc: nan, #instance: 725841\n",
      "2022-02-10 08:26:46.119 -- auc: 0.6454607735784468, Δauc: 0.7544117303013289, pcoc: 0.4719435269172896, Δpcoc: 0.5737701857243944, #instance: 728102\n",
      "2022-02-10 08:26:46.127 -- auc: 0.6456554989727139, Δauc: 0.748656947331454, pcoc: 0.4723596581574847, Δpcoc: 0.5691884096424372, #instance: 731230\n",
      "2022-02-10 08:26:46.135 -- auc: 0.6459412415610493, Δauc: 0.7349312590236803, pcoc: 0.4724984203815541, Δpcoc: 0.5047797194100128, #instance: 734375\n"
     ]
    },
    {
     "name": "stderr",
     "output_type": "stream",
     "text": [
      "                                                                                \r"
     ]
    },
    {
     "name": "stdout",
     "output_type": "stream",
     "text": [
      "[2022-02-10 08:26:51.641] [info] C[0]:9 has stopped.\n",
      "[2022-02-10 08:26:51.642] [info] PS job with coordinator address 10.0.1.114:35933 stopped.\n",
      "Debug -- model output:\n",
      "2022-02-10 08:26:46         64 _deep_dense.0.bias__dense_data.dat\n",
      "2022-02-10 08:26:46        445 _deep_dense.0.bias__dense_meta.json\n",
      "2022-02-10 08:26:47        128 _deep_dense.0.bias__dense_state.dat\n",
      "2022-02-10 08:26:51         64 _deep_dense.0.running_mean__dense_data.dat\n",
      "2022-02-10 08:26:51        373 _deep_dense.0.running_mean__dense_meta.json\n",
      "2022-02-10 08:26:51         64 _deep_dense.0.running_var__dense_data.dat\n",
      "2022-02-10 08:26:51        372 _deep_dense.0.running_var__dense_meta.json\n",
      "2022-02-10 08:26:46         64 _deep_dense.0.weight__dense_data.dat\n",
      "2022-02-10 08:26:46        447 _deep_dense.0.weight__dense_meta.json\n",
      "2022-02-10 08:26:46        128 _deep_dense.0.weight__dense_state.dat\n",
      "2022-02-10 08:26:47       4096 _deep_dense.1.bias__dense_data.dat\n",
      "2022-02-10 08:26:47        453 _deep_dense.1.bias__dense_meta.json\n",
      "2022-02-10 08:26:47       8192 _deep_dense.1.bias__dense_state.dat\n",
      "2022-02-10 08:26:47      65536 _deep_dense.1.weight__dense_data.dat\n",
      "2022-02-10 08:26:47        457 _deep_dense.1.weight__dense_meta.json\n",
      "2022-02-10 08:26:47     131072 _deep_dense.1.weight__dense_state.dat\n",
      "2022-02-10 08:26:51          4 _deep_dense.11.bias__dense_data.dat\n",
      "2022-02-10 08:26:50        448 _deep_dense.11.bias__dense_meta.json\n",
      "2022-02-10 08:26:51          8 _deep_dense.11.bias__dense_state.dat\n",
      "2022-02-10 08:26:50          4 _deep_dense.11.weight__dense_data.dat\n",
      "2022-02-10 08:26:50        450 _deep_dense.11.weight__dense_meta.json\n",
      "2022-02-10 08:26:50          8 _deep_dense.11.weight__dense_state.dat\n",
      "2022-02-10 08:26:48       2048 _deep_dense.3.bias__dense_data.dat\n",
      "2022-02-10 08:26:48        451 _deep_dense.3.bias__dense_meta.json\n",
      "2022-02-10 08:26:48       4096 _deep_dense.3.bias__dense_state.dat\n",
      "2022-02-10 08:26:47    2097152 _deep_dense.3.weight__dense_data.dat\n",
      "2022-02-10 08:26:47        459 _deep_dense.3.weight__dense_meta.json\n",
      "2022-02-10 08:26:48    4194304 _deep_dense.3.weight__dense_state.dat\n",
      "2022-02-10 08:26:49       1024 _deep_dense.5.bias__dense_data.dat\n",
      "2022-02-10 08:26:48        451 _deep_dense.5.bias__dense_meta.json\n",
      "2022-02-10 08:26:49       2048 _deep_dense.5.bias__dense_state.dat\n",
      "2022-02-10 08:26:48     524288 _deep_dense.5.weight__dense_data.dat\n",
      "2022-02-10 08:26:48        458 _deep_dense.5.weight__dense_meta.json\n",
      "2022-02-10 08:26:48    1048576 _deep_dense.5.weight__dense_state.dat\n",
      "2022-02-10 08:26:49        512 _deep_dense.7.bias__dense_data.dat\n",
      "2022-02-10 08:26:49        451 _deep_dense.7.bias__dense_meta.json\n",
      "2022-02-10 08:26:50       1024 _deep_dense.7.bias__dense_state.dat\n",
      "2022-02-10 08:26:49     131072 _deep_dense.7.weight__dense_data.dat\n",
      "2022-02-10 08:26:49        457 _deep_dense.7.weight__dense_meta.json\n",
      "2022-02-10 08:26:49     262144 _deep_dense.7.weight__dense_state.dat\n",
      "2022-02-10 08:26:50          4 _deep_dense.9.bias__dense_data.dat\n",
      "2022-02-10 08:26:50        447 _deep_dense.9.bias__dense_meta.json\n",
      "2022-02-10 08:26:50          8 _deep_dense.9.bias__dense_state.dat\n",
      "2022-02-10 08:26:50        512 _deep_dense.9.weight__dense_data.dat\n",
      "2022-02-10 08:26:50        453 _deep_dense.9.weight__dense_meta.json\n",
      "2022-02-10 08:26:50       1024 _deep_dense.9.weight__dense_state.dat\n",
      "2022-02-10 08:26:46     390176 _deep_sparse__sparse_0.dat\n",
      "2022-02-10 08:26:46     389136 _deep_sparse__sparse_1.dat\n",
      "2022-02-10 08:26:46        511 _deep_sparse__sparse_meta.json\n",
      "2022-02-10 08:26:46     390176 _wide__sparse_0.dat\n",
      "2022-02-10 08:26:46     389136 _wide__sparse_1.dat\n",
      "2022-02-10 08:26:46        504 _wide__sparse_meta.json\n",
      "\n",
      "\n",
      "[2022-02-10 08:26:52.080] [info] PS job with coordinator address 10.0.1.114:41751 started.\n",
      "[2022-02-10 08:26:52.080] [info] PSRunner::RunPS: pid: 8734, tid: 9100, thread: 0x7f1accbfd700\n",
      "[2022-02-10 08:26:52.080] [info] PSRunner::RunPSCoordinator: pid: 8734, tid: 9100, thread: 0x7f1accbfd700\n",
      "[2022-02-10 08:26:52.081] [info] ActorProcess::Receiving: Coordinator pid: 8734, tid: 9103, thread: 0x7f1afb7be700\n",
      "[2022-02-10 08:26:52.171] [info] C[0]:9: The coordinator has connected to 2 servers and 4 workers.\n",
      "PS Coordinator node \u001b[32mC[0]:9\u001b[m is ready.\n"
     ]
    },
    {
     "name": "stderr",
     "output_type": "stream",
     "text": [
      "                                                                                \r"
     ]
    },
    {
     "name": "stdout",
     "output_type": "stream",
     "text": [
      "2022-02-10 08:27:14.749 -- auc: 0.7563887725178048, Δauc: 0.7563887725178048, pcoc: 0.5572457710227254, Δpcoc: 0.5572457710227254, #instance: 743\n",
      "2022-02-10 08:27:14.757 -- auc: 0.7666383556172571, Δauc: 0.7718625872249061, pcoc: 0.5531430833979952, Δpcoc: 0.5510417938232421, #instance: 2217\n",
      "2022-02-10 08:27:14.766 -- auc: 0.7569659695327484, Δauc: 0.7458632824198862, pcoc: 0.5639113548928859, Δpcoc: 0.5807361744163493, #instance: 3690\n",
      "2022-02-10 08:27:14.774 -- auc: 0.759942509184566, Δauc: 0.7704392717497557, pcoc: 0.5673704797019375, Δpcoc: 0.5818359107216082, #instance: 4612\n",
      "[2022-02-10 08:27:14.792] [info] C[0]:9 has stopped.\n",
      "[2022-02-10 08:27:14.794] [info] PS job with coordinator address 10.0.1.114:41751 stopped.\n",
      "Debug -- test result sample:\n",
      "+-----+-------+------+---+----------+-----+--------+--------------------+--------------------+----------+--------------------+-------------------+\n",
      "|label|user_id|gender|age|occupation|  zip|movie_id|    recent_movie_ids|               genre|last_movie|          last_genre|      rawPrediction|\n",
      "+-----+-------+------+---+----------+-----+--------+--------------------+--------------------+----------+--------------------+-------------------+\n",
      "|  1.0|   1191|     F| 35|         0|98117|    1947|916\u00011264\u00012130\u0001206...|     Musical\u0001Romance|      2248|Comedy\u0001Drama\u0001Romance|  0.464618444442749|\n",
      "|  0.0|   5241|     F| 25|         4|02138|    2628|527\u00012571\u00011372\u0001165...|Action\u0001Adventure\u0001...|       780|   Action\u0001Sci-Fi\u0001War| 0.5355381369590759|\n",
      "|  0.0|   4295|     M| 18|        18|90605|    2124|19\u00013710\u0001410\u00011459\u0001...|              Comedy|      2133|    Adventure\u0001Comedy| 0.3561013340950012|\n",
      "|  1.0|   2123|     F| 35|         0|13064|    2154|207\u00012506\u0001362\u00012724...|       Drama\u0001Romance|      2558|      Comedy\u0001Romance|0.32070931792259216|\n",
      "|  1.0|   3933|     F| 35|         6|48073|    2804|1225\u0001593\u00012858\u0001260...|        Comedy\u0001Drama|      1265|      Comedy\u0001Romance| 0.5964224338531494|\n",
      "|  1.0|   2253|     F| 50|         0|46815|    2054|1129\u00012161\u0001434\u0001380...|Adventure\u0001Childre...|      1009|Adventure\u0001Childre...|0.33492597937583923|\n",
      "|  1.0|   2058|     F| 56|         1|06437|     969|2454\u00013753\u00013555\u000134...|Action\u0001Adventure\u0001...|      2399|Adventure\u0001Childre...| 0.5517905354499817|\n",
      "|  1.0|   1826|     M| 45|        11|49265|    1394|1527\u00012527\u00012528\u000137...|              Comedy|      3114|Animation\u0001Childre...| 0.5785835385322571|\n",
      "|  0.0|   3241|     F| 50|         0|20004|    3112|736\u00013869\u0001434\u00012413...|               Drama|      2572|      Comedy\u0001Romance|0.32070931792259216|\n",
      "|  1.0|   5352|     F| 35|         5|55306|    1265|2779\u00011588\u00012161\u000132...|      Comedy\u0001Romance|      1784|        Comedy\u0001Drama| 0.6776115894317627|\n",
      "|  1.0|   5297|     M| 25|        12|19067|     457|2278\u00012273\u00012763\u000137...|     Action\u0001Thriller|      1573|Action\u0001Sci-Fi\u0001Thr...| 0.6861239075660706|\n",
      "|  1.0|   5364|     F| 25|         3|55408|    2396|1644\u00013063\u00012263\u000117...|      Comedy\u0001Romance|       922|           Film-Noir| 0.7057443261146545|\n",
      "|  1.0|    482|     M| 25|        14|55305|    3950|276\u000155\u00011882\u0001839\u00012...|               Drama|       416|             Western|0.32070931792259216|\n",
      "|  1.0|   4831|     F| 25|         1|04210|    2739|1907\u00011270\u00013088\u000138...|               Drama|       595|Animation\u0001Childre...| 0.3865247666835785|\n",
      "|  0.0|   3165|     M| 35|         7|60611|    2490|2002\u0001481\u00012858\u000150\u0001...|     Action\u0001Thriller|      3147|      Drama\u0001Thriller| 0.4112005829811096|\n",
      "|  1.0|   1978|     M|  1|        10|43357|     593|3785\u00013054\u00011797\u000131...|      Drama\u0001Thriller|      1021|   Children's\u0001Comedy| 0.7577062845230103|\n",
      "|  1.0|   1890|     M| 50|         6|94702|     161|2112\u00013729\u00012023\u000132...|  Drama\u0001Thriller\u0001War|       969|Action\u0001Adventure\u0001...|  0.438680499792099|\n",
      "|  1.0|   1244|     M| 25|         4|22030|    2455|3354\u00013273\u00013301\u000133...|       Horror\u0001Sci-Fi|      3947|            Thriller|0.44038960337638855|\n",
      "|  1.0|     46|     M| 18|        19|75602|    3280|1327\u00011261\u00012523\u000152...|              Horror|      1279|        Comedy\u0001Drama|0.32070931792259216|\n",
      "|  1.0|    539|     M| 25|         2|55103|    1920|595\u0001364\u00012138\u00012355...|Animation\u0001Childre...|       610|Action\u0001Adventure\u0001...|0.32070931792259216|\n",
      "+-----+-------+------+---+----------+-----+--------+--------------------+--------------------+----------+--------------------+-------------------+\n",
      "only showing top 20 rows\n",
      "\n",
      "Debug--spark stop\n"
     ]
    },
    {
     "name": "stderr",
     "output_type": "stream",
     "text": [
      "22/02/10 08:27:14 WARN ExecutorPodsWatchSnapshotSource: Kubernetes client has been closed (this is expected if the application is shutting down.)\n"
     ]
    }
   ],
   "source": [
    "if __name__==\"__main__\":\n",
    "    print('Debug -- Movielens Recall Demo')\n",
    "    params=load_config('widedeep.yaml')\n",
    "    locals().update(params)\n",
    "    spark = init_spark()\n",
    "    train_dataset, test_dataset = read_dataset(spark)\n",
    "    model = train(spark, train_dataset)\n",
    "    test_result = transform(spark, model, test_dataset)\n",
    "    stop_spark(spark)"
   ]
  },
  {
   "cell_type": "code",
   "execution_count": null,
   "id": "16eb23e6-85e8-4809-b622-f056fa9f97ce",
   "metadata": {},
   "outputs": [],
   "source": []
  },
  {
   "cell_type": "code",
   "execution_count": null,
   "id": "56bbb382-5ccf-4cf8-984d-ea4bbd0a868b",
   "metadata": {},
   "outputs": [],
   "source": []
  },
  {
   "cell_type": "code",
   "execution_count": null,
   "id": "84ebebf4-325c-4ad3-b0cc-a55e577fb46b",
   "metadata": {},
   "outputs": [],
   "source": []
  }
 ],
 "metadata": {
  "kernelspec": {
   "display_name": "Python 3 (ipykernel)",
   "language": "python",
   "name": "python3"
  },
  "language_info": {
   "codemirror_mode": {
    "name": "ipython",
    "version": 3
   },
   "file_extension": ".py",
   "mimetype": "text/x-python",
   "name": "python",
   "nbconvert_exporter": "python",
   "pygments_lexer": "ipython3",
   "version": "3.8.10"
  }
 },
 "nbformat": 4,
 "nbformat_minor": 5
}
