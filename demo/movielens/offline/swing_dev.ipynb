{
 "cells": [
  {
   "cell_type": "code",
   "execution_count": 15,
   "id": "2555c15f-6e66-4315-ab0d-1476ef9732f6",
   "metadata": {},
   "outputs": [
    {
     "name": "stdout",
     "output_type": "stream",
     "text": [
      "3.1.2\n",
      "spark-application-1644402952974\n",
      "http://jupyter.my.nginx.test/hub/user-redirect/proxy/4040/jobs/\n"
     ]
    }
   ],
   "source": [
    "import metaspore as ms\n",
    "\n",
    "app_name='Swing Demo'\n",
    "local=False\n",
    "worker_count = 4\n",
    "server_count = 4\n",
    "batch_size=512\n",
    "worker_memory='5G'\n",
    "server_memory='5G'\n",
    "coordinator_memory='5G'\n",
    "\n",
    "spark_confs={\n",
    "    \"spark.network.timeout\":\"500\",\n",
    "    \"spark.submit.pyFiles\":\"python.zip\",\n",
    "}\n",
    "\n",
    "spark = ms.spark.get_session(local=local,\n",
    "                             app_name=app_name,\n",
    "                             batch_size=batch_size,\n",
    "                             worker_count=worker_count,\n",
    "                             server_count=server_count,\n",
    "                             worker_memory=worker_memory,\n",
    "                             server_memory=server_memory,\n",
    "                             coordinator_memory=coordinator_memory,\n",
    "                             spark_confs=spark_confs)\n",
    "sc = spark.sparkContext\n",
    "print(sc.version)\n",
    "print(sc.applicationId)\n",
    "print(sc.uiWebUrl)"
   ]
  },
  {
   "cell_type": "code",
   "execution_count": 17,
   "id": "b86b4592-9a8d-450d-bd8a-706d832b5cd6",
   "metadata": {},
   "outputs": [
    {
     "name": "stderr",
     "output_type": "stream",
     "text": [
      "                                                                                \r"
     ]
    }
   ],
   "source": [
    "train_path='s3://dmetasoul-bucket/demo/movielens/match/num_negs_100/train.parquet'\n",
    "test_path='s3://dmetasoul-bucket/demo/movielens/match/num_negs_100/test.parquet'\n",
    "item_path='s3://dmetasoul-bucket/demo/movielens/match/num_negs_100/item.parquet'\n",
    "\n",
    "train_dataset = spark.read.parquet(train_path)\n",
    "train_dataset=train_dataset[train_dataset['label']==1]\n",
    "test_dataset = spark.read.parquet(test_path)"
   ]
  },
  {
   "cell_type": "code",
   "execution_count": 18,
   "id": "5aaf847c-7871-48dd-8556-f6bb16aeb26c",
   "metadata": {},
   "outputs": [
    {
     "name": "stdout",
     "output_type": "stream",
     "text": [
      "+-----+-------+------+---+----------+----------+--------+--------------------+--------------------+----------+--------------------+\n",
      "|label|user_id|gender|age|occupation|       zip|movie_id|    recent_movie_ids|               genre|last_movie|          last_genre|\n",
      "+-----+-------+------+---+----------+----------+--------+--------------------+--------------------+----------+--------------------+\n",
      "|    1|   5638|     M| 18|         1|     32601|     266|21\u0001647\u00011271\u00011268\u0001...|Drama\u0001Romance\u0001War...|      3591|        Comedy\u0001Drama|\n",
      "|    1|   1440|     M| 35|        12|     94520|    2529|2819\u00011955\u00011953\u000134...|       Action\u0001Sci-Fi|      2877|       Drama\u0001Musical|\n",
      "|    1|   1010|     M| 25|         0|     10310|    2371|1186\u00012150\u0001592\u0001240...|              Comedy|      2352|        Comedy\u0001Drama|\n",
      "|    1|      6|     F| 50|         9|     55117|     266|1947\u0001914\u00013604\u0001102...|Drama\u0001Romance\u0001War...|       368|Action\u0001Comedy\u0001Wes...|\n",
      "|    1|   4021|     M| 50|        20|     95236|    2193|3519\u00012826\u00012058\u000110...|Action\u0001Adventure\u0001...|      3137|          Action\u0001War|\n",
      "|    1|   1010|     M| 25|         0|     10310|    1376|3039\u00012987\u00013552\u000127...|Action\u0001Adventure\u0001...|      2457|       Action\u0001Comedy|\n",
      "|    1|   3675|     M| 35|         7|     06680|    1242|1371\u00011388\u00013430\u000125...|    Action\u0001Drama\u0001War|      1197|Action\u0001Adventure\u0001...|\n",
      "|    1|   4285|     M| 35|         0|     62704|    2529|2947\u00011954\u00013702\u000129...|       Action\u0001Sci-Fi|      3441|          Action\u0001War|\n",
      "|    1|   2029|     F| 25|        12|     10011|    2788|3400\u0001239\u00012354\u0001305...|              Comedy|      1079|              Comedy|\n",
      "|    1|   2592|     M| 50|         7|80004-4448|    1711|1918\u00011917\u0001533\u0001161...|Comedy\u0001Crime\u0001Dram...|      1422|    Mystery\u0001Thriller|\n",
      "+-----+-------+------+---+----------+----------+--------+--------------------+--------------------+----------+--------------------+\n",
      "only showing top 10 rows\n",
      "\n"
     ]
    },
    {
     "name": "stderr",
     "output_type": "stream",
     "text": [
      "                                                                                \r"
     ]
    }
   ],
   "source": [
    "train_dataset.show(10)"
   ]
  },
  {
   "cell_type": "code",
   "execution_count": 19,
   "id": "048c1f9f-cead-449e-9f88-626405da16fc",
   "metadata": {},
   "outputs": [],
   "source": [
    "## Using Swing implementation in MindAlpha\n",
    "estimator=ms.SwingEstimator(user_id_column_name='user_id',\n",
    "                            item_id_column_name='movie_id',\n",
    "                            behavior_column_name='label',\n",
    "                            behavior_filter_value='1',\n",
    "                            cassandra_catalog='',\n",
    "                            cassandra_host_ip='',\n",
    "                            cassandra_port=None,\n",
    "                            cassandra_db_name='',\n",
    "                            cassandra_table_name='',\n",
    ")\n",
    "\n",
    "model = estimator.fit(train_dataset)"
   ]
  },
  {
   "cell_type": "code",
   "execution_count": 20,
   "id": "b7a8702a-69e4-4634-aced-98e52a7a1c95",
   "metadata": {},
   "outputs": [
    {
     "data": {
      "text/plain": [
       "DataFrame[key: string, value: array<struct<_1:string,_2:float>>]"
      ]
     },
     "execution_count": 20,
     "metadata": {},
     "output_type": "execute_result"
    }
   ],
   "source": [
    "model.df"
   ]
  },
  {
   "cell_type": "code",
   "execution_count": 30,
   "id": "c1c55828-e930-4e08-86b3-a9095b6567c1",
   "metadata": {},
   "outputs": [],
   "source": [
    "import pyspark.sql.functions as F\n",
    "from pyspark.mllib.evaluation import RankingMetrics\n",
    "\n",
    "user_col_name='user_id'\n",
    "item_col_name='movie_id'\n",
    "last_item_col_name='last_movie'\n",
    "\n",
    "#  +---------+--------------------+\n",
    "#  |  item_id|         label_items|\n",
    "#  +---------+--------------------+\n",
    "#  |209102738|[267044868, 31773...|\n",
    "#  |198213284|[341389015, 25980...|\n",
    "test_df = test_dataset.select(user_col_name, last_item_col_name, item_col_name)\\\n",
    "            .groupBy(user_col_name, last_item_col_name)\\\n",
    "            .agg(F.collect_set(item_col_name).alias('label_items'))"
   ]
  },
  {
   "cell_type": "code",
   "execution_count": 31,
   "id": "b7274f91-a77b-4959-9112-80f35a63354c",
   "metadata": {},
   "outputs": [],
   "source": [
    "test_df = test_df.withColumnRenamed('last_movie','movie_id')"
   ]
  },
  {
   "cell_type": "code",
   "execution_count": 32,
   "id": "9a99f42c-45b4-484e-b1dc-d6ca6194b57c",
   "metadata": {},
   "outputs": [],
   "source": [
    "label_df = test_df\n",
    "#  +---------+--------------------+---------+--------------------+\n",
    "#  |  item_id|         label_items|      key|               value|\n",
    "#  +---------+--------------------+---------+--------------------+\n",
    "#  |163372107|[56871393, 177544...|     null|                null|\n",
    "#  |176556528|[403809425, 43982...|176556528|[{179642423, 0.00...|\n",
    "prediction_label_df = model.transform(label_df)"
   ]
  },
  {
   "cell_type": "code",
   "execution_count": 34,
   "id": "1d918471-c532-431d-802c-82f63473ce99",
   "metadata": {},
   "outputs": [
    {
     "name": "stderr",
     "output_type": "stream",
     "text": [
      "[Stage 24:=====================================================>(199 + 1) / 200]\r"
     ]
    },
    {
     "name": "stdout",
     "output_type": "stream",
     "text": [
      "+-------+--------+-----------+----+--------------------+\n",
      "|user_id|movie_id|label_items| key|               value|\n",
      "+-------+--------+-----------+----+--------------------+\n",
      "|   3084|    1090|     [2529]|1090|[{1196, 61.55922}...|\n",
      "|   4525|    1090|     [2890]|1090|[{1196, 61.55922}...|\n",
      "|   3784|    1090|     [1358]|1090|[{1196, 61.55922}...|\n",
      "|     57|    1090|     [1242]|1090|[{1196, 61.55922}...|\n",
      "|    769|    1090|     [1304]|1090|[{1196, 61.55922}...|\n",
      "|   2653|    1090|      [524]|1090|[{1196, 61.55922}...|\n",
      "|   4693|    1090|     [1263]|1090|[{1196, 61.55922}...|\n",
      "|    770|    1090|     [3359]|1090|[{1196, 61.55922}...|\n",
      "|    601|    1090|     [2106]|1090|[{1196, 61.55922}...|\n",
      "|   1352|    1572|     [2131]|1572|[{858, 0.00908822...|\n",
      "+-------+--------+-----------+----+--------------------+\n",
      "only showing top 10 rows\n",
      "\n"
     ]
    },
    {
     "name": "stderr",
     "output_type": "stream",
     "text": [
      "                                                                                \r"
     ]
    }
   ],
   "source": [
    "prediction_label_df.show(10)"
   ]
  },
  {
   "cell_type": "code",
   "execution_count": 35,
   "id": "6d1f0565-efc9-4814-bda5-763ef3f14cd1",
   "metadata": {},
   "outputs": [],
   "source": [
    "prediction_label_rdd = prediction_label_df.rdd.map(lambda x:(\\\n",
    "                                    [xx._1 for xx in x.value] if x.value is not None else [], \\\n",
    "                                     x.label_items))"
   ]
  },
  {
   "cell_type": "code",
   "execution_count": 36,
   "id": "d4ec9e01-9412-4713-95e1-a5918e2674b6",
   "metadata": {},
   "outputs": [
    {
     "name": "stderr",
     "output_type": "stream",
     "text": [
      "22/02/09 11:32:44 WARN ExecutorPodsWatchSnapshotSource: Kubernetes client has been closed (this is expected if the application is shutting down.)\n",
      "io.fabric8.kubernetes.client.KubernetesClientException: too old resource version: 21004921 (21015749)\n",
      "\tat io.fabric8.kubernetes.client.dsl.internal.WatchConnectionManager$1.onMessage(WatchConnectionManager.java:258)\n",
      "\tat okhttp3.internal.ws.RealWebSocket.onReadMessage(RealWebSocket.java:323)\n",
      "\tat okhttp3.internal.ws.WebSocketReader.readMessageFrame(WebSocketReader.java:219)\n",
      "\tat okhttp3.internal.ws.WebSocketReader.processNextFrame(WebSocketReader.java:105)\n",
      "\tat okhttp3.internal.ws.RealWebSocket.loopReader(RealWebSocket.java:274)\n",
      "\tat okhttp3.internal.ws.RealWebSocket$2.onResponse(RealWebSocket.java:214)\n",
      "\tat okhttp3.RealCall$AsyncCall.execute(RealCall.java:203)\n",
      "\tat okhttp3.internal.NamedRunnable.run(NamedRunnable.java:32)\n",
      "\tat java.base/java.util.concurrent.ThreadPoolExecutor.runWorker(ThreadPoolExecutor.java:1128)\n",
      "\tat java.base/java.util.concurrent.ThreadPoolExecutor$Worker.run(ThreadPoolExecutor.java:628)\n",
      "\tat java.base/java.lang.Thread.run(Thread.java:829)\n",
      "                                                                                \r"
     ]
    }
   ],
   "source": [
    "metrics = RankingMetrics(prediction_label_rdd)"
   ]
  },
  {
   "cell_type": "code",
   "execution_count": 37,
   "id": "2d1341be-618d-4355-a7b3-6453ea3489d9",
   "metadata": {},
   "outputs": [
    {
     "name": "stderr",
     "output_type": "stream",
     "text": [
      "                                                                                \r"
     ]
    },
    {
     "name": "stdout",
     "output_type": "stream",
     "text": [
      "Debug -- Precision@20:  0.005761589403973511\n"
     ]
    },
    {
     "name": "stderr",
     "output_type": "stream",
     "text": [
      "                                                                                \r"
     ]
    },
    {
     "name": "stdout",
     "output_type": "stream",
     "text": [
      "Debug -- Recall@20:  0.11523178807947022\n"
     ]
    },
    {
     "name": "stderr",
     "output_type": "stream",
     "text": [
      "[Stage 49:===================================================>  (189 + 2) / 200]\r"
     ]
    },
    {
     "name": "stdout",
     "output_type": "stream",
     "text": [
      "Debug -- MAP@20:  0.024224720990804423\n"
     ]
    },
    {
     "name": "stderr",
     "output_type": "stream",
     "text": [
      "                                                                                \r"
     ]
    }
   ],
   "source": [
    "print(\"Debug -- Precision@20: \", metrics.precisionAt(20))\n",
    "print(\"Debug -- Recall@20: \", metrics.recallAt(20))\n",
    "print(\"Debug -- MAP@20: \", metrics.meanAveragePrecisionAt(20))"
   ]
  },
  {
   "cell_type": "code",
   "execution_count": null,
   "id": "3bfcfa7b-3abd-4207-b758-9d975d6834b2",
   "metadata": {},
   "outputs": [],
   "source": []
  }
 ],
 "metadata": {
  "kernelspec": {
   "display_name": "Python 3 (ipykernel)",
   "language": "python",
   "name": "python3"
  },
  "language_info": {
   "codemirror_mode": {
    "name": "ipython",
    "version": 3
   },
   "file_extension": ".py",
   "mimetype": "text/x-python",
   "name": "python",
   "nbconvert_exporter": "python",
   "pygments_lexer": "ipython3",
   "version": "3.8.10"
  }
 },
 "nbformat": 4,
 "nbformat_minor": 5
}
