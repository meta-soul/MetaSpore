{
 "cells": [
  {
   "cell_type": "code",
   "execution_count": 1,
   "id": "64ea2a4a-ad21-4e46-9c3c-b3e65c69f2a5",
   "metadata": {},
   "outputs": [],
   "source": [
    "import pyspark.ml.base\n",
    "import pyspark.sql.functions as F\n",
    "from pyspark.sql.functions import col\n",
    "from pyspark.sql.functions import countDistinct\n",
    "from pyspark.sql.types import LongType"
   ]
  },
  {
   "cell_type": "code",
   "execution_count": 2,
   "id": "4b0c8a56-fa99-4519-bf14-a76c4de73d6c",
   "metadata": {},
   "outputs": [
    {
     "name": "stderr",
     "output_type": "stream",
     "text": [
      "WARNING: An illegal reflective access operation has occurred\n",
      "WARNING: Illegal reflective access by org.apache.spark.unsafe.Platform (file:/opt/spark/jars/spark-unsafe_2.12-3.1.2.jar) to constructor java.nio.DirectByteBuffer(long,int)\n",
      "WARNING: Please consider reporting this to the maintainers of org.apache.spark.unsafe.Platform\n",
      "WARNING: Use --illegal-access=warn to enable warnings of further illegal reflective access operations\n",
      "WARNING: All illegal access operations will be denied in a future release\n",
      "22/02/24 04:06:52 WARN NativeCodeLoader: Unable to load native-hadoop library for your platform... using builtin-java classes where applicable\n",
      "Using Spark's default log4j profile: org/apache/spark/log4j-defaults.properties\n",
      "Setting default log level to \"WARN\".\n",
      "To adjust logging level use sc.setLogLevel(newLevel). For SparkR, use setLogLevel(newLevel).\n"
     ]
    },
    {
     "name": "stdout",
     "output_type": "stream",
     "text": [
      "3.1.2\n",
      "spark-application-1645675613486\n",
      "http://jupyter.my.nginx.test/hub/user-redirect/proxy/4040/jobs/\n"
     ]
    }
   ],
   "source": [
    "import metaspore as ms\n",
    "\n",
    "author='sunkai'\n",
    "app_name='Amazon Collaborative Filtering Demo/%s'%author\n",
    "local=False\n",
    "worker_count = 4\n",
    "server_count = 4\n",
    "batch_size=256\n",
    "worker_memory='5G'\n",
    "server_memory='5G'\n",
    "coordinator_memory='5G'\n",
    "\n",
    "spark_confs={\n",
    "    \"spark.network.timeout\":\"500\",\n",
    "    \"spark.submit.pyFiles\":\"python.zip\",\n",
    "    \"spark.sql.shuffle.partitions\":\"1000\" # default 200\n",
    "}\n",
    "\n",
    "spark = ms.spark.get_session(local=local,\n",
    "                             app_name=app_name,\n",
    "                             batch_size=batch_size,\n",
    "                             worker_count=worker_count,\n",
    "                             server_count=server_count,\n",
    "                             worker_memory=worker_memory,\n",
    "                             server_memory=server_memory,\n",
    "                             coordinator_memory=coordinator_memory,\n",
    "                             spark_confs=spark_confs)\n",
    "sc = spark.sparkContext\n",
    "print(sc.version)\n",
    "print(sc.applicationId)\n",
    "print(sc.uiWebUrl)"
   ]
  },
  {
   "cell_type": "code",
   "execution_count": 3,
   "id": "ff162f25-f96e-447c-8f7a-4748b7f9ee5c",
   "metadata": {},
   "outputs": [
    {
     "name": "stderr",
     "output_type": "stream",
     "text": [
      "                                                                                \r"
     ]
    }
   ],
   "source": [
    "train_path='s3://dmetasoul-bucket/demo/movielens/match/num_negs_100/train.parquet'\n",
    "test_path='s3://dmetasoul-bucket/demo/movielens/match/num_negs_100/test.parquet'\n",
    "item_path='s3://dmetasoul-bucket/demo/movielens/match/num_negs_100/item.parquet'\n",
    "\n",
    "train_dataset = spark.read.parquet(train_path)\n",
    "train_dataset=train_dataset[train_dataset['label']==1]\n",
    "test_dataset = spark.read.parquet(test_path)"
   ]
  },
  {
   "cell_type": "code",
   "execution_count": 4,
   "id": "8ab41944-9e59-4867-8f17-0814921e3bb8",
   "metadata": {},
   "outputs": [
    {
     "name": "stderr",
     "output_type": "stream",
     "text": [
      "[Stage 2:>                                                          (0 + 1) / 1]\r"
     ]
    },
    {
     "name": "stdout",
     "output_type": "stream",
     "text": [
      "+-----+-------+------+---+----------+-----+--------+--------------------+--------------------+----------+--------------------+\n",
      "|label|user_id|gender|age|occupation|  zip|movie_id|    recent_movie_ids|               genre|last_movie|          last_genre|\n",
      "+-----+-------+------+---+----------+-----+--------+--------------------+--------------------+----------+--------------------+\n",
      "|    1|   3163|     M| 18|        15|95616|     356|3253\u00011078\u00011500\u000133...|  Comedy\u0001Romance\u0001War|       101|              Comedy|\n",
      "|    1|   4507|     M| 18|         4|61820|     110|2949\u00012028\u00013703\u000145...|    Action\u0001Drama\u0001War|      1954|        Action\u0001Drama|\n",
      "|    1|    190|     M| 25|        17|55125|    2762|2804\u0001912\u0001265\u00011225...|            Thriller|      1089|      Crime\u0001Thriller|\n",
      "|    1|   3626|     M| 25|        17|75075|      93|3544\u00012306\u00013715\u000117...|      Comedy\u0001Romance|      2195|              Comedy|\n",
      "|    1|   2015|     M| 18|         4|01003|    1917|2409\u000195\u00011479\u0001786\u0001...|Action\u0001Adventure\u0001...|      1037|Action\u0001Sci-Fi\u0001Thr...|\n",
      "|    1|   1338|     M| 25|         0|94108|    1387|1214\u00011196\u0001260\u0001120...|       Action\u0001Horror|      1222|    Action\u0001Drama\u0001War|\n",
      "|    1|   5443|     M| 25|        12|01915|     611|2453\u00012161\u00013466\u000134...|Action\u0001Horror\u0001Sci-Fi|       849|Action\u0001Adventure\u0001...|\n",
      "|    1|   4653|     M| 35|        12|95051|       7|1722\u0001543\u00011542\u0001153...|      Comedy\u0001Romance|      2572|      Comedy\u0001Romance|\n",
      "|    1|   4447|     M| 45|         5|32953|    2528|1306\u00013471\u00013527\u000133...|Action\u0001Adventure\u0001...|      2901|       Horror\u0001Sci-Fi|\n",
      "|    1|   2681|     F| 25|         4|48823|     908|318\u0001905\u0001457\u00011961\u0001...|      Drama\u0001Thriller|       296|         Crime\u0001Drama|\n",
      "+-----+-------+------+---+----------+-----+--------+--------------------+--------------------+----------+--------------------+\n",
      "only showing top 10 rows\n",
      "\n"
     ]
    },
    {
     "name": "stderr",
     "output_type": "stream",
     "text": [
      "                                                                                \r"
     ]
    }
   ],
   "source": [
    "train_dataset.show(10)"
   ]
  },
  {
   "cell_type": "code",
   "execution_count": 5,
   "id": "381e500a-4ace-4e9f-b3a6-024631bde750",
   "metadata": {},
   "outputs": [],
   "source": [
    "import sys\n",
    "sys.path.append('../../') \n",
    "from python.item_cf_retrieval import ItemCFModel, ItemCFEstimator"
   ]
  },
  {
   "cell_type": "code",
   "execution_count": 6,
   "id": "143572ef-4bf7-4ff5-b550-85b06888fbef",
   "metadata": {},
   "outputs": [],
   "source": [
    "## Using Swing implementation in MindAlpha\n",
    "estimator=ItemCFEstimator(user_id_column_name='user_id',\n",
    "                        item_id_column_name='movie_id',\n",
    "                        behavior_column_name='label',\n",
    "                        behavior_filter_value='1')\n",
    "\n",
    "model = estimator.fit(train_dataset)"
   ]
  },
  {
   "cell_type": "code",
   "execution_count": 7,
   "id": "f687bc47-b616-436f-a85c-f7bd33434c80",
   "metadata": {},
   "outputs": [
    {
     "name": "stderr",
     "output_type": "stream",
     "text": [
      "                                                                                \r"
     ]
    },
    {
     "name": "stdout",
     "output_type": "stream",
     "text": [
      "+----+--------------------+\n",
      "| key|               value|\n",
      "+----+--------------------+\n",
      "|1090|[{1222, 0.3960944...|\n",
      "|1572|[{659, 0.39790767...|\n",
      "|2088|[{2471, 0.3545055...|\n",
      "|2294|[{1907, 0.3906826...|\n",
      "| 296|[{608, 0.55562270...|\n",
      "|3414|[{937, 0.19069249...|\n",
      "|1394|[{1079, 0.4741696...|\n",
      "|3826|[{3793, 0.2857708...|\n",
      "| 451|[{3044, 0.2110436...|\n",
      "|1280|[{3260, 0.2460103...|\n",
      "|1870|[{2029, 0.2246403...|\n",
      "|2700|[{223, 0.43360152...|\n",
      "|2917|[{1084, 0.2770283...|\n",
      "|3526|[{2918, 0.3925131...|\n",
      "|3836|[{3846, 0.3019790...|\n",
      "|   7|[{339, 0.39856439...|\n",
      "| 307|[{308, 0.57122097...|\n",
      "|3491|[{3577, 0.1859107...|\n",
      "|3895|[{3896, 0.2840043...|\n",
      "| 475|[{300, 0.29518867...|\n",
      "+----+--------------------+\n",
      "only showing top 20 rows\n",
      "\n"
     ]
    }
   ],
   "source": [
    "model.df.show(20)"
   ]
  },
  {
   "cell_type": "code",
   "execution_count": 8,
   "id": "2be8250a-d4f8-46b8-903a-5f6a68827ac2",
   "metadata": {},
   "outputs": [
    {
     "name": "stderr",
     "output_type": "stream",
     "text": [
      "[Stage 43:====================================================>(998 + 2) / 1000]\r"
     ]
    },
    {
     "name": "stdout",
     "output_type": "stream",
     "text": [
      "+-------+--------+-----------+----+--------------------+\n",
      "|user_id|movie_id|label_items| key|            rec_info|\n",
      "+-------+--------+-----------+----+--------------------+\n",
      "|     57|    1090|     [1258]|1090|[{1222, 0.3960944...|\n",
      "|    770|    1090|     [3359]|1090|[{1222, 0.3960944...|\n",
      "|   1895|    1090|     [1193]|1090|[{1222, 0.3960944...|\n",
      "|   5163|    1090|     [1222]|1090|[{1222, 0.3960944...|\n",
      "|   4526|    1090|     [1300]|1090|[{1222, 0.3960944...|\n",
      "|   4525|    1090|     [2890]|1090|[{1222, 0.3960944...|\n",
      "|   3784|    1090|     [1358]|1090|[{1222, 0.3960944...|\n",
      "|    769|    1090|     [1304]|1090|[{1222, 0.3960944...|\n",
      "|    601|    1090|     [2106]|1090|[{1222, 0.3960944...|\n",
      "|   4650|    1090|     [2359]|1090|[{1222, 0.3960944...|\n",
      "+-------+--------+-----------+----+--------------------+\n",
      "only showing top 10 rows\n",
      "\n"
     ]
    },
    {
     "name": "stderr",
     "output_type": "stream",
     "text": [
      "                                                                                \r"
     ]
    }
   ],
   "source": [
    "test_df = test_dataset.select('user_id', 'last_movie', 'movie_id')\\\n",
    "            .groupBy('user_id', 'last_movie')\\\n",
    "            .agg(F.collect_set('movie_id').alias('label_items'))\n",
    "test_df = test_df.withColumnRenamed('last_movie', 'movie_id')\n",
    "prediction_df = model.transform(test_df)\n",
    "prediction_df = prediction_df.withColumnRenamed('value', 'rec_info')\n",
    "prediction_df.show(10)"
   ]
  },
  {
   "cell_type": "code",
   "execution_count": 9,
   "id": "2230ee84-865e-4566-8d79-14f95d5302c2",
   "metadata": {},
   "outputs": [],
   "source": [
    "prediction_label_rdd = prediction_df.rdd.map(lambda x:(\\\n",
    "                                    [xx._1 for xx in x.rec_info] if x.rec_info is not None else [], \\\n",
    "                                     x.label_items))"
   ]
  },
  {
   "cell_type": "code",
   "execution_count": 11,
   "id": "b7644a9e-57be-46e2-bc11-7c35b79321c3",
   "metadata": {},
   "outputs": [
    {
     "name": "stderr",
     "output_type": "stream",
     "text": [
      "                                                                                \r"
     ]
    },
    {
     "data": {
      "text/plain": [
       "[(['1222',\n",
       "   '1208',\n",
       "   '1242',\n",
       "   '1299',\n",
       "   '1263',\n",
       "   '1272',\n",
       "   '608',\n",
       "   '1259',\n",
       "   '1196',\n",
       "   '1960',\n",
       "   '3448',\n",
       "   '2000',\n",
       "   '2194',\n",
       "   '1200',\n",
       "   '1231',\n",
       "   '527',\n",
       "   '2529',\n",
       "   '110',\n",
       "   '1250',\n",
       "   '1293'],\n",
       "  ['1304']),\n",
       " (['1222',\n",
       "   '1208',\n",
       "   '1242',\n",
       "   '1299',\n",
       "   '1263',\n",
       "   '1272',\n",
       "   '608',\n",
       "   '1259',\n",
       "   '1196',\n",
       "   '1960',\n",
       "   '3448',\n",
       "   '2000',\n",
       "   '2194',\n",
       "   '1200',\n",
       "   '1231',\n",
       "   '527',\n",
       "   '2529',\n",
       "   '110',\n",
       "   '1250',\n",
       "   '1293'],\n",
       "  ['2359']),\n",
       " (['1222',\n",
       "   '1208',\n",
       "   '1242',\n",
       "   '1299',\n",
       "   '1263',\n",
       "   '1272',\n",
       "   '608',\n",
       "   '1259',\n",
       "   '1196',\n",
       "   '1960',\n",
       "   '3448',\n",
       "   '2000',\n",
       "   '2194',\n",
       "   '1200',\n",
       "   '1231',\n",
       "   '527',\n",
       "   '2529',\n",
       "   '110',\n",
       "   '1250',\n",
       "   '1293'],\n",
       "  ['3359']),\n",
       " (['1222',\n",
       "   '1208',\n",
       "   '1242',\n",
       "   '1299',\n",
       "   '1263',\n",
       "   '1272',\n",
       "   '608',\n",
       "   '1259',\n",
       "   '1196',\n",
       "   '1960',\n",
       "   '3448',\n",
       "   '2000',\n",
       "   '2194',\n",
       "   '1200',\n",
       "   '1231',\n",
       "   '527',\n",
       "   '2529',\n",
       "   '110',\n",
       "   '1250',\n",
       "   '1293'],\n",
       "  ['1193']),\n",
       " (['1222',\n",
       "   '1208',\n",
       "   '1242',\n",
       "   '1299',\n",
       "   '1263',\n",
       "   '1272',\n",
       "   '608',\n",
       "   '1259',\n",
       "   '1196',\n",
       "   '1960',\n",
       "   '3448',\n",
       "   '2000',\n",
       "   '2194',\n",
       "   '1200',\n",
       "   '1231',\n",
       "   '527',\n",
       "   '2529',\n",
       "   '110',\n",
       "   '1250',\n",
       "   '1293'],\n",
       "  ['1222']),\n",
       " (['1222',\n",
       "   '1208',\n",
       "   '1242',\n",
       "   '1299',\n",
       "   '1263',\n",
       "   '1272',\n",
       "   '608',\n",
       "   '1259',\n",
       "   '1196',\n",
       "   '1960',\n",
       "   '3448',\n",
       "   '2000',\n",
       "   '2194',\n",
       "   '1200',\n",
       "   '1231',\n",
       "   '527',\n",
       "   '2529',\n",
       "   '110',\n",
       "   '1250',\n",
       "   '1293'],\n",
       "  ['1300']),\n",
       " (['1222',\n",
       "   '1208',\n",
       "   '1242',\n",
       "   '1299',\n",
       "   '1263',\n",
       "   '1272',\n",
       "   '608',\n",
       "   '1259',\n",
       "   '1196',\n",
       "   '1960',\n",
       "   '3448',\n",
       "   '2000',\n",
       "   '2194',\n",
       "   '1200',\n",
       "   '1231',\n",
       "   '527',\n",
       "   '2529',\n",
       "   '110',\n",
       "   '1250',\n",
       "   '1293'],\n",
       "  ['2890']),\n",
       " (['1222',\n",
       "   '1208',\n",
       "   '1242',\n",
       "   '1299',\n",
       "   '1263',\n",
       "   '1272',\n",
       "   '608',\n",
       "   '1259',\n",
       "   '1196',\n",
       "   '1960',\n",
       "   '3448',\n",
       "   '2000',\n",
       "   '2194',\n",
       "   '1200',\n",
       "   '1231',\n",
       "   '527',\n",
       "   '2529',\n",
       "   '110',\n",
       "   '1250',\n",
       "   '1293'],\n",
       "  ['2106']),\n",
       " (['1222',\n",
       "   '1208',\n",
       "   '1242',\n",
       "   '1299',\n",
       "   '1263',\n",
       "   '1272',\n",
       "   '608',\n",
       "   '1259',\n",
       "   '1196',\n",
       "   '1960',\n",
       "   '3448',\n",
       "   '2000',\n",
       "   '2194',\n",
       "   '1200',\n",
       "   '1231',\n",
       "   '527',\n",
       "   '2529',\n",
       "   '110',\n",
       "   '1250',\n",
       "   '1293'],\n",
       "  ['1358']),\n",
       " (['1222',\n",
       "   '1208',\n",
       "   '1242',\n",
       "   '1299',\n",
       "   '1263',\n",
       "   '1272',\n",
       "   '608',\n",
       "   '1259',\n",
       "   '1196',\n",
       "   '1960',\n",
       "   '3448',\n",
       "   '2000',\n",
       "   '2194',\n",
       "   '1200',\n",
       "   '1231',\n",
       "   '527',\n",
       "   '2529',\n",
       "   '110',\n",
       "   '1250',\n",
       "   '1293'],\n",
       "  ['1258'])]"
      ]
     },
     "execution_count": 11,
     "metadata": {},
     "output_type": "execute_result"
    },
    {
     "name": "stderr",
     "output_type": "stream",
     "text": [
      "[Stage 49:=======================================================(12 + -1) / 11]\r"
     ]
    }
   ],
   "source": [
    "prediction_label_rdd.take(10)"
   ]
  },
  {
   "cell_type": "code",
   "execution_count": 13,
   "id": "ab322e3f-c437-4867-a946-b4d1296fa677",
   "metadata": {},
   "outputs": [
    {
     "name": "stderr",
     "output_type": "stream",
     "text": [
      "[Stage 49:=======================================================(12 + -1) / 11]\r"
     ]
    }
   ],
   "source": [
    "from pyspark.mllib.evaluation import RankingMetrics\n",
    "metrics = RankingMetrics(prediction_label_rdd)"
   ]
  },
  {
   "cell_type": "code",
   "execution_count": 14,
   "id": "36d7abcb-2aa4-4868-bcea-6bb05a932939",
   "metadata": {},
   "outputs": [
    {
     "name": "stderr",
     "output_type": "stream",
     "text": [
      "                                                                                \r"
     ]
    },
    {
     "name": "stdout",
     "output_type": "stream",
     "text": [
      "Debug -- Precision@20:  0.008584437086092715\n"
     ]
    },
    {
     "name": "stderr",
     "output_type": "stream",
     "text": [
      "                                                                                \r"
     ]
    },
    {
     "name": "stdout",
     "output_type": "stream",
     "text": [
      "Debug -- Recall@20:  0.17168874172185417\n"
     ]
    },
    {
     "name": "stderr",
     "output_type": "stream",
     "text": [
      "[Stage 49:===============(12 + -1) / 11][Stage 116:===========>(964 + 9) / 1000]\r"
     ]
    },
    {
     "name": "stdout",
     "output_type": "stream",
     "text": [
      "Debug -- MAP@20:  0.043670630377466144\n"
     ]
    },
    {
     "name": "stderr",
     "output_type": "stream",
     "text": [
      "[Stage 49:=======================================================(12 + -1) / 11]\r"
     ]
    }
   ],
   "source": [
    "print(\"Debug -- Precision@20: \", metrics.precisionAt(20))\n",
    "print(\"Debug -- Recall@20: \", metrics.recallAt(20))\n",
    "print(\"Debug -- MAP@20: \", metrics.meanAveragePrecisionAt(20))"
   ]
  },
  {
   "cell_type": "code",
   "execution_count": 7,
   "id": "8033704b-c33a-4857-855f-c43d18e6cfcb",
   "metadata": {},
   "outputs": [
    {
     "name": "stderr",
     "output_type": "stream",
     "text": [
      "                                                                                \r"
     ]
    },
    {
     "name": "stdout",
     "output_type": "stream",
     "text": [
      "+-------+----------+\n",
      "|user_id|item_count|\n",
      "+-------+----------+\n",
      "|   2088|       440|\n",
      "|   2294|        61|\n",
      "|   3414|       296|\n",
      "|   5325|        47|\n",
      "|    296|        96|\n",
      "|   1572|        44|\n",
      "|   1512|        33|\n",
      "|   1090|        72|\n",
      "|   1394|        26|\n",
      "|   3826|        27|\n",
      "|    451|       208|\n",
      "|   2700|       293|\n",
      "|   3526|       961|\n",
      "|   3836|       509|\n",
      "|   4850|        36|\n",
      "|   1870|       157|\n",
      "|   2917|        69|\n",
      "|   1280|        49|\n",
      "|      7|        30|\n",
      "|   4988|        25|\n",
      "+-------+----------+\n",
      "only showing top 20 rows\n",
      "\n"
     ]
    }
   ],
   "source": [
    "dataset = train_dataset\n",
    "\n",
    "dataset = dataset.withColumnRenamed('movie_id', 'item_id')\n",
    "user_bhv_count = (dataset\n",
    "              .groupBy(F.col('user_id'))\n",
    "              .agg(F.count(F.col('item_id')).alias('item_count'))\n",
    "              .withColumn(\"item_count\",F.col(\"item_count\").cast(LongType()))\n",
    "              .filter(F.col(\"user_id\").isNotNull() & F.col('item_count').isNotNull()))\n",
    "\n",
    "user_bhv_count.show(20)"
   ]
  },
  {
   "cell_type": "code",
   "execution_count": 8,
   "id": "783736e4-5046-4100-b37d-24813e2f11d7",
   "metadata": {},
   "outputs": [],
   "source": [
    "import pyspark.sql.functions as functions\n",
    "\n",
    "t1 = dataset.withColumnRenamed('item_id', 'item_id_i')\n",
    "t2 = dataset.withColumnRenamed('item_id', 'item_id_j')\n",
    "\n",
    "crossing = t1.alias('t1').join(t2.alias('t2'), on=(F.col('t1.user_id')==F.col('t2.user_id')), how='leftouter')\\\n",
    "                         .filter(F.col('t1.user_id').isNotNull() & F.col('t2.user_id').isNotNull() \\\n",
    "                                                                & (F.col('t1.item_id_i')!=F.col('t2.item_id_j'))) \\\n",
    "                         .groupby('t1.user_id', 't1.item_id_i', 't2.item_id_j') \\\n",
    "                         .agg(functions.count(functions.lit(1)).alias('crossing_count')) \n",
    "\n",
    "crossing_count = crossing.alias('t1').join(user_bhv_count.alias('t2'), on=(F.col('t1.user_id')==F.col('t2.user_id'))) \\\n",
    "                                     .filter(F.col('t2.item_count')>0) \\\n",
    "                                     .select('t1.user_id', 't1.item_id_i', 't1.item_id_j', 't2.item_count') \n",
    "\n",
    "crossing_weight = crossing_count.groupby('user_id', 'item_id_i', 'item_id_j') \\\n",
    "                                .agg(functions.sum(functions.lit(1)/functions.sqrt(F.col('item_count'))).alias('weight'))"
   ]
  },
  {
   "cell_type": "code",
   "execution_count": 9,
   "id": "7b31ce09-a95f-49e3-af9a-99dd9295042c",
   "metadata": {},
   "outputs": [
    {
     "name": "stderr",
     "output_type": "stream",
     "text": [
      "                                                                                \r"
     ]
    },
    {
     "name": "stdout",
     "output_type": "stream",
     "text": [
      "+-------+---------+---------+--------------+\n",
      "|user_id|item_id_i|item_id_j|crossing_count|\n",
      "+-------+---------+---------+--------------+\n",
      "|   1090|     2324|     3623|             1|\n",
      "|   1090|     2324|     1393|             1|\n",
      "|   1090|     2324|      589|             1|\n",
      "|   1090|     2324|     3307|             1|\n",
      "|   1090|     2324|      953|             1|\n",
      "|   1090|     2324|       47|             1|\n",
      "|   1090|     2324|      593|             1|\n",
      "|   1090|     2324|      912|             1|\n",
      "|   1090|     2324|      480|             1|\n",
      "|   1090|     2324|     2428|             1|\n",
      "|   1090|     2324|     1093|             1|\n",
      "|   1090|     2324|     1894|             1|\n",
      "|   1090|     2324|     3095|             1|\n",
      "|   1090|     2324|      318|             1|\n",
      "|   1090|     2324|     2688|             1|\n",
      "|   1090|     2324|     1221|             1|\n",
      "|   1090|     2324|     3198|             1|\n",
      "|   1090|     2324|      908|             1|\n",
      "|   1090|     2324|     3219|             1|\n",
      "|   1090|     2324|      100|             1|\n",
      "+-------+---------+---------+--------------+\n",
      "only showing top 20 rows\n",
      "\n"
     ]
    },
    {
     "name": "stderr",
     "output_type": "stream",
     "text": [
      "                                                                                \r"
     ]
    },
    {
     "name": "stdout",
     "output_type": "stream",
     "text": [
      "+-------+---------+---------+----------+\n",
      "|user_id|item_id_i|item_id_j|item_count|\n",
      "+-------+---------+---------+----------+\n",
      "|   1090|     1213|     1221|        72|\n",
      "|   1090|     1213|     3198|        72|\n",
      "|   1090|     1213|      908|        72|\n",
      "|   1090|     1213|     3219|        72|\n",
      "|   1090|     1213|     1704|        72|\n",
      "|   1090|     1213|     1580|        72|\n",
      "|   1090|     1213|     2396|        72|\n",
      "|   1090|     1213|      100|        72|\n",
      "|   1090|     1213|      913|        72|\n",
      "|   1090|     1213|     1573|        72|\n",
      "|   1090|     1213|      924|        72|\n",
      "|   1090|     1213|     1208|        72|\n",
      "|   1090|     1213|       50|        72|\n",
      "|   1090|     1213|     1961|        72|\n",
      "|   1090|     1213|     2028|        72|\n",
      "|   1090|     1213|      296|        72|\n",
      "|   1090|     1213|      923|        72|\n",
      "|   1090|     1213|      110|        72|\n",
      "|   1090|     1213|     2710|        72|\n",
      "|   1090|     1213|     3623|        72|\n",
      "+-------+---------+---------+----------+\n",
      "only showing top 20 rows\n",
      "\n"
     ]
    },
    {
     "name": "stderr",
     "output_type": "stream",
     "text": [
      "[Stage 18:==================================================>     (10 + 1) / 11]\r"
     ]
    },
    {
     "name": "stdout",
     "output_type": "stream",
     "text": [
      "+-------+---------+---------+-------------------+\n",
      "|user_id|item_id_i|item_id_j|             weight|\n",
      "+-------+---------+---------+-------------------+\n",
      "|   1090|     3623|     1213|0.11785113019775793|\n",
      "|   1090|     3623|     1287|0.11785113019775793|\n",
      "|   1090|     3623|      954|0.11785113019775793|\n",
      "|   1090|     3623|       36|0.11785113019775793|\n",
      "|   1090|     3623|     1569|0.11785113019775793|\n",
      "|   1090|     3623|      805|0.11785113019775793|\n",
      "|   1090|     3623|      648|0.11785113019775793|\n",
      "|   1090|     3623|     1246|0.11785113019775793|\n",
      "|   1090|     3623|     1221|0.11785113019775793|\n",
      "|   1090|     3623|     3198|0.11785113019775793|\n",
      "|   1090|     3623|      908|0.11785113019775793|\n",
      "|   1090|     3623|     3219|0.11785113019775793|\n",
      "|   1090|     3623|     3386|0.11785113019775793|\n",
      "|   1090|     3623|     3176|0.11785113019775793|\n",
      "|   1090|     3623|     1293|0.11785113019775793|\n",
      "|   1090|     3623|     2763|0.11785113019775793|\n",
      "|   1090|     3623|     2683|0.11785113019775793|\n",
      "|   1090|     3623|     1193|0.11785113019775793|\n",
      "|   1090|     3623|      434|0.11785113019775793|\n",
      "|   1090|     3623|     1247|0.11785113019775793|\n",
      "+-------+---------+---------+-------------------+\n",
      "only showing top 20 rows\n",
      "\n"
     ]
    },
    {
     "name": "stderr",
     "output_type": "stream",
     "text": [
      "                                                                                \r"
     ]
    }
   ],
   "source": [
    "crossing.show(20)\n",
    "crossing_count.show(20)\n",
    "crossing_weight.show(20)"
   ]
  },
  {
   "cell_type": "code",
   "execution_count": 11,
   "id": "5d90f301-4d66-4a5c-be0a-444d30fae58d",
   "metadata": {},
   "outputs": [],
   "source": [
    "item_l2_norm = dataset.alias('t1').join(user_bhv_count.alias('t2'), on=(F.col('t1.user_id')==F.col('t2.user_id'))) \\\n",
    "                                  .filter(F.col('t2.item_count')>0) \\\n",
    "                                  .select('t1.user_id', 't1.item_id', 't2.item_count') \\\n",
    "                                  .groupby('t1.item_id') \\\n",
    "                                  .agg(functions.sum(functions.lit(1)/functions.sqrt(F.col('item_count'))).alias('weight'))"
   ]
  },
  {
   "cell_type": "code",
   "execution_count": 12,
   "id": "ce851cfd-c8f7-4865-9078-ff467b68d4bb",
   "metadata": {},
   "outputs": [
    {
     "name": "stderr",
     "output_type": "stream",
     "text": [
      "                                                                                \r"
     ]
    },
    {
     "name": "stdout",
     "output_type": "stream",
     "text": [
      "+-------+------------------+\n",
      "|item_id|            weight|\n",
      "+-------+------------------+\n",
      "|   1090| 81.99269299502775|\n",
      "|    296|174.25336247246761|\n",
      "|   2294| 42.01543536395503|\n",
      "|   2088|26.035601014825353|\n",
      "|   1572|1.2492930379630705|\n",
      "|   3414| 3.223254147310252|\n",
      "|   1394|102.81365520142187|\n",
      "|   3826|27.942823340986447|\n",
      "|    451|6.4775412310601865|\n",
      "|   3836|26.890522813416045|\n",
      "|   2917|31.864419762116942|\n",
      "|   3526|49.971812645136666|\n",
      "|   2700| 96.69238961824358|\n",
      "|   1280| 21.12303163242884|\n",
      "|   1870| 4.840285370258332|\n",
      "|      7| 27.93225014000092|\n",
      "|   3491|3.5809008237929256|\n",
      "|    475|18.721305453867377|\n",
      "|   3895| 6.235870463745235|\n",
      "|    307|15.275806722100004|\n",
      "+-------+------------------+\n",
      "only showing top 20 rows\n",
      "\n"
     ]
    }
   ],
   "source": [
    "item_l2_norm.show(20)"
   ]
  },
  {
   "cell_type": "code",
   "execution_count": 21,
   "id": "1e7cf964-59fe-4675-80b7-140f8a7eced8",
   "metadata": {},
   "outputs": [],
   "source": [
    "t2 = item_l2_norm.withColumnRenamed('weight', 'normal_weight_i')\n",
    "t3 = item_l2_norm.withColumnRenamed('weight', 'normal_weight_j')\n",
    "\n",
    "inner_product = crossing_weight.groupby('item_id_i', 'item_id_j') \\\n",
    "                               .agg(functions.sum(F.col('weight') * F.col('weight')).alias('weight_sum')) \\\n",
    "\n",
    "cossine_similarity = inner_product.alias('t1')\\\n",
    "                                  .join(t2.alias('t2'), on=(F.col('t1.item_id_i')==F.col('t2.item_id'))) \\\n",
    "                                  .join(t3.alias('t3'), on=(F.col('t1.item_id_j')==F.col('t3.item_id'))) \\\n",
    "                                  .withColumn('weight', F.col('t1.weight_sum')/(F.col('t2.normal_weight_i') * F.col('t3.normal_weight_j')))"
   ]
  },
  {
   "cell_type": "code",
   "execution_count": 22,
   "id": "4e23d452-cfa0-4266-a4d2-355acc563206",
   "metadata": {},
   "outputs": [
    {
     "name": "stderr",
     "output_type": "stream",
     "text": [
      "                                                                                \r"
     ]
    },
    {
     "name": "stdout",
     "output_type": "stream",
     "text": [
      "+---------+---------+--------------------+\n",
      "|item_id_i|item_id_j|          weight_sum|\n",
      "+---------+---------+--------------------+\n",
      "|      231|     1242|  0.5405926168909746|\n",
      "|      541|     2518| 0.38116727450646914|\n",
      "|      247|     2255| 0.03216623241149229|\n",
      "|     1960|     3683|  0.5995237500413857|\n",
      "|      720|     2739| 0.13933215787579392|\n",
      "|     1307|     3235| 0.10449778192682883|\n",
      "|     2255|     3591| 0.12084086576764883|\n",
      "|     1678|     2241|0.040134625712340666|\n",
      "|     1678|       62|  0.5827342637255613|\n",
      "|     2659|     1265| 0.08211371411527571|\n",
      "|     2659|     2263| 0.01599965420524179|\n",
      "|     1617|     3210|  1.7503995061990834|\n",
      "|     2890|     1974| 0.21214047071668113|\n",
      "|     1179|     1147| 0.46145562339740176|\n",
      "|     1179|     2735| 0.29074619182029676|\n",
      "|      671|      306| 0.08555086538523371|\n",
      "|     2021|     1297| 0.40495465331033476|\n",
      "|     1220|     2797|    3.04807671509008|\n",
      "|     1961|     1694|  0.6891071215710826|\n",
      "|     2908|     1242|  0.6802398620994448|\n",
      "+---------+---------+--------------------+\n",
      "only showing top 20 rows\n",
      "\n"
     ]
    },
    {
     "name": "stderr",
     "output_type": "stream",
     "text": [
      "[Stage 63:====================================================>(988 + 8) / 1000]\r"
     ]
    },
    {
     "name": "stdout",
     "output_type": "stream",
     "text": [
      "+---------+---------+--------------------+-------+------------------+-------+-----------------+--------------------+\n",
      "|item_id_i|item_id_j|          weight_sum|item_id|   normal_weight_i|item_id|  normal_weight_j|              weight|\n",
      "+---------+---------+--------------------+-------+------------------+-------+-----------------+--------------------+\n",
      "|     1008|     1090| 0.13778961966513997|   1008| 5.795555147675379|   1090|81.99269299502774|2.899654860719855E-4|\n",
      "|     1686|     1090|  0.0907326705073908|   1686|5.4281240409019835|   1090|81.99269299502774|2.038631729673413E-4|\n",
      "|     3089|     1090| 0.24975705575484006|   3089|17.978697599688754|   1090|81.99269299502774|1.694276892231603...|\n",
      "|      383|     1090| 0.43932295301338553|    383| 16.74195140303235|   1090|81.99269299502774|3.200388243887443...|\n",
      "|      700|     1090| 0.11229013089042485|    700|   8.7376439771071|   1090|81.99269299502774|1.567372029400510...|\n",
      "|     3074|     1090| 0.36914324915815355|   3074|13.757972515786367|   1090|81.99269299502774|3.272392150356198E-4|\n",
      "|     3494|     1090| 0.42808951118733496|   3494|21.027171380816682|   1090|81.99269299502774|2.483010647944954...|\n",
      "|     3922|     1090|0.020426543781613488|   3922| 3.191840646027584|   1090|81.99269299502774|7.805101184355584E-5|\n",
      "|      424|     1090| 0.07044365483843734|    424|3.3972405602649673|   1090|81.99269299502774|2.528951083985533E-4|\n",
      "|      586|     1090|  0.5957871336745889|    586| 40.45745147374917|   1090|81.99269299502774|1.796045966822397...|\n",
      "|     1300|     1090|  0.5058375279048972|   1300|22.340844621272527|   1090|81.99269299502774|2.761444426156268E-4|\n",
      "|     2288|     1090|   0.784155794384483|   2288|53.367209775236354|   1090|81.99269299502774|1.792060668635569E-4|\n",
      "|      287|     1090|0.019108455720989244|    287|1.1269254831714761|   1090|81.99269299502774|2.068022406127248E-4|\n",
      "|     3720|     1090| 0.09242436700585097|   3720| 6.403856061337848|   1090|81.99269299502774|1.760231434129516...|\n",
      "|     3833|     1090| 0.03863814835002066|   3833|3.3716605706469327|   1090|81.99269299502774|1.397646391853351...|\n",
      "|      389|     1090|0.016825684418935397|    389|1.1147713367363234|   1090|81.99269299502774|1.840821994837821E-4|\n",
      "|      737|     1090|  0.2599471855753437|    737|17.741374986158263|   1090|81.99269299502774|1.786992351237306...|\n",
      "|     1013|     1090|  0.2549761644833876|   1013|14.732639832623114|   1090|81.99269299502774|2.110784329519780...|\n",
      "|     1334|     1090|  0.2571404644298509|   1334|21.096502129629194|   1090|81.99269299502774|1.486568135227919E-4|\n",
      "|     1455|     1090|0.019142629393953496|   1455|1.5362941719211674|   1090|81.99269299502774|1.519679684007501E-4|\n",
      "+---------+---------+--------------------+-------+------------------+-------+-----------------+--------------------+\n",
      "only showing top 20 rows\n",
      "\n"
     ]
    },
    {
     "name": "stderr",
     "output_type": "stream",
     "text": [
      "                                                                                \r"
     ]
    }
   ],
   "source": [
    "inner_product.show(20)\n",
    "cossine_similarity.show(20)"
   ]
  },
  {
   "cell_type": "code",
   "execution_count": 29,
   "id": "4a96cfff-609d-4387-bf2f-ce175909bb02",
   "metadata": {},
   "outputs": [],
   "source": [
    "from pyspark.sql import Window\n",
    "max_recommend_count=10\n",
    "\n",
    "## https://stackoverflow.com/questions/64274160/pyspark-collect-list-but-limit-to-max-n-results\n",
    "result = cossine_similarity \\\n",
    "            .withColumn(\"rn\", F.row_number().over(\n",
    "                Window.partitionBy('item_id_i').orderBy(F.desc('weight'))\n",
    "                )) \\\n",
    "            .filter(f\"rn <= 10\")  \\\n",
    "            .groupBy('item_id_i') \\\n",
    "            .agg(F.collect_list(F.col('item_id_j')).alias('rec_info'))"
   ]
  },
  {
   "cell_type": "code",
   "execution_count": 30,
   "id": "309d6be9-98aa-467a-9d2b-820597a890b0",
   "metadata": {},
   "outputs": [
    {
     "name": "stderr",
     "output_type": "stream",
     "text": [
      "                                                                                \r"
     ]
    },
    {
     "name": "stdout",
     "output_type": "stream",
     "text": [
      "+---------+--------------------+\n",
      "|item_id_i|            rec_info|\n",
      "+---------+--------------------+\n",
      "|     1090|[402, 3172, 2777,...|\n",
      "|     1572|[1364, 666, 1360,...|\n",
      "|     2088|[572, 1142, 703, ...|\n",
      "|     2294|[655, 530, 1316, ...|\n",
      "|      296|[2343, 624, 2438,...|\n",
      "|     3414|[3687, 1070, 3315...|\n",
      "|     1394|[2631, 2251, 1574...|\n",
      "|     3826|[3322, 790, 3800,...|\n",
      "|      451|[2619, 821, 712, ...|\n",
      "|     1280|[3530, 545, 167, ...|\n",
      "|     1870|[2909, 641, 396, ...|\n",
      "|     2700|[1886, 3381, 977,...|\n",
      "|     2917|[2308, 310, 1724,...|\n",
      "|     3526|[3607, 2242, 3881...|\n",
      "|     3836|[868, 3762, 3803,...|\n",
      "|        7|[2244, 3904, 3601...|\n",
      "|      307|[2705, 679, 1165,...|\n",
      "|     3491|[3493, 3119, 1470...|\n",
      "|     3895|[192, 3887, 3880,...|\n",
      "|      475|[2619, 679, 139, ...|\n",
      "+---------+--------------------+\n",
      "only showing top 20 rows\n",
      "\n"
     ]
    }
   ],
   "source": [
    "result.show(20)"
   ]
  },
  {
   "cell_type": "code",
   "execution_count": null,
   "id": "761b2e59-b78d-4ca0-a021-0a26c2040cbd",
   "metadata": {},
   "outputs": [],
   "source": [
    "sc.stop()"
   ]
  },
  {
   "cell_type": "code",
   "execution_count": null,
   "id": "e17dd448-0f01-4ea9-b107-814745af6eac",
   "metadata": {},
   "outputs": [],
   "source": []
  }
 ],
 "metadata": {
  "kernelspec": {
   "display_name": "Python 3 (ipykernel)",
   "language": "python",
   "name": "python3"
  },
  "language_info": {
   "codemirror_mode": {
    "name": "ipython",
    "version": 3
   },
   "file_extension": ".py",
   "mimetype": "text/x-python",
   "name": "python",
   "nbconvert_exporter": "python",
   "pygments_lexer": "ipython3",
   "version": "3.8.10"
  }
 },
 "nbformat": 4,
 "nbformat_minor": 5
}
